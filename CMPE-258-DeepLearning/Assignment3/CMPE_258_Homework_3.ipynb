{
  "nbformat": 4,
  "nbformat_minor": 0,
  "metadata": {
    "colab": {
      "name": "CMPE 258 -Homework-3.ipynb",
      "provenance": [],
      "include_colab_link": true
    },
    "kernelspec": {
      "name": "python3",
      "display_name": "Python 3"
    },
    "language_info": {
      "name": "python"
    },
    "widgets": {
      "application/vnd.jupyter.widget-state+json": {
        "1aa14273484c4461a3f955679806f6a0": {
          "model_module": "@jupyter-widgets/controls",
          "model_name": "HBoxModel",
          "state": {
            "_view_name": "HBoxView",
            "_dom_classes": [],
            "_model_name": "HBoxModel",
            "_view_module": "@jupyter-widgets/controls",
            "_model_module_version": "1.5.0",
            "_view_count": null,
            "_view_module_version": "1.5.0",
            "box_style": "",
            "layout": "IPY_MODEL_729ffbcd32114b1e9690647d7a022eed",
            "_model_module": "@jupyter-widgets/controls",
            "children": [
              "IPY_MODEL_989770ab5e64406a939ef0a1ae991283",
              "IPY_MODEL_6864caaf374b4cbbb5ded767089f939b"
            ]
          }
        },
        "729ffbcd32114b1e9690647d7a022eed": {
          "model_module": "@jupyter-widgets/base",
          "model_name": "LayoutModel",
          "state": {
            "_view_name": "LayoutView",
            "grid_template_rows": null,
            "right": null,
            "justify_content": null,
            "_view_module": "@jupyter-widgets/base",
            "overflow": null,
            "_model_module_version": "1.2.0",
            "_view_count": null,
            "flex_flow": "row wrap",
            "width": "100%",
            "min_width": null,
            "border": null,
            "align_items": null,
            "bottom": null,
            "_model_module": "@jupyter-widgets/base",
            "top": null,
            "grid_column": null,
            "overflow_y": null,
            "overflow_x": null,
            "grid_auto_flow": null,
            "grid_area": null,
            "grid_template_columns": null,
            "flex": null,
            "_model_name": "LayoutModel",
            "justify_items": null,
            "grid_row": null,
            "max_height": null,
            "align_content": null,
            "visibility": null,
            "align_self": null,
            "height": null,
            "min_height": null,
            "padding": null,
            "grid_auto_rows": null,
            "grid_gap": null,
            "max_width": null,
            "order": null,
            "_view_module_version": "1.2.0",
            "grid_template_areas": null,
            "object_position": null,
            "object_fit": null,
            "grid_auto_columns": null,
            "margin": null,
            "display": "inline-flex",
            "left": null
          }
        },
        "989770ab5e64406a939ef0a1ae991283": {
          "model_module": "@jupyter-widgets/controls",
          "model_name": "FloatProgressModel",
          "state": {
            "_view_name": "ProgressView",
            "style": "IPY_MODEL_6d758aef2bd14287b2240c129acd0a1e",
            "_dom_classes": [],
            "description": "Validation sanity check:   0%",
            "_model_name": "FloatProgressModel",
            "bar_style": "danger",
            "max": 2,
            "_view_module": "@jupyter-widgets/controls",
            "_model_module_version": "1.5.0",
            "value": 0,
            "_view_count": null,
            "_view_module_version": "1.5.0",
            "orientation": "horizontal",
            "min": 0,
            "description_tooltip": null,
            "_model_module": "@jupyter-widgets/controls",
            "layout": "IPY_MODEL_3b4d62d2ed2d4a5aa8965275258a4e82"
          }
        },
        "6864caaf374b4cbbb5ded767089f939b": {
          "model_module": "@jupyter-widgets/controls",
          "model_name": "HTMLModel",
          "state": {
            "_view_name": "HTMLView",
            "style": "IPY_MODEL_fc8aeb62d0be442e87b36861142efaec",
            "_dom_classes": [],
            "description": "",
            "_model_name": "HTMLModel",
            "placeholder": "​",
            "_view_module": "@jupyter-widgets/controls",
            "_model_module_version": "1.5.0",
            "value": " 0/2 [03:32&lt;?, ?it/s]",
            "_view_count": null,
            "_view_module_version": "1.5.0",
            "description_tooltip": null,
            "_model_module": "@jupyter-widgets/controls",
            "layout": "IPY_MODEL_5da37ab91b544220a3e15ca76f682c9d"
          }
        },
        "6d758aef2bd14287b2240c129acd0a1e": {
          "model_module": "@jupyter-widgets/controls",
          "model_name": "ProgressStyleModel",
          "state": {
            "_view_name": "StyleView",
            "_model_name": "ProgressStyleModel",
            "description_width": "initial",
            "_view_module": "@jupyter-widgets/base",
            "_model_module_version": "1.5.0",
            "_view_count": null,
            "_view_module_version": "1.2.0",
            "bar_color": null,
            "_model_module": "@jupyter-widgets/controls"
          }
        },
        "3b4d62d2ed2d4a5aa8965275258a4e82": {
          "model_module": "@jupyter-widgets/base",
          "model_name": "LayoutModel",
          "state": {
            "_view_name": "LayoutView",
            "grid_template_rows": null,
            "right": null,
            "justify_content": null,
            "_view_module": "@jupyter-widgets/base",
            "overflow": null,
            "_model_module_version": "1.2.0",
            "_view_count": null,
            "flex_flow": null,
            "width": null,
            "min_width": null,
            "border": null,
            "align_items": null,
            "bottom": null,
            "_model_module": "@jupyter-widgets/base",
            "top": null,
            "grid_column": null,
            "overflow_y": null,
            "overflow_x": null,
            "grid_auto_flow": null,
            "grid_area": null,
            "grid_template_columns": null,
            "flex": "2",
            "_model_name": "LayoutModel",
            "justify_items": null,
            "grid_row": null,
            "max_height": null,
            "align_content": null,
            "visibility": null,
            "align_self": null,
            "height": null,
            "min_height": null,
            "padding": null,
            "grid_auto_rows": null,
            "grid_gap": null,
            "max_width": null,
            "order": null,
            "_view_module_version": "1.2.0",
            "grid_template_areas": null,
            "object_position": null,
            "object_fit": null,
            "grid_auto_columns": null,
            "margin": null,
            "display": null,
            "left": null
          }
        },
        "fc8aeb62d0be442e87b36861142efaec": {
          "model_module": "@jupyter-widgets/controls",
          "model_name": "DescriptionStyleModel",
          "state": {
            "_view_name": "StyleView",
            "_model_name": "DescriptionStyleModel",
            "description_width": "",
            "_view_module": "@jupyter-widgets/base",
            "_model_module_version": "1.5.0",
            "_view_count": null,
            "_view_module_version": "1.2.0",
            "_model_module": "@jupyter-widgets/controls"
          }
        },
        "5da37ab91b544220a3e15ca76f682c9d": {
          "model_module": "@jupyter-widgets/base",
          "model_name": "LayoutModel",
          "state": {
            "_view_name": "LayoutView",
            "grid_template_rows": null,
            "right": null,
            "justify_content": null,
            "_view_module": "@jupyter-widgets/base",
            "overflow": null,
            "_model_module_version": "1.2.0",
            "_view_count": null,
            "flex_flow": null,
            "width": null,
            "min_width": null,
            "border": null,
            "align_items": null,
            "bottom": null,
            "_model_module": "@jupyter-widgets/base",
            "top": null,
            "grid_column": null,
            "overflow_y": null,
            "overflow_x": null,
            "grid_auto_flow": null,
            "grid_area": null,
            "grid_template_columns": null,
            "flex": null,
            "_model_name": "LayoutModel",
            "justify_items": null,
            "grid_row": null,
            "max_height": null,
            "align_content": null,
            "visibility": null,
            "align_self": null,
            "height": null,
            "min_height": null,
            "padding": null,
            "grid_auto_rows": null,
            "grid_gap": null,
            "max_width": null,
            "order": null,
            "_view_module_version": "1.2.0",
            "grid_template_areas": null,
            "object_position": null,
            "object_fit": null,
            "grid_auto_columns": null,
            "margin": null,
            "display": null,
            "left": null
          }
        },
        "8bdfbb2be85e404eb0316dc0b54767b2": {
          "model_module": "@jupyter-widgets/controls",
          "model_name": "HBoxModel",
          "state": {
            "_view_name": "HBoxView",
            "_dom_classes": [],
            "_model_name": "HBoxModel",
            "_view_module": "@jupyter-widgets/controls",
            "_model_module_version": "1.5.0",
            "_view_count": null,
            "_view_module_version": "1.5.0",
            "box_style": "",
            "layout": "IPY_MODEL_d89c59c8f78d4ed095f227bcb6d02488",
            "_model_module": "@jupyter-widgets/controls",
            "children": [
              "IPY_MODEL_ec315183be5d4bcdb202725f15de4a09",
              "IPY_MODEL_98f948ccb30949a2b9dc689ca45b89a2"
            ]
          }
        },
        "d89c59c8f78d4ed095f227bcb6d02488": {
          "model_module": "@jupyter-widgets/base",
          "model_name": "LayoutModel",
          "state": {
            "_view_name": "LayoutView",
            "grid_template_rows": null,
            "right": null,
            "justify_content": null,
            "_view_module": "@jupyter-widgets/base",
            "overflow": null,
            "_model_module_version": "1.2.0",
            "_view_count": null,
            "flex_flow": "row wrap",
            "width": "100%",
            "min_width": null,
            "border": null,
            "align_items": null,
            "bottom": null,
            "_model_module": "@jupyter-widgets/base",
            "top": null,
            "grid_column": null,
            "overflow_y": null,
            "overflow_x": null,
            "grid_auto_flow": null,
            "grid_area": null,
            "grid_template_columns": null,
            "flex": null,
            "_model_name": "LayoutModel",
            "justify_items": null,
            "grid_row": null,
            "max_height": null,
            "align_content": null,
            "visibility": null,
            "align_self": null,
            "height": null,
            "min_height": null,
            "padding": null,
            "grid_auto_rows": null,
            "grid_gap": null,
            "max_width": null,
            "order": null,
            "_view_module_version": "1.2.0",
            "grid_template_areas": null,
            "object_position": null,
            "object_fit": null,
            "grid_auto_columns": null,
            "margin": null,
            "display": "inline-flex",
            "left": null
          }
        },
        "ec315183be5d4bcdb202725f15de4a09": {
          "model_module": "@jupyter-widgets/controls",
          "model_name": "FloatProgressModel",
          "state": {
            "_view_name": "ProgressView",
            "style": "IPY_MODEL_906af5d94ea44bb5906fece8b02c3b1b",
            "_dom_classes": [],
            "description": "Epoch 9: 100%",
            "_model_name": "FloatProgressModel",
            "bar_style": "success",
            "max": 40,
            "_view_module": "@jupyter-widgets/controls",
            "_model_module_version": "1.5.0",
            "value": 40,
            "_view_count": null,
            "_view_module_version": "1.5.0",
            "orientation": "horizontal",
            "min": 0,
            "description_tooltip": null,
            "_model_module": "@jupyter-widgets/controls",
            "layout": "IPY_MODEL_cb6d1c06fc3e4efa9ed331431e5376be"
          }
        },
        "98f948ccb30949a2b9dc689ca45b89a2": {
          "model_module": "@jupyter-widgets/controls",
          "model_name": "HTMLModel",
          "state": {
            "_view_name": "HTMLView",
            "style": "IPY_MODEL_24a875b9d7c54026b55df426f17ebf42",
            "_dom_classes": [],
            "description": "",
            "_model_name": "HTMLModel",
            "placeholder": "​",
            "_view_module": "@jupyter-widgets/controls",
            "_model_module_version": "1.5.0",
            "value": " 40/40 [00:00&lt;00:00, 155.65it/s, loss=1.31, v_num=1]",
            "_view_count": null,
            "_view_module_version": "1.5.0",
            "description_tooltip": null,
            "_model_module": "@jupyter-widgets/controls",
            "layout": "IPY_MODEL_27dec2dfa19b4b4c954ff8a0a514335c"
          }
        },
        "906af5d94ea44bb5906fece8b02c3b1b": {
          "model_module": "@jupyter-widgets/controls",
          "model_name": "ProgressStyleModel",
          "state": {
            "_view_name": "StyleView",
            "_model_name": "ProgressStyleModel",
            "description_width": "initial",
            "_view_module": "@jupyter-widgets/base",
            "_model_module_version": "1.5.0",
            "_view_count": null,
            "_view_module_version": "1.2.0",
            "bar_color": null,
            "_model_module": "@jupyter-widgets/controls"
          }
        },
        "cb6d1c06fc3e4efa9ed331431e5376be": {
          "model_module": "@jupyter-widgets/base",
          "model_name": "LayoutModel",
          "state": {
            "_view_name": "LayoutView",
            "grid_template_rows": null,
            "right": null,
            "justify_content": null,
            "_view_module": "@jupyter-widgets/base",
            "overflow": null,
            "_model_module_version": "1.2.0",
            "_view_count": null,
            "flex_flow": null,
            "width": null,
            "min_width": null,
            "border": null,
            "align_items": null,
            "bottom": null,
            "_model_module": "@jupyter-widgets/base",
            "top": null,
            "grid_column": null,
            "overflow_y": null,
            "overflow_x": null,
            "grid_auto_flow": null,
            "grid_area": null,
            "grid_template_columns": null,
            "flex": "2",
            "_model_name": "LayoutModel",
            "justify_items": null,
            "grid_row": null,
            "max_height": null,
            "align_content": null,
            "visibility": null,
            "align_self": null,
            "height": null,
            "min_height": null,
            "padding": null,
            "grid_auto_rows": null,
            "grid_gap": null,
            "max_width": null,
            "order": null,
            "_view_module_version": "1.2.0",
            "grid_template_areas": null,
            "object_position": null,
            "object_fit": null,
            "grid_auto_columns": null,
            "margin": null,
            "display": null,
            "left": null
          }
        },
        "24a875b9d7c54026b55df426f17ebf42": {
          "model_module": "@jupyter-widgets/controls",
          "model_name": "DescriptionStyleModel",
          "state": {
            "_view_name": "StyleView",
            "_model_name": "DescriptionStyleModel",
            "description_width": "",
            "_view_module": "@jupyter-widgets/base",
            "_model_module_version": "1.5.0",
            "_view_count": null,
            "_view_module_version": "1.2.0",
            "_model_module": "@jupyter-widgets/controls"
          }
        },
        "27dec2dfa19b4b4c954ff8a0a514335c": {
          "model_module": "@jupyter-widgets/base",
          "model_name": "LayoutModel",
          "state": {
            "_view_name": "LayoutView",
            "grid_template_rows": null,
            "right": null,
            "justify_content": null,
            "_view_module": "@jupyter-widgets/base",
            "overflow": null,
            "_model_module_version": "1.2.0",
            "_view_count": null,
            "flex_flow": null,
            "width": null,
            "min_width": null,
            "border": null,
            "align_items": null,
            "bottom": null,
            "_model_module": "@jupyter-widgets/base",
            "top": null,
            "grid_column": null,
            "overflow_y": null,
            "overflow_x": null,
            "grid_auto_flow": null,
            "grid_area": null,
            "grid_template_columns": null,
            "flex": null,
            "_model_name": "LayoutModel",
            "justify_items": null,
            "grid_row": null,
            "max_height": null,
            "align_content": null,
            "visibility": null,
            "align_self": null,
            "height": null,
            "min_height": null,
            "padding": null,
            "grid_auto_rows": null,
            "grid_gap": null,
            "max_width": null,
            "order": null,
            "_view_module_version": "1.2.0",
            "grid_template_areas": null,
            "object_position": null,
            "object_fit": null,
            "grid_auto_columns": null,
            "margin": null,
            "display": null,
            "left": null
          }
        },
        "f0f1bedfa48f427e85fe5e06bab1dc06": {
          "model_module": "@jupyter-widgets/controls",
          "model_name": "HBoxModel",
          "state": {
            "_view_name": "HBoxView",
            "_dom_classes": [],
            "_model_name": "HBoxModel",
            "_view_module": "@jupyter-widgets/controls",
            "_model_module_version": "1.5.0",
            "_view_count": null,
            "_view_module_version": "1.5.0",
            "box_style": "",
            "layout": "IPY_MODEL_a91812b46d45421abce1a9cdf3532547",
            "_model_module": "@jupyter-widgets/controls",
            "children": [
              "IPY_MODEL_6acfbd314fa6467dbad2225e6003549b",
              "IPY_MODEL_d20cebd3d24944038000ed5bb183fc86"
            ]
          }
        },
        "a91812b46d45421abce1a9cdf3532547": {
          "model_module": "@jupyter-widgets/base",
          "model_name": "LayoutModel",
          "state": {
            "_view_name": "LayoutView",
            "grid_template_rows": null,
            "right": null,
            "justify_content": null,
            "_view_module": "@jupyter-widgets/base",
            "overflow": null,
            "_model_module_version": "1.2.0",
            "_view_count": null,
            "flex_flow": "row wrap",
            "width": "100%",
            "min_width": null,
            "border": null,
            "align_items": null,
            "bottom": null,
            "_model_module": "@jupyter-widgets/base",
            "top": null,
            "grid_column": null,
            "overflow_y": null,
            "overflow_x": null,
            "grid_auto_flow": null,
            "grid_area": null,
            "grid_template_columns": null,
            "flex": null,
            "_model_name": "LayoutModel",
            "justify_items": null,
            "grid_row": null,
            "max_height": null,
            "align_content": null,
            "visibility": null,
            "align_self": null,
            "height": null,
            "min_height": null,
            "padding": null,
            "grid_auto_rows": null,
            "grid_gap": null,
            "max_width": null,
            "order": null,
            "_view_module_version": "1.2.0",
            "grid_template_areas": null,
            "object_position": null,
            "object_fit": null,
            "grid_auto_columns": null,
            "margin": null,
            "display": "inline-flex",
            "left": null
          }
        },
        "6acfbd314fa6467dbad2225e6003549b": {
          "model_module": "@jupyter-widgets/controls",
          "model_name": "FloatProgressModel",
          "state": {
            "_view_name": "ProgressView",
            "style": "IPY_MODEL_6f9d35472d2145478336f8c774822c8b",
            "_dom_classes": [],
            "description": "Validating: 100%",
            "_model_name": "FloatProgressModel",
            "bar_style": "info",
            "max": 4,
            "_view_module": "@jupyter-widgets/controls",
            "_model_module_version": "1.5.0",
            "value": 4,
            "_view_count": null,
            "_view_module_version": "1.5.0",
            "orientation": "horizontal",
            "min": 0,
            "description_tooltip": null,
            "_model_module": "@jupyter-widgets/controls",
            "layout": "IPY_MODEL_74f576772f87483d9c13635332894e2e"
          }
        },
        "d20cebd3d24944038000ed5bb183fc86": {
          "model_module": "@jupyter-widgets/controls",
          "model_name": "HTMLModel",
          "state": {
            "_view_name": "HTMLView",
            "style": "IPY_MODEL_908f02a2f25e421b9eba1f12244acb84",
            "_dom_classes": [],
            "description": "",
            "_model_name": "HTMLModel",
            "placeholder": "​",
            "_view_module": "@jupyter-widgets/controls",
            "_model_module_version": "1.5.0",
            "value": " 4/4 [00:00&lt;00:00, 205.23it/s]",
            "_view_count": null,
            "_view_module_version": "1.5.0",
            "description_tooltip": null,
            "_model_module": "@jupyter-widgets/controls",
            "layout": "IPY_MODEL_24291e1b4dc749dcbfcce254e70489c3"
          }
        },
        "6f9d35472d2145478336f8c774822c8b": {
          "model_module": "@jupyter-widgets/controls",
          "model_name": "ProgressStyleModel",
          "state": {
            "_view_name": "StyleView",
            "_model_name": "ProgressStyleModel",
            "description_width": "initial",
            "_view_module": "@jupyter-widgets/base",
            "_model_module_version": "1.5.0",
            "_view_count": null,
            "_view_module_version": "1.2.0",
            "bar_color": null,
            "_model_module": "@jupyter-widgets/controls"
          }
        },
        "74f576772f87483d9c13635332894e2e": {
          "model_module": "@jupyter-widgets/base",
          "model_name": "LayoutModel",
          "state": {
            "_view_name": "LayoutView",
            "grid_template_rows": null,
            "right": null,
            "justify_content": null,
            "_view_module": "@jupyter-widgets/base",
            "overflow": null,
            "_model_module_version": "1.2.0",
            "_view_count": null,
            "flex_flow": null,
            "width": null,
            "min_width": null,
            "border": null,
            "align_items": null,
            "bottom": null,
            "_model_module": "@jupyter-widgets/base",
            "top": null,
            "grid_column": null,
            "overflow_y": null,
            "overflow_x": null,
            "grid_auto_flow": null,
            "grid_area": null,
            "grid_template_columns": null,
            "flex": "2",
            "_model_name": "LayoutModel",
            "justify_items": null,
            "grid_row": null,
            "max_height": null,
            "align_content": null,
            "visibility": null,
            "align_self": null,
            "height": null,
            "min_height": null,
            "padding": null,
            "grid_auto_rows": null,
            "grid_gap": null,
            "max_width": null,
            "order": null,
            "_view_module_version": "1.2.0",
            "grid_template_areas": null,
            "object_position": null,
            "object_fit": null,
            "grid_auto_columns": null,
            "margin": null,
            "display": null,
            "left": null
          }
        },
        "908f02a2f25e421b9eba1f12244acb84": {
          "model_module": "@jupyter-widgets/controls",
          "model_name": "DescriptionStyleModel",
          "state": {
            "_view_name": "StyleView",
            "_model_name": "DescriptionStyleModel",
            "description_width": "",
            "_view_module": "@jupyter-widgets/base",
            "_model_module_version": "1.5.0",
            "_view_count": null,
            "_view_module_version": "1.2.0",
            "_model_module": "@jupyter-widgets/controls"
          }
        },
        "24291e1b4dc749dcbfcce254e70489c3": {
          "model_module": "@jupyter-widgets/base",
          "model_name": "LayoutModel",
          "state": {
            "_view_name": "LayoutView",
            "grid_template_rows": null,
            "right": null,
            "justify_content": null,
            "_view_module": "@jupyter-widgets/base",
            "overflow": null,
            "_model_module_version": "1.2.0",
            "_view_count": null,
            "flex_flow": null,
            "width": null,
            "min_width": null,
            "border": null,
            "align_items": null,
            "bottom": null,
            "_model_module": "@jupyter-widgets/base",
            "top": null,
            "grid_column": null,
            "overflow_y": null,
            "overflow_x": null,
            "grid_auto_flow": null,
            "grid_area": null,
            "grid_template_columns": null,
            "flex": null,
            "_model_name": "LayoutModel",
            "justify_items": null,
            "grid_row": null,
            "max_height": null,
            "align_content": null,
            "visibility": null,
            "align_self": null,
            "height": null,
            "min_height": null,
            "padding": null,
            "grid_auto_rows": null,
            "grid_gap": null,
            "max_width": null,
            "order": null,
            "_view_module_version": "1.2.0",
            "grid_template_areas": null,
            "object_position": null,
            "object_fit": null,
            "grid_auto_columns": null,
            "margin": null,
            "display": null,
            "left": null
          }
        },
        "e25e47f78b264fcf9025c43bf1181b2f": {
          "model_module": "@jupyter-widgets/controls",
          "model_name": "HBoxModel",
          "state": {
            "_view_name": "HBoxView",
            "_dom_classes": [],
            "_model_name": "HBoxModel",
            "_view_module": "@jupyter-widgets/controls",
            "_model_module_version": "1.5.0",
            "_view_count": null,
            "_view_module_version": "1.5.0",
            "box_style": "",
            "layout": "IPY_MODEL_8389fd520ba64d09919dce2f72fe8a2b",
            "_model_module": "@jupyter-widgets/controls",
            "children": [
              "IPY_MODEL_2c0c06ae34534e01b51f8395d933efaa",
              "IPY_MODEL_9f7de757e5404295b42c05582cc9d9fd"
            ]
          }
        },
        "8389fd520ba64d09919dce2f72fe8a2b": {
          "model_module": "@jupyter-widgets/base",
          "model_name": "LayoutModel",
          "state": {
            "_view_name": "LayoutView",
            "grid_template_rows": null,
            "right": null,
            "justify_content": null,
            "_view_module": "@jupyter-widgets/base",
            "overflow": null,
            "_model_module_version": "1.2.0",
            "_view_count": null,
            "flex_flow": "row wrap",
            "width": "100%",
            "min_width": null,
            "border": null,
            "align_items": null,
            "bottom": null,
            "_model_module": "@jupyter-widgets/base",
            "top": null,
            "grid_column": null,
            "overflow_y": null,
            "overflow_x": null,
            "grid_auto_flow": null,
            "grid_area": null,
            "grid_template_columns": null,
            "flex": null,
            "_model_name": "LayoutModel",
            "justify_items": null,
            "grid_row": null,
            "max_height": null,
            "align_content": null,
            "visibility": null,
            "align_self": null,
            "height": null,
            "min_height": null,
            "padding": null,
            "grid_auto_rows": null,
            "grid_gap": null,
            "max_width": null,
            "order": null,
            "_view_module_version": "1.2.0",
            "grid_template_areas": null,
            "object_position": null,
            "object_fit": null,
            "grid_auto_columns": null,
            "margin": null,
            "display": "inline-flex",
            "left": null
          }
        },
        "2c0c06ae34534e01b51f8395d933efaa": {
          "model_module": "@jupyter-widgets/controls",
          "model_name": "FloatProgressModel",
          "state": {
            "_view_name": "ProgressView",
            "style": "IPY_MODEL_2d641597072a4a35a8445a68cd47afc2",
            "_dom_classes": [],
            "description": "Validating: 100%",
            "_model_name": "FloatProgressModel",
            "bar_style": "info",
            "max": 4,
            "_view_module": "@jupyter-widgets/controls",
            "_model_module_version": "1.5.0",
            "value": 4,
            "_view_count": null,
            "_view_module_version": "1.5.0",
            "orientation": "horizontal",
            "min": 0,
            "description_tooltip": null,
            "_model_module": "@jupyter-widgets/controls",
            "layout": "IPY_MODEL_a269819a7504491b91be51da4b273a21"
          }
        },
        "9f7de757e5404295b42c05582cc9d9fd": {
          "model_module": "@jupyter-widgets/controls",
          "model_name": "HTMLModel",
          "state": {
            "_view_name": "HTMLView",
            "style": "IPY_MODEL_bc0397a193004a60a2c14469f3d0513b",
            "_dom_classes": [],
            "description": "",
            "_model_name": "HTMLModel",
            "placeholder": "​",
            "_view_module": "@jupyter-widgets/controls",
            "_model_module_version": "1.5.0",
            "value": " 4/4 [00:00&lt;00:00, 250.08it/s]",
            "_view_count": null,
            "_view_module_version": "1.5.0",
            "description_tooltip": null,
            "_model_module": "@jupyter-widgets/controls",
            "layout": "IPY_MODEL_e8a23a885ffe4f4e89dfad52684f86da"
          }
        },
        "2d641597072a4a35a8445a68cd47afc2": {
          "model_module": "@jupyter-widgets/controls",
          "model_name": "ProgressStyleModel",
          "state": {
            "_view_name": "StyleView",
            "_model_name": "ProgressStyleModel",
            "description_width": "initial",
            "_view_module": "@jupyter-widgets/base",
            "_model_module_version": "1.5.0",
            "_view_count": null,
            "_view_module_version": "1.2.0",
            "bar_color": null,
            "_model_module": "@jupyter-widgets/controls"
          }
        },
        "a269819a7504491b91be51da4b273a21": {
          "model_module": "@jupyter-widgets/base",
          "model_name": "LayoutModel",
          "state": {
            "_view_name": "LayoutView",
            "grid_template_rows": null,
            "right": null,
            "justify_content": null,
            "_view_module": "@jupyter-widgets/base",
            "overflow": null,
            "_model_module_version": "1.2.0",
            "_view_count": null,
            "flex_flow": null,
            "width": null,
            "min_width": null,
            "border": null,
            "align_items": null,
            "bottom": null,
            "_model_module": "@jupyter-widgets/base",
            "top": null,
            "grid_column": null,
            "overflow_y": null,
            "overflow_x": null,
            "grid_auto_flow": null,
            "grid_area": null,
            "grid_template_columns": null,
            "flex": "2",
            "_model_name": "LayoutModel",
            "justify_items": null,
            "grid_row": null,
            "max_height": null,
            "align_content": null,
            "visibility": null,
            "align_self": null,
            "height": null,
            "min_height": null,
            "padding": null,
            "grid_auto_rows": null,
            "grid_gap": null,
            "max_width": null,
            "order": null,
            "_view_module_version": "1.2.0",
            "grid_template_areas": null,
            "object_position": null,
            "object_fit": null,
            "grid_auto_columns": null,
            "margin": null,
            "display": null,
            "left": null
          }
        },
        "bc0397a193004a60a2c14469f3d0513b": {
          "model_module": "@jupyter-widgets/controls",
          "model_name": "DescriptionStyleModel",
          "state": {
            "_view_name": "StyleView",
            "_model_name": "DescriptionStyleModel",
            "description_width": "",
            "_view_module": "@jupyter-widgets/base",
            "_model_module_version": "1.5.0",
            "_view_count": null,
            "_view_module_version": "1.2.0",
            "_model_module": "@jupyter-widgets/controls"
          }
        },
        "e8a23a885ffe4f4e89dfad52684f86da": {
          "model_module": "@jupyter-widgets/base",
          "model_name": "LayoutModel",
          "state": {
            "_view_name": "LayoutView",
            "grid_template_rows": null,
            "right": null,
            "justify_content": null,
            "_view_module": "@jupyter-widgets/base",
            "overflow": null,
            "_model_module_version": "1.2.0",
            "_view_count": null,
            "flex_flow": null,
            "width": null,
            "min_width": null,
            "border": null,
            "align_items": null,
            "bottom": null,
            "_model_module": "@jupyter-widgets/base",
            "top": null,
            "grid_column": null,
            "overflow_y": null,
            "overflow_x": null,
            "grid_auto_flow": null,
            "grid_area": null,
            "grid_template_columns": null,
            "flex": null,
            "_model_name": "LayoutModel",
            "justify_items": null,
            "grid_row": null,
            "max_height": null,
            "align_content": null,
            "visibility": null,
            "align_self": null,
            "height": null,
            "min_height": null,
            "padding": null,
            "grid_auto_rows": null,
            "grid_gap": null,
            "max_width": null,
            "order": null,
            "_view_module_version": "1.2.0",
            "grid_template_areas": null,
            "object_position": null,
            "object_fit": null,
            "grid_auto_columns": null,
            "margin": null,
            "display": null,
            "left": null
          }
        },
        "f7cdce8b43f249b48952fb157f54b53a": {
          "model_module": "@jupyter-widgets/controls",
          "model_name": "HBoxModel",
          "state": {
            "_view_name": "HBoxView",
            "_dom_classes": [],
            "_model_name": "HBoxModel",
            "_view_module": "@jupyter-widgets/controls",
            "_model_module_version": "1.5.0",
            "_view_count": null,
            "_view_module_version": "1.5.0",
            "box_style": "",
            "layout": "IPY_MODEL_d7fbd3ba583d4d91a464023370a4a90a",
            "_model_module": "@jupyter-widgets/controls",
            "children": [
              "IPY_MODEL_c54c7a861db9414eac2418d061bec9ae",
              "IPY_MODEL_3c7e8ad3b9a64f80ac8d6ca4fff8a44e"
            ]
          }
        },
        "d7fbd3ba583d4d91a464023370a4a90a": {
          "model_module": "@jupyter-widgets/base",
          "model_name": "LayoutModel",
          "state": {
            "_view_name": "LayoutView",
            "grid_template_rows": null,
            "right": null,
            "justify_content": null,
            "_view_module": "@jupyter-widgets/base",
            "overflow": null,
            "_model_module_version": "1.2.0",
            "_view_count": null,
            "flex_flow": "row wrap",
            "width": "100%",
            "min_width": null,
            "border": null,
            "align_items": null,
            "bottom": null,
            "_model_module": "@jupyter-widgets/base",
            "top": null,
            "grid_column": null,
            "overflow_y": null,
            "overflow_x": null,
            "grid_auto_flow": null,
            "grid_area": null,
            "grid_template_columns": null,
            "flex": null,
            "_model_name": "LayoutModel",
            "justify_items": null,
            "grid_row": null,
            "max_height": null,
            "align_content": null,
            "visibility": null,
            "align_self": null,
            "height": null,
            "min_height": null,
            "padding": null,
            "grid_auto_rows": null,
            "grid_gap": null,
            "max_width": null,
            "order": null,
            "_view_module_version": "1.2.0",
            "grid_template_areas": null,
            "object_position": null,
            "object_fit": null,
            "grid_auto_columns": null,
            "margin": null,
            "display": "inline-flex",
            "left": null
          }
        },
        "c54c7a861db9414eac2418d061bec9ae": {
          "model_module": "@jupyter-widgets/controls",
          "model_name": "FloatProgressModel",
          "state": {
            "_view_name": "ProgressView",
            "style": "IPY_MODEL_09e28f17c3c0439d98fca3be1d02c940",
            "_dom_classes": [],
            "description": "Validating: 100%",
            "_model_name": "FloatProgressModel",
            "bar_style": "info",
            "max": 4,
            "_view_module": "@jupyter-widgets/controls",
            "_model_module_version": "1.5.0",
            "value": 4,
            "_view_count": null,
            "_view_module_version": "1.5.0",
            "orientation": "horizontal",
            "min": 0,
            "description_tooltip": null,
            "_model_module": "@jupyter-widgets/controls",
            "layout": "IPY_MODEL_cc6655daf60d4b6ea0b0fad69b298976"
          }
        },
        "3c7e8ad3b9a64f80ac8d6ca4fff8a44e": {
          "model_module": "@jupyter-widgets/controls",
          "model_name": "HTMLModel",
          "state": {
            "_view_name": "HTMLView",
            "style": "IPY_MODEL_6441109be3af44c8a4628043924f4131",
            "_dom_classes": [],
            "description": "",
            "_model_name": "HTMLModel",
            "placeholder": "​",
            "_view_module": "@jupyter-widgets/controls",
            "_model_module_version": "1.5.0",
            "value": " 4/4 [00:00&lt;00:00, 254.52it/s]",
            "_view_count": null,
            "_view_module_version": "1.5.0",
            "description_tooltip": null,
            "_model_module": "@jupyter-widgets/controls",
            "layout": "IPY_MODEL_ff49d1a54b7e4c9c896704699db9e683"
          }
        },
        "09e28f17c3c0439d98fca3be1d02c940": {
          "model_module": "@jupyter-widgets/controls",
          "model_name": "ProgressStyleModel",
          "state": {
            "_view_name": "StyleView",
            "_model_name": "ProgressStyleModel",
            "description_width": "initial",
            "_view_module": "@jupyter-widgets/base",
            "_model_module_version": "1.5.0",
            "_view_count": null,
            "_view_module_version": "1.2.0",
            "bar_color": null,
            "_model_module": "@jupyter-widgets/controls"
          }
        },
        "cc6655daf60d4b6ea0b0fad69b298976": {
          "model_module": "@jupyter-widgets/base",
          "model_name": "LayoutModel",
          "state": {
            "_view_name": "LayoutView",
            "grid_template_rows": null,
            "right": null,
            "justify_content": null,
            "_view_module": "@jupyter-widgets/base",
            "overflow": null,
            "_model_module_version": "1.2.0",
            "_view_count": null,
            "flex_flow": null,
            "width": null,
            "min_width": null,
            "border": null,
            "align_items": null,
            "bottom": null,
            "_model_module": "@jupyter-widgets/base",
            "top": null,
            "grid_column": null,
            "overflow_y": null,
            "overflow_x": null,
            "grid_auto_flow": null,
            "grid_area": null,
            "grid_template_columns": null,
            "flex": "2",
            "_model_name": "LayoutModel",
            "justify_items": null,
            "grid_row": null,
            "max_height": null,
            "align_content": null,
            "visibility": null,
            "align_self": null,
            "height": null,
            "min_height": null,
            "padding": null,
            "grid_auto_rows": null,
            "grid_gap": null,
            "max_width": null,
            "order": null,
            "_view_module_version": "1.2.0",
            "grid_template_areas": null,
            "object_position": null,
            "object_fit": null,
            "grid_auto_columns": null,
            "margin": null,
            "display": null,
            "left": null
          }
        },
        "6441109be3af44c8a4628043924f4131": {
          "model_module": "@jupyter-widgets/controls",
          "model_name": "DescriptionStyleModel",
          "state": {
            "_view_name": "StyleView",
            "_model_name": "DescriptionStyleModel",
            "description_width": "",
            "_view_module": "@jupyter-widgets/base",
            "_model_module_version": "1.5.0",
            "_view_count": null,
            "_view_module_version": "1.2.0",
            "_model_module": "@jupyter-widgets/controls"
          }
        },
        "ff49d1a54b7e4c9c896704699db9e683": {
          "model_module": "@jupyter-widgets/base",
          "model_name": "LayoutModel",
          "state": {
            "_view_name": "LayoutView",
            "grid_template_rows": null,
            "right": null,
            "justify_content": null,
            "_view_module": "@jupyter-widgets/base",
            "overflow": null,
            "_model_module_version": "1.2.0",
            "_view_count": null,
            "flex_flow": null,
            "width": null,
            "min_width": null,
            "border": null,
            "align_items": null,
            "bottom": null,
            "_model_module": "@jupyter-widgets/base",
            "top": null,
            "grid_column": null,
            "overflow_y": null,
            "overflow_x": null,
            "grid_auto_flow": null,
            "grid_area": null,
            "grid_template_columns": null,
            "flex": null,
            "_model_name": "LayoutModel",
            "justify_items": null,
            "grid_row": null,
            "max_height": null,
            "align_content": null,
            "visibility": null,
            "align_self": null,
            "height": null,
            "min_height": null,
            "padding": null,
            "grid_auto_rows": null,
            "grid_gap": null,
            "max_width": null,
            "order": null,
            "_view_module_version": "1.2.0",
            "grid_template_areas": null,
            "object_position": null,
            "object_fit": null,
            "grid_auto_columns": null,
            "margin": null,
            "display": null,
            "left": null
          }
        },
        "ea1141fe9519456db5cb5d93b8d96b29": {
          "model_module": "@jupyter-widgets/controls",
          "model_name": "HBoxModel",
          "state": {
            "_view_name": "HBoxView",
            "_dom_classes": [],
            "_model_name": "HBoxModel",
            "_view_module": "@jupyter-widgets/controls",
            "_model_module_version": "1.5.0",
            "_view_count": null,
            "_view_module_version": "1.5.0",
            "box_style": "",
            "layout": "IPY_MODEL_c0fb891324e045fd9e40faf8171ce494",
            "_model_module": "@jupyter-widgets/controls",
            "children": [
              "IPY_MODEL_b807bb2ab8fd44748c1496a79c165d5b",
              "IPY_MODEL_b45c3f42704b4b33bbce5210a8dc85e7"
            ]
          }
        },
        "c0fb891324e045fd9e40faf8171ce494": {
          "model_module": "@jupyter-widgets/base",
          "model_name": "LayoutModel",
          "state": {
            "_view_name": "LayoutView",
            "grid_template_rows": null,
            "right": null,
            "justify_content": null,
            "_view_module": "@jupyter-widgets/base",
            "overflow": null,
            "_model_module_version": "1.2.0",
            "_view_count": null,
            "flex_flow": "row wrap",
            "width": "100%",
            "min_width": null,
            "border": null,
            "align_items": null,
            "bottom": null,
            "_model_module": "@jupyter-widgets/base",
            "top": null,
            "grid_column": null,
            "overflow_y": null,
            "overflow_x": null,
            "grid_auto_flow": null,
            "grid_area": null,
            "grid_template_columns": null,
            "flex": null,
            "_model_name": "LayoutModel",
            "justify_items": null,
            "grid_row": null,
            "max_height": null,
            "align_content": null,
            "visibility": null,
            "align_self": null,
            "height": null,
            "min_height": null,
            "padding": null,
            "grid_auto_rows": null,
            "grid_gap": null,
            "max_width": null,
            "order": null,
            "_view_module_version": "1.2.0",
            "grid_template_areas": null,
            "object_position": null,
            "object_fit": null,
            "grid_auto_columns": null,
            "margin": null,
            "display": "inline-flex",
            "left": null
          }
        },
        "b807bb2ab8fd44748c1496a79c165d5b": {
          "model_module": "@jupyter-widgets/controls",
          "model_name": "FloatProgressModel",
          "state": {
            "_view_name": "ProgressView",
            "style": "IPY_MODEL_2b43cd5c987f47cf9aebeb7c148027ff",
            "_dom_classes": [],
            "description": "Validating: 100%",
            "_model_name": "FloatProgressModel",
            "bar_style": "info",
            "max": 4,
            "_view_module": "@jupyter-widgets/controls",
            "_model_module_version": "1.5.0",
            "value": 4,
            "_view_count": null,
            "_view_module_version": "1.5.0",
            "orientation": "horizontal",
            "min": 0,
            "description_tooltip": null,
            "_model_module": "@jupyter-widgets/controls",
            "layout": "IPY_MODEL_d153f4481fe049fcb540eb996ca92111"
          }
        },
        "b45c3f42704b4b33bbce5210a8dc85e7": {
          "model_module": "@jupyter-widgets/controls",
          "model_name": "HTMLModel",
          "state": {
            "_view_name": "HTMLView",
            "style": "IPY_MODEL_114bbe5984c9482b8e396157b13ef6dd",
            "_dom_classes": [],
            "description": "",
            "_model_name": "HTMLModel",
            "placeholder": "​",
            "_view_module": "@jupyter-widgets/controls",
            "_model_module_version": "1.5.0",
            "value": " 4/4 [00:00&lt;00:00, 260.29it/s]",
            "_view_count": null,
            "_view_module_version": "1.5.0",
            "description_tooltip": null,
            "_model_module": "@jupyter-widgets/controls",
            "layout": "IPY_MODEL_b161742d41be4e028cf10bd020d43bc6"
          }
        },
        "2b43cd5c987f47cf9aebeb7c148027ff": {
          "model_module": "@jupyter-widgets/controls",
          "model_name": "ProgressStyleModel",
          "state": {
            "_view_name": "StyleView",
            "_model_name": "ProgressStyleModel",
            "description_width": "initial",
            "_view_module": "@jupyter-widgets/base",
            "_model_module_version": "1.5.0",
            "_view_count": null,
            "_view_module_version": "1.2.0",
            "bar_color": null,
            "_model_module": "@jupyter-widgets/controls"
          }
        },
        "d153f4481fe049fcb540eb996ca92111": {
          "model_module": "@jupyter-widgets/base",
          "model_name": "LayoutModel",
          "state": {
            "_view_name": "LayoutView",
            "grid_template_rows": null,
            "right": null,
            "justify_content": null,
            "_view_module": "@jupyter-widgets/base",
            "overflow": null,
            "_model_module_version": "1.2.0",
            "_view_count": null,
            "flex_flow": null,
            "width": null,
            "min_width": null,
            "border": null,
            "align_items": null,
            "bottom": null,
            "_model_module": "@jupyter-widgets/base",
            "top": null,
            "grid_column": null,
            "overflow_y": null,
            "overflow_x": null,
            "grid_auto_flow": null,
            "grid_area": null,
            "grid_template_columns": null,
            "flex": "2",
            "_model_name": "LayoutModel",
            "justify_items": null,
            "grid_row": null,
            "max_height": null,
            "align_content": null,
            "visibility": null,
            "align_self": null,
            "height": null,
            "min_height": null,
            "padding": null,
            "grid_auto_rows": null,
            "grid_gap": null,
            "max_width": null,
            "order": null,
            "_view_module_version": "1.2.0",
            "grid_template_areas": null,
            "object_position": null,
            "object_fit": null,
            "grid_auto_columns": null,
            "margin": null,
            "display": null,
            "left": null
          }
        },
        "114bbe5984c9482b8e396157b13ef6dd": {
          "model_module": "@jupyter-widgets/controls",
          "model_name": "DescriptionStyleModel",
          "state": {
            "_view_name": "StyleView",
            "_model_name": "DescriptionStyleModel",
            "description_width": "",
            "_view_module": "@jupyter-widgets/base",
            "_model_module_version": "1.5.0",
            "_view_count": null,
            "_view_module_version": "1.2.0",
            "_model_module": "@jupyter-widgets/controls"
          }
        },
        "b161742d41be4e028cf10bd020d43bc6": {
          "model_module": "@jupyter-widgets/base",
          "model_name": "LayoutModel",
          "state": {
            "_view_name": "LayoutView",
            "grid_template_rows": null,
            "right": null,
            "justify_content": null,
            "_view_module": "@jupyter-widgets/base",
            "overflow": null,
            "_model_module_version": "1.2.0",
            "_view_count": null,
            "flex_flow": null,
            "width": null,
            "min_width": null,
            "border": null,
            "align_items": null,
            "bottom": null,
            "_model_module": "@jupyter-widgets/base",
            "top": null,
            "grid_column": null,
            "overflow_y": null,
            "overflow_x": null,
            "grid_auto_flow": null,
            "grid_area": null,
            "grid_template_columns": null,
            "flex": null,
            "_model_name": "LayoutModel",
            "justify_items": null,
            "grid_row": null,
            "max_height": null,
            "align_content": null,
            "visibility": null,
            "align_self": null,
            "height": null,
            "min_height": null,
            "padding": null,
            "grid_auto_rows": null,
            "grid_gap": null,
            "max_width": null,
            "order": null,
            "_view_module_version": "1.2.0",
            "grid_template_areas": null,
            "object_position": null,
            "object_fit": null,
            "grid_auto_columns": null,
            "margin": null,
            "display": null,
            "left": null
          }
        },
        "147c3b72542448e899710794d6f2644c": {
          "model_module": "@jupyter-widgets/controls",
          "model_name": "HBoxModel",
          "state": {
            "_view_name": "HBoxView",
            "_dom_classes": [],
            "_model_name": "HBoxModel",
            "_view_module": "@jupyter-widgets/controls",
            "_model_module_version": "1.5.0",
            "_view_count": null,
            "_view_module_version": "1.5.0",
            "box_style": "",
            "layout": "IPY_MODEL_4777116e574f47f2be8cbb31ebfe0626",
            "_model_module": "@jupyter-widgets/controls",
            "children": [
              "IPY_MODEL_fc74ca47270d42f9b9abef54b10eab39",
              "IPY_MODEL_6c467bb00abe46edae30ba6c834c9e56"
            ]
          }
        },
        "4777116e574f47f2be8cbb31ebfe0626": {
          "model_module": "@jupyter-widgets/base",
          "model_name": "LayoutModel",
          "state": {
            "_view_name": "LayoutView",
            "grid_template_rows": null,
            "right": null,
            "justify_content": null,
            "_view_module": "@jupyter-widgets/base",
            "overflow": null,
            "_model_module_version": "1.2.0",
            "_view_count": null,
            "flex_flow": "row wrap",
            "width": "100%",
            "min_width": null,
            "border": null,
            "align_items": null,
            "bottom": null,
            "_model_module": "@jupyter-widgets/base",
            "top": null,
            "grid_column": null,
            "overflow_y": null,
            "overflow_x": null,
            "grid_auto_flow": null,
            "grid_area": null,
            "grid_template_columns": null,
            "flex": null,
            "_model_name": "LayoutModel",
            "justify_items": null,
            "grid_row": null,
            "max_height": null,
            "align_content": null,
            "visibility": null,
            "align_self": null,
            "height": null,
            "min_height": null,
            "padding": null,
            "grid_auto_rows": null,
            "grid_gap": null,
            "max_width": null,
            "order": null,
            "_view_module_version": "1.2.0",
            "grid_template_areas": null,
            "object_position": null,
            "object_fit": null,
            "grid_auto_columns": null,
            "margin": null,
            "display": "inline-flex",
            "left": null
          }
        },
        "fc74ca47270d42f9b9abef54b10eab39": {
          "model_module": "@jupyter-widgets/controls",
          "model_name": "FloatProgressModel",
          "state": {
            "_view_name": "ProgressView",
            "style": "IPY_MODEL_a4bce14c25844e958b3407e50060350d",
            "_dom_classes": [],
            "description": "Validating: 100%",
            "_model_name": "FloatProgressModel",
            "bar_style": "info",
            "max": 4,
            "_view_module": "@jupyter-widgets/controls",
            "_model_module_version": "1.5.0",
            "value": 4,
            "_view_count": null,
            "_view_module_version": "1.5.0",
            "orientation": "horizontal",
            "min": 0,
            "description_tooltip": null,
            "_model_module": "@jupyter-widgets/controls",
            "layout": "IPY_MODEL_8b462967b7c34170a530409dd6ad6103"
          }
        },
        "6c467bb00abe46edae30ba6c834c9e56": {
          "model_module": "@jupyter-widgets/controls",
          "model_name": "HTMLModel",
          "state": {
            "_view_name": "HTMLView",
            "style": "IPY_MODEL_d3d2d765b5ff405bb230bf277ab687a0",
            "_dom_classes": [],
            "description": "",
            "_model_name": "HTMLModel",
            "placeholder": "​",
            "_view_module": "@jupyter-widgets/controls",
            "_model_module_version": "1.5.0",
            "value": " 4/4 [00:00&lt;00:00, 292.81it/s]",
            "_view_count": null,
            "_view_module_version": "1.5.0",
            "description_tooltip": null,
            "_model_module": "@jupyter-widgets/controls",
            "layout": "IPY_MODEL_2a299062397c4bf8bb8009154d6a4c52"
          }
        },
        "a4bce14c25844e958b3407e50060350d": {
          "model_module": "@jupyter-widgets/controls",
          "model_name": "ProgressStyleModel",
          "state": {
            "_view_name": "StyleView",
            "_model_name": "ProgressStyleModel",
            "description_width": "initial",
            "_view_module": "@jupyter-widgets/base",
            "_model_module_version": "1.5.0",
            "_view_count": null,
            "_view_module_version": "1.2.0",
            "bar_color": null,
            "_model_module": "@jupyter-widgets/controls"
          }
        },
        "8b462967b7c34170a530409dd6ad6103": {
          "model_module": "@jupyter-widgets/base",
          "model_name": "LayoutModel",
          "state": {
            "_view_name": "LayoutView",
            "grid_template_rows": null,
            "right": null,
            "justify_content": null,
            "_view_module": "@jupyter-widgets/base",
            "overflow": null,
            "_model_module_version": "1.2.0",
            "_view_count": null,
            "flex_flow": null,
            "width": null,
            "min_width": null,
            "border": null,
            "align_items": null,
            "bottom": null,
            "_model_module": "@jupyter-widgets/base",
            "top": null,
            "grid_column": null,
            "overflow_y": null,
            "overflow_x": null,
            "grid_auto_flow": null,
            "grid_area": null,
            "grid_template_columns": null,
            "flex": "2",
            "_model_name": "LayoutModel",
            "justify_items": null,
            "grid_row": null,
            "max_height": null,
            "align_content": null,
            "visibility": null,
            "align_self": null,
            "height": null,
            "min_height": null,
            "padding": null,
            "grid_auto_rows": null,
            "grid_gap": null,
            "max_width": null,
            "order": null,
            "_view_module_version": "1.2.0",
            "grid_template_areas": null,
            "object_position": null,
            "object_fit": null,
            "grid_auto_columns": null,
            "margin": null,
            "display": null,
            "left": null
          }
        },
        "d3d2d765b5ff405bb230bf277ab687a0": {
          "model_module": "@jupyter-widgets/controls",
          "model_name": "DescriptionStyleModel",
          "state": {
            "_view_name": "StyleView",
            "_model_name": "DescriptionStyleModel",
            "description_width": "",
            "_view_module": "@jupyter-widgets/base",
            "_model_module_version": "1.5.0",
            "_view_count": null,
            "_view_module_version": "1.2.0",
            "_model_module": "@jupyter-widgets/controls"
          }
        },
        "2a299062397c4bf8bb8009154d6a4c52": {
          "model_module": "@jupyter-widgets/base",
          "model_name": "LayoutModel",
          "state": {
            "_view_name": "LayoutView",
            "grid_template_rows": null,
            "right": null,
            "justify_content": null,
            "_view_module": "@jupyter-widgets/base",
            "overflow": null,
            "_model_module_version": "1.2.0",
            "_view_count": null,
            "flex_flow": null,
            "width": null,
            "min_width": null,
            "border": null,
            "align_items": null,
            "bottom": null,
            "_model_module": "@jupyter-widgets/base",
            "top": null,
            "grid_column": null,
            "overflow_y": null,
            "overflow_x": null,
            "grid_auto_flow": null,
            "grid_area": null,
            "grid_template_columns": null,
            "flex": null,
            "_model_name": "LayoutModel",
            "justify_items": null,
            "grid_row": null,
            "max_height": null,
            "align_content": null,
            "visibility": null,
            "align_self": null,
            "height": null,
            "min_height": null,
            "padding": null,
            "grid_auto_rows": null,
            "grid_gap": null,
            "max_width": null,
            "order": null,
            "_view_module_version": "1.2.0",
            "grid_template_areas": null,
            "object_position": null,
            "object_fit": null,
            "grid_auto_columns": null,
            "margin": null,
            "display": null,
            "left": null
          }
        },
        "1bae5de5fac64e89aeccd7c82c075300": {
          "model_module": "@jupyter-widgets/controls",
          "model_name": "HBoxModel",
          "state": {
            "_view_name": "HBoxView",
            "_dom_classes": [],
            "_model_name": "HBoxModel",
            "_view_module": "@jupyter-widgets/controls",
            "_model_module_version": "1.5.0",
            "_view_count": null,
            "_view_module_version": "1.5.0",
            "box_style": "",
            "layout": "IPY_MODEL_3803565bfe7445f3a337c0d975463fdf",
            "_model_module": "@jupyter-widgets/controls",
            "children": [
              "IPY_MODEL_ec136f90e2cf4521a020ccfa921ea55b",
              "IPY_MODEL_8b721b7f33884f14b6ad32c00d529297"
            ]
          }
        },
        "3803565bfe7445f3a337c0d975463fdf": {
          "model_module": "@jupyter-widgets/base",
          "model_name": "LayoutModel",
          "state": {
            "_view_name": "LayoutView",
            "grid_template_rows": null,
            "right": null,
            "justify_content": null,
            "_view_module": "@jupyter-widgets/base",
            "overflow": null,
            "_model_module_version": "1.2.0",
            "_view_count": null,
            "flex_flow": "row wrap",
            "width": "100%",
            "min_width": null,
            "border": null,
            "align_items": null,
            "bottom": null,
            "_model_module": "@jupyter-widgets/base",
            "top": null,
            "grid_column": null,
            "overflow_y": null,
            "overflow_x": null,
            "grid_auto_flow": null,
            "grid_area": null,
            "grid_template_columns": null,
            "flex": null,
            "_model_name": "LayoutModel",
            "justify_items": null,
            "grid_row": null,
            "max_height": null,
            "align_content": null,
            "visibility": null,
            "align_self": null,
            "height": null,
            "min_height": null,
            "padding": null,
            "grid_auto_rows": null,
            "grid_gap": null,
            "max_width": null,
            "order": null,
            "_view_module_version": "1.2.0",
            "grid_template_areas": null,
            "object_position": null,
            "object_fit": null,
            "grid_auto_columns": null,
            "margin": null,
            "display": "inline-flex",
            "left": null
          }
        },
        "ec136f90e2cf4521a020ccfa921ea55b": {
          "model_module": "@jupyter-widgets/controls",
          "model_name": "FloatProgressModel",
          "state": {
            "_view_name": "ProgressView",
            "style": "IPY_MODEL_4b93122453e346c0bd1480fb99d74a92",
            "_dom_classes": [],
            "description": "Validating: 100%",
            "_model_name": "FloatProgressModel",
            "bar_style": "info",
            "max": 4,
            "_view_module": "@jupyter-widgets/controls",
            "_model_module_version": "1.5.0",
            "value": 4,
            "_view_count": null,
            "_view_module_version": "1.5.0",
            "orientation": "horizontal",
            "min": 0,
            "description_tooltip": null,
            "_model_module": "@jupyter-widgets/controls",
            "layout": "IPY_MODEL_99b3f3e219d949a5953df5f7385be14b"
          }
        },
        "8b721b7f33884f14b6ad32c00d529297": {
          "model_module": "@jupyter-widgets/controls",
          "model_name": "HTMLModel",
          "state": {
            "_view_name": "HTMLView",
            "style": "IPY_MODEL_d48643a0840145a6be7ef2e4fa63335b",
            "_dom_classes": [],
            "description": "",
            "_model_name": "HTMLModel",
            "placeholder": "​",
            "_view_module": "@jupyter-widgets/controls",
            "_model_module_version": "1.5.0",
            "value": " 4/4 [00:00&lt;00:00, 189.35it/s]",
            "_view_count": null,
            "_view_module_version": "1.5.0",
            "description_tooltip": null,
            "_model_module": "@jupyter-widgets/controls",
            "layout": "IPY_MODEL_618417510ff0472bb5ddb41db71544d8"
          }
        },
        "4b93122453e346c0bd1480fb99d74a92": {
          "model_module": "@jupyter-widgets/controls",
          "model_name": "ProgressStyleModel",
          "state": {
            "_view_name": "StyleView",
            "_model_name": "ProgressStyleModel",
            "description_width": "initial",
            "_view_module": "@jupyter-widgets/base",
            "_model_module_version": "1.5.0",
            "_view_count": null,
            "_view_module_version": "1.2.0",
            "bar_color": null,
            "_model_module": "@jupyter-widgets/controls"
          }
        },
        "99b3f3e219d949a5953df5f7385be14b": {
          "model_module": "@jupyter-widgets/base",
          "model_name": "LayoutModel",
          "state": {
            "_view_name": "LayoutView",
            "grid_template_rows": null,
            "right": null,
            "justify_content": null,
            "_view_module": "@jupyter-widgets/base",
            "overflow": null,
            "_model_module_version": "1.2.0",
            "_view_count": null,
            "flex_flow": null,
            "width": null,
            "min_width": null,
            "border": null,
            "align_items": null,
            "bottom": null,
            "_model_module": "@jupyter-widgets/base",
            "top": null,
            "grid_column": null,
            "overflow_y": null,
            "overflow_x": null,
            "grid_auto_flow": null,
            "grid_area": null,
            "grid_template_columns": null,
            "flex": "2",
            "_model_name": "LayoutModel",
            "justify_items": null,
            "grid_row": null,
            "max_height": null,
            "align_content": null,
            "visibility": null,
            "align_self": null,
            "height": null,
            "min_height": null,
            "padding": null,
            "grid_auto_rows": null,
            "grid_gap": null,
            "max_width": null,
            "order": null,
            "_view_module_version": "1.2.0",
            "grid_template_areas": null,
            "object_position": null,
            "object_fit": null,
            "grid_auto_columns": null,
            "margin": null,
            "display": null,
            "left": null
          }
        },
        "d48643a0840145a6be7ef2e4fa63335b": {
          "model_module": "@jupyter-widgets/controls",
          "model_name": "DescriptionStyleModel",
          "state": {
            "_view_name": "StyleView",
            "_model_name": "DescriptionStyleModel",
            "description_width": "",
            "_view_module": "@jupyter-widgets/base",
            "_model_module_version": "1.5.0",
            "_view_count": null,
            "_view_module_version": "1.2.0",
            "_model_module": "@jupyter-widgets/controls"
          }
        },
        "618417510ff0472bb5ddb41db71544d8": {
          "model_module": "@jupyter-widgets/base",
          "model_name": "LayoutModel",
          "state": {
            "_view_name": "LayoutView",
            "grid_template_rows": null,
            "right": null,
            "justify_content": null,
            "_view_module": "@jupyter-widgets/base",
            "overflow": null,
            "_model_module_version": "1.2.0",
            "_view_count": null,
            "flex_flow": null,
            "width": null,
            "min_width": null,
            "border": null,
            "align_items": null,
            "bottom": null,
            "_model_module": "@jupyter-widgets/base",
            "top": null,
            "grid_column": null,
            "overflow_y": null,
            "overflow_x": null,
            "grid_auto_flow": null,
            "grid_area": null,
            "grid_template_columns": null,
            "flex": null,
            "_model_name": "LayoutModel",
            "justify_items": null,
            "grid_row": null,
            "max_height": null,
            "align_content": null,
            "visibility": null,
            "align_self": null,
            "height": null,
            "min_height": null,
            "padding": null,
            "grid_auto_rows": null,
            "grid_gap": null,
            "max_width": null,
            "order": null,
            "_view_module_version": "1.2.0",
            "grid_template_areas": null,
            "object_position": null,
            "object_fit": null,
            "grid_auto_columns": null,
            "margin": null,
            "display": null,
            "left": null
          }
        },
        "e3dec21c6bb04d84bbbde226f0663e66": {
          "model_module": "@jupyter-widgets/controls",
          "model_name": "HBoxModel",
          "state": {
            "_view_name": "HBoxView",
            "_dom_classes": [],
            "_model_name": "HBoxModel",
            "_view_module": "@jupyter-widgets/controls",
            "_model_module_version": "1.5.0",
            "_view_count": null,
            "_view_module_version": "1.5.0",
            "box_style": "",
            "layout": "IPY_MODEL_2ac373633da347bf87d1e5c46b4b9b7c",
            "_model_module": "@jupyter-widgets/controls",
            "children": [
              "IPY_MODEL_d6e20ce1222649719d439606194910b0",
              "IPY_MODEL_82a0e6412be740459c1fb4eb0e8aaddd"
            ]
          }
        },
        "2ac373633da347bf87d1e5c46b4b9b7c": {
          "model_module": "@jupyter-widgets/base",
          "model_name": "LayoutModel",
          "state": {
            "_view_name": "LayoutView",
            "grid_template_rows": null,
            "right": null,
            "justify_content": null,
            "_view_module": "@jupyter-widgets/base",
            "overflow": null,
            "_model_module_version": "1.2.0",
            "_view_count": null,
            "flex_flow": "row wrap",
            "width": "100%",
            "min_width": null,
            "border": null,
            "align_items": null,
            "bottom": null,
            "_model_module": "@jupyter-widgets/base",
            "top": null,
            "grid_column": null,
            "overflow_y": null,
            "overflow_x": null,
            "grid_auto_flow": null,
            "grid_area": null,
            "grid_template_columns": null,
            "flex": null,
            "_model_name": "LayoutModel",
            "justify_items": null,
            "grid_row": null,
            "max_height": null,
            "align_content": null,
            "visibility": null,
            "align_self": null,
            "height": null,
            "min_height": null,
            "padding": null,
            "grid_auto_rows": null,
            "grid_gap": null,
            "max_width": null,
            "order": null,
            "_view_module_version": "1.2.0",
            "grid_template_areas": null,
            "object_position": null,
            "object_fit": null,
            "grid_auto_columns": null,
            "margin": null,
            "display": "inline-flex",
            "left": null
          }
        },
        "d6e20ce1222649719d439606194910b0": {
          "model_module": "@jupyter-widgets/controls",
          "model_name": "FloatProgressModel",
          "state": {
            "_view_name": "ProgressView",
            "style": "IPY_MODEL_5285111d548b4bcf83d23bc4b0b10da8",
            "_dom_classes": [],
            "description": "Validating: 100%",
            "_model_name": "FloatProgressModel",
            "bar_style": "info",
            "max": 4,
            "_view_module": "@jupyter-widgets/controls",
            "_model_module_version": "1.5.0",
            "value": 4,
            "_view_count": null,
            "_view_module_version": "1.5.0",
            "orientation": "horizontal",
            "min": 0,
            "description_tooltip": null,
            "_model_module": "@jupyter-widgets/controls",
            "layout": "IPY_MODEL_fe3acdb317124065b9b6e7728dc8cb74"
          }
        },
        "82a0e6412be740459c1fb4eb0e8aaddd": {
          "model_module": "@jupyter-widgets/controls",
          "model_name": "HTMLModel",
          "state": {
            "_view_name": "HTMLView",
            "style": "IPY_MODEL_7386095a2e8c49869ceda129e8131c10",
            "_dom_classes": [],
            "description": "",
            "_model_name": "HTMLModel",
            "placeholder": "​",
            "_view_module": "@jupyter-widgets/controls",
            "_model_module_version": "1.5.0",
            "value": " 4/4 [00:00&lt;00:00, 247.19it/s]",
            "_view_count": null,
            "_view_module_version": "1.5.0",
            "description_tooltip": null,
            "_model_module": "@jupyter-widgets/controls",
            "layout": "IPY_MODEL_32bf0f7f1f814bb5b59a44c8d26ce40d"
          }
        },
        "5285111d548b4bcf83d23bc4b0b10da8": {
          "model_module": "@jupyter-widgets/controls",
          "model_name": "ProgressStyleModel",
          "state": {
            "_view_name": "StyleView",
            "_model_name": "ProgressStyleModel",
            "description_width": "initial",
            "_view_module": "@jupyter-widgets/base",
            "_model_module_version": "1.5.0",
            "_view_count": null,
            "_view_module_version": "1.2.0",
            "bar_color": null,
            "_model_module": "@jupyter-widgets/controls"
          }
        },
        "fe3acdb317124065b9b6e7728dc8cb74": {
          "model_module": "@jupyter-widgets/base",
          "model_name": "LayoutModel",
          "state": {
            "_view_name": "LayoutView",
            "grid_template_rows": null,
            "right": null,
            "justify_content": null,
            "_view_module": "@jupyter-widgets/base",
            "overflow": null,
            "_model_module_version": "1.2.0",
            "_view_count": null,
            "flex_flow": null,
            "width": null,
            "min_width": null,
            "border": null,
            "align_items": null,
            "bottom": null,
            "_model_module": "@jupyter-widgets/base",
            "top": null,
            "grid_column": null,
            "overflow_y": null,
            "overflow_x": null,
            "grid_auto_flow": null,
            "grid_area": null,
            "grid_template_columns": null,
            "flex": "2",
            "_model_name": "LayoutModel",
            "justify_items": null,
            "grid_row": null,
            "max_height": null,
            "align_content": null,
            "visibility": null,
            "align_self": null,
            "height": null,
            "min_height": null,
            "padding": null,
            "grid_auto_rows": null,
            "grid_gap": null,
            "max_width": null,
            "order": null,
            "_view_module_version": "1.2.0",
            "grid_template_areas": null,
            "object_position": null,
            "object_fit": null,
            "grid_auto_columns": null,
            "margin": null,
            "display": null,
            "left": null
          }
        },
        "7386095a2e8c49869ceda129e8131c10": {
          "model_module": "@jupyter-widgets/controls",
          "model_name": "DescriptionStyleModel",
          "state": {
            "_view_name": "StyleView",
            "_model_name": "DescriptionStyleModel",
            "description_width": "",
            "_view_module": "@jupyter-widgets/base",
            "_model_module_version": "1.5.0",
            "_view_count": null,
            "_view_module_version": "1.2.0",
            "_model_module": "@jupyter-widgets/controls"
          }
        },
        "32bf0f7f1f814bb5b59a44c8d26ce40d": {
          "model_module": "@jupyter-widgets/base",
          "model_name": "LayoutModel",
          "state": {
            "_view_name": "LayoutView",
            "grid_template_rows": null,
            "right": null,
            "justify_content": null,
            "_view_module": "@jupyter-widgets/base",
            "overflow": null,
            "_model_module_version": "1.2.0",
            "_view_count": null,
            "flex_flow": null,
            "width": null,
            "min_width": null,
            "border": null,
            "align_items": null,
            "bottom": null,
            "_model_module": "@jupyter-widgets/base",
            "top": null,
            "grid_column": null,
            "overflow_y": null,
            "overflow_x": null,
            "grid_auto_flow": null,
            "grid_area": null,
            "grid_template_columns": null,
            "flex": null,
            "_model_name": "LayoutModel",
            "justify_items": null,
            "grid_row": null,
            "max_height": null,
            "align_content": null,
            "visibility": null,
            "align_self": null,
            "height": null,
            "min_height": null,
            "padding": null,
            "grid_auto_rows": null,
            "grid_gap": null,
            "max_width": null,
            "order": null,
            "_view_module_version": "1.2.0",
            "grid_template_areas": null,
            "object_position": null,
            "object_fit": null,
            "grid_auto_columns": null,
            "margin": null,
            "display": null,
            "left": null
          }
        },
        "53cc7bd94ea849ea8b6f69c412b4d8ba": {
          "model_module": "@jupyter-widgets/controls",
          "model_name": "HBoxModel",
          "state": {
            "_view_name": "HBoxView",
            "_dom_classes": [],
            "_model_name": "HBoxModel",
            "_view_module": "@jupyter-widgets/controls",
            "_model_module_version": "1.5.0",
            "_view_count": null,
            "_view_module_version": "1.5.0",
            "box_style": "",
            "layout": "IPY_MODEL_87959a088adc4fcea966bbb8694c2558",
            "_model_module": "@jupyter-widgets/controls",
            "children": [
              "IPY_MODEL_fe8a5baf47a64cf9999027633513a638",
              "IPY_MODEL_d73802e898cc4ddcaf2b97ed819364d1"
            ]
          }
        },
        "87959a088adc4fcea966bbb8694c2558": {
          "model_module": "@jupyter-widgets/base",
          "model_name": "LayoutModel",
          "state": {
            "_view_name": "LayoutView",
            "grid_template_rows": null,
            "right": null,
            "justify_content": null,
            "_view_module": "@jupyter-widgets/base",
            "overflow": null,
            "_model_module_version": "1.2.0",
            "_view_count": null,
            "flex_flow": "row wrap",
            "width": "100%",
            "min_width": null,
            "border": null,
            "align_items": null,
            "bottom": null,
            "_model_module": "@jupyter-widgets/base",
            "top": null,
            "grid_column": null,
            "overflow_y": null,
            "overflow_x": null,
            "grid_auto_flow": null,
            "grid_area": null,
            "grid_template_columns": null,
            "flex": null,
            "_model_name": "LayoutModel",
            "justify_items": null,
            "grid_row": null,
            "max_height": null,
            "align_content": null,
            "visibility": null,
            "align_self": null,
            "height": null,
            "min_height": null,
            "padding": null,
            "grid_auto_rows": null,
            "grid_gap": null,
            "max_width": null,
            "order": null,
            "_view_module_version": "1.2.0",
            "grid_template_areas": null,
            "object_position": null,
            "object_fit": null,
            "grid_auto_columns": null,
            "margin": null,
            "display": "inline-flex",
            "left": null
          }
        },
        "fe8a5baf47a64cf9999027633513a638": {
          "model_module": "@jupyter-widgets/controls",
          "model_name": "FloatProgressModel",
          "state": {
            "_view_name": "ProgressView",
            "style": "IPY_MODEL_6bc93b7020394eda9d29abb16ccd6a7f",
            "_dom_classes": [],
            "description": "Validating: 100%",
            "_model_name": "FloatProgressModel",
            "bar_style": "info",
            "max": 4,
            "_view_module": "@jupyter-widgets/controls",
            "_model_module_version": "1.5.0",
            "value": 4,
            "_view_count": null,
            "_view_module_version": "1.5.0",
            "orientation": "horizontal",
            "min": 0,
            "description_tooltip": null,
            "_model_module": "@jupyter-widgets/controls",
            "layout": "IPY_MODEL_37e4f7fbfe8e4c73a37382a142c1f896"
          }
        },
        "d73802e898cc4ddcaf2b97ed819364d1": {
          "model_module": "@jupyter-widgets/controls",
          "model_name": "HTMLModel",
          "state": {
            "_view_name": "HTMLView",
            "style": "IPY_MODEL_a14c594137b0487f98bf6315fd7b257b",
            "_dom_classes": [],
            "description": "",
            "_model_name": "HTMLModel",
            "placeholder": "​",
            "_view_module": "@jupyter-widgets/controls",
            "_model_module_version": "1.5.0",
            "value": " 4/4 [00:00&lt;00:00, 213.93it/s]",
            "_view_count": null,
            "_view_module_version": "1.5.0",
            "description_tooltip": null,
            "_model_module": "@jupyter-widgets/controls",
            "layout": "IPY_MODEL_186b703e783849f086c231fec7588d78"
          }
        },
        "6bc93b7020394eda9d29abb16ccd6a7f": {
          "model_module": "@jupyter-widgets/controls",
          "model_name": "ProgressStyleModel",
          "state": {
            "_view_name": "StyleView",
            "_model_name": "ProgressStyleModel",
            "description_width": "initial",
            "_view_module": "@jupyter-widgets/base",
            "_model_module_version": "1.5.0",
            "_view_count": null,
            "_view_module_version": "1.2.0",
            "bar_color": null,
            "_model_module": "@jupyter-widgets/controls"
          }
        },
        "37e4f7fbfe8e4c73a37382a142c1f896": {
          "model_module": "@jupyter-widgets/base",
          "model_name": "LayoutModel",
          "state": {
            "_view_name": "LayoutView",
            "grid_template_rows": null,
            "right": null,
            "justify_content": null,
            "_view_module": "@jupyter-widgets/base",
            "overflow": null,
            "_model_module_version": "1.2.0",
            "_view_count": null,
            "flex_flow": null,
            "width": null,
            "min_width": null,
            "border": null,
            "align_items": null,
            "bottom": null,
            "_model_module": "@jupyter-widgets/base",
            "top": null,
            "grid_column": null,
            "overflow_y": null,
            "overflow_x": null,
            "grid_auto_flow": null,
            "grid_area": null,
            "grid_template_columns": null,
            "flex": "2",
            "_model_name": "LayoutModel",
            "justify_items": null,
            "grid_row": null,
            "max_height": null,
            "align_content": null,
            "visibility": null,
            "align_self": null,
            "height": null,
            "min_height": null,
            "padding": null,
            "grid_auto_rows": null,
            "grid_gap": null,
            "max_width": null,
            "order": null,
            "_view_module_version": "1.2.0",
            "grid_template_areas": null,
            "object_position": null,
            "object_fit": null,
            "grid_auto_columns": null,
            "margin": null,
            "display": null,
            "left": null
          }
        },
        "a14c594137b0487f98bf6315fd7b257b": {
          "model_module": "@jupyter-widgets/controls",
          "model_name": "DescriptionStyleModel",
          "state": {
            "_view_name": "StyleView",
            "_model_name": "DescriptionStyleModel",
            "description_width": "",
            "_view_module": "@jupyter-widgets/base",
            "_model_module_version": "1.5.0",
            "_view_count": null,
            "_view_module_version": "1.2.0",
            "_model_module": "@jupyter-widgets/controls"
          }
        },
        "186b703e783849f086c231fec7588d78": {
          "model_module": "@jupyter-widgets/base",
          "model_name": "LayoutModel",
          "state": {
            "_view_name": "LayoutView",
            "grid_template_rows": null,
            "right": null,
            "justify_content": null,
            "_view_module": "@jupyter-widgets/base",
            "overflow": null,
            "_model_module_version": "1.2.0",
            "_view_count": null,
            "flex_flow": null,
            "width": null,
            "min_width": null,
            "border": null,
            "align_items": null,
            "bottom": null,
            "_model_module": "@jupyter-widgets/base",
            "top": null,
            "grid_column": null,
            "overflow_y": null,
            "overflow_x": null,
            "grid_auto_flow": null,
            "grid_area": null,
            "grid_template_columns": null,
            "flex": null,
            "_model_name": "LayoutModel",
            "justify_items": null,
            "grid_row": null,
            "max_height": null,
            "align_content": null,
            "visibility": null,
            "align_self": null,
            "height": null,
            "min_height": null,
            "padding": null,
            "grid_auto_rows": null,
            "grid_gap": null,
            "max_width": null,
            "order": null,
            "_view_module_version": "1.2.0",
            "grid_template_areas": null,
            "object_position": null,
            "object_fit": null,
            "grid_auto_columns": null,
            "margin": null,
            "display": null,
            "left": null
          }
        },
        "94714e90c3de405480329f4e7ba4d4e0": {
          "model_module": "@jupyter-widgets/controls",
          "model_name": "HBoxModel",
          "state": {
            "_view_name": "HBoxView",
            "_dom_classes": [],
            "_model_name": "HBoxModel",
            "_view_module": "@jupyter-widgets/controls",
            "_model_module_version": "1.5.0",
            "_view_count": null,
            "_view_module_version": "1.5.0",
            "box_style": "",
            "layout": "IPY_MODEL_059849994d954df68fdfdc2802b514f5",
            "_model_module": "@jupyter-widgets/controls",
            "children": [
              "IPY_MODEL_51256784a8ed4ad68a3d1a99b91d8b9c",
              "IPY_MODEL_22ce4aea5472417d8dc6f2237cee194a"
            ]
          }
        },
        "059849994d954df68fdfdc2802b514f5": {
          "model_module": "@jupyter-widgets/base",
          "model_name": "LayoutModel",
          "state": {
            "_view_name": "LayoutView",
            "grid_template_rows": null,
            "right": null,
            "justify_content": null,
            "_view_module": "@jupyter-widgets/base",
            "overflow": null,
            "_model_module_version": "1.2.0",
            "_view_count": null,
            "flex_flow": "row wrap",
            "width": "100%",
            "min_width": null,
            "border": null,
            "align_items": null,
            "bottom": null,
            "_model_module": "@jupyter-widgets/base",
            "top": null,
            "grid_column": null,
            "overflow_y": null,
            "overflow_x": null,
            "grid_auto_flow": null,
            "grid_area": null,
            "grid_template_columns": null,
            "flex": null,
            "_model_name": "LayoutModel",
            "justify_items": null,
            "grid_row": null,
            "max_height": null,
            "align_content": null,
            "visibility": null,
            "align_self": null,
            "height": null,
            "min_height": null,
            "padding": null,
            "grid_auto_rows": null,
            "grid_gap": null,
            "max_width": null,
            "order": null,
            "_view_module_version": "1.2.0",
            "grid_template_areas": null,
            "object_position": null,
            "object_fit": null,
            "grid_auto_columns": null,
            "margin": null,
            "display": "inline-flex",
            "left": null
          }
        },
        "51256784a8ed4ad68a3d1a99b91d8b9c": {
          "model_module": "@jupyter-widgets/controls",
          "model_name": "FloatProgressModel",
          "state": {
            "_view_name": "ProgressView",
            "style": "IPY_MODEL_0be01c956b3f445aa54e7515894a1c0e",
            "_dom_classes": [],
            "description": "Validating: 100%",
            "_model_name": "FloatProgressModel",
            "bar_style": "info",
            "max": 4,
            "_view_module": "@jupyter-widgets/controls",
            "_model_module_version": "1.5.0",
            "value": 4,
            "_view_count": null,
            "_view_module_version": "1.5.0",
            "orientation": "horizontal",
            "min": 0,
            "description_tooltip": null,
            "_model_module": "@jupyter-widgets/controls",
            "layout": "IPY_MODEL_a54ff136188948378086efb7c847e48f"
          }
        },
        "22ce4aea5472417d8dc6f2237cee194a": {
          "model_module": "@jupyter-widgets/controls",
          "model_name": "HTMLModel",
          "state": {
            "_view_name": "HTMLView",
            "style": "IPY_MODEL_38aed7f5aae64cb6977b61615028ef6c",
            "_dom_classes": [],
            "description": "",
            "_model_name": "HTMLModel",
            "placeholder": "​",
            "_view_module": "@jupyter-widgets/controls",
            "_model_module_version": "1.5.0",
            "value": " 4/4 [00:00&lt;00:00, 243.96it/s]",
            "_view_count": null,
            "_view_module_version": "1.5.0",
            "description_tooltip": null,
            "_model_module": "@jupyter-widgets/controls",
            "layout": "IPY_MODEL_91946f88bda142aa83f1763486d023f0"
          }
        },
        "0be01c956b3f445aa54e7515894a1c0e": {
          "model_module": "@jupyter-widgets/controls",
          "model_name": "ProgressStyleModel",
          "state": {
            "_view_name": "StyleView",
            "_model_name": "ProgressStyleModel",
            "description_width": "initial",
            "_view_module": "@jupyter-widgets/base",
            "_model_module_version": "1.5.0",
            "_view_count": null,
            "_view_module_version": "1.2.0",
            "bar_color": null,
            "_model_module": "@jupyter-widgets/controls"
          }
        },
        "a54ff136188948378086efb7c847e48f": {
          "model_module": "@jupyter-widgets/base",
          "model_name": "LayoutModel",
          "state": {
            "_view_name": "LayoutView",
            "grid_template_rows": null,
            "right": null,
            "justify_content": null,
            "_view_module": "@jupyter-widgets/base",
            "overflow": null,
            "_model_module_version": "1.2.0",
            "_view_count": null,
            "flex_flow": null,
            "width": null,
            "min_width": null,
            "border": null,
            "align_items": null,
            "bottom": null,
            "_model_module": "@jupyter-widgets/base",
            "top": null,
            "grid_column": null,
            "overflow_y": null,
            "overflow_x": null,
            "grid_auto_flow": null,
            "grid_area": null,
            "grid_template_columns": null,
            "flex": "2",
            "_model_name": "LayoutModel",
            "justify_items": null,
            "grid_row": null,
            "max_height": null,
            "align_content": null,
            "visibility": null,
            "align_self": null,
            "height": null,
            "min_height": null,
            "padding": null,
            "grid_auto_rows": null,
            "grid_gap": null,
            "max_width": null,
            "order": null,
            "_view_module_version": "1.2.0",
            "grid_template_areas": null,
            "object_position": null,
            "object_fit": null,
            "grid_auto_columns": null,
            "margin": null,
            "display": null,
            "left": null
          }
        },
        "38aed7f5aae64cb6977b61615028ef6c": {
          "model_module": "@jupyter-widgets/controls",
          "model_name": "DescriptionStyleModel",
          "state": {
            "_view_name": "StyleView",
            "_model_name": "DescriptionStyleModel",
            "description_width": "",
            "_view_module": "@jupyter-widgets/base",
            "_model_module_version": "1.5.0",
            "_view_count": null,
            "_view_module_version": "1.2.0",
            "_model_module": "@jupyter-widgets/controls"
          }
        },
        "91946f88bda142aa83f1763486d023f0": {
          "model_module": "@jupyter-widgets/base",
          "model_name": "LayoutModel",
          "state": {
            "_view_name": "LayoutView",
            "grid_template_rows": null,
            "right": null,
            "justify_content": null,
            "_view_module": "@jupyter-widgets/base",
            "overflow": null,
            "_model_module_version": "1.2.0",
            "_view_count": null,
            "flex_flow": null,
            "width": null,
            "min_width": null,
            "border": null,
            "align_items": null,
            "bottom": null,
            "_model_module": "@jupyter-widgets/base",
            "top": null,
            "grid_column": null,
            "overflow_y": null,
            "overflow_x": null,
            "grid_auto_flow": null,
            "grid_area": null,
            "grid_template_columns": null,
            "flex": null,
            "_model_name": "LayoutModel",
            "justify_items": null,
            "grid_row": null,
            "max_height": null,
            "align_content": null,
            "visibility": null,
            "align_self": null,
            "height": null,
            "min_height": null,
            "padding": null,
            "grid_auto_rows": null,
            "grid_gap": null,
            "max_width": null,
            "order": null,
            "_view_module_version": "1.2.0",
            "grid_template_areas": null,
            "object_position": null,
            "object_fit": null,
            "grid_auto_columns": null,
            "margin": null,
            "display": null,
            "left": null
          }
        },
        "b8081997d20d44f3835986fdd346e9bd": {
          "model_module": "@jupyter-widgets/controls",
          "model_name": "HBoxModel",
          "state": {
            "_view_name": "HBoxView",
            "_dom_classes": [],
            "_model_name": "HBoxModel",
            "_view_module": "@jupyter-widgets/controls",
            "_model_module_version": "1.5.0",
            "_view_count": null,
            "_view_module_version": "1.5.0",
            "box_style": "",
            "layout": "IPY_MODEL_eda560a1066c41e1ab16660989d1fd6d",
            "_model_module": "@jupyter-widgets/controls",
            "children": [
              "IPY_MODEL_da06052cfee94c80bebeb4158cfe4fc1",
              "IPY_MODEL_44c7dfc3c58d4fb0ad9aaa1e6ff07420"
            ]
          }
        },
        "eda560a1066c41e1ab16660989d1fd6d": {
          "model_module": "@jupyter-widgets/base",
          "model_name": "LayoutModel",
          "state": {
            "_view_name": "LayoutView",
            "grid_template_rows": null,
            "right": null,
            "justify_content": null,
            "_view_module": "@jupyter-widgets/base",
            "overflow": null,
            "_model_module_version": "1.2.0",
            "_view_count": null,
            "flex_flow": "row wrap",
            "width": "100%",
            "min_width": null,
            "border": null,
            "align_items": null,
            "bottom": null,
            "_model_module": "@jupyter-widgets/base",
            "top": null,
            "grid_column": null,
            "overflow_y": null,
            "overflow_x": null,
            "grid_auto_flow": null,
            "grid_area": null,
            "grid_template_columns": null,
            "flex": null,
            "_model_name": "LayoutModel",
            "justify_items": null,
            "grid_row": null,
            "max_height": null,
            "align_content": null,
            "visibility": null,
            "align_self": null,
            "height": null,
            "min_height": null,
            "padding": null,
            "grid_auto_rows": null,
            "grid_gap": null,
            "max_width": null,
            "order": null,
            "_view_module_version": "1.2.0",
            "grid_template_areas": null,
            "object_position": null,
            "object_fit": null,
            "grid_auto_columns": null,
            "margin": null,
            "display": "inline-flex",
            "left": null
          }
        },
        "da06052cfee94c80bebeb4158cfe4fc1": {
          "model_module": "@jupyter-widgets/controls",
          "model_name": "FloatProgressModel",
          "state": {
            "_view_name": "ProgressView",
            "style": "IPY_MODEL_34173757ca3343e8b66e81053fc13239",
            "_dom_classes": [],
            "description": "Validating: 100%",
            "_model_name": "FloatProgressModel",
            "bar_style": "info",
            "max": 4,
            "_view_module": "@jupyter-widgets/controls",
            "_model_module_version": "1.5.0",
            "value": 4,
            "_view_count": null,
            "_view_module_version": "1.5.0",
            "orientation": "horizontal",
            "min": 0,
            "description_tooltip": null,
            "_model_module": "@jupyter-widgets/controls",
            "layout": "IPY_MODEL_3e81d6f997fb42e38f9179d4f5aaa10d"
          }
        },
        "44c7dfc3c58d4fb0ad9aaa1e6ff07420": {
          "model_module": "@jupyter-widgets/controls",
          "model_name": "HTMLModel",
          "state": {
            "_view_name": "HTMLView",
            "style": "IPY_MODEL_81b8848987464a20b99a790a3c3e19c9",
            "_dom_classes": [],
            "description": "",
            "_model_name": "HTMLModel",
            "placeholder": "​",
            "_view_module": "@jupyter-widgets/controls",
            "_model_module_version": "1.5.0",
            "value": " 4/4 [00:00&lt;00:00, 135.54it/s]",
            "_view_count": null,
            "_view_module_version": "1.5.0",
            "description_tooltip": null,
            "_model_module": "@jupyter-widgets/controls",
            "layout": "IPY_MODEL_569374d216064627a36b5908029e164b"
          }
        },
        "34173757ca3343e8b66e81053fc13239": {
          "model_module": "@jupyter-widgets/controls",
          "model_name": "ProgressStyleModel",
          "state": {
            "_view_name": "StyleView",
            "_model_name": "ProgressStyleModel",
            "description_width": "initial",
            "_view_module": "@jupyter-widgets/base",
            "_model_module_version": "1.5.0",
            "_view_count": null,
            "_view_module_version": "1.2.0",
            "bar_color": null,
            "_model_module": "@jupyter-widgets/controls"
          }
        },
        "3e81d6f997fb42e38f9179d4f5aaa10d": {
          "model_module": "@jupyter-widgets/base",
          "model_name": "LayoutModel",
          "state": {
            "_view_name": "LayoutView",
            "grid_template_rows": null,
            "right": null,
            "justify_content": null,
            "_view_module": "@jupyter-widgets/base",
            "overflow": null,
            "_model_module_version": "1.2.0",
            "_view_count": null,
            "flex_flow": null,
            "width": null,
            "min_width": null,
            "border": null,
            "align_items": null,
            "bottom": null,
            "_model_module": "@jupyter-widgets/base",
            "top": null,
            "grid_column": null,
            "overflow_y": null,
            "overflow_x": null,
            "grid_auto_flow": null,
            "grid_area": null,
            "grid_template_columns": null,
            "flex": "2",
            "_model_name": "LayoutModel",
            "justify_items": null,
            "grid_row": null,
            "max_height": null,
            "align_content": null,
            "visibility": null,
            "align_self": null,
            "height": null,
            "min_height": null,
            "padding": null,
            "grid_auto_rows": null,
            "grid_gap": null,
            "max_width": null,
            "order": null,
            "_view_module_version": "1.2.0",
            "grid_template_areas": null,
            "object_position": null,
            "object_fit": null,
            "grid_auto_columns": null,
            "margin": null,
            "display": null,
            "left": null
          }
        },
        "81b8848987464a20b99a790a3c3e19c9": {
          "model_module": "@jupyter-widgets/controls",
          "model_name": "DescriptionStyleModel",
          "state": {
            "_view_name": "StyleView",
            "_model_name": "DescriptionStyleModel",
            "description_width": "",
            "_view_module": "@jupyter-widgets/base",
            "_model_module_version": "1.5.0",
            "_view_count": null,
            "_view_module_version": "1.2.0",
            "_model_module": "@jupyter-widgets/controls"
          }
        },
        "569374d216064627a36b5908029e164b": {
          "model_module": "@jupyter-widgets/base",
          "model_name": "LayoutModel",
          "state": {
            "_view_name": "LayoutView",
            "grid_template_rows": null,
            "right": null,
            "justify_content": null,
            "_view_module": "@jupyter-widgets/base",
            "overflow": null,
            "_model_module_version": "1.2.0",
            "_view_count": null,
            "flex_flow": null,
            "width": null,
            "min_width": null,
            "border": null,
            "align_items": null,
            "bottom": null,
            "_model_module": "@jupyter-widgets/base",
            "top": null,
            "grid_column": null,
            "overflow_y": null,
            "overflow_x": null,
            "grid_auto_flow": null,
            "grid_area": null,
            "grid_template_columns": null,
            "flex": null,
            "_model_name": "LayoutModel",
            "justify_items": null,
            "grid_row": null,
            "max_height": null,
            "align_content": null,
            "visibility": null,
            "align_self": null,
            "height": null,
            "min_height": null,
            "padding": null,
            "grid_auto_rows": null,
            "grid_gap": null,
            "max_width": null,
            "order": null,
            "_view_module_version": "1.2.0",
            "grid_template_areas": null,
            "object_position": null,
            "object_fit": null,
            "grid_auto_columns": null,
            "margin": null,
            "display": null,
            "left": null
          }
        }
      }
    }
  },
  "cells": [
    {
      "cell_type": "markdown",
      "metadata": {
        "id": "view-in-github",
        "colab_type": "text"
      },
      "source": [
        "<a href=\"https://colab.research.google.com/github/jagrutimohanty/CMPE-258-DeepLearning/blob/master/CMPE-258-DeepLearning/Assignment3/CMPE_258_Homework_3.ipynb\" target=\"_parent\"><img src=\"https://colab.research.google.com/assets/colab-badge.svg\" alt=\"Open In Colab\"/></a>"
      ]
    },
    {
      "cell_type": "markdown",
      "metadata": {
        "id": "LcVRmjDXg2JS"
      },
      "source": [
        "#Assignment - 258 Homework 3 \n",
        "Name :Jagruti Mohanty"
      ]
    },
    {
      "cell_type": "markdown",
      "metadata": {
        "id": "ZYD_SM6ep3Zr"
      },
      "source": [
        "# **part a implementation is as follows**\n",
        "Using pure Numpy to build a 3 layer neural network with relu activation"
      ]
    },
    {
      "cell_type": "code",
      "metadata": {
        "colab": {
          "base_uri": "https://localhost:8080/"
        },
        "id": "ZPi9todT4JEH",
        "outputId": "303b17f6-bf1f-4be3-837c-fae3421cc130"
      },
      "source": [
        "pip install torchvision"
      ],
      "execution_count": 1,
      "outputs": [
        {
          "output_type": "stream",
          "text": [
            "Requirement already satisfied: torchvision in /usr/local/lib/python3.7/dist-packages (0.9.0+cu101)\n",
            "Requirement already satisfied: torch==1.8.0 in /usr/local/lib/python3.7/dist-packages (from torchvision) (1.8.0+cu101)\n",
            "Requirement already satisfied: numpy in /usr/local/lib/python3.7/dist-packages (from torchvision) (1.19.5)\n",
            "Requirement already satisfied: pillow>=4.1.1 in /usr/local/lib/python3.7/dist-packages (from torchvision) (7.0.0)\n",
            "Requirement already satisfied: typing-extensions in /usr/local/lib/python3.7/dist-packages (from torch==1.8.0->torchvision) (3.7.4.3)\n"
          ],
          "name": "stdout"
        }
      ]
    },
    {
      "cell_type": "code",
      "metadata": {
        "colab": {
          "base_uri": "https://localhost:8080/"
        },
        "id": "0Ya6zOf2OxAk",
        "outputId": "8e44e590-d8ee-4df4-b95b-789e52a7bc1a"
      },
      "source": [
        "!pip list | grep tensor"
      ],
      "execution_count": 2,
      "outputs": [
        {
          "output_type": "stream",
          "text": [
            "tensorboard                   2.4.1         \n",
            "tensorboard-plugin-wit        1.8.0         \n",
            "tensorflow                    2.4.1         \n",
            "tensorflow-datasets           4.0.1         \n",
            "tensorflow-estimator          2.4.0         \n",
            "tensorflow-gcs-config         2.4.0         \n",
            "tensorflow-hub                0.11.0        \n",
            "tensorflow-metadata           0.28.0        \n",
            "tensorflow-probability        0.12.1        \n"
          ],
          "name": "stdout"
        }
      ]
    },
    {
      "cell_type": "code",
      "metadata": {
        "colab": {
          "base_uri": "https://localhost:8080/"
        },
        "id": "X-vppoF-Ouin",
        "outputId": "90a8a6e5-b2ad-46c8-80f3-589cf7badec3"
      },
      "source": [
        "!python --version"
      ],
      "execution_count": 3,
      "outputs": [
        {
          "output_type": "stream",
          "text": [
            "Python 3.7.10\n"
          ],
          "name": "stdout"
        }
      ]
    },
    {
      "cell_type": "code",
      "metadata": {
        "colab": {
          "base_uri": "https://localhost:8080/"
        },
        "id": "t_2lIYJuOqCe",
        "outputId": "1aa23e24-a050-4c60-c33d-920547adb994"
      },
      "source": [
        "!pip list | grep torch"
      ],
      "execution_count": 4,
      "outputs": [
        {
          "output_type": "stream",
          "text": [
            "torch                         1.8.0+cu101   \n",
            "torchsummary                  1.5.1         \n",
            "torchtext                     0.9.0         \n",
            "torchvision                   0.9.0+cu101   \n"
          ],
          "name": "stdout"
        }
      ]
    },
    {
      "cell_type": "code",
      "metadata": {
        "colab": {
          "base_uri": "https://localhost:8080/"
        },
        "id": "gOHiA7ZRbK4d",
        "outputId": "dc845e81-89e4-4cb4-d5b6-1eb9866b5838"
      },
      "source": [
        "pip install git+git://github.com/Theano/Theano.git"
      ],
      "execution_count": 5,
      "outputs": [
        {
          "output_type": "stream",
          "text": [
            "Collecting git+git://github.com/Theano/Theano.git\n",
            "  Cloning git://github.com/Theano/Theano.git to /tmp/pip-req-build-z55pcgoq\n",
            "  Running command git clone -q git://github.com/Theano/Theano.git /tmp/pip-req-build-z55pcgoq\n",
            "Requirement already satisfied: numpy>=1.9.1 in /usr/local/lib/python3.7/dist-packages (from Theano==1.0.5+2.g8e9611715) (1.19.5)\n",
            "Requirement already satisfied: scipy>=0.14 in /usr/local/lib/python3.7/dist-packages (from Theano==1.0.5+2.g8e9611715) (1.4.1)\n",
            "Requirement already satisfied: six>=1.9.0 in /usr/local/lib/python3.7/dist-packages (from Theano==1.0.5+2.g8e9611715) (1.15.0)\n",
            "Building wheels for collected packages: Theano\n",
            "  Building wheel for Theano (setup.py) ... \u001b[?25l\u001b[?25hdone\n",
            "  Created wheel for Theano: filename=Theano-1.0.5+2.g8e9611715-cp37-none-any.whl size=2668286 sha256=a6d6550e23ee1d3b089a8b390e40389911cb6c073678411461f873421ad552a1\n",
            "  Stored in directory: /tmp/pip-ephem-wheel-cache-qw8s9ilv/wheels/ae/32/7c/62beb8371953eb20c271b3bac7d0e56e1a2020d46994346b52\n",
            "Successfully built Theano\n",
            "Installing collected packages: Theano\n",
            "  Found existing installation: Theano 1.0.5\n",
            "    Uninstalling Theano-1.0.5:\n",
            "      Successfully uninstalled Theano-1.0.5\n",
            "Successfully installed Theano-1.0.5+2.g8e9611715\n"
          ],
          "name": "stdout"
        }
      ]
    },
    {
      "cell_type": "code",
      "metadata": {
        "colab": {
          "base_uri": "https://localhost:8080/"
        },
        "id": "8tOQldfLT0w-",
        "outputId": "403cb5cb-2cac-495a-fb9d-e7875df0b2ac"
      },
      "source": [
        "import numpy as np\n",
        "from typing import Callable\n",
        "from matplotlib.pyplot import *\n",
        "from mpl_toolkits import mplot3d\n",
        "\n",
        "#this is the input data choosen with random uniform numbers and weights and bias initialized \n",
        "n = 200\n",
        "d = 3\n",
        "x = np.random.uniform(-1, 1, (n, d))\n",
        "weights_true_1 = np.array([[5, 1, 2],]).T\n",
        "bias_true_1 = np.array([1])\n",
        "y_tr1 = (x ** 3) @ weights_true_1 + x @ weights_true_1 + bias_true_1\n",
        "\n",
        "weights_true_2 = np.array([[4, 1, 3],]).T\n",
        "bias_true_2 = np.array([2])\n",
        "y_tr2 = (x ** 3) @ weights_true_2 + x @ weights_true_2 + bias_true_2\n",
        "\n",
        "weights_true = np.array(weights_true_1+weights_true_2)\n",
        "bias_true = np.array(bias_true_1+bias_true_2)\n",
        "y_true = np.hstack((y_tr1, y_tr2))\n",
        "\n",
        "print(f'x: {x.shape}, weights: {weights_true.shape}, bias: {bias_true.shape}, y: {y_true.shape}')\n"
      ],
      "execution_count": 7,
      "outputs": [
        {
          "output_type": "stream",
          "text": [
            "x: (200, 3), weights: (3, 1), bias: (1,), y: (200, 2)\n"
          ],
          "name": "stdout"
        }
      ]
    },
    {
      "cell_type": "code",
      "metadata": {
        "colab": {
          "base_uri": "https://localhost:8080/",
          "height": 372
        },
        "id": "kIKT9rF9jnJ9",
        "outputId": "d3c9fba8-dc54-4750-b129-b33804ecb55c"
      },
      "source": [
        "#used the matplotlin pyplot to plot the input and output data \n",
        "\n",
        "import matplotlib.pyplot as plt\n",
        "from mpl_toolkits.mplot3d import Axes3D\n",
        "\n",
        "def plot_3d(x, y, y_pred=None):\n",
        "  import matplotlib.pyplot as plt\n",
        "  from mpl_toolkits.mplot3d import Axes3D\n",
        "  fig = plt.figure()\n",
        "  ax = fig.add_subplot(111, projection='3d')\n",
        "  ax.scatter(x[:, 0], x[:, 1], x[:, 2], y, label='underlying function')\n",
        "  if y_pred is not None:\n",
        "    ax.scatter(x[:, 0], x[:, 1], x[:, 2], y_pred, label='our function')\n",
        "  plt.legend()\n",
        "\n",
        "plot_3d(x, y_true)"
      ],
      "execution_count": 8,
      "outputs": [
        {
          "output_type": "stream",
          "text": [
            "/usr/local/lib/python3.7/dist-packages/mpl_toolkits/mplot3d/art3d.py:794: FutureWarning: elementwise comparison failed; returning scalar instead, but in the future will perform elementwise comparison\n",
            "  if zdir == 'x':\n",
            "/usr/local/lib/python3.7/dist-packages/mpl_toolkits/mplot3d/art3d.py:796: FutureWarning: elementwise comparison failed; returning scalar instead, but in the future will perform elementwise comparison\n",
            "  elif zdir == 'y':\n",
            "/usr/local/lib/python3.7/dist-packages/mpl_toolkits/mplot3d/art3d.py:798: FutureWarning: elementwise comparison failed; returning scalar instead, but in the future will perform elementwise comparison\n",
            "  elif zdir[0] == '-':\n"
          ],
          "name": "stderr"
        },
        {
          "output_type": "display_data",
          "data": {
            "image/png": "[encoded data removed]",
            "text/plain": [
              "<Figure size 432x288 with 1 Axes>"
            ]
          },
          "metadata": {
            "tags": [],
            "needs_background": "light"
          }
        }
      ]
    },
    {
      "cell_type": "code",
      "metadata": {
        "id": "8nR5wZMKPO-l"
      },
      "source": [
        "#from scratch defined the loss function , backward propagation and linear classes \n",
        "\n",
        "class MSE:\n",
        "  def __call__(self, y_pred, y_true):\n",
        "    self.y_pred = y_pred\n",
        "    self.y_true = y_true\n",
        "    return ((y_pred - y_true) ** 2).mean()\n",
        "\n",
        "  def backward(self):\n",
        "    n = self.y_true.shape[0]\n",
        "    self.gradient = 2. * (self.y_pred - self.y_true) / n\n",
        "    # print('MSE backward', self.y_pred.shape, self.y_true.shape, self.gradient.shape)\n",
        "    return self.gradient\n",
        "\n",
        "\n",
        "class Linear:\n",
        "  def __init__(self, input_dim: int, num_hidden: int = 1):\n",
        "    self.weights = np.random.randn(input_dim, num_hidden) * np.sqrt(2. / input_dim)\n",
        "    self.bias = np.zeros(num_hidden)\n",
        "  \n",
        "  def __call__(self, x):\n",
        "    self.x = x\n",
        "    output = x @ self.weights + self.bias\n",
        "    return output\n",
        "\n",
        "  def backward(self, gradient):\n",
        "    self.weights_gradient = self.x.T @ gradient\n",
        "    self.bias_gradient = gradient.sum(axis=0)\n",
        "    self.x_gradient = gradient @ self.weights.T\n",
        "    return self.x_gradient\n",
        "\n",
        "  def update(self, lr):\n",
        "    self.weights = self.weights - lr * self.weights_gradient\n",
        "    self.bias = self.bias - lr * self.bias_gradient"
      ],
      "execution_count": 9,
      "outputs": []
    },
    {
      "cell_type": "code",
      "metadata": {
        "colab": {
          "base_uri": "https://localhost:8080/"
        },
        "id": "X9zCo5kqd_HT",
        "outputId": "0948b378-de0f-4c5d-d047-a0927571e476"
      },
      "source": [
        "#tested for a smaller sample data\n",
        "loss = MSE()\n",
        "linear = Linear(d)\n",
        "y_pred = linear(x)\n",
        "print(loss(y_pred, y_tr1))\n",
        "loss_gradient = loss.backward()\n",
        "linear.backward(loss_gradient)\n",
        "linear.update(0.1)\n",
        "y_pred = linear(x)\n",
        "print(loss(y_pred, y_tr1))"
      ],
      "execution_count": 10,
      "outputs": [
        {
          "output_type": "stream",
          "text": [
            "26.840419570139694\n",
            "23.032335076736718\n"
          ],
          "name": "stdout"
        }
      ]
    },
    {
      "cell_type": "code",
      "metadata": {
        "id": "_uQ67Rdhj83l"
      },
      "source": [
        "  # This is to plot the output values\n",
        "  \n",
        "  def plot_3d(x, y, y_pred=None):\n",
        "    fig = plt.figure()\n",
        "    ax = fig.add_subplot(111, projection='3d')\n",
        "    ax.scatter(x[:, 0], x[:, 1], x[:, 2],y, label='underlying function')\n",
        "    if y_pred is not None:\n",
        "      ax.scatter(x[:, 0], x[:, 1],x[:, 2], y_pred, label='our function')\n",
        "    plt.legend()\n"
      ],
      "execution_count": 11,
      "outputs": []
    },
    {
      "cell_type": "code",
      "metadata": {
        "colab": {
          "base_uri": "https://localhost:8080/",
          "height": 372
        },
        "id": "ioCH-eL12BGv",
        "outputId": "579c8d4a-60be-4f11-8355-915f8dc1202a"
      },
      "source": [
        "plot_3d(x, y_true)"
      ],
      "execution_count": 12,
      "outputs": [
        {
          "output_type": "stream",
          "text": [
            "/usr/local/lib/python3.7/dist-packages/mpl_toolkits/mplot3d/art3d.py:794: FutureWarning: elementwise comparison failed; returning scalar instead, but in the future will perform elementwise comparison\n",
            "  if zdir == 'x':\n",
            "/usr/local/lib/python3.7/dist-packages/mpl_toolkits/mplot3d/art3d.py:796: FutureWarning: elementwise comparison failed; returning scalar instead, but in the future will perform elementwise comparison\n",
            "  elif zdir == 'y':\n",
            "/usr/local/lib/python3.7/dist-packages/mpl_toolkits/mplot3d/art3d.py:798: FutureWarning: elementwise comparison failed; returning scalar instead, but in the future will perform elementwise comparison\n",
            "  elif zdir[0] == '-':\n"
          ],
          "name": "stderr"
        },
        {
          "output_type": "display_data",
          "data": {
            "image/png": "[encoded data removed]",
            "text/plain": [
              "<Figure size 432x288 with 1 Axes>"
            ]
          },
          "metadata": {
            "tags": [],
            "needs_background": "light"
          }
        }
      ]
    },
    {
      "cell_type": "markdown",
      "metadata": {
        "id": "arW0fe-ZZFdu"
      },
      "source": [
        "### Adding non-linearity: ReLU and defining the numpy model from scratch"
      ]
    },
    {
      "cell_type": "code",
      "metadata": {
        "id": "SkutSl4RiMkA"
      },
      "source": [
        "#this is to define the custom nonlinearity activation function\n",
        "class Relu:\n",
        "    def __call__(self, input_):\n",
        "        self.input_ = input_\n",
        "        self.output = np.clip(self.input_, 0, None)\n",
        "        return self.output\n",
        "    def backward(self , output_gradient):\n",
        "        self.input_gradient = (self.input_ > 0 ) * output_gradient\n",
        "        return self.input_gradient"
      ],
      "execution_count": 13,
      "outputs": []
    },
    {
      "cell_type": "code",
      "metadata": {
        "id": "8AAQc45aZR2y"
      },
      "source": [
        "class Model:\n",
        "  def __init__(self, input_dim, num_hiddenlr1, num_hiddenlr2):\n",
        "    self.linear1 = Linear(input_dim, num_hiddenlr1)\n",
        "    self.relu1 = Relu()\n",
        "    self.linear2 = Linear(num_hiddenlr1, num_hiddenlr2)\n",
        "    self.relu2 = Relu()\n",
        "    self.linear3 = Linear(num_hiddenlr2 , 2)\n",
        "  \n",
        "  def __call__(self, x):\n",
        "    l1 = self.linear1(x)\n",
        "    r = self.relu1(l1)\n",
        "\n",
        "    l2 = self.linear2(r)\n",
        "    r = self.relu2(l2)\n",
        "\n",
        "    l3 = self.linear3(r)\n",
        "    return l3\n",
        "  \n",
        "  def backward(self, output_gradient):\n",
        "    linear3_gradient = self.linear3.backward(output_gradient)\n",
        "    relu2_gradient = self.relu2.backward(linear3_gradient)\n",
        "\n",
        "    linear2_gradient = self.linear2.backward(relu2_gradient)\n",
        "    relu1_gradient = self.relu1.backward(linear2_gradient)\n",
        "\n",
        "    linear1_gradient = self.linear1.backward(relu1_gradient)\n",
        "    return linear1_gradient\n",
        "\n",
        "  def update(self, lr):\n",
        "\n",
        "    self.linear3.update(lr)\n",
        "    self.linear2.update(lr)\n",
        "    self.linear1.update(lr)"
      ],
      "execution_count": 17,
      "outputs": []
    },
    {
      "cell_type": "code",
      "metadata": {
        "colab": {
          "base_uri": "https://localhost:8080/"
        },
        "id": "LxYgxVdBaYsO",
        "outputId": "dbfcaa15-014b-43db-fd7f-9cfb9550b2b4"
      },
      "source": [
        "# Test just one forward and backward step\n",
        "loss = MSE()\n",
        "model = Model(d, 10, 50)\n",
        "y_pred = model(x)\n",
        "loss_value = loss(y_pred, y_true)\n",
        "print(loss_value)\n",
        "loss_gradient = loss.backward()\n",
        "model.backward(loss_gradient)\n",
        "model.update(0.1)\n",
        "y_pred = model(x)\n",
        "loss_value = loss(y_pred, y_true)\n",
        "print(loss_value)"
      ],
      "execution_count": 26,
      "outputs": [
        {
          "output_type": "stream",
          "text": [
            "28.10254841938315\n",
            "16.035133966059973\n"
          ],
          "name": "stdout"
        }
      ]
    },
    {
      "cell_type": "code",
      "metadata": {
        "colab": {
          "base_uri": "https://localhost:8080/",
          "height": 1000
        },
        "id": "efvy4S4JpMcN",
        "outputId": "13a07c63-feb3-4c71-8be8-2880f859a5ab"
      },
      "source": [
        "\n",
        "#this function is defined to fit the model and run it for several epochs \n",
        "def fit(x: np.ndarray, y: np.ndarray, model: Callable, loss: Callable, lr: float, num_epochs: int):\n",
        "  for epoch in range(num_epochs):\n",
        "    y_pred = model(x)\n",
        "    loss_value = loss(y_pred, y)\n",
        "    print(f'Epoch {epoch}, loss {loss_value}')\n",
        "    gradient_from_loss = loss.backward()\n",
        "    model.backward(gradient_from_loss)\n",
        "    model.update(lr)\n",
        "\n",
        "#this is to plot the true value vs the predicted values in higher dimension space\n",
        "fit(x, y_true, model=model, loss=loss, lr=0.2, num_epochs=200)\n",
        "plot_3d(x, y_true,y_pred)"
      ],
      "execution_count": 27,
      "outputs": [
        {
          "output_type": "stream",
          "text": [
            "Epoch 0, loss 16.035133966059973\n",
            "Epoch 1, loss 61.95392175710675\n",
            "Epoch 2, loss 4359.788035740777\n",
            "Epoch 3, loss 11279.625846150124\n",
            "Epoch 4, loss 8.510176166427e+17\n",
            "Epoch 5, loss 9.855824008321592e+38\n",
            "Epoch 6, loss 1.5769318412395592e+38\n",
            "Epoch 7, loss 5.676954628462394e+37\n",
            "Epoch 8, loss 2.0437036662464678e+37\n",
            "Epoch 9, loss 7.357333198487289e+36\n",
            "Epoch 10, loss 2.648639951455417e+36\n",
            "Epoch 11, loss 9.535103825239514e+35\n",
            "Epoch 12, loss 3.432637377086212e+35\n",
            "Epoch 13, loss 1.2357494557510364e+35\n",
            "Epoch 14, loss 4.448698040703735e+34\n",
            "Epoch 15, loss 1.6015312946533464e+34\n",
            "Epoch 16, loss 5.765512660752014e+33\n",
            "Epoch 17, loss 2.0755845578707187e+33\n",
            "Epoch 18, loss 7.472104408334582e+32\n",
            "Epoch 19, loss 2.6899575870004406e+32\n",
            "Epoch 20, loss 9.68384731320163e+31\n",
            "Epoch 21, loss 3.486185032752601e+31\n",
            "Epoch 22, loss 1.255026611790936e+31\n",
            "Epoch 23, loss 4.5180958024473826e+30\n",
            "Epoch 24, loss 1.6265144888810577e+30\n",
            "Epoch 25, loss 5.855452159971812e+29\n",
            "Epoch 26, loss 2.1079627775898523e+29\n",
            "Epoch 27, loss 7.58866599932346e+28\n",
            "Epoch 28, loss 2.7319197597564453e+28\n",
            "Epoch 29, loss 9.834911135123207e+27\n",
            "Epoch 30, loss 3.5405680086443544e+27\n",
            "Epoch 31, loss 1.2746044831119675e+27\n",
            "Epoch 32, loss 4.588576139203083e+26\n",
            "Epoch 33, loss 1.6518874101131083e+26\n",
            "Epoch 34, loss 5.946794676407192e+25\n",
            "Epoch 35, loss 2.14084608350659e+25\n",
            "Epoch 36, loss 7.707045900623724e+24\n",
            "Epoch 37, loss 2.77453652422454e+24\n",
            "Epoch 38, loss 9.988331487208349e+23\n",
            "Epoch 39, loss 3.5957993353950056e+23\n",
            "Epoch 40, loss 1.2944877607422017e+23\n",
            "Epoch 41, loss 4.660155938671927e+22\n",
            "Epoch 42, loss 1.6776561379218932e+22\n",
            "Epoch 43, loss 6.039562096518814e+21\n",
            "Epoch 44, loss 2.1742423547467727e+21\n",
            "Epoch 45, loss 7.827272477088384e+20\n",
            "Epoch 46, loss 2.8178180917518182e+20\n",
            "Epoch 47, loss 1.0144145130306552e+20\n",
            "Epoch 48, loss 3.65189224691036e+19\n",
            "Epoch 49, loss 1.3146812088877308e+19\n",
            "Epoch 50, loss 4.732852351995829e+18\n",
            "Epoch 51, loss 1.7038268467184975e+18\n",
            "Epoch 52, loss 6.133776648186591e+17\n",
            "Epoch 53, loss 2.2081595933471728e+17\n",
            "Epoch 54, loss 7.949374536049822e+16\n",
            "Epoch 55, loss 2.8617748329779384e+16\n",
            "Epoch 56, loss 1.0302389398720592e+16\n",
            "Epoch 57, loss 3708860183539430.0\n",
            "Epoch 58, loss 1335189666074211.2\n",
            "Epoch 59, loss 480668279786732.6\n",
            "Epoch 60, loss 173040580723240.38\n",
            "Epoch 61, loss 62294609060383.12\n",
            "Epoch 62, loss 22426059261754.5\n",
            "Epoch 63, loss 8073381334248.215\n",
            "Epoch 64, loss 2906417280345.9487\n",
            "Epoch 65, loss 1046310220941.134\n",
            "Epoch 66, loss 376671679555.4\n",
            "Epoch 67, loss 135601804656.5357\n",
            "Epoch 68, loss 48816649692.94459\n",
            "Epoch 69, loss 17573993906.051754\n",
            "Epoch 70, loss 6326637822.770332\n",
            "Epoch 71, loss 2277589632.789019\n",
            "Epoch 72, loss 819932284.3957467\n",
            "Epoch 73, loss 295175638.97416884\n",
            "Epoch 74, loss 106263246.6224009\n",
            "Epoch 75, loss 38254785.3757645\n",
            "Epoch 76, loss 13771739.326975372\n",
            "Epoch 77, loss 4957842.749411281\n",
            "Epoch 78, loss 1784839.981488211\n",
            "Epoch 79, loss 642558.9850359075\n",
            "Epoch 80, loss 231337.82631307765\n",
            "Epoch 81, loss 83298.20917285899\n",
            "Epoch 82, loss 30003.947002380282\n",
            "Epoch 83, loss 10818.012621007936\n",
            "Epoch 84, loss 3911.0762437138997\n",
            "Epoch 85, loss 1424.5791478880471\n",
            "Epoch 86, loss 529.4401933907404\n",
            "Epoch 87, loss 207.19016977170992\n",
            "Epoch 88, loss 91.1801612688589\n",
            "Epoch 89, loss 49.416558207832566\n",
            "Epoch 90, loss 34.3816611058631\n",
            "Epoch 91, loss 28.969098149154092\n",
            "Epoch 92, loss 27.020575484738846\n",
            "Epoch 93, loss 26.319107325549357\n",
            "Epoch 94, loss 26.06657878824114\n",
            "Epoch 95, loss 25.975668514810184\n",
            "Epoch 96, loss 25.94294081637504\n",
            "Epoch 97, loss 25.93115884493839\n",
            "Epoch 98, loss 25.926917335221198\n",
            "Epoch 99, loss 25.925390391723003\n",
            "Epoch 100, loss 25.924840692063658\n",
            "Epoch 101, loss 25.924642800186287\n",
            "Epoch 102, loss 25.92457155911044\n",
            "Epoch 103, loss 25.92454591232313\n",
            "Epoch 104, loss 25.924536679479708\n",
            "Epoch 105, loss 25.924533355656067\n",
            "Epoch 106, loss 25.924532159079554\n",
            "Epoch 107, loss 25.92453172831201\n",
            "Epoch 108, loss 25.9245315732357\n",
            "Epoch 109, loss 25.92453151740823\n",
            "Epoch 110, loss 25.924531497310337\n",
            "Epoch 111, loss 25.924531490075097\n",
            "Epoch 112, loss 25.924531487470414\n",
            "Epoch 113, loss 25.924531486532725\n",
            "Epoch 114, loss 25.924531486195157\n",
            "Epoch 115, loss 25.924531486073633\n",
            "Epoch 116, loss 25.92453148602988\n",
            "Epoch 117, loss 25.92453148601413\n",
            "Epoch 118, loss 25.924531486008462\n",
            "Epoch 119, loss 25.924531486006416\n",
            "Epoch 120, loss 25.924531486005684\n",
            "Epoch 121, loss 25.92453148600542\n",
            "Epoch 122, loss 25.924531486005325\n",
            "Epoch 123, loss 25.92453148600529\n",
            "Epoch 124, loss 25.92453148600528\n",
            "Epoch 125, loss 25.924531486005275\n",
            "Epoch 126, loss 25.92453148600527\n",
            "Epoch 127, loss 25.92453148600527\n",
            "Epoch 128, loss 25.92453148600527\n",
            "Epoch 129, loss 25.92453148600527\n",
            "Epoch 130, loss 25.92453148600527\n",
            "Epoch 131, loss 25.92453148600527\n",
            "Epoch 132, loss 25.92453148600527\n",
            "Epoch 133, loss 25.92453148600527\n",
            "Epoch 134, loss 25.92453148600527\n",
            "Epoch 135, loss 25.92453148600527\n",
            "Epoch 136, loss 25.92453148600527\n",
            "Epoch 137, loss 25.92453148600527\n",
            "Epoch 138, loss 25.92453148600527\n",
            "Epoch 139, loss 25.924531486005275\n",
            "Epoch 140, loss 25.92453148600527\n",
            "Epoch 141, loss 25.92453148600527\n",
            "Epoch 142, loss 25.92453148600527\n",
            "Epoch 143, loss 25.92453148600527\n",
            "Epoch 144, loss 25.924531486005275\n",
            "Epoch 145, loss 25.92453148600527\n",
            "Epoch 146, loss 25.92453148600527\n",
            "Epoch 147, loss 25.92453148600527\n",
            "Epoch 148, loss 25.92453148600527\n",
            "Epoch 149, loss 25.92453148600527\n",
            "Epoch 150, loss 25.92453148600527\n",
            "Epoch 151, loss 25.92453148600527\n",
            "Epoch 152, loss 25.92453148600527\n",
            "Epoch 153, loss 25.92453148600527\n",
            "Epoch 154, loss 25.92453148600527\n",
            "Epoch 155, loss 25.92453148600527\n",
            "Epoch 156, loss 25.92453148600527\n",
            "Epoch 157, loss 25.92453148600527\n",
            "Epoch 158, loss 25.92453148600527\n",
            "Epoch 159, loss 25.92453148600527\n",
            "Epoch 160, loss 25.92453148600527\n",
            "Epoch 161, loss 25.92453148600527\n",
            "Epoch 162, loss 25.92453148600527\n",
            "Epoch 163, loss 25.92453148600527\n",
            "Epoch 164, loss 25.92453148600527\n",
            "Epoch 165, loss 25.92453148600527\n",
            "Epoch 166, loss 25.92453148600527\n",
            "Epoch 167, loss 25.92453148600527\n",
            "Epoch 168, loss 25.92453148600527\n",
            "Epoch 169, loss 25.92453148600527\n",
            "Epoch 170, loss 25.92453148600527\n",
            "Epoch 171, loss 25.92453148600527\n",
            "Epoch 172, loss 25.92453148600527\n",
            "Epoch 173, loss 25.92453148600527\n",
            "Epoch 174, loss 25.92453148600527\n",
            "Epoch 175, loss 25.92453148600527\n",
            "Epoch 176, loss 25.92453148600527\n",
            "Epoch 177, loss 25.92453148600527\n",
            "Epoch 178, loss 25.92453148600527\n",
            "Epoch 179, loss 25.92453148600527\n",
            "Epoch 180, loss 25.92453148600527\n",
            "Epoch 181, loss 25.92453148600527\n",
            "Epoch 182, loss 25.92453148600527\n",
            "Epoch 183, loss 25.92453148600527\n",
            "Epoch 184, loss 25.92453148600527\n",
            "Epoch 185, loss 25.92453148600527\n",
            "Epoch 186, loss 25.92453148600527\n",
            "Epoch 187, loss 25.92453148600527\n",
            "Epoch 188, loss 25.92453148600527\n",
            "Epoch 189, loss 25.92453148600527\n",
            "Epoch 190, loss 25.92453148600527\n",
            "Epoch 191, loss 25.92453148600527\n",
            "Epoch 192, loss 25.92453148600527\n",
            "Epoch 193, loss 25.92453148600527\n",
            "Epoch 194, loss 25.92453148600527\n",
            "Epoch 195, loss 25.92453148600527\n",
            "Epoch 196, loss 25.92453148600527\n",
            "Epoch 197, loss 25.92453148600527\n",
            "Epoch 198, loss 25.92453148600527\n",
            "Epoch 199, loss 25.92453148600527\n"
          ],
          "name": "stdout"
        },
        {
          "output_type": "stream",
          "text": [
            "/usr/local/lib/python3.7/dist-packages/mpl_toolkits/mplot3d/art3d.py:794: FutureWarning: elementwise comparison failed; returning scalar instead, but in the future will perform elementwise comparison\n",
            "  if zdir == 'x':\n",
            "/usr/local/lib/python3.7/dist-packages/mpl_toolkits/mplot3d/art3d.py:796: FutureWarning: elementwise comparison failed; returning scalar instead, but in the future will perform elementwise comparison\n",
            "  elif zdir == 'y':\n",
            "/usr/local/lib/python3.7/dist-packages/mpl_toolkits/mplot3d/art3d.py:798: FutureWarning: elementwise comparison failed; returning scalar instead, but in the future will perform elementwise comparison\n",
            "  elif zdir[0] == '-':\n"
          ],
          "name": "stderr"
        },
        {
          "output_type": "display_data",
          "data": {
            "image/png": "[encoded data removed]",
            "text/plain": [
              "<Figure size 432x288 with 1 Axes>"
            ]
          },
          "metadata": {
            "tags": [],
            "needs_background": "light"
          }
        }
      ]
    },
    {
      "cell_type": "markdown",
      "metadata": {
        "id": "VxbOMv0vrOJm"
      },
      "source": [
        "# **part b implementation is as follows**\n"
      ]
    },
    {
      "cell_type": "markdown",
      "metadata": {
        "id": "KMwc88fxhNjV"
      },
      "source": [
        "### 1) Implemented pytorch with relu nonlinearity for the 3 layer neural network "
      ]
    },
    {
      "cell_type": "code",
      "metadata": {
        "id": "IBO1aP_k7ziI"
      },
      "source": [
        "import torch\n",
        "import torch.nn as nn\n",
        "import torch.nn.functional as F\n"
      ],
      "execution_count": 28,
      "outputs": []
    },
    {
      "cell_type": "code",
      "metadata": {
        "id": "b6wpuOotvl8c"
      },
      "source": [
        "class Neural_Network(nn.Module):\n",
        "    def __init__(self, ):\n",
        "        super(Neural_Network, self).__init__()\n",
        "        # parameters\n",
        "        # TODO: parameters can be parameterized instead of declaring them here\n",
        "        self.inputSize = 3\n",
        "        self.outputSize = 2\n",
        "        self.hiddenSize = 5\n",
        "        \n",
        "        # weights\n",
        "        self.W1 = torch.randn(self.inputSize, self.hiddenSize) # 2 X 3 tensor\n",
        "        self.W2 = torch.randn(self.hiddenSize, self.outputSize) # 3 X 1 tensor\n",
        "        \n",
        "    def forward(self, X):\n",
        "        self.z = torch.matmul(X, self.W1) # 3 X 3 \".dot\" does not broadcast in PyTorch\n",
        "        self.z2 = self.relu(self.z) # activation function\n",
        "        self.z3 = torch.matmul(self.z2, self.W2)\n",
        "        o = self.sigmoid(self.z3) # final activation function\n",
        "        return o\n",
        "        \n",
        "    def sigmoid(self, s):\n",
        "        return 1 / (1 + torch.exp(-s))\n",
        "\n",
        "    def relu(self,s):\n",
        "         return np.maximum(0,s)\n",
        "\n",
        "    def sigmoidPrime(self, s):\n",
        "        # derivative of sigmoid\n",
        "        return s * (1 - s)\n",
        "\n",
        "    def reluPrime(self, s):\n",
        "        # derivative of sigmoid\n",
        "   \n",
        "        s[s<=0] = 0\n",
        "        s[s>0] = 1\n",
        "        return s\n",
        "        \n",
        "    def eta(self, x):\n",
        "      ETA = 0.0000000001\n",
        "      return np.maximum(x, ETA)\n",
        "\n",
        "    \n",
        "    def backward(self, X, y, o ,lr =0.5):\n",
        "        self.o_error = y - o # error in output\n",
        "        self.o_delta = self.o_error * self.reluPrime(o) # derivative of sig to error\n",
        "        self.z2_error = torch.matmul(self.o_delta, torch.t(self.W2))\n",
        "        self.z2_delta = self.z2_error * self.reluPrime(self.z2)\n",
        "\n",
        "        self.W1 += lr * torch.matmul(torch.t(X), self.z2_delta)\n",
        "        self.W2 += lr * torch.matmul(torch.t(self.z2), self.o_delta)\n",
        "        \n",
        "    def train(self, X, y ,lr=0.5):\n",
        "        # forward + backward pass for training\n",
        "        o = self.forward(X)\n",
        "        self.backward(X, y, o ,lr =0.5)\n",
        " #   def update(self,lr):\n",
        " #       self.W1 = self.W1 - lr * self.weights_gradient \n",
        " #       self.bias = self.bias - lr * self.bias_gradient\n",
        "        \n",
        "    def saveWeights(self, model):\n",
        "       \n",
        "        torch.save(model, \"NN\")\n",
        "      \n",
        "        \n",
        "    def predict(self):\n",
        "        print (\"Predicted data based on trained weights: \")\n",
        "        print (\"Input (scaled): \\n\" + str(xPredicted))\n",
        "        print (\"Output: \\n\" + str(self.forward(xPredicted)))"
      ],
      "execution_count": 33,
      "outputs": []
    },
    {
      "cell_type": "code",
      "metadata": {
        "colab": {
          "base_uri": "https://localhost:8080/"
        },
        "id": "9Q9MRk_j3uJn",
        "outputId": "45e5bf64-96f4-41f2-c721-6dce0b3cb1aa"
      },
      "source": [
        "X_tf = torch.tensor((x), dtype=torch.float) # 3 X 2 tensor\n",
        "y_tf = torch.tensor((y_true), dtype=torch.float) # 3 X 1 tensor\n",
        "xPredicted = torch.tensor(([1,1,1]), dtype=torch.float) # 1 X 2 tensor\n",
        "print(X_tf.size())\n",
        "print(y_tf.size())\n",
        "print(xPredicted)"
      ],
      "execution_count": 34,
      "outputs": [
        {
          "output_type": "stream",
          "text": [
            "torch.Size([200, 3])\n",
            "torch.Size([200, 2])\n",
            "tensor([1., 1., 1.])\n"
          ],
          "name": "stdout"
        }
      ]
    },
    {
      "cell_type": "code",
      "metadata": {
        "colab": {
          "base_uri": "https://localhost:8080/"
        },
        "id": "ps6pgYURJgWR",
        "outputId": "026c3103-5b07-410e-af9b-3fafe1d10303"
      },
      "source": [
        "\n",
        "NN = Neural_Network()\n",
        "ll=[]\n",
        "for i in range(100):  # trains the NN 100 times\n",
        "    los = str(torch.mean((y_tf - NN(X_tf))**2).detach().item())\n",
        "    print (\"#\" + str(i) + \" Loss: \" +los )  # mean sum squared loss\n",
        "    ll.append(los)\n",
        "    NN.train(X_tf, y_tf ,lr=0.7)\n",
        "NN.saveWeights(NN)\n",
        "NN.predict()"
      ],
      "execution_count": 36,
      "outputs": [
        {
          "output_type": "stream",
          "text": [
            "#0 Loss: 26.850257873535156\n",
            "#1 Loss: 26.361867904663086\n",
            "#2 Loss: 24.633081436157227\n",
            "#3 Loss: 25.87264633178711\n",
            "#4 Loss: 24.558961868286133\n",
            "#5 Loss: 24.606809616088867\n",
            "#6 Loss: 24.608457565307617\n",
            "#7 Loss: 24.612585067749023\n",
            "#8 Loss: 24.61646270751953\n",
            "#9 Loss: 24.623550415039062\n",
            "#10 Loss: 24.628192901611328\n",
            "#11 Loss: 24.628192901611328\n",
            "#12 Loss: 24.628192901611328\n",
            "#13 Loss: 24.628192901611328\n",
            "#14 Loss: 24.628192901611328\n",
            "#15 Loss: 24.628192901611328\n",
            "#16 Loss: 24.628192901611328\n",
            "#17 Loss: 24.628192901611328\n",
            "#18 Loss: 24.628192901611328\n",
            "#19 Loss: 24.628192901611328\n",
            "#20 Loss: 24.628192901611328\n",
            "#21 Loss: 24.634292602539062\n",
            "#22 Loss: 24.634292602539062\n",
            "#23 Loss: 24.634292602539062\n",
            "#24 Loss: 24.634292602539062\n",
            "#25 Loss: 24.634851455688477\n",
            "#26 Loss: 24.634292602539062\n",
            "#27 Loss: 24.634292602539062\n",
            "#28 Loss: 24.634292602539062\n",
            "#29 Loss: 24.634292602539062\n",
            "#30 Loss: 24.634292602539062\n",
            "#31 Loss: 24.634851455688477\n",
            "#32 Loss: 24.634292602539062\n",
            "#33 Loss: 24.634292602539062\n",
            "#34 Loss: 24.634292602539062\n",
            "#35 Loss: 24.634292602539062\n",
            "#36 Loss: 24.634851455688477\n",
            "#37 Loss: 24.634292602539062\n",
            "#38 Loss: 24.634292602539062\n",
            "#39 Loss: 24.634292602539062\n",
            "#40 Loss: 24.634851455688477\n",
            "#41 Loss: 24.634292602539062\n",
            "#42 Loss: 24.634292602539062\n",
            "#43 Loss: 24.634292602539062\n",
            "#44 Loss: 24.634851455688477\n",
            "#45 Loss: 24.634292602539062\n",
            "#46 Loss: 24.634292602539062\n",
            "#47 Loss: 24.634292602539062\n",
            "#48 Loss: 24.634851455688477\n",
            "#49 Loss: 24.634292602539062\n",
            "#50 Loss: 24.634292602539062\n",
            "#51 Loss: 24.634292602539062\n",
            "#52 Loss: 24.634851455688477\n",
            "#53 Loss: 24.634292602539062\n",
            "#54 Loss: 24.634292602539062\n",
            "#55 Loss: 24.634851455688477\n",
            "#56 Loss: 24.634292602539062\n",
            "#57 Loss: 24.634292602539062\n",
            "#58 Loss: 24.634292602539062\n",
            "#59 Loss: 24.634851455688477\n",
            "#60 Loss: 24.634292602539062\n",
            "#61 Loss: 24.634292602539062\n",
            "#62 Loss: 24.634851455688477\n",
            "#63 Loss: 24.634292602539062\n",
            "#64 Loss: 24.634851455688477\n",
            "#65 Loss: 24.634851455688477\n",
            "#66 Loss: 24.634292602539062\n",
            "#67 Loss: 24.634292602539062\n",
            "#68 Loss: 24.634292602539062\n",
            "#69 Loss: 24.634851455688477\n",
            "#70 Loss: 24.634292602539062\n",
            "#71 Loss: 24.634292602539062\n",
            "#72 Loss: 24.634851455688477\n",
            "#73 Loss: 24.634292602539062\n",
            "#74 Loss: 24.634851455688477\n",
            "#75 Loss: 24.634851455688477\n",
            "#76 Loss: 24.634292602539062\n",
            "#77 Loss: 24.634292602539062\n",
            "#78 Loss: 24.634851455688477\n",
            "#79 Loss: 24.634851455688477\n",
            "#80 Loss: 24.634292602539062\n",
            "#81 Loss: 24.634851455688477\n",
            "#82 Loss: 24.634292602539062\n",
            "#83 Loss: 24.634851455688477\n",
            "#84 Loss: 24.634292602539062\n",
            "#85 Loss: 24.634851455688477\n",
            "#86 Loss: 24.634292602539062\n",
            "#87 Loss: 24.634851455688477\n",
            "#88 Loss: 24.634851455688477\n",
            "#89 Loss: 24.634292602539062\n",
            "#90 Loss: 24.634292602539062\n",
            "#91 Loss: 24.634851455688477\n",
            "#92 Loss: 24.634851455688477\n",
            "#93 Loss: 24.634292602539062\n",
            "#94 Loss: 24.634851455688477\n",
            "#95 Loss: 24.634851455688477\n",
            "#96 Loss: 24.634851455688477\n",
            "#97 Loss: 24.634851455688477\n",
            "#98 Loss: 24.634292602539062\n",
            "#99 Loss: 24.634292602539062\n",
            "Predicted data based on trained weights: \n",
            "Input (scaled): \n",
            "tensor([1., 1., 1.])\n",
            "Output: \n",
            "tensor([1., 1.])\n"
          ],
          "name": "stdout"
        }
      ]
    },
    {
      "cell_type": "markdown",
      "metadata": {
        "id": "dl00BrXy7j7n"
      },
      "source": [
        "### 2)Implemented using pytorch from scratch to build 3 layer neural network with relu non linearity with auto differentiation primitives"
      ]
    },
    {
      "cell_type": "code",
      "metadata": {
        "id": "RCc7wbOSrIJ3"
      },
      "source": [
        "class MyTorchModel(nn.Module):\n",
        "  def __init__(self, input_dim, num_hiddenlayer1, num_hiddenlayer2):\n",
        "    super(MyTorchModel, self).__init__()\n",
        "    self.linear1 = nn.Linear(input_dim , num_hiddenlayer1)\n",
        "    self.relu1 = nn.ReLU()\n",
        "    self.linear2 = nn.Linear(num_hiddenlayer1 , num_hiddenlayer2)\n",
        "    self.relu2 = nn.ReLU()\n",
        "    self.linear3 = nn.Linear(num_hiddenlayer2,2)\n",
        "\n",
        "  def forward(self, x):\n",
        "    l1 = self.linear1(x)\n",
        "    r = self.relu1(l1)\n",
        "    l2 = self.linear2(r)\n",
        "    r = self.relu2(l2)\n",
        "    l3 = self.linear3(r)\n",
        "    return l3\n"
      ],
      "execution_count": null,
      "outputs": []
    },
    {
      "cell_type": "code",
      "metadata": {
        "colab": {
          "base_uri": "https://localhost:8080/"
        },
        "id": "yZJJshNk4Fey",
        "outputId": "402b0dea-5725-44f0-b958-31b85200eecd"
      },
      "source": [
        "loss = nn.MSELoss()\n",
        "model = MyTorchModel(d, 10, 50)\n",
        "x_tensor = torch.tensor(x).float()\n",
        "y_true_tensor = torch.tensor(y_true).float()\n",
        "y_pred_tensor = model(x_tensor)\n",
        "loss_value = loss(y_pred_tensor, y_true_tensor)\n",
        "print(loss_value)"
      ],
      "execution_count": null,
      "outputs": [
        {
          "output_type": "stream",
          "text": [
            "tensor(27.8375, grad_fn=<MseLossBackward>)\n"
          ],
          "name": "stdout"
        }
      ]
    },
    {
      "cell_type": "code",
      "metadata": {
        "colab": {
          "base_uri": "https://localhost:8080/"
        },
        "id": "k_Wgo03C7ZRW",
        "outputId": "71e85bf3-7f78-4c59-8f36-bbde3c321073"
      },
      "source": [
        "# Test just one forward and backward step\n",
        "optimizer = torch.optim.SGD(model.parameters(), lr=0.1)\n",
        "\n",
        "optimizer.zero_grad()\n",
        "y_pred_tensor = model(x_tensor)\n",
        "loss_value = loss(y_pred_tensor, y_true_tensor)\n",
        "print(loss_value)\n",
        "loss_gradient = loss_value.backward()\n",
        "optimizer.step()\n",
        "\n",
        "y_pred_tensor = model(x_tensor)\n",
        "loss_value = loss(y_pred_tensor, y_true_tensor)\n",
        "print(loss_value)"
      ],
      "execution_count": null,
      "outputs": [
        {
          "output_type": "stream",
          "text": [
            "tensor(27.8375, grad_fn=<MseLossBackward>)\n",
            "tensor(26.5526, grad_fn=<MseLossBackward>)\n"
          ],
          "name": "stdout"
        }
      ]
    },
    {
      "cell_type": "code",
      "metadata": {
        "colab": {
          "base_uri": "https://localhost:8080/"
        },
        "id": "z6o225Ls7aS3",
        "outputId": "d6095eb9-5580-4718-9d2c-fa29e4ef6e26"
      },
      "source": [
        "# Now we run the training loop\n",
        "\n",
        "def torch_fit(x: np.ndarray, y: np.ndarray, model: Callable, loss: Callable, lr: float, num_epochs: int):\n",
        "  optimizer = torch.optim.SGD(model.parameters(), lr=lr)\n",
        "  for epoch in range(num_epochs):\n",
        "    optimizer.zero_grad()\n",
        "    y_pred_tensor = model(x_tensor)\n",
        "    loss_value = loss(y_pred_tensor, y_true_tensor)\n",
        "    print(loss_value)\n",
        "    loss_value.backward()\n",
        "    optimizer.step()\n",
        "\n",
        "torch_fit(x_tensor, y_true_tensor, model=model, loss=loss, lr=0.1, num_epochs=40)"
      ],
      "execution_count": null,
      "outputs": [
        {
          "output_type": "stream",
          "text": [
            "tensor(26.5526, grad_fn=<MseLossBackward>)\n",
            "tensor(25.3895, grad_fn=<MseLossBackward>)\n",
            "tensor(23.8158, grad_fn=<MseLossBackward>)\n",
            "tensor(21.2429, grad_fn=<MseLossBackward>)\n",
            "tensor(16.8635, grad_fn=<MseLossBackward>)\n",
            "tensor(10.7095, grad_fn=<MseLossBackward>)\n",
            "tensor(5.8923, grad_fn=<MseLossBackward>)\n",
            "tensor(3.5574, grad_fn=<MseLossBackward>)\n",
            "tensor(2.7123, grad_fn=<MseLossBackward>)\n",
            "tensor(4.3752, grad_fn=<MseLossBackward>)\n",
            "tensor(52.3245, grad_fn=<MseLossBackward>)\n",
            "tensor(75.6823, grad_fn=<MseLossBackward>)\n",
            "tensor(27.0366, grad_fn=<MseLossBackward>)\n",
            "tensor(26.6180, grad_fn=<MseLossBackward>)\n",
            "tensor(26.2884, grad_fn=<MseLossBackward>)\n",
            "tensor(25.9934, grad_fn=<MseLossBackward>)\n",
            "tensor(25.7038, grad_fn=<MseLossBackward>)\n",
            "tensor(25.3749, grad_fn=<MseLossBackward>)\n",
            "tensor(24.9177, grad_fn=<MseLossBackward>)\n",
            "tensor(24.1477, grad_fn=<MseLossBackward>)\n",
            "tensor(22.7324, grad_fn=<MseLossBackward>)\n",
            "tensor(20.0175, grad_fn=<MseLossBackward>)\n",
            "tensor(15.6973, grad_fn=<MseLossBackward>)\n",
            "tensor(12.0319, grad_fn=<MseLossBackward>)\n",
            "tensor(10.0215, grad_fn=<MseLossBackward>)\n",
            "tensor(9.0047, grad_fn=<MseLossBackward>)\n",
            "tensor(8.8922, grad_fn=<MseLossBackward>)\n",
            "tensor(10.9118, grad_fn=<MseLossBackward>)\n",
            "tensor(22.2391, grad_fn=<MseLossBackward>)\n",
            "tensor(9.1149, grad_fn=<MseLossBackward>)\n",
            "tensor(12.4053, grad_fn=<MseLossBackward>)\n",
            "tensor(26.1525, grad_fn=<MseLossBackward>)\n",
            "tensor(18.7846, grad_fn=<MseLossBackward>)\n",
            "tensor(7.2423, grad_fn=<MseLossBackward>)\n",
            "tensor(6.8856, grad_fn=<MseLossBackward>)\n",
            "tensor(7.6075, grad_fn=<MseLossBackward>)\n",
            "tensor(11.1798, grad_fn=<MseLossBackward>)\n",
            "tensor(26.9146, grad_fn=<MseLossBackward>)\n",
            "tensor(17.4457, grad_fn=<MseLossBackward>)\n",
            "tensor(4.8997, grad_fn=<MseLossBackward>)\n"
          ],
          "name": "stdout"
        }
      ]
    },
    {
      "cell_type": "code",
      "metadata": {
        "colab": {
          "base_uri": "https://localhost:8080/",
          "height": 372
        },
        "id": "4c2E3RV27fDH",
        "outputId": "2c0778fe-228d-4b38-8adb-5e79ca34339a"
      },
      "source": [
        "plot_3d(x, y_true, model(x_tensor).detach())"
      ],
      "execution_count": null,
      "outputs": [
        {
          "output_type": "stream",
          "text": [
            "/usr/local/lib/python3.7/dist-packages/mpl_toolkits/mplot3d/art3d.py:794: FutureWarning: elementwise comparison failed; returning scalar instead, but in the future will perform elementwise comparison\n",
            "  if zdir == 'x':\n",
            "/usr/local/lib/python3.7/dist-packages/mpl_toolkits/mplot3d/art3d.py:796: FutureWarning: elementwise comparison failed; returning scalar instead, but in the future will perform elementwise comparison\n",
            "  elif zdir == 'y':\n",
            "/usr/local/lib/python3.7/dist-packages/mpl_toolkits/mplot3d/art3d.py:798: FutureWarning: elementwise comparison failed; returning scalar instead, but in the future will perform elementwise comparison\n",
            "  elif zdir[0] == '-':\n"
          ],
          "name": "stderr"
        },
        {
          "output_type": "display_data",
          "data": {
            "image/png": "[encoded data removed]",
            "text/plain": [
              "<Figure size 432x288 with 1 Axes>"
            ]
          },
          "metadata": {
            "tags": [],
            "needs_background": "light"
          }
        }
      ]
    },
    {
      "cell_type": "markdown",
      "metadata": {
        "id": "snuKDLze8O4j"
      },
      "source": [
        "### 3)Implemented pytorch modules with high level primitives for 3 layer neural ntwrok with relu nonlinearity "
      ]
    },
    {
      "cell_type": "code",
      "metadata": {
        "id": "WlXo_mJy8QYN"
      },
      "source": [
        "#### using high level premitives doing the pytorch implementation\n",
        "#Installing pytorch lighting\n",
        "%%capture\n",
        "! pip install git+https://github.com/PytorchLightning/pytorch-lightning.git@master --upgrade "
      ],
      "execution_count": null,
      "outputs": []
    },
    {
      "cell_type": "code",
      "metadata": {
        "id": "eMcBwUtrKfFm"
      },
      "source": [
        "import os\n",
        "\n",
        "import torch\n",
        "from torch.nn import functional as F\n",
        "from torch.utils.data import DataLoader\n",
        "from torchvision.datasets import MNIST\n",
        "from torchvision import transforms\n",
        "\n",
        "import pytorch_lightning as pl\n",
        "\n",
        "\n",
        "class CoolSystem(pl.LightningModule):\n",
        "  \n",
        "\n",
        "    def __init__(self,classes=2):\n",
        "        super(CoolSystem,self).__init__()\n",
        "       # self.save_hyperparameters()\n",
        "        self.save_hyperparameters()\n",
        "        # not the best model...\n",
        "        self.layer1 = torch.nn.Linear(3, 12)\n",
        "        self.layer2 = torch.nn.Linear(12, 24)\n",
        "        self.layer3 = torch.nn.Linear(24, 24)\n",
        "        self.layer4 = torch.nn.Linear(24, 2)\n",
        "        \n",
        "           # Log hyperparameters\n",
        "        \n",
        "\n",
        "    def forward(self, x):\n",
        "        # x = x.view(x.size(0),-1)\n",
        "\n",
        "         x = self.layer1(x)\n",
        "         x = torch.relu(x)\n",
        "\n",
        "         x = self.layer2(x)\n",
        "         x = torch.relu(x)\n",
        "\n",
        "         x = self.layer3(x)\n",
        "         x = torch.relu(x)\n",
        "\n",
        "\n",
        "         x = self.layer4(x)\n",
        "\n",
        "         return x\n",
        "\n",
        "#torch.relu(self.l1(x.view(x.size(0), -1)))\n",
        "    def training_step(self, batch, batch_idx):\n",
        "        x, y = batch\n",
        "        y_hat = self(x)\n",
        "        #loss = F.cross_entropy(y_hat, y)\n",
        "        loss= F.mse_loss(y_hat, y)   \n",
        "        tensorboard_logs = {'train_loss': loss}\n",
        "        return {'loss': loss, 'log': tensorboard_logs}\n",
        "\n",
        "    def validation_step(self, batch, batch_idx):\n",
        "        x, y = batch\n",
        "        y_hat = self(x)\n",
        "      #  loss = F.cross_entropy(y_hat, y)\n",
        "        loss= F.mse_loss(y_hat, y)  \n",
        "        return {'val_loss': loss}\n",
        "\n",
        "    def validation_epoch_end(self, outputs):\n",
        "        avg_loss = torch.stack([x['val_loss'] for x in outputs]).mean()\n",
        "        return {'val_loss': avg_loss}\n",
        "\n",
        "    def configure_optimizers(self):\n",
        "        return torch.optim.Adam(self.parameters(), lr=0.001)"
      ],
      "execution_count": null,
      "outputs": []
    },
    {
      "cell_type": "code",
      "metadata": {
        "colab": {
          "base_uri": "https://localhost:8080/"
        },
        "id": "3BilPkRz1D5U",
        "outputId": "9db1d825-4e8b-4560-9b0c-0f93bf7befd9"
      },
      "source": [
        "from pytorch_lightning import Trainer, seed_everything\n",
        "seed_everything(0)"
      ],
      "execution_count": null,
      "outputs": [
        {
          "output_type": "stream",
          "text": [
            "Global seed set to 0\n"
          ],
          "name": "stderr"
        },
        {
          "output_type": "execute_result",
          "data": {
            "text/plain": [
              "0"
            ]
          },
          "metadata": {
            "tags": []
          },
          "execution_count": 119
        }
      ]
    },
    {
      "cell_type": "code",
      "metadata": {
        "colab": {
          "base_uri": "https://localhost:8080/"
        },
        "id": "0ze8K1941G4Y",
        "outputId": "ca3b4c9b-1bcf-4b03-bd45-ed6e329b950e"
      },
      "source": [
        "import tensorflow as tf\n",
        "\n",
        "\n",
        "x_tensor\n",
        "\n",
        "dataset  = tf.concat([x_tensor, y_true_tensor], 1)\n",
        "dataset[:20]"
      ],
      "execution_count": null,
      "outputs": [
        {
          "output_type": "execute_result",
          "data": {
            "text/plain": [
              "<tf.Tensor: shape=(20, 5), dtype=float32, numpy=\n",
              "array([[  0.18929537,   0.85728496,   0.43970406,   4.51716   ,\n",
              "          5.845798  ],\n",
              "       [  0.53472173,   0.9017862 ,   0.26818216,   6.6481423 ,\n",
              "          7.247999  ],\n",
              "       [  0.15546188,   0.20373595,   0.73161054,   4.2547045 ,\n",
              "          6.2186933 ],\n",
              "       [ -0.22380193,   0.59067243,   0.30451387,   1.2871988 ,\n",
              "          2.8549614 ],\n",
              "       [ -0.3908569 ,  -0.97262317,  -0.58016   ,  -4.6964264 ,\n",
              "         -4.021292  ],\n",
              "       [  0.39997754,   0.15938061,  -0.4508106 ,   2.398405  ,\n",
              "          2.3920095 ],\n",
              "       [ -0.13139506,   0.32229754,  -0.74582773,  -1.6339436 ,\n",
              "         -1.660981  ],\n",
              "       [ -0.13544084,  -0.16675156,   0.08520204,   0.31062585,\n",
              "          1.5343719 ],\n",
              "       [  0.04382736,  -0.26454663,   0.5254673 ,   2.277611  ,\n",
              "          3.9042566 ],\n",
              "       [ -0.86554193,  -0.9289231 ,  -0.15948132,  -8.627433  ,\n",
              "         -6.2769966 ],\n",
              "       [  0.7933885 ,  -0.4448613 ,  -0.6553813 ,   5.0573273 ,\n",
              "          3.8276446 ],\n",
              "       [  0.85641676,  -0.6635535 ,  -0.2503189 ,   6.9350514 ,\n",
              "          6.184492  ],\n",
              "       [  0.45803103,  -0.47815198,  -0.54030097,   1.787084  ,\n",
              "          1.5349332 ],\n",
              "       [ -0.20466553,   0.5747296 ,   0.8219667 ,   3.453001  ,\n",
              "          6.043551  ],\n",
              "       [ -0.93741494,  -0.6697838 ,   0.9172026 ,  -5.398464  ,\n",
              "         -0.94849   ],\n",
              "       [  0.18558258,   0.10282054,   0.62708735,   3.8111432 ,\n",
              "          5.4928513 ],\n",
              "       [ -0.9204334 ,  -0.9723275 ,   0.9349881 ,  -5.887984  ,\n",
              "         -1.435404  ],\n",
              "       [  0.6571414 ,   0.49476355,  -0.68859845,   4.290247  ,\n",
              "          3.3342197 ],\n",
              "       [ -0.04679215,   0.87458706,   0.8671992 ,   5.3478136 ,\n",
              "          7.914071  ],\n",
              "       [ -0.9815058 ,   0.5049828 ,  -0.98752445, -11.902583  ,\n",
              "        -10.926103  ]], dtype=float32)>"
            ]
          },
          "metadata": {
            "tags": []
          },
          "execution_count": 120
        }
      ]
    },
    {
      "cell_type": "code",
      "metadata": {
        "id": "-IeW2jEW3GFA"
      },
      "source": [
        "\n",
        "\n",
        "from sklearn.model_selection import train_test_split\n",
        "y = np.hstack((y_tr1, y_tr2))\n",
        "y.shape\n",
        "x_train, x_val, y_train, y_val = train_test_split(x, y, test_size=0.1)\n",
        "\n",
        "# From numpy to torch tensors\n",
        "x_train = torch.from_numpy(x_train).type(torch.FloatTensor)\n",
        "y_train = torch.from_numpy(y_train).type(torch.FloatTensor)\n",
        "\n",
        "# From numpy to torch tensors\n",
        "x_val = torch.from_numpy(x_val).type(torch.FloatTensor)\n",
        "y_val = torch.from_numpy(y_val).type(torch.FloatTensor)\n",
        "\n",
        "# Implements Dataset and DataLoader\n",
        "train_dataset = torch.utils.data.TensorDataset(x_train, y_train)\n",
        "train_dataloader = torch.utils.data.DataLoader(train_dataset, batch_size=5)\n",
        "\n",
        "\n",
        "# Implements Dataset and DataLoader\n",
        "val_dataset = torch.utils.data.TensorDataset(x_val, y_val)\n",
        "val_dataloader = torch.utils.data.DataLoader(val_dataset, batch_size=5)"
      ],
      "execution_count": null,
      "outputs": []
    },
    {
      "cell_type": "code",
      "metadata": {
        "colab": {
          "base_uri": "https://localhost:8080/",
          "height": 498,
          "referenced_widgets": [
            "1aa14273484c4461a3f955679806f6a0",
            "729ffbcd32114b1e9690647d7a022eed",
            "989770ab5e64406a939ef0a1ae991283",
            "6864caaf374b4cbbb5ded767089f939b",
            "6d758aef2bd14287b2240c129acd0a1e",
            "3b4d62d2ed2d4a5aa8965275258a4e82",
            "fc8aeb62d0be442e87b36861142efaec",
            "5da37ab91b544220a3e15ca76f682c9d",
            "8bdfbb2be85e404eb0316dc0b54767b2",
            "d89c59c8f78d4ed095f227bcb6d02488",
            "ec315183be5d4bcdb202725f15de4a09",
            "98f948ccb30949a2b9dc689ca45b89a2",
            "906af5d94ea44bb5906fece8b02c3b1b",
            "cb6d1c06fc3e4efa9ed331431e5376be",
            "24a875b9d7c54026b55df426f17ebf42",
            "27dec2dfa19b4b4c954ff8a0a514335c",
            "f0f1bedfa48f427e85fe5e06bab1dc06",
            "a91812b46d45421abce1a9cdf3532547",
            "6acfbd314fa6467dbad2225e6003549b",
            "d20cebd3d24944038000ed5bb183fc86",
            "6f9d35472d2145478336f8c774822c8b",
            "74f576772f87483d9c13635332894e2e",
            "908f02a2f25e421b9eba1f12244acb84",
            "24291e1b4dc749dcbfcce254e70489c3",
            "e25e47f78b264fcf9025c43bf1181b2f",
            "8389fd520ba64d09919dce2f72fe8a2b",
            "2c0c06ae34534e01b51f8395d933efaa",
            "9f7de757e5404295b42c05582cc9d9fd",
            "2d641597072a4a35a8445a68cd47afc2",
            "a269819a7504491b91be51da4b273a21",
            "bc0397a193004a60a2c14469f3d0513b",
            "e8a23a885ffe4f4e89dfad52684f86da",
            "f7cdce8b43f249b48952fb157f54b53a",
            "d7fbd3ba583d4d91a464023370a4a90a",
            "c54c7a861db9414eac2418d061bec9ae",
            "3c7e8ad3b9a64f80ac8d6ca4fff8a44e",
            "09e28f17c3c0439d98fca3be1d02c940",
            "cc6655daf60d4b6ea0b0fad69b298976",
            "6441109be3af44c8a4628043924f4131",
            "ff49d1a54b7e4c9c896704699db9e683",
            "ea1141fe9519456db5cb5d93b8d96b29",
            "c0fb891324e045fd9e40faf8171ce494",
            "b807bb2ab8fd44748c1496a79c165d5b",
            "b45c3f42704b4b33bbce5210a8dc85e7",
            "2b43cd5c987f47cf9aebeb7c148027ff",
            "d153f4481fe049fcb540eb996ca92111",
            "114bbe5984c9482b8e396157b13ef6dd",
            "b161742d41be4e028cf10bd020d43bc6",
            "147c3b72542448e899710794d6f2644c",
            "4777116e574f47f2be8cbb31ebfe0626",
            "fc74ca47270d42f9b9abef54b10eab39",
            "6c467bb00abe46edae30ba6c834c9e56",
            "a4bce14c25844e958b3407e50060350d",
            "8b462967b7c34170a530409dd6ad6103",
            "d3d2d765b5ff405bb230bf277ab687a0",
            "2a299062397c4bf8bb8009154d6a4c52",
            "1bae5de5fac64e89aeccd7c82c075300",
            "3803565bfe7445f3a337c0d975463fdf",
            "ec136f90e2cf4521a020ccfa921ea55b",
            "8b721b7f33884f14b6ad32c00d529297",
            "4b93122453e346c0bd1480fb99d74a92",
            "99b3f3e219d949a5953df5f7385be14b",
            "d48643a0840145a6be7ef2e4fa63335b",
            "618417510ff0472bb5ddb41db71544d8",
            "e3dec21c6bb04d84bbbde226f0663e66",
            "2ac373633da347bf87d1e5c46b4b9b7c",
            "d6e20ce1222649719d439606194910b0",
            "82a0e6412be740459c1fb4eb0e8aaddd",
            "5285111d548b4bcf83d23bc4b0b10da8",
            "fe3acdb317124065b9b6e7728dc8cb74",
            "7386095a2e8c49869ceda129e8131c10",
            "32bf0f7f1f814bb5b59a44c8d26ce40d",
            "53cc7bd94ea849ea8b6f69c412b4d8ba",
            "87959a088adc4fcea966bbb8694c2558",
            "fe8a5baf47a64cf9999027633513a638",
            "d73802e898cc4ddcaf2b97ed819364d1",
            "6bc93b7020394eda9d29abb16ccd6a7f",
            "37e4f7fbfe8e4c73a37382a142c1f896",
            "a14c594137b0487f98bf6315fd7b257b",
            "186b703e783849f086c231fec7588d78",
            "94714e90c3de405480329f4e7ba4d4e0",
            "059849994d954df68fdfdc2802b514f5",
            "51256784a8ed4ad68a3d1a99b91d8b9c",
            "22ce4aea5472417d8dc6f2237cee194a",
            "0be01c956b3f445aa54e7515894a1c0e",
            "a54ff136188948378086efb7c847e48f",
            "38aed7f5aae64cb6977b61615028ef6c",
            "91946f88bda142aa83f1763486d023f0",
            "b8081997d20d44f3835986fdd346e9bd",
            "eda560a1066c41e1ab16660989d1fd6d",
            "da06052cfee94c80bebeb4158cfe4fc1",
            "44c7dfc3c58d4fb0ad9aaa1e6ff07420",
            "34173757ca3343e8b66e81053fc13239",
            "3e81d6f997fb42e38f9179d4f5aaa10d",
            "81b8848987464a20b99a790a3c3e19c9",
            "569374d216064627a36b5908029e164b"
          ]
        },
        "id": "hGF799Yl3VUb",
        "outputId": "eb5e86a1-312b-4cd3-913b-3634b75c58da"
      },
      "source": [
        "\n",
        "# model\n",
        "from pytorch_lightning import Trainer\n",
        "\n",
        "model = CoolSystem()\n",
        "\n",
        "# most basic trainer, uses good defaults]\n",
        "#num_tpu_cores=8,\n",
        "trainer = Trainer( progress_bar_refresh_rate=20, max_epochs=10)\n",
        "trainer.fit(model,train_dataloader,val_dataloader)\n",
        "# Testing the model\n",
        "trainer.test()\n"
      ],
      "execution_count": null,
      "outputs": [
        {
          "output_type": "stream",
          "text": [
            "GPU available: False, used: False\n",
            "TPU available: None, using: 0 TPU cores\n",
            "\n",
            "  | Name   | Type   | Params\n",
            "----------------------------------\n",
            "0 | layer1 | Linear | 48    \n",
            "1 | layer2 | Linear | 312   \n",
            "2 | layer3 | Linear | 600   \n",
            "3 | layer4 | Linear | 50    \n",
            "----------------------------------\n",
            "1.0 K     Trainable params\n",
            "0         Non-trainable params\n",
            "1.0 K     Total params\n",
            "0.004     Total estimated model params size (MB)\n"
          ],
          "name": "stderr"
        },
        {
          "output_type": "display_data",
          "data": {
            "application/vnd.jupyter.widget-view+json": {
              "model_id": "1aa14273484c4461a3f955679806f6a0",
              "version_minor": 0,
              "version_major": 2
            },
            "text/plain": [
              "HBox(children=(FloatProgress(value=1.0, bar_style='info', description='Validation sanity check', layout=Layout…"
            ]
          },
          "metadata": {
            "tags": []
          }
        },
        {
          "output_type": "stream",
          "text": [
            "\r"
          ],
          "name": "stdout"
        },
        {
          "output_type": "stream",
          "text": [
            "/usr/local/lib/python3.7/dist-packages/pytorch_lightning/utilities/distributed.py:52: UserWarning: The validation_epoch_end should not return anything as of 9.1. To log, use self.log(...) or self.write(...) directly in the LightningModule\n",
            "  warnings.warn(*args, **kwargs)\n"
          ],
          "name": "stderr"
        },
        {
          "output_type": "display_data",
          "data": {
            "application/vnd.jupyter.widget-view+json": {
              "model_id": "8bdfbb2be85e404eb0316dc0b54767b2",
              "version_minor": 0,
              "version_major": 2
            },
            "text/plain": [
              "HBox(children=(FloatProgress(value=1.0, bar_style='info', description='Training', layout=Layout(flex='2'), max…"
            ]
          },
          "metadata": {
            "tags": []
          }
        },
        {
          "output_type": "stream",
          "text": [
            "/usr/local/lib/python3.7/dist-packages/pytorch_lightning/utilities/distributed.py:52: UserWarning: The {log:dict keyword} was deprecated in 0.9.1 and will be removed in 1.0.0\n",
            "Please use self.log(...) inside the lightningModule instead.\n",
            "# log on a step or aggregate epoch metric to the logger and/or progress bar (inside LightningModule)\n",
            "self.log('train_loss', loss, on_step=True, on_epoch=True, prog_bar=True)\n",
            "  warnings.warn(*args, **kwargs)\n"
          ],
          "name": "stderr"
        },
        {
          "output_type": "display_data",
          "data": {
            "application/vnd.jupyter.widget-view+json": {
              "model_id": "f0f1bedfa48f427e85fe5e06bab1dc06",
              "version_minor": 0,
              "version_major": 2
            },
            "text/plain": [
              "HBox(children=(FloatProgress(value=1.0, bar_style='info', description='Validating', layout=Layout(flex='2'), m…"
            ]
          },
          "metadata": {
            "tags": []
          }
        },
        {
          "output_type": "display_data",
          "data": {
            "application/vnd.jupyter.widget-view+json": {
              "model_id": "e25e47f78b264fcf9025c43bf1181b2f",
              "version_minor": 0,
              "version_major": 2
            },
            "text/plain": [
              "HBox(children=(FloatProgress(value=1.0, bar_style='info', description='Validating', layout=Layout(flex='2'), m…"
            ]
          },
          "metadata": {
            "tags": []
          }
        },
        {
          "output_type": "display_data",
          "data": {
            "application/vnd.jupyter.widget-view+json": {
              "model_id": "f7cdce8b43f249b48952fb157f54b53a",
              "version_minor": 0,
              "version_major": 2
            },
            "text/plain": [
              "HBox(children=(FloatProgress(value=1.0, bar_style='info', description='Validating', layout=Layout(flex='2'), m…"
            ]
          },
          "metadata": {
            "tags": []
          }
        },
        {
          "output_type": "display_data",
          "data": {
            "application/vnd.jupyter.widget-view+json": {
              "model_id": "ea1141fe9519456db5cb5d93b8d96b29",
              "version_minor": 0,
              "version_major": 2
            },
            "text/plain": [
              "HBox(children=(FloatProgress(value=1.0, bar_style='info', description='Validating', layout=Layout(flex='2'), m…"
            ]
          },
          "metadata": {
            "tags": []
          }
        },
        {
          "output_type": "display_data",
          "data": {
            "application/vnd.jupyter.widget-view+json": {
              "model_id": "147c3b72542448e899710794d6f2644c",
              "version_minor": 0,
              "version_major": 2
            },
            "text/plain": [
              "HBox(children=(FloatProgress(value=1.0, bar_style='info', description='Validating', layout=Layout(flex='2'), m…"
            ]
          },
          "metadata": {
            "tags": []
          }
        },
        {
          "output_type": "display_data",
          "data": {
            "application/vnd.jupyter.widget-view+json": {
              "model_id": "1bae5de5fac64e89aeccd7c82c075300",
              "version_minor": 0,
              "version_major": 2
            },
            "text/plain": [
              "HBox(children=(FloatProgress(value=1.0, bar_style='info', description='Validating', layout=Layout(flex='2'), m…"
            ]
          },
          "metadata": {
            "tags": []
          }
        },
        {
          "output_type": "display_data",
          "data": {
            "application/vnd.jupyter.widget-view+json": {
              "model_id": "e3dec21c6bb04d84bbbde226f0663e66",
              "version_minor": 0,
              "version_major": 2
            },
            "text/plain": [
              "HBox(children=(FloatProgress(value=1.0, bar_style='info', description='Validating', layout=Layout(flex='2'), m…"
            ]
          },
          "metadata": {
            "tags": []
          }
        },
        {
          "output_type": "display_data",
          "data": {
            "application/vnd.jupyter.widget-view+json": {
              "model_id": "53cc7bd94ea849ea8b6f69c412b4d8ba",
              "version_minor": 0,
              "version_major": 2
            },
            "text/plain": [
              "HBox(children=(FloatProgress(value=1.0, bar_style='info', description='Validating', layout=Layout(flex='2'), m…"
            ]
          },
          "metadata": {
            "tags": []
          }
        },
        {
          "output_type": "display_data",
          "data": {
            "application/vnd.jupyter.widget-view+json": {
              "model_id": "94714e90c3de405480329f4e7ba4d4e0",
              "version_minor": 0,
              "version_major": 2
            },
            "text/plain": [
              "HBox(children=(FloatProgress(value=1.0, bar_style='info', description='Validating', layout=Layout(flex='2'), m…"
            ]
          },
          "metadata": {
            "tags": []
          }
        },
        {
          "output_type": "display_data",
          "data": {
            "application/vnd.jupyter.widget-view+json": {
              "model_id": "b8081997d20d44f3835986fdd346e9bd",
              "version_minor": 0,
              "version_major": 2
            },
            "text/plain": [
              "HBox(children=(FloatProgress(value=1.0, bar_style='info', description='Validating', layout=Layout(flex='2'), m…"
            ]
          },
          "metadata": {
            "tags": []
          }
        },
        {
          "output_type": "stream",
          "text": [
            "\n"
          ],
          "name": "stdout"
        },
        {
          "output_type": "execute_result",
          "data": {
            "text/plain": [
              "1"
            ]
          },
          "metadata": {
            "tags": []
          },
          "execution_count": 157
        }
      ]
    },
    {
      "cell_type": "markdown",
      "metadata": {
        "id": "NRUVnIbazXgN"
      },
      "source": [
        "# *part c implementation is as follows*\n"
      ]
    },
    {
      "cell_type": "markdown",
      "metadata": {
        "id": "6dHAzV2ChdY8"
      },
      "source": [
        "### 1)Implemented the tensor from scratch to build a 3 layer neural network with relu nonlinearity "
      ]
    },
    {
      "cell_type": "code",
      "metadata": {
        "id": "oHDlZi5pzVXO"
      },
      "source": [
        "from tensorflow.keras import layers\n",
        "import tensorflow as tf\n",
        "import tensorflow \n",
        "from tensorflow import keras\n",
        "from keras.layers import Dense\n",
        "\n",
        "#After importing build the linear layer\n",
        "\n",
        "class Linear(keras.layers.Layer):\n",
        "\n",
        "  def __init__(self, units=32):\n",
        "      super(Linear, self).__init__()\n",
        "      self.units = units\n",
        "\n",
        "  def build(self, input_shape):\n",
        "      self.w = self.add_weight(shape=(input_shape[-1], self.units),\n",
        "                               initializer='random_normal',\n",
        "                               trainable=True)\n",
        "      self.b = self.add_weight(shape=(self.units,),\n",
        "                               initializer='random_normal',\n",
        "                               trainable=True)\n",
        "\n",
        "  def call(self, inputs):\n",
        "      return tf.matmul(inputs, self.w) + self.b\n",
        "\n",
        "\n",
        "# Instantiate our lazy layer.\n",
        "linear_layer = Linear(3)\n",
        "\n",
        "# This will also call `build(input_shape)` and create the weights.\n",
        "y = linear_layer(tf.ones((2, 2)))\n",
        "assert len(linear_layer.weights) == 2"
      ],
      "execution_count": null,
      "outputs": []
    },
    {
      "cell_type": "code",
      "metadata": {
        "id": "CJYKFpIQbD1j",
        "colab": {
          "base_uri": "https://localhost:8080/"
        },
        "outputId": "e831059f-e6ec-4d83-81bd-1c727592a414"
      },
      "source": [
        "\n",
        "\n",
        "x_train = tf.Variable(x, trainable=True, dtype=tf.float32)\n",
        "\n",
        "y = np.hstack((y_tr1, y_tr2))\n",
        "y.shape\n",
        "y_train = tf.Variable(y, trainable=True, dtype=tf.float32)\n",
        "\n",
        "\n",
        "#preparing datasets for the keras model\n",
        "\n",
        "dataset = tf.data.Dataset.from_tensor_slices((x_train,y_train))\n",
        "dataset"
      ],
      "execution_count": null,
      "outputs": [
        {
          "output_type": "execute_result",
          "data": {
            "text/plain": [
              "<TensorSliceDataset shapes: ((3,), (2,)), types: (tf.float32, tf.float32)>"
            ]
          },
          "metadata": {
            "tags": []
          },
          "execution_count": 165
        }
      ]
    },
    {
      "cell_type": "markdown",
      "metadata": {
        "id": "7WIUbK2XEcec"
      },
      "source": [
        "##### Added custom loss function instead of using the predefined one"
      ]
    },
    {
      "cell_type": "code",
      "metadata": {
        "id": "WSPZo2EJ9lYX"
      },
      "source": [
        "def custom_loss_function(y_true, y_pred):\n",
        "   squared_difference = tf.square(y_true - y_pred)\n",
        "   return tf.reduce_mean(squared_difference, axis=-1)"
      ],
      "execution_count": null,
      "outputs": []
    },
    {
      "cell_type": "code",
      "metadata": {
        "id": "7Hzcmav-cRO1"
      },
      "source": [
        "\n",
        "# Instantiation of the keras model\n",
        "model = tf.keras.Sequential([\n",
        "  layers.Dense(256, activation=tf.nn.relu),\n",
        "  layers.Dense(256, activation=tf.nn.relu),\n",
        "  layers.Dense(10)\n",
        "])\n",
        "\n",
        "# Instantiate a logistic loss function that expects integer targets.\n",
        "loss = tf.keras.losses.SparseCategoricalCrossentropy(from_logits=True)\n",
        "\n",
        "# Instantiate an accuracy metric.\n",
        "accuracy = tf.keras.metrics.SparseCategoricalAccuracy()\n",
        "\n",
        "# Instantiate an optimizer.\n",
        "optimizer = tf.keras.optimizers.Adam()"
      ],
      "execution_count": null,
      "outputs": []
    },
    {
      "cell_type": "code",
      "metadata": {
        "id": "M6Lyf4woclPi"
      },
      "source": [
        "#keras layers \n",
        "class MLP(keras.layers.Layer):\n",
        "\n",
        "  def __init__(self):\n",
        "    super(MLP ,self).__init__()\n",
        "    self.linear_1 = Linear(3)\n",
        "    self.linear_2 = Linear(10)\n",
        "    self.linear_3 = Linear(2)\n",
        "    \n",
        "\n",
        "  def call(self,inputs):\n",
        "    l1=self.linear_1(inputs)\n",
        "    r=tf.nn.relu(l1)\n",
        "\n",
        "    l2=self.linear_2(r)\n",
        "    r=tf.nn.relu(l2) \n",
        "    \n",
        "    l3=self.linear_3(r)\n",
        "\n",
        "    return l3\n"
      ],
      "execution_count": null,
      "outputs": []
    },
    {
      "cell_type": "code",
      "metadata": {
        "id": "jh8G1sXQcz1h"
      },
      "source": [
        "# This step is to check the output for the model\n",
        "\n",
        "mlp = MLP()\n",
        "loss = tf.keras.losses.SparseCategoricalCrossentropy(from_logits=True)\n",
        "accuracy = tf.keras.metrics.SparseCategoricalAccuracy()\n",
        "optimizer = tf.keras.optimizers.Adam()"
      ],
      "execution_count": null,
      "outputs": []
    },
    {
      "cell_type": "code",
      "metadata": {
        "colab": {
          "base_uri": "https://localhost:8080/"
        },
        "id": "ewKZkB5WdRw1",
        "outputId": "fca0e1e6-97a3-439d-8ae6-dfb04f37ba9c"
      },
      "source": [
        "#for step, (x,y) in enumerate(dataset):\n",
        "with tf.GradientTape() as tape:\n",
        "  #open a gradient tape \n",
        "\n",
        "  #forward pass\n",
        "    logits = mlp(x_train)\n",
        "  #loss value for this batch\n",
        "    loss_value = custom_loss_function(y_train , logits)\n",
        "    print(loss_value)\n",
        "\n",
        "#get the gradient of loss wrt the weights\n",
        "\n",
        "gradient = tape.gradient(loss_value , mlp.trainable_weights)\n",
        "\n",
        "\n",
        "#Update the weights of linear layer\n",
        "optimizer.apply_gradients(zip(gradient , mlp.trainable_weights))\n",
        "\n",
        "\n",
        "#loss_value"
      ],
      "execution_count": null,
      "outputs": [
        {
          "output_type": "stream",
          "text": [
            "tf.Tensor(\n",
            "[5.21705093e+01 3.66043139e+00 2.32383537e+00 2.52976131e+01\n",
            " 9.99364662e+00 6.46020603e+00 1.33546352e+01 2.83955402e+01\n",
            " 2.72876644e+00 3.82036972e+01 7.02421646e+01 1.53013515e+00\n",
            " 2.21938467e+00 8.75352020e+01 1.18456519e+00 1.66008034e+01\n",
            " 3.60235672e+01 5.62856255e+01 5.50129175e+00 1.51462975e+01\n",
            " 4.31453323e+01 8.70963135e+01 2.01358833e+01 5.33156729e+00\n",
            " 1.21229229e+01 2.23472576e+01 8.16680145e+01 2.77813377e+01\n",
            " 7.63579082e+00 9.84508133e+00 5.28478355e+01 1.59465766e+00\n",
            " 1.69487782e+01 2.84323245e-02 4.74493790e+01 1.32219398e+00\n",
            " 2.64467672e-02 8.90082645e+00 8.60423584e+01 1.20017827e+00\n",
            " 6.55085297e+01 4.12259531e+00 7.82620764e+00 7.74653721e+00\n",
            " 1.27298832e+01 3.01075983e+00 3.58821249e+00 3.90977745e+01\n",
            " 1.15340195e+01 1.42071564e+02 9.83419061e-01 5.45977712e-01\n",
            " 1.79579067e+01 1.41260937e-01 1.60042114e+01 4.28550529e+00\n",
            " 1.40144165e+02 6.68351135e+01 5.35199890e+01 4.61691666e+01\n",
            " 5.09131002e+00 1.87475252e+00 2.19199324e+00 2.94053841e+00\n",
            " 5.41175699e+00 2.40821171e+01 2.04503727e+00 7.69698715e+01\n",
            " 5.65032883e+01 2.01440277e+01 1.27342463e+00 5.49009800e+00\n",
            " 1.18446875e+01 1.47507894e+00 1.50669222e+01 4.63665314e+01\n",
            " 9.18498516e+00 1.67726898e+00 1.17444305e+01 2.38569927e+00\n",
            " 8.95030689e+00 1.98983204e+00 1.06965630e+02 3.14741268e+01\n",
            " 1.01320114e+02 1.18179741e+01 2.20724602e+01 8.97468758e+00\n",
            " 2.42003888e-01 9.44958038e+01 8.17260027e-01 4.80525732e+00\n",
            " 2.29558716e+01 2.63922386e+01 3.40948257e+01 7.83507776e+00\n",
            " 2.20367312e+00 2.24116459e+01 2.03082390e+01 3.46322441e+01\n",
            " 3.48421745e+01 7.38819656e+01 6.27193260e+01 1.03354967e+00\n",
            " 2.02810535e+01 4.08278847e+00 1.31114264e+01 4.40736313e+01\n",
            " 1.38820565e+00 1.51166763e+01 6.65617828e+01 2.17688417e+00\n",
            " 1.05150528e+01 1.14377012e+01 2.39571800e+01 7.72752941e-01\n",
            " 4.14663696e+01 5.90012321e+01 3.05105066e+00 1.82751038e+02\n",
            " 1.99198265e+01 1.70939617e+01 4.58540955e+01 6.50798321e+00\n",
            " 5.15539627e+01 2.15779400e+01 6.95554428e+01 1.61972666e+00\n",
            " 2.96641693e+01 4.43616092e-01 5.90939617e+00 7.47580338e+00\n",
            " 4.41689301e+01 1.34961557e+00 5.14463544e-01 1.95397491e+02\n",
            " 1.68507004e+01 2.33080826e+01 1.01320229e+01 5.68635101e+01\n",
            " 3.77778282e+01 4.98079896e-01 6.82950306e+00 2.31470337e+01\n",
            " 1.10305832e+02 1.01128781e+00 6.75754929e+01 1.62471390e+01\n",
            " 6.32027805e-01 7.28261719e+01 3.92156124e-01 2.21236491e+00\n",
            " 1.37480135e+01 5.21729565e+00 7.44503326e+01 3.68063617e+00\n",
            " 1.73511753e+01 8.28735924e+00 1.80579767e-01 3.22462006e+01\n",
            " 1.47627115e+01 1.27748394e+01 1.29097338e+01 6.70856323e+01\n",
            " 2.18522549e-01 5.29835415e+00 1.14934444e+00 3.64999008e+01\n",
            " 3.05697536e+01 1.21463089e+01 4.78564358e+00 1.07382226e+00\n",
            " 9.76671371e+01 1.73791325e+00 1.60164471e+01 2.16109425e-01\n",
            " 1.96673069e+01 1.85574417e+01 2.17345762e+00 5.13322258e+01\n",
            " 6.55728579e+00 5.72226524e-01 8.46492195e+00 2.08454285e+01\n",
            " 7.40907848e-01 1.46562439e+02 1.55376755e+02 3.44482307e+01\n",
            " 3.38018799e+00 1.37726074e+02 1.07996918e-01 4.96921873e+00\n",
            " 6.70893555e+01 1.15531616e+01 3.85303497e+00 3.75395179e+00\n",
            " 3.52148438e+01 8.60240555e+00 1.61145058e+01 3.00321884e+01], shape=(200,), dtype=float32)\n"
          ],
          "name": "stdout"
        },
        {
          "output_type": "execute_result",
          "data": {
            "text/plain": [
              "<tf.Variable 'UnreadVariable' shape=() dtype=int64, numpy=1>"
            ]
          },
          "metadata": {
            "tags": []
          },
          "execution_count": 170
        }
      ]
    },
    {
      "cell_type": "markdown",
      "metadata": {
        "id": "JwahIe4sG6Ik"
      },
      "source": [
        "### 2) Implemented keras tensor with the auto differentiation primitives to build the neural netwrok model with relu non linearity "
      ]
    },
    {
      "cell_type": "code",
      "metadata": {
        "colab": {
          "base_uri": "https://localhost:8080/"
        },
        "id": "JbqybmJvG6ks",
        "outputId": "0b033f75-fa96-4ec1-9917-c4f8eaec3428"
      },
      "source": [
        "from tensorflow import keras\n",
        "from tensorflow.keras import layers\n",
        "from tensorflow.keras import optimizers\n",
        "#implementing the layers in keras for the regression model\n",
        "inputs = keras.Input(shape=(3,))\n",
        "layer1 = layers.Dense(10, activation='relu', name='dense_1')(inputs)\n",
        "layer2 = layers.Dense(30, activation='relu', name='dense_2')(layer1)\n",
        "outputs = layers.Dense(2, name='regression')(layer2)\n",
        "\n",
        "model = keras.Model(inputs=inputs, outputs=outputs)\n",
        "print(model.summary())\n"
      ],
      "execution_count": null,
      "outputs": [
        {
          "output_type": "stream",
          "text": [
            "Model: \"model_1\"\n",
            "_________________________________________________________________\n",
            "Layer (type)                 Output Shape              Param #   \n",
            "=================================================================\n",
            "input_2 (InputLayer)         [(None, 3)]               0         \n",
            "_________________________________________________________________\n",
            "dense_1 (Dense)              (None, 10)                40        \n",
            "_________________________________________________________________\n",
            "dense_2 (Dense)              (None, 30)                330       \n",
            "_________________________________________________________________\n",
            "regression (Dense)           (None, 2)                 62        \n",
            "=================================================================\n",
            "Total params: 432\n",
            "Trainable params: 432\n",
            "Non-trainable params: 0\n",
            "_________________________________________________________________\n",
            "None\n"
          ],
          "name": "stdout"
        }
      ]
    },
    {
      "cell_type": "code",
      "metadata": {
        "colab": {
          "base_uri": "https://localhost:8080/"
        },
        "id": "ExIVXfiGLdC7",
        "outputId": "147bdbef-fd4f-454b-9a61-85968203abd2"
      },
      "source": [
        "## Compile the model and ran with the loss function and optimizers \n",
        "\n",
        "model.compile(loss='mse', optimizer=optimizers.SGD(0.1))\n",
        "model.fit(x, y_true, epochs=100)\n",
        "y_pred = model.predict(x)"
      ],
      "execution_count": null,
      "outputs": [
        {
          "output_type": "stream",
          "text": [
            "Epoch 1/100\n",
            "7/7 [==============================] - 0s 2ms/step - loss: 25.4343\n",
            "Epoch 2/100\n",
            "7/7 [==============================] - 0s 2ms/step - loss: 26.1224\n",
            "Epoch 3/100\n",
            "7/7 [==============================] - 0s 2ms/step - loss: 18.7160\n",
            "Epoch 4/100\n",
            "7/7 [==============================] - 0s 2ms/step - loss: 4.5016\n",
            "Epoch 5/100\n",
            "7/7 [==============================] - 0s 1ms/step - loss: 4.7811\n",
            "Epoch 6/100\n",
            "7/7 [==============================] - 0s 2ms/step - loss: 5.0574\n",
            "Epoch 7/100\n",
            "7/7 [==============================] - 0s 2ms/step - loss: 2.7423\n",
            "Epoch 8/100\n",
            "7/7 [==============================] - 0s 2ms/step - loss: 2.8017\n",
            "Epoch 9/100\n",
            "7/7 [==============================] - 0s 2ms/step - loss: 2.1682\n",
            "Epoch 10/100\n",
            "7/7 [==============================] - 0s 2ms/step - loss: 1.1628\n",
            "Epoch 11/100\n",
            "7/7 [==============================] - 0s 2ms/step - loss: 1.3496\n",
            "Epoch 12/100\n",
            "7/7 [==============================] - 0s 2ms/step - loss: 1.9370\n",
            "Epoch 13/100\n",
            "7/7 [==============================] - 0s 2ms/step - loss: 0.6169\n",
            "Epoch 14/100\n",
            "7/7 [==============================] - 0s 2ms/step - loss: 1.4506\n",
            "Epoch 15/100\n",
            "7/7 [==============================] - 0s 2ms/step - loss: 1.8669\n",
            "Epoch 16/100\n",
            "7/7 [==============================] - 0s 2ms/step - loss: 8.7261\n",
            "Epoch 17/100\n",
            "7/7 [==============================] - 0s 2ms/step - loss: 2.7434\n",
            "Epoch 18/100\n",
            "7/7 [==============================] - 0s 2ms/step - loss: 7.2872\n",
            "Epoch 19/100\n",
            "7/7 [==============================] - 0s 2ms/step - loss: 3.7085\n",
            "Epoch 20/100\n",
            "7/7 [==============================] - 0s 2ms/step - loss: 3.9022\n",
            "Epoch 21/100\n",
            "7/7 [==============================] - 0s 2ms/step - loss: 2.7463\n",
            "Epoch 22/100\n",
            "7/7 [==============================] - 0s 2ms/step - loss: 1.1507\n",
            "Epoch 23/100\n",
            "7/7 [==============================] - 0s 2ms/step - loss: 0.5354\n",
            "Epoch 24/100\n",
            "7/7 [==============================] - 0s 3ms/step - loss: 0.8533\n",
            "Epoch 25/100\n",
            "7/7 [==============================] - 0s 2ms/step - loss: 3.1316\n",
            "Epoch 26/100\n",
            "7/7 [==============================] - 0s 2ms/step - loss: 0.6668\n",
            "Epoch 27/100\n",
            "7/7 [==============================] - 0s 2ms/step - loss: 2.2938\n",
            "Epoch 28/100\n",
            "7/7 [==============================] - 0s 2ms/step - loss: 2.1689\n",
            "Epoch 29/100\n",
            "7/7 [==============================] - 0s 2ms/step - loss: 1.3943\n",
            "Epoch 30/100\n",
            "7/7 [==============================] - 0s 2ms/step - loss: 2.4418\n",
            "Epoch 31/100\n",
            "7/7 [==============================] - 0s 2ms/step - loss: 0.8935\n",
            "Epoch 32/100\n",
            "7/7 [==============================] - 0s 2ms/step - loss: 19.4396\n",
            "Epoch 33/100\n",
            "7/7 [==============================] - 0s 2ms/step - loss: 10.3304\n",
            "Epoch 34/100\n",
            "7/7 [==============================] - 0s 2ms/step - loss: 10.5565\n",
            "Epoch 35/100\n",
            "7/7 [==============================] - 0s 2ms/step - loss: 17.7182\n",
            "Epoch 36/100\n",
            "7/7 [==============================] - 0s 2ms/step - loss: 10.9742\n",
            "Epoch 37/100\n",
            "7/7 [==============================] - 0s 2ms/step - loss: 16.4620\n",
            "Epoch 38/100\n",
            "7/7 [==============================] - 0s 2ms/step - loss: 6.3596\n",
            "Epoch 39/100\n",
            "7/7 [==============================] - 0s 2ms/step - loss: 10.2910\n",
            "Epoch 40/100\n",
            "7/7 [==============================] - 0s 2ms/step - loss: 14.3544\n",
            "Epoch 41/100\n",
            "7/7 [==============================] - 0s 2ms/step - loss: 9.5316\n",
            "Epoch 42/100\n",
            "7/7 [==============================] - 0s 2ms/step - loss: 12.3524\n",
            "Epoch 43/100\n",
            "7/7 [==============================] - 0s 2ms/step - loss: 6.8548\n",
            "Epoch 44/100\n",
            "7/7 [==============================] - 0s 3ms/step - loss: 8.2178\n",
            "Epoch 45/100\n",
            "7/7 [==============================] - 0s 2ms/step - loss: 3.5178\n",
            "Epoch 46/100\n",
            "7/7 [==============================] - 0s 3ms/step - loss: 3.4988\n",
            "Epoch 47/100\n",
            "7/7 [==============================] - 0s 2ms/step - loss: 7.0934\n",
            "Epoch 48/100\n",
            "7/7 [==============================] - 0s 2ms/step - loss: 8.9688\n",
            "Epoch 49/100\n",
            "7/7 [==============================] - 0s 2ms/step - loss: 11.1217\n",
            "Epoch 50/100\n",
            "7/7 [==============================] - 0s 2ms/step - loss: 2.6777\n",
            "Epoch 51/100\n",
            "7/7 [==============================] - 0s 2ms/step - loss: 3.4222\n",
            "Epoch 52/100\n",
            "7/7 [==============================] - 0s 2ms/step - loss: 5.8214\n",
            "Epoch 53/100\n",
            "7/7 [==============================] - 0s 2ms/step - loss: 3.9581\n",
            "Epoch 54/100\n",
            "7/7 [==============================] - 0s 2ms/step - loss: 2.5766\n",
            "Epoch 55/100\n",
            "7/7 [==============================] - 0s 2ms/step - loss: 1.9108\n",
            "Epoch 56/100\n",
            "7/7 [==============================] - 0s 2ms/step - loss: 3.4895\n",
            "Epoch 57/100\n",
            "7/7 [==============================] - 0s 3ms/step - loss: 2.6931\n",
            "Epoch 58/100\n",
            "7/7 [==============================] - 0s 2ms/step - loss: 6.0648\n",
            "Epoch 59/100\n",
            "7/7 [==============================] - 0s 3ms/step - loss: 2.2049\n",
            "Epoch 60/100\n",
            "7/7 [==============================] - 0s 2ms/step - loss: 8.2586\n",
            "Epoch 61/100\n",
            "7/7 [==============================] - 0s 2ms/step - loss: 9.1710\n",
            "Epoch 62/100\n",
            "7/7 [==============================] - 0s 2ms/step - loss: 2.9326\n",
            "Epoch 63/100\n",
            "7/7 [==============================] - 0s 2ms/step - loss: 2.7431\n",
            "Epoch 64/100\n",
            "7/7 [==============================] - 0s 2ms/step - loss: 2.7587\n",
            "Epoch 65/100\n",
            "7/7 [==============================] - 0s 2ms/step - loss: 2.6034\n",
            "Epoch 66/100\n",
            "7/7 [==============================] - 0s 2ms/step - loss: 2.1188\n",
            "Epoch 67/100\n",
            "7/7 [==============================] - 0s 2ms/step - loss: 5.0555\n",
            "Epoch 68/100\n",
            "7/7 [==============================] - 0s 2ms/step - loss: 2.3258\n",
            "Epoch 69/100\n",
            "7/7 [==============================] - 0s 2ms/step - loss: 2.1559\n",
            "Epoch 70/100\n",
            "7/7 [==============================] - 0s 2ms/step - loss: 5.4448\n",
            "Epoch 71/100\n",
            "7/7 [==============================] - 0s 2ms/step - loss: 18.6428\n",
            "Epoch 72/100\n",
            "7/7 [==============================] - 0s 2ms/step - loss: 6.6781\n",
            "Epoch 73/100\n",
            "7/7 [==============================] - 0s 2ms/step - loss: 22.3851\n",
            "Epoch 74/100\n",
            "7/7 [==============================] - 0s 2ms/step - loss: 7.9375\n",
            "Epoch 75/100\n",
            "7/7 [==============================] - 0s 2ms/step - loss: 15.4409\n",
            "Epoch 76/100\n",
            "7/7 [==============================] - 0s 2ms/step - loss: 8.8453\n",
            "Epoch 77/100\n",
            "7/7 [==============================] - 0s 2ms/step - loss: 7.8110\n",
            "Epoch 78/100\n",
            "7/7 [==============================] - 0s 2ms/step - loss: 9.0907\n",
            "Epoch 79/100\n",
            "7/7 [==============================] - 0s 2ms/step - loss: 11.3175\n",
            "Epoch 80/100\n",
            "7/7 [==============================] - 0s 2ms/step - loss: 8.8621\n",
            "Epoch 81/100\n",
            "7/7 [==============================] - 0s 3ms/step - loss: 9.1550\n",
            "Epoch 82/100\n",
            "7/7 [==============================] - 0s 2ms/step - loss: 8.1374\n",
            "Epoch 83/100\n",
            "7/7 [==============================] - 0s 2ms/step - loss: 8.0287\n",
            "Epoch 84/100\n",
            "7/7 [==============================] - 0s 3ms/step - loss: 8.0915\n",
            "Epoch 85/100\n",
            "7/7 [==============================] - 0s 2ms/step - loss: 14.8445\n",
            "Epoch 86/100\n",
            "7/7 [==============================] - 0s 2ms/step - loss: 10.1294\n",
            "Epoch 87/100\n",
            "7/7 [==============================] - 0s 2ms/step - loss: 6.3587\n",
            "Epoch 88/100\n",
            "7/7 [==============================] - 0s 2ms/step - loss: 6.0956\n",
            "Epoch 89/100\n",
            "7/7 [==============================] - 0s 2ms/step - loss: 6.4334\n",
            "Epoch 90/100\n",
            "7/7 [==============================] - 0s 2ms/step - loss: 14.9050\n",
            "Epoch 91/100\n",
            "7/7 [==============================] - 0s 2ms/step - loss: 8.6506\n",
            "Epoch 92/100\n",
            "7/7 [==============================] - 0s 2ms/step - loss: 5.5648\n",
            "Epoch 93/100\n",
            "7/7 [==============================] - 0s 2ms/step - loss: 6.9654\n",
            "Epoch 94/100\n",
            "7/7 [==============================] - 0s 3ms/step - loss: 6.1941\n",
            "Epoch 95/100\n",
            "7/7 [==============================] - 0s 2ms/step - loss: 7.7385\n",
            "Epoch 96/100\n",
            "7/7 [==============================] - 0s 2ms/step - loss: 7.6414\n",
            "Epoch 97/100\n",
            "7/7 [==============================] - 0s 2ms/step - loss: 14.0698\n",
            "Epoch 98/100\n",
            "7/7 [==============================] - 0s 2ms/step - loss: 5.9664\n",
            "Epoch 99/100\n",
            "7/7 [==============================] - 0s 2ms/step - loss: 9.0666\n",
            "Epoch 100/100\n",
            "7/7 [==============================] - 0s 2ms/step - loss: 12.3288\n"
          ],
          "name": "stdout"
        }
      ]
    },
    {
      "cell_type": "code",
      "metadata": {
        "colab": {
          "base_uri": "https://localhost:8080/",
          "height": 372
        },
        "id": "-BRB5Q5pLtML",
        "outputId": "26cc1eb3-208d-493a-c6b9-f70ef4ea10ee"
      },
      "source": [
        "plot_3d(x, y_true, y_pred)"
      ],
      "execution_count": null,
      "outputs": [
        {
          "output_type": "stream",
          "text": [
            "/usr/local/lib/python3.7/dist-packages/mpl_toolkits/mplot3d/art3d.py:794: FutureWarning: elementwise comparison failed; returning scalar instead, but in the future will perform elementwise comparison\n",
            "  if zdir == 'x':\n",
            "/usr/local/lib/python3.7/dist-packages/mpl_toolkits/mplot3d/art3d.py:796: FutureWarning: elementwise comparison failed; returning scalar instead, but in the future will perform elementwise comparison\n",
            "  elif zdir == 'y':\n",
            "/usr/local/lib/python3.7/dist-packages/mpl_toolkits/mplot3d/art3d.py:798: FutureWarning: elementwise comparison failed; returning scalar instead, but in the future will perform elementwise comparison\n",
            "  elif zdir[0] == '-':\n"
          ],
          "name": "stderr"
        },
        {
          "output_type": "display_data",
          "data": {
            "image/png": "[encoded data removed]",
            "text/plain": [
              "<Figure size 432x288 with 1 Axes>"
            ]
          },
          "metadata": {
            "tags": [],
            "needs_background": "light"
          }
        }
      ]
    },
    {
      "cell_type": "markdown",
      "metadata": {
        "id": "jdiO1eYJOqk0"
      },
      "source": [
        "### 3) Implemented with model subclassing the keras linear modules datastructure to build 3 layer NN"
      ]
    },
    {
      "cell_type": "code",
      "metadata": {
        "id": "YhvdNANoO6xk"
      },
      "source": [
        "# Preparation of the datasets\n",
        "(x_train, y_train), (x_test, y_test) = tf.keras.datasets.mnist.load_data()\n",
        "x_train = x_train.reshape(60000, 784).astype('float32') / 255\n",
        "dataset = tf.data.Dataset.from_tensor_slices((x_train, y_train))\n",
        "dataset = dataset.shuffle(buffer_size=1024).batch(64)\n",
        "\n",
        "# Instantiating a simple regression model\n",
        "model = tf.keras.Sequential([\n",
        "  layers.Dense(256, activation=tf.nn.relu),\n",
        "  layers.Dense(256, activation=tf.nn.relu),\n",
        "  layers.Dense(10)\n",
        "])\n",
        "\n",
        "# Instantiate a logistic loss function that expects integer targets.\n",
        "loss = tf.keras.losses.SparseCategoricalCrossentropy(from_logits=True)\n",
        "\n",
        "# Instantiate an accuracy metric.\n",
        "accuracy = tf.keras.metrics.SparseCategoricalAccuracy()\n",
        "\n",
        "# Instantiate an optimizer.\n",
        "optimizer = tf.keras.optimizers.Adam()"
      ],
      "execution_count": null,
      "outputs": []
    },
    {
      "cell_type": "code",
      "metadata": {
        "id": "jGShM4i4gQAr"
      },
      "source": [
        "model.compile(optimizer=optimizer, loss=loss, metrics=[accuracy])"
      ],
      "execution_count": null,
      "outputs": []
    },
    {
      "cell_type": "code",
      "metadata": {
        "colab": {
          "base_uri": "https://localhost:8080/"
        },
        "id": "eTDj6PGWgRrb",
        "outputId": "91ceb060-9b71-4c20-9c8a-bfa2d8235986"
      },
      "source": [
        "#model ran for multiple epochs\n",
        "model.fit(dataset, epochs=3)"
      ],
      "execution_count": null,
      "outputs": [
        {
          "output_type": "stream",
          "text": [
            "Epoch 1/3\n",
            "938/938 [==============================] - 5s 5ms/step - loss: 0.4023 - sparse_categorical_accuracy: 0.8818\n",
            "Epoch 2/3\n",
            "938/938 [==============================] - 4s 5ms/step - loss: 0.0956 - sparse_categorical_accuracy: 0.9702\n",
            "Epoch 3/3\n",
            "938/938 [==============================] - 4s 5ms/step - loss: 0.0604 - sparse_categorical_accuracy: 0.9814\n"
          ],
          "name": "stdout"
        },
        {
          "output_type": "execute_result",
          "data": {
            "text/plain": [
              "<tensorflow.python.keras.callbacks.History at 0x7f66eca4bf90>"
            ]
          },
          "metadata": {
            "tags": []
          },
          "execution_count": 196
        }
      ]
    },
    {
      "cell_type": "code",
      "metadata": {
        "colab": {
          "base_uri": "https://localhost:8080/"
        },
        "id": "OHH20FaQgTCH",
        "outputId": "eea027ff-0509-481a-a7b8-2760b5c470d5"
      },
      "source": [
        "\n",
        "#creation of validation dataset\n",
        "x_test = x_test[:].reshape(10000, 784).astype('float32') / 255\n",
        "test_dataset = tf.data.Dataset.from_tensor_slices((x_test, y_test))\n",
        "test_dataset = test_dataset.batch(128)\n",
        "\n",
        "loss, acc = model.evaluate(test_dataset)\n",
        "print('loss: %.3f - acc: %.3f' % (loss, acc))"
      ],
      "execution_count": null,
      "outputs": [
        {
          "output_type": "stream",
          "text": [
            "79/79 [==============================] - 0s 3ms/step - loss: 0.0962 - sparse_categorical_accuracy: 0.9716\n",
            "loss: 0.096 - acc: 0.972\n"
          ],
          "name": "stdout"
        }
      ]
    },
    {
      "cell_type": "code",
      "metadata": {
        "colab": {
          "base_uri": "https://localhost:8080/"
        },
        "id": "VcKc5RLFgZ_N",
        "outputId": "c34bcdd2-3850-42ab-c4a8-04f8774ac433"
      },
      "source": [
        "# Instantiated the model with layers for the regression model\n",
        "model = tf.keras.Sequential([\n",
        "  layers.Dense(256, activation=tf.nn.relu),\n",
        "  layers.Dense(256, activation=tf.nn.relu),\n",
        "  layers.Dense(10)\n",
        "])\n",
        "\n",
        "# Instantiate the loss function \n",
        "loss = tf.keras.losses.SparseCategoricalCrossentropy(from_logits=True)\n",
        "\n",
        "# Instantiate an accuracy metric.\n",
        "accuracy = tf.keras.metrics.SparseCategoricalAccuracy()\n",
        "\n",
        "# Instantiate an optimizer.\n",
        "optimizer = tf.keras.optimizers.Adam()\n",
        "\n",
        "model.compile(optimizer=optimizer,\n",
        "              loss=loss,\n",
        "              metrics=[accuracy])\n",
        "\n",
        "# Instantiate some callbacks\n",
        "callbacks = [tf.keras.callbacks.EarlyStopping(),\n",
        "             tf.keras.callbacks.ModelCheckpoint(filepath='my_model.keras',\n",
        "                                                save_best_only=True)]\n",
        "#Fit the model and ran it for multiple epochs\n",
        "model.fit(x_train, y_train,\n",
        "          validation_data=(x_test, y_test),\n",
        "          epochs=30,\n",
        "          batch_size=64,\n",
        "          callbacks=callbacks)"
      ],
      "execution_count": null,
      "outputs": [
        {
          "output_type": "stream",
          "text": [
            "Epoch 1/30\n",
            "938/938 [==============================] - 5s 5ms/step - loss: 0.3905 - sparse_categorical_accuracy: 0.8859 - val_loss: 0.0971 - val_sparse_categorical_accuracy: 0.9685\n",
            "Epoch 2/30\n",
            "938/938 [==============================] - 5s 5ms/step - loss: 0.0876 - sparse_categorical_accuracy: 0.9732 - val_loss: 0.0734 - val_sparse_categorical_accuracy: 0.9776\n",
            "Epoch 3/30\n",
            "938/938 [==============================] - 5s 5ms/step - loss: 0.0554 - sparse_categorical_accuracy: 0.9819 - val_loss: 0.0780 - val_sparse_categorical_accuracy: 0.9761\n"
          ],
          "name": "stdout"
        },
        {
          "output_type": "execute_result",
          "data": {
            "text/plain": [
              "<tensorflow.python.keras.callbacks.History at 0x7f66f63c6d90>"
            ]
          },
          "metadata": {
            "tags": []
          },
          "execution_count": 198
        }
      ]
    },
    {
      "cell_type": "markdown",
      "metadata": {
        "id": "bzudtnD8y80d"
      },
      "source": [
        "### References followed :\n",
        "1)Class PPT \n",
        "2)https://towardsdatascience.com/pytorch-lightning-making-your-training-phase-cleaner-and-easier-845c4629445b\n",
        "3)https://discuss.pytorch.org/t/multiple-outputs-of-a-nn/68946\n",
        "4)https://discuss.pytorch.org/t/a-model-with-multiple-outputs/10440\n",
        "\n",
        "5)https://medium.com/dair-ai/a-simple-neural-network-from-scratch-with-pytorch-and-google-colab-c7f3830618e0\n",
        "\n"
      ]
    }
  ]
}