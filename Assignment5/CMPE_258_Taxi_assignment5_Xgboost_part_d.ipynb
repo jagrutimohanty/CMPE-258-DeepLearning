{
  "nbformat": 4,
  "nbformat_minor": 0,
  "metadata": {
    "colab": {
      "name": "CMPE-258-Taxi-assignment5-Xgboost-part-d.ipynb",
      "provenance": [],
      "collapsed_sections": [],
      "toc_visible": true,
      "machine_shape": "hm",
      "authorship_tag": "ABX9TyN4w3Z4e9+kiV7v2eXkE/xl",
      "include_colab_link": true
    },
    "kernelspec": {
      "name": "python3",
      "display_name": "Python 3"
    },
    "language_info": {
      "name": "python"
    },
    "accelerator": "GPU"
  },
  "cells": [
    {
      "cell_type": "markdown",
      "metadata": {
        "id": "view-in-github",
        "colab_type": "text"
      },
      "source": [
        "<a href=\"https://colab.research.google.com/github/jagrutimohanty/CMPE-258-DeepLearning/blob/main/Assignment5/CMPE_258_Taxi_assignment5_Xgboost_part_d.ipynb\" target=\"_parent\"><img src=\"https://colab.research.google.com/assets/colab-badge.svg\" alt=\"Open In Colab\"/></a>"
      ]
    },
    {
      "cell_type": "markdown",
      "metadata": {
        "id": "BTu2Lo3hMWeq"
      },
      "source": [
        "Name : Jagruti Mohanty\n",
        "\n",
        "Assignment : Assignment 5 part d\n",
        "### Using XBoost build the taxi fare prediciton model"
      ]
    },
    {
      "cell_type": "markdown",
      "metadata": {
        "id": "9DfecVBCMnK1"
      },
      "source": [
        "-Created new feature (minutes) as a part of feature engineering step\n",
        "\n",
        "-Changed the parameters for xgboost model which resulted in lowering the rmse loss value and better accuracy\n"
      ]
    },
    {
      "cell_type": "markdown",
      "metadata": {
        "id": "TACfwMsh__iS"
      },
      "source": [
        "Completed the assignment with help of reference shared and made modifications and additions to the existing code"
      ]
    },
    {
      "cell_type": "markdown",
      "metadata": {
        "id": "2cdN53C6SuHy"
      },
      "source": [
        "### About the problem and dataset\n",
        "\n",
        "Use NYC's openly available taxi-fare dataset to predict the price of a Taxi ride. Our goal is to use TF as the ML Framework to build a pipeline which should be capable of scaling on infinite data to make an enterprise scale model.\n"
      ]
    },
    {
      "cell_type": "code",
      "metadata": {
        "id": "ltQKoJPVVKm7"
      },
      "source": [
        "# load some default Python modules\n",
        "import numpy as np\n",
        "import pandas as pd\n",
        "\n",
        "import matplotlib.pyplot as plt\n",
        "import seaborn as sns\n",
        "% matplotlib inline\n",
        "\n",
        "plt.style.use('seaborn-whitegrid')\n",
        "\n",
        "import warnings\n",
        "warnings.filterwarnings('ignore')"
      ],
      "execution_count": null,
      "outputs": []
    },
    {
      "cell_type": "code",
      "metadata": {
        "id": "ef6LD1jvVfdx"
      },
      "source": [
        "from pydrive.auth import GoogleAuth\n",
        "from pydrive.drive import GoogleDrive\n",
        "from google.colab import auth\n",
        "from oauth2client.client import GoogleCredentials"
      ],
      "execution_count": null,
      "outputs": []
    },
    {
      "cell_type": "code",
      "metadata": {
        "id": "2kXDqvnyVjhg"
      },
      "source": [
        "#Authenticate and create the PyDrive client\n",
        "auth.authenticate_user()\n",
        "gauth = GoogleAuth()\n",
        "gauth.credentials = GoogleCredentials.get_application_default()\n",
        "drive = GoogleDrive(gauth)"
      ],
      "execution_count": null,
      "outputs": []
    },
    {
      "cell_type": "code",
      "metadata": {
        "colab": {
          "base_uri": "https://localhost:8080/"
        },
        "id": "dDasxNFDVqm4",
        "outputId": "059c2b5e-1bbf-4212-d7f0-a15b5af74f4c"
      },
      "source": [
        "from google.colab import drive\n",
        "\n",
        "drive.mount('/content/gdrive')\n",
        "\n",
        "!ls '/content/gdrive/MyDrive/CMPE-258-Jagruti Mohanty/train.csv'"
      ],
      "execution_count": null,
      "outputs": [
        {
          "output_type": "stream",
          "text": [
            "Drive already mounted at /content/gdrive; to attempt to forcibly remount, call drive.mount(\"/content/gdrive\", force_remount=True).\n",
            "'/content/gdrive/MyDrive/CMPE-258-Jagruti Mohanty/train.csv'\n"
          ],
          "name": "stdout"
        }
      ]
    },
    {
      "cell_type": "code",
      "metadata": {
        "colab": {
          "base_uri": "https://localhost:8080/",
          "height": 309
        },
        "id": "JKcuxFfaVx5D",
        "outputId": "4f03db5d-bd92-451d-9746-20a9a9141936"
      },
      "source": [
        "train = pd.read_csv('/content/gdrive/MyDrive/CMPE-258-Jagruti Mohanty/train.csv', sep=',',nrows=200000)\n",
        "#\n",
        "train.head()"
      ],
      "execution_count": null,
      "outputs": [
        {
          "output_type": "execute_result",
          "data": {
            "text/html": [
              "<div>\n",
              "<style scoped>\n",
              "    .dataframe tbody tr th:only-of-type {\n",
              "        vertical-align: middle;\n",
              "    }\n",
              "\n",
              "    .dataframe tbody tr th {\n",
              "        vertical-align: top;\n",
              "    }\n",
              "\n",
              "    .dataframe thead th {\n",
              "        text-align: right;\n",
              "    }\n",
              "</style>\n",
              "<table border=\"1\" class=\"dataframe\">\n",
              "  <thead>\n",
              "    <tr style=\"text-align: right;\">\n",
              "      <th></th>\n",
              "      <th>key</th>\n",
              "      <th>fare_amount</th>\n",
              "      <th>pickup_datetime</th>\n",
              "      <th>pickup_longitude</th>\n",
              "      <th>pickup_latitude</th>\n",
              "      <th>dropoff_longitude</th>\n",
              "      <th>dropoff_latitude</th>\n",
              "      <th>passenger_count</th>\n",
              "    </tr>\n",
              "  </thead>\n",
              "  <tbody>\n",
              "    <tr>\n",
              "      <th>0</th>\n",
              "      <td>2009-06-15 17:26:21.0000001</td>\n",
              "      <td>4.5</td>\n",
              "      <td>2009-06-15 17:26:21 UTC</td>\n",
              "      <td>-73.844311</td>\n",
              "      <td>40.721319</td>\n",
              "      <td>-73.841610</td>\n",
              "      <td>40.712278</td>\n",
              "      <td>1</td>\n",
              "    </tr>\n",
              "    <tr>\n",
              "      <th>1</th>\n",
              "      <td>2010-01-05 16:52:16.0000002</td>\n",
              "      <td>16.9</td>\n",
              "      <td>2010-01-05 16:52:16 UTC</td>\n",
              "      <td>-74.016048</td>\n",
              "      <td>40.711303</td>\n",
              "      <td>-73.979268</td>\n",
              "      <td>40.782004</td>\n",
              "      <td>1</td>\n",
              "    </tr>\n",
              "    <tr>\n",
              "      <th>2</th>\n",
              "      <td>2011-08-18 00:35:00.00000049</td>\n",
              "      <td>5.7</td>\n",
              "      <td>2011-08-18 00:35:00 UTC</td>\n",
              "      <td>-73.982738</td>\n",
              "      <td>40.761270</td>\n",
              "      <td>-73.991242</td>\n",
              "      <td>40.750562</td>\n",
              "      <td>2</td>\n",
              "    </tr>\n",
              "    <tr>\n",
              "      <th>3</th>\n",
              "      <td>2012-04-21 04:30:42.0000001</td>\n",
              "      <td>7.7</td>\n",
              "      <td>2012-04-21 04:30:42 UTC</td>\n",
              "      <td>-73.987130</td>\n",
              "      <td>40.733143</td>\n",
              "      <td>-73.991567</td>\n",
              "      <td>40.758092</td>\n",
              "      <td>1</td>\n",
              "    </tr>\n",
              "    <tr>\n",
              "      <th>4</th>\n",
              "      <td>2010-03-09 07:51:00.000000135</td>\n",
              "      <td>5.3</td>\n",
              "      <td>2010-03-09 07:51:00 UTC</td>\n",
              "      <td>-73.968095</td>\n",
              "      <td>40.768008</td>\n",
              "      <td>-73.956655</td>\n",
              "      <td>40.783762</td>\n",
              "      <td>1</td>\n",
              "    </tr>\n",
              "  </tbody>\n",
              "</table>\n",
              "</div>"
            ],
            "text/plain": [
              "                             key  ...  passenger_count\n",
              "0    2009-06-15 17:26:21.0000001  ...                1\n",
              "1    2010-01-05 16:52:16.0000002  ...                1\n",
              "2   2011-08-18 00:35:00.00000049  ...                2\n",
              "3    2012-04-21 04:30:42.0000001  ...                1\n",
              "4  2010-03-09 07:51:00.000000135  ...                1\n",
              "\n",
              "[5 rows x 8 columns]"
            ]
          },
          "metadata": {
            "tags": []
          },
          "execution_count": 75
        }
      ]
    },
    {
      "cell_type": "code",
      "metadata": {
        "colab": {
          "base_uri": "https://localhost:8080/"
        },
        "id": "ZICLIhzWV9g3",
        "outputId": "5e37f87f-fc65-49b9-849c-7d1e39cf0f7e"
      },
      "source": [
        "# datatypes\n",
        "train.dtypes"
      ],
      "execution_count": null,
      "outputs": [
        {
          "output_type": "execute_result",
          "data": {
            "text/plain": [
              "key                   object\n",
              "fare_amount          float64\n",
              "pickup_datetime       object\n",
              "pickup_longitude     float64\n",
              "pickup_latitude      float64\n",
              "dropoff_longitude    float64\n",
              "dropoff_latitude     float64\n",
              "passenger_count        int64\n",
              "dtype: object"
            ]
          },
          "metadata": {
            "tags": []
          },
          "execution_count": 76
        }
      ]
    },
    {
      "cell_type": "code",
      "metadata": {
        "colab": {
          "base_uri": "https://localhost:8080/",
          "height": 297
        },
        "id": "l0FN_mdqWAQ8",
        "outputId": "306b2a3b-c4e0-4650-9467-e76654c4b400"
      },
      "source": [
        "# Basic Stats of the data set\n",
        "train.describe()"
      ],
      "execution_count": null,
      "outputs": [
        {
          "output_type": "execute_result",
          "data": {
            "text/html": [
              "<div>\n",
              "<style scoped>\n",
              "    .dataframe tbody tr th:only-of-type {\n",
              "        vertical-align: middle;\n",
              "    }\n",
              "\n",
              "    .dataframe tbody tr th {\n",
              "        vertical-align: top;\n",
              "    }\n",
              "\n",
              "    .dataframe thead th {\n",
              "        text-align: right;\n",
              "    }\n",
              "</style>\n",
              "<table border=\"1\" class=\"dataframe\">\n",
              "  <thead>\n",
              "    <tr style=\"text-align: right;\">\n",
              "      <th></th>\n",
              "      <th>fare_amount</th>\n",
              "      <th>pickup_longitude</th>\n",
              "      <th>pickup_latitude</th>\n",
              "      <th>dropoff_longitude</th>\n",
              "      <th>dropoff_latitude</th>\n",
              "      <th>passenger_count</th>\n",
              "    </tr>\n",
              "  </thead>\n",
              "  <tbody>\n",
              "    <tr>\n",
              "      <th>count</th>\n",
              "      <td>200000.000000</td>\n",
              "      <td>200000.000000</td>\n",
              "      <td>200000.000000</td>\n",
              "      <td>199999.000000</td>\n",
              "      <td>199999.000000</td>\n",
              "      <td>200000.000000</td>\n",
              "    </tr>\n",
              "    <tr>\n",
              "      <th>mean</th>\n",
              "      <td>11.342877</td>\n",
              "      <td>-72.506121</td>\n",
              "      <td>39.922326</td>\n",
              "      <td>-72.518673</td>\n",
              "      <td>39.925579</td>\n",
              "      <td>1.682445</td>\n",
              "    </tr>\n",
              "    <tr>\n",
              "      <th>std</th>\n",
              "      <td>9.837855</td>\n",
              "      <td>11.608097</td>\n",
              "      <td>10.048947</td>\n",
              "      <td>10.724226</td>\n",
              "      <td>6.751120</td>\n",
              "      <td>1.306730</td>\n",
              "    </tr>\n",
              "    <tr>\n",
              "      <th>min</th>\n",
              "      <td>-44.900000</td>\n",
              "      <td>-736.550000</td>\n",
              "      <td>-3116.285383</td>\n",
              "      <td>-1251.195890</td>\n",
              "      <td>-1189.615440</td>\n",
              "      <td>0.000000</td>\n",
              "    </tr>\n",
              "    <tr>\n",
              "      <th>25%</th>\n",
              "      <td>6.000000</td>\n",
              "      <td>-73.992050</td>\n",
              "      <td>40.735007</td>\n",
              "      <td>-73.991295</td>\n",
              "      <td>40.734092</td>\n",
              "      <td>1.000000</td>\n",
              "    </tr>\n",
              "    <tr>\n",
              "      <th>50%</th>\n",
              "      <td>8.500000</td>\n",
              "      <td>-73.981743</td>\n",
              "      <td>40.752761</td>\n",
              "      <td>-73.980072</td>\n",
              "      <td>40.753225</td>\n",
              "      <td>1.000000</td>\n",
              "    </tr>\n",
              "    <tr>\n",
              "      <th>75%</th>\n",
              "      <td>12.500000</td>\n",
              "      <td>-73.967068</td>\n",
              "      <td>40.767127</td>\n",
              "      <td>-73.963508</td>\n",
              "      <td>40.768070</td>\n",
              "      <td>2.000000</td>\n",
              "    </tr>\n",
              "    <tr>\n",
              "      <th>max</th>\n",
              "      <td>500.000000</td>\n",
              "      <td>2140.601160</td>\n",
              "      <td>1703.092772</td>\n",
              "      <td>40.851027</td>\n",
              "      <td>404.616667</td>\n",
              "      <td>6.000000</td>\n",
              "    </tr>\n",
              "  </tbody>\n",
              "</table>\n",
              "</div>"
            ],
            "text/plain": [
              "         fare_amount  pickup_longitude  ...  dropoff_latitude  passenger_count\n",
              "count  200000.000000     200000.000000  ...     199999.000000    200000.000000\n",
              "mean       11.342877        -72.506121  ...         39.925579         1.682445\n",
              "std         9.837855         11.608097  ...          6.751120         1.306730\n",
              "min       -44.900000       -736.550000  ...      -1189.615440         0.000000\n",
              "25%         6.000000        -73.992050  ...         40.734092         1.000000\n",
              "50%         8.500000        -73.981743  ...         40.753225         1.000000\n",
              "75%        12.500000        -73.967068  ...         40.768070         2.000000\n",
              "max       500.000000       2140.601160  ...        404.616667         6.000000\n",
              "\n",
              "[8 rows x 6 columns]"
            ]
          },
          "metadata": {
            "tags": []
          },
          "execution_count": 77
        }
      ]
    },
    {
      "cell_type": "code",
      "metadata": {
        "colab": {
          "base_uri": "https://localhost:8080/"
        },
        "id": "sJHBW1EgWEIB",
        "outputId": "4d31ff8d-db54-459e-dd9c-39e85bd60f17"
      },
      "source": [
        "print(\"old size: %d\" % len(train))\n",
        "train = train[train.fare_amount >=0]\n",
        "print(\"New size: %d\" % len(train))"
      ],
      "execution_count": null,
      "outputs": [
        {
          "output_type": "stream",
          "text": [
            "old size: 200000\n",
            "New size: 199987\n"
          ],
          "name": "stdout"
        }
      ]
    },
    {
      "cell_type": "code",
      "metadata": {
        "colab": {
          "base_uri": "https://localhost:8080/"
        },
        "id": "c48dkzuQWHMV",
        "outputId": "75780a9c-f1bd-4254-b0cc-e41647955b88"
      },
      "source": [
        "# check missing data\n",
        "train.isnull().sum()"
      ],
      "execution_count": null,
      "outputs": [
        {
          "output_type": "execute_result",
          "data": {
            "text/plain": [
              "key                  0\n",
              "fare_amount          0\n",
              "pickup_datetime      0\n",
              "pickup_longitude     0\n",
              "pickup_latitude      0\n",
              "dropoff_longitude    1\n",
              "dropoff_latitude     1\n",
              "passenger_count      0\n",
              "dtype: int64"
            ]
          },
          "metadata": {
            "tags": []
          },
          "execution_count": 79
        }
      ]
    },
    {
      "cell_type": "code",
      "metadata": {
        "colab": {
          "base_uri": "https://localhost:8080/"
        },
        "id": "jjn6HG8_WKjr",
        "outputId": "0f5f13d2-3b2d-492c-e0e4-53044c992b08"
      },
      "source": [
        "print(\"old size: %d\" % len(train))\n",
        "train = train.dropna(how='any', axis=0)\n",
        "print(\"New size after dropping missing value: %d\" % len(train))"
      ],
      "execution_count": null,
      "outputs": [
        {
          "output_type": "stream",
          "text": [
            "old size: 199987\n",
            "New size after dropping missing value: 199986\n"
          ],
          "name": "stdout"
        }
      ]
    },
    {
      "cell_type": "code",
      "metadata": {
        "colab": {
          "base_uri": "https://localhost:8080/",
          "height": 510
        },
        "id": "UIIQUF_lWODc",
        "outputId": "af60d212-9257-4b67-f9c4-17d029e38bd8"
      },
      "source": [
        "# Lets see the distribution of fare amount \n",
        "train.fare_amount.hist(bins=100, figsize = (16,8))\n",
        "plt.xlabel(\"Fare Amount\")\n",
        "plt.ylabel(\"Frequency\")"
      ],
      "execution_count": null,
      "outputs": [
        {
          "output_type": "execute_result",
          "data": {
            "text/plain": [
              "Text(0, 0.5, 'Frequency')"
            ]
          },
          "metadata": {
            "tags": []
          },
          "execution_count": 81
        },
        {
          "output_type": "display_data",
          "data": {
            "image/png": "[encoded data removed]",
            "text/plain": [
              "<Figure size 1152x576 with 1 Axes>"
            ]
          },
          "metadata": {
            "tags": []
          }
        }
      ]
    },
    {
      "cell_type": "code",
      "metadata": {
        "colab": {
          "base_uri": "https://localhost:8080/",
          "height": 510
        },
        "id": "F7zhqz-AWSCO",
        "outputId": "0b034e9d-f5ef-4811-820f-5c69a1e7df78"
      },
      "source": [
        "# Lets see the distribution of fare amount less than 100\n",
        "train[train.fare_amount <100 ].fare_amount.hist(bins=100, figsize = (16,8))\n",
        "plt.xlabel(\"Fare Amount\")\n",
        "plt.ylabel(\"Frequency\")"
      ],
      "execution_count": null,
      "outputs": [
        {
          "output_type": "execute_result",
          "data": {
            "text/plain": [
              "Text(0, 0.5, 'Frequency')"
            ]
          },
          "metadata": {
            "tags": []
          },
          "execution_count": 82
        },
        {
          "output_type": "display_data",
          "data": {
            "image/png": "[encoded data removed]",
            "text/plain": [
              "<Figure size 1152x576 with 1 Axes>"
            ]
          },
          "metadata": {
            "tags": []
          }
        }
      ]
    },
    {
      "cell_type": "code",
      "metadata": {
        "colab": {
          "base_uri": "https://localhost:8080/"
        },
        "id": "nYhxFvE8WW5t",
        "outputId": "ac3485d2-4602-4b2c-fed2-161d38e7bfdd"
      },
      "source": [
        "train[train.fare_amount >100 ].shape"
      ],
      "execution_count": null,
      "outputs": [
        {
          "output_type": "execute_result",
          "data": {
            "text/plain": [
              "(85, 8)"
            ]
          },
          "metadata": {
            "tags": []
          },
          "execution_count": 83
        }
      ]
    },
    {
      "cell_type": "code",
      "metadata": {
        "colab": {
          "base_uri": "https://localhost:8080/",
          "height": 510
        },
        "id": "aGe8_jcsWbBE",
        "outputId": "a1d64406-b8ed-4e11-839c-6d921e57674b"
      },
      "source": [
        "# Lets see the distribution of fare amount more than 100\n",
        "train[train.fare_amount >100 ].fare_amount.hist(bins=100, figsize = (16,8))\n",
        "plt.xlabel(\"Fare Amount\")\n",
        "plt.ylabel(\"Frequency\")"
      ],
      "execution_count": null,
      "outputs": [
        {
          "output_type": "execute_result",
          "data": {
            "text/plain": [
              "Text(0, 0.5, 'Frequency')"
            ]
          },
          "metadata": {
            "tags": []
          },
          "execution_count": 84
        },
        {
          "output_type": "display_data",
          "data": {
            "image/png": "[encoded data removed]",
            "text/plain": [
              "<Figure size 1152x576 with 1 Axes>"
            ]
          },
          "metadata": {
            "tags": []
          }
        }
      ]
    },
    {
      "cell_type": "code",
      "metadata": {
        "colab": {
          "base_uri": "https://localhost:8080/",
          "height": 510
        },
        "id": "FXca2t6KWfAM",
        "outputId": "55c1bda9-0c1e-4452-ec5c-e0ef6391bdd3"
      },
      "source": [
        "# checking for passanger count greater than 7\n",
        "train[train.passenger_count >7].passenger_count.hist(bins=10, figsize = (16,8))\n",
        "plt.xlabel(\"Passanger Count\")\n",
        "plt.ylabel(\"Frequency\")"
      ],
      "execution_count": null,
      "outputs": [
        {
          "output_type": "execute_result",
          "data": {
            "text/plain": [
              "Text(0, 0.5, 'Frequency')"
            ]
          },
          "metadata": {
            "tags": []
          },
          "execution_count": 85
        },
        {
          "output_type": "display_data",
          "data": {
            "image/png": "[encoded data removed]",
            "text/plain": [
              "<Figure size 1152x576 with 1 Axes>"
            ]
          },
          "metadata": {
            "tags": []
          }
        }
      ]
    },
    {
      "cell_type": "code",
      "metadata": {
        "colab": {
          "base_uri": "https://localhost:8080/",
          "height": 69
        },
        "id": "qSu6DtoTWzjg",
        "outputId": "03bf3217-40a5-4088-ad86-6f39da4563b3"
      },
      "source": [
        "# data for passanger count greater than 7\n",
        "train[train.passenger_count >7]"
      ],
      "execution_count": null,
      "outputs": [
        {
          "output_type": "execute_result",
          "data": {
            "text/html": [
              "<div>\n",
              "<style scoped>\n",
              "    .dataframe tbody tr th:only-of-type {\n",
              "        vertical-align: middle;\n",
              "    }\n",
              "\n",
              "    .dataframe tbody tr th {\n",
              "        vertical-align: top;\n",
              "    }\n",
              "\n",
              "    .dataframe thead th {\n",
              "        text-align: right;\n",
              "    }\n",
              "</style>\n",
              "<table border=\"1\" class=\"dataframe\">\n",
              "  <thead>\n",
              "    <tr style=\"text-align: right;\">\n",
              "      <th></th>\n",
              "      <th>key</th>\n",
              "      <th>fare_amount</th>\n",
              "      <th>pickup_datetime</th>\n",
              "      <th>pickup_longitude</th>\n",
              "      <th>pickup_latitude</th>\n",
              "      <th>dropoff_longitude</th>\n",
              "      <th>dropoff_latitude</th>\n",
              "      <th>passenger_count</th>\n",
              "    </tr>\n",
              "  </thead>\n",
              "  <tbody>\n",
              "  </tbody>\n",
              "</table>\n",
              "</div>"
            ],
            "text/plain": [
              "Empty DataFrame\n",
              "Columns: [key, fare_amount, pickup_datetime, pickup_longitude, pickup_latitude, dropoff_longitude, dropoff_latitude, passenger_count]\n",
              "Index: []"
            ]
          },
          "metadata": {
            "tags": []
          },
          "execution_count": 86
        }
      ]
    },
    {
      "cell_type": "code",
      "metadata": {
        "colab": {
          "base_uri": "https://localhost:8080/",
          "height": 510
        },
        "id": "Jw4x-dlNW3Gu",
        "outputId": "d7a87a83-c4a2-4820-cef1-c44b58709f59"
      },
      "source": [
        "# checking for passanger count less than 7\n",
        "train[train.passenger_count <7].passenger_count.hist(bins=10, figsize = (16,8))\n",
        "plt.xlabel(\"Passanger Count\")\n",
        "plt.ylabel(\"Frequency\")"
      ],
      "execution_count": null,
      "outputs": [
        {
          "output_type": "execute_result",
          "data": {
            "text/plain": [
              "Text(0, 0.5, 'Frequency')"
            ]
          },
          "metadata": {
            "tags": []
          },
          "execution_count": 87
        },
        {
          "output_type": "display_data",
          "data": {
            "image/png": "[encoded data removed]",
            "text/plain": [
              "<Figure size 1152x576 with 1 Axes>"
            ]
          },
          "metadata": {
            "tags": []
          }
        }
      ]
    },
    {
      "cell_type": "code",
      "metadata": {
        "colab": {
          "base_uri": "https://localhost:8080/"
        },
        "id": "DcKsuX2-W67m",
        "outputId": "3cd87059-1a69-44a8-a40d-1565d28fcf8e"
      },
      "source": [
        "# checking for records where passanger count is 0\n",
        "train[train.passenger_count ==0].shape"
      ],
      "execution_count": null,
      "outputs": [
        {
          "output_type": "execute_result",
          "data": {
            "text/plain": [
              "(713, 8)"
            ]
          },
          "metadata": {
            "tags": []
          },
          "execution_count": 88
        }
      ]
    },
    {
      "cell_type": "code",
      "metadata": {
        "colab": {
          "base_uri": "https://localhost:8080/",
          "height": 510
        },
        "id": "0rsMS31wW-Dx",
        "outputId": "4c405f04-776d-45a0-eadd-d60d40faaaa9"
      },
      "source": [
        "plt.figure(figsize= (16,8))\n",
        "sns.boxplot(x = train[train.passenger_count< 7].passenger_count, y = train.fare_amount)"
      ],
      "execution_count": null,
      "outputs": [
        {
          "output_type": "execute_result",
          "data": {
            "text/plain": [
              "<matplotlib.axes._subplots.AxesSubplot at 0x7f75fc728c10>"
            ]
          },
          "metadata": {
            "tags": []
          },
          "execution_count": 89
        },
        {
          "output_type": "display_data",
          "data": {
            "image/png": "[encoded data removed]",
            "text/plain": [
              "<Figure size 1152x576 with 1 Axes>"
            ]
          },
          "metadata": {
            "tags": []
          }
        }
      ]
    },
    {
      "cell_type": "code",
      "metadata": {
        "colab": {
          "base_uri": "https://localhost:8080/",
          "height": 111
        },
        "id": "vBtkRKqvXB8n",
        "outputId": "71110e4e-53f5-49b7-d40c-4b4b423254b6"
      },
      "source": [
        "train[train.passenger_count <7][['fare_amount','passenger_count']].corr()"
      ],
      "execution_count": null,
      "outputs": [
        {
          "output_type": "execute_result",
          "data": {
            "text/html": [
              "<div>\n",
              "<style scoped>\n",
              "    .dataframe tbody tr th:only-of-type {\n",
              "        vertical-align: middle;\n",
              "    }\n",
              "\n",
              "    .dataframe tbody tr th {\n",
              "        vertical-align: top;\n",
              "    }\n",
              "\n",
              "    .dataframe thead th {\n",
              "        text-align: right;\n",
              "    }\n",
              "</style>\n",
              "<table border=\"1\" class=\"dataframe\">\n",
              "  <thead>\n",
              "    <tr style=\"text-align: right;\">\n",
              "      <th></th>\n",
              "      <th>fare_amount</th>\n",
              "      <th>passenger_count</th>\n",
              "    </tr>\n",
              "  </thead>\n",
              "  <tbody>\n",
              "    <tr>\n",
              "      <th>fare_amount</th>\n",
              "      <td>1.000000</td>\n",
              "      <td>0.013906</td>\n",
              "    </tr>\n",
              "    <tr>\n",
              "      <th>passenger_count</th>\n",
              "      <td>0.013906</td>\n",
              "      <td>1.000000</td>\n",
              "    </tr>\n",
              "  </tbody>\n",
              "</table>\n",
              "</div>"
            ],
            "text/plain": [
              "                 fare_amount  passenger_count\n",
              "fare_amount         1.000000         0.013906\n",
              "passenger_count     0.013906         1.000000"
            ]
          },
          "metadata": {
            "tags": []
          },
          "execution_count": 90
        }
      ]
    },
    {
      "cell_type": "code",
      "metadata": {
        "id": "euOVHQKlXPRH"
      },
      "source": [
        "#Authenticate and create the PyDrive client\n",
        "auth.authenticate_user()\n",
        "gauth = GoogleAuth()\n",
        "gauth.credentials = GoogleCredentials.get_application_default()\n",
        "drive = GoogleDrive(gauth)"
      ],
      "execution_count": null,
      "outputs": []
    },
    {
      "cell_type": "code",
      "metadata": {
        "id": "EJ7XDP5xXMHa"
      },
      "source": [
        "#Get the Shareable file link and get the contents\n",
        "downloaded = drive.CreateFile({'id':\"1uBPgT7IhDcuKddxuls6MKJwIL_A0zg-Q\"})   \n",
        "downloaded.GetContentFile('test.csv') "
      ],
      "execution_count": null,
      "outputs": []
    },
    {
      "cell_type": "code",
      "metadata": {
        "colab": {
          "base_uri": "https://localhost:8080/",
          "height": 309
        },
        "id": "TdpoUz2wXGel",
        "outputId": "fadcee30-0995-48eb-c431-1d7dc906e2b3"
      },
      "source": [
        "test = pd.read_csv('test.csv', sep=',')\n",
        "test.head()"
      ],
      "execution_count": null,
      "outputs": [
        {
          "output_type": "execute_result",
          "data": {
            "text/html": [
              "<div>\n",
              "<style scoped>\n",
              "    .dataframe tbody tr th:only-of-type {\n",
              "        vertical-align: middle;\n",
              "    }\n",
              "\n",
              "    .dataframe tbody tr th {\n",
              "        vertical-align: top;\n",
              "    }\n",
              "\n",
              "    .dataframe thead th {\n",
              "        text-align: right;\n",
              "    }\n",
              "</style>\n",
              "<table border=\"1\" class=\"dataframe\">\n",
              "  <thead>\n",
              "    <tr style=\"text-align: right;\">\n",
              "      <th></th>\n",
              "      <th>key</th>\n",
              "      <th>pickup_datetime</th>\n",
              "      <th>pickup_longitude</th>\n",
              "      <th>pickup_latitude</th>\n",
              "      <th>dropoff_longitude</th>\n",
              "      <th>dropoff_latitude</th>\n",
              "      <th>passenger_count</th>\n",
              "    </tr>\n",
              "  </thead>\n",
              "  <tbody>\n",
              "    <tr>\n",
              "      <th>0</th>\n",
              "      <td>2015-01-27 13:08:24.0000002</td>\n",
              "      <td>2015-01-27 13:08:24 UTC</td>\n",
              "      <td>-73.973320</td>\n",
              "      <td>40.763805</td>\n",
              "      <td>-73.981430</td>\n",
              "      <td>40.743835</td>\n",
              "      <td>1</td>\n",
              "    </tr>\n",
              "    <tr>\n",
              "      <th>1</th>\n",
              "      <td>2015-01-27 13:08:24.0000003</td>\n",
              "      <td>2015-01-27 13:08:24 UTC</td>\n",
              "      <td>-73.986862</td>\n",
              "      <td>40.719383</td>\n",
              "      <td>-73.998886</td>\n",
              "      <td>40.739201</td>\n",
              "      <td>1</td>\n",
              "    </tr>\n",
              "    <tr>\n",
              "      <th>2</th>\n",
              "      <td>2011-10-08 11:53:44.0000002</td>\n",
              "      <td>2011-10-08 11:53:44 UTC</td>\n",
              "      <td>-73.982524</td>\n",
              "      <td>40.751260</td>\n",
              "      <td>-73.979654</td>\n",
              "      <td>40.746139</td>\n",
              "      <td>1</td>\n",
              "    </tr>\n",
              "    <tr>\n",
              "      <th>3</th>\n",
              "      <td>2012-12-01 21:12:12.0000002</td>\n",
              "      <td>2012-12-01 21:12:12 UTC</td>\n",
              "      <td>-73.981160</td>\n",
              "      <td>40.767807</td>\n",
              "      <td>-73.990448</td>\n",
              "      <td>40.751635</td>\n",
              "      <td>1</td>\n",
              "    </tr>\n",
              "    <tr>\n",
              "      <th>4</th>\n",
              "      <td>2012-12-01 21:12:12.0000003</td>\n",
              "      <td>2012-12-01 21:12:12 UTC</td>\n",
              "      <td>-73.966046</td>\n",
              "      <td>40.789775</td>\n",
              "      <td>-73.988565</td>\n",
              "      <td>40.744427</td>\n",
              "      <td>1</td>\n",
              "    </tr>\n",
              "  </tbody>\n",
              "</table>\n",
              "</div>"
            ],
            "text/plain": [
              "                           key  ... passenger_count\n",
              "0  2015-01-27 13:08:24.0000002  ...               1\n",
              "1  2015-01-27 13:08:24.0000003  ...               1\n",
              "2  2011-10-08 11:53:44.0000002  ...               1\n",
              "3  2012-12-01 21:12:12.0000002  ...               1\n",
              "4  2012-12-01 21:12:12.0000003  ...               1\n",
              "\n",
              "[5 rows x 7 columns]"
            ]
          },
          "metadata": {
            "tags": []
          },
          "execution_count": 93
        }
      ]
    },
    {
      "cell_type": "code",
      "metadata": {
        "colab": {
          "base_uri": "https://localhost:8080/"
        },
        "id": "lgSpQf-mXWhg",
        "outputId": "e7ec58e8-4e9d-4d75-91ec-1a1f23f64aac"
      },
      "source": [
        "#check for missing value\n",
        "test.isnull().sum()"
      ],
      "execution_count": null,
      "outputs": [
        {
          "output_type": "execute_result",
          "data": {
            "text/plain": [
              "key                  0\n",
              "pickup_datetime      0\n",
              "pickup_longitude     0\n",
              "pickup_latitude      0\n",
              "dropoff_longitude    0\n",
              "dropoff_latitude     0\n",
              "passenger_count      0\n",
              "dtype: int64"
            ]
          },
          "metadata": {
            "tags": []
          },
          "execution_count": 94
        }
      ]
    },
    {
      "cell_type": "code",
      "metadata": {
        "colab": {
          "base_uri": "https://localhost:8080/",
          "height": 297
        },
        "id": "VcBQQgnYXdMh",
        "outputId": "8eb96dc6-249d-45b4-f3cf-b998374db118"
      },
      "source": [
        "# checking for basic stats\n",
        "test.describe()"
      ],
      "execution_count": null,
      "outputs": [
        {
          "output_type": "execute_result",
          "data": {
            "text/html": [
              "<div>\n",
              "<style scoped>\n",
              "    .dataframe tbody tr th:only-of-type {\n",
              "        vertical-align: middle;\n",
              "    }\n",
              "\n",
              "    .dataframe tbody tr th {\n",
              "        vertical-align: top;\n",
              "    }\n",
              "\n",
              "    .dataframe thead th {\n",
              "        text-align: right;\n",
              "    }\n",
              "</style>\n",
              "<table border=\"1\" class=\"dataframe\">\n",
              "  <thead>\n",
              "    <tr style=\"text-align: right;\">\n",
              "      <th></th>\n",
              "      <th>pickup_longitude</th>\n",
              "      <th>pickup_latitude</th>\n",
              "      <th>dropoff_longitude</th>\n",
              "      <th>dropoff_latitude</th>\n",
              "      <th>passenger_count</th>\n",
              "    </tr>\n",
              "  </thead>\n",
              "  <tbody>\n",
              "    <tr>\n",
              "      <th>count</th>\n",
              "      <td>9914.000000</td>\n",
              "      <td>9914.000000</td>\n",
              "      <td>9914.000000</td>\n",
              "      <td>9914.000000</td>\n",
              "      <td>9914.000000</td>\n",
              "    </tr>\n",
              "    <tr>\n",
              "      <th>mean</th>\n",
              "      <td>-73.974722</td>\n",
              "      <td>40.751041</td>\n",
              "      <td>-73.973657</td>\n",
              "      <td>40.751743</td>\n",
              "      <td>1.671273</td>\n",
              "    </tr>\n",
              "    <tr>\n",
              "      <th>std</th>\n",
              "      <td>0.042774</td>\n",
              "      <td>0.033541</td>\n",
              "      <td>0.039072</td>\n",
              "      <td>0.035435</td>\n",
              "      <td>1.278747</td>\n",
              "    </tr>\n",
              "    <tr>\n",
              "      <th>min</th>\n",
              "      <td>-74.252193</td>\n",
              "      <td>40.573143</td>\n",
              "      <td>-74.263242</td>\n",
              "      <td>40.568973</td>\n",
              "      <td>1.000000</td>\n",
              "    </tr>\n",
              "    <tr>\n",
              "      <th>25%</th>\n",
              "      <td>-73.992501</td>\n",
              "      <td>40.736125</td>\n",
              "      <td>-73.991247</td>\n",
              "      <td>40.735254</td>\n",
              "      <td>1.000000</td>\n",
              "    </tr>\n",
              "    <tr>\n",
              "      <th>50%</th>\n",
              "      <td>-73.982326</td>\n",
              "      <td>40.753051</td>\n",
              "      <td>-73.980015</td>\n",
              "      <td>40.754065</td>\n",
              "      <td>1.000000</td>\n",
              "    </tr>\n",
              "    <tr>\n",
              "      <th>75%</th>\n",
              "      <td>-73.968013</td>\n",
              "      <td>40.767113</td>\n",
              "      <td>-73.964059</td>\n",
              "      <td>40.768757</td>\n",
              "      <td>2.000000</td>\n",
              "    </tr>\n",
              "    <tr>\n",
              "      <th>max</th>\n",
              "      <td>-72.986532</td>\n",
              "      <td>41.709555</td>\n",
              "      <td>-72.990963</td>\n",
              "      <td>41.696683</td>\n",
              "      <td>6.000000</td>\n",
              "    </tr>\n",
              "  </tbody>\n",
              "</table>\n",
              "</div>"
            ],
            "text/plain": [
              "       pickup_longitude  pickup_latitude  ...  dropoff_latitude  passenger_count\n",
              "count       9914.000000      9914.000000  ...       9914.000000      9914.000000\n",
              "mean         -73.974722        40.751041  ...         40.751743         1.671273\n",
              "std            0.042774         0.033541  ...          0.035435         1.278747\n",
              "min          -74.252193        40.573143  ...         40.568973         1.000000\n",
              "25%          -73.992501        40.736125  ...         40.735254         1.000000\n",
              "50%          -73.982326        40.753051  ...         40.754065         1.000000\n",
              "75%          -73.968013        40.767113  ...         40.768757         2.000000\n",
              "max          -72.986532        41.709555  ...         41.696683         6.000000\n",
              "\n",
              "[8 rows x 5 columns]"
            ]
          },
          "metadata": {
            "tags": []
          },
          "execution_count": 95
        }
      ]
    },
    {
      "cell_type": "code",
      "metadata": {
        "colab": {
          "base_uri": "https://localhost:8080/"
        },
        "id": "dE-eTTVBXhZ_",
        "outputId": "30641e74-17a5-42f2-e8cf-91a99fa0a503"
      },
      "source": [
        "min(test.pickup_longitude.min(),test.dropoff_longitude.min()), \\\n",
        "max(test.pickup_longitude.max(),test.dropoff_longitude.max())"
      ],
      "execution_count": null,
      "outputs": [
        {
          "output_type": "execute_result",
          "data": {
            "text/plain": [
              "(-74.263242, -72.986532)"
            ]
          },
          "metadata": {
            "tags": []
          },
          "execution_count": 96
        }
      ]
    },
    {
      "cell_type": "code",
      "metadata": {
        "colab": {
          "base_uri": "https://localhost:8080/"
        },
        "id": "J78c-g27XkjM",
        "outputId": "d5809cf6-ad59-48d0-ea87-029d4e99306a"
      },
      "source": [
        "min(test.pickup_latitude.min(),test.dropoff_latitude.min()), \\\n",
        "max(test.pickup_latitude.max(),test.dropoff_latitude.max())"
      ],
      "execution_count": null,
      "outputs": [
        {
          "output_type": "execute_result",
          "data": {
            "text/plain": [
              "(40.568973, 41.709555)"
            ]
          },
          "metadata": {
            "tags": []
          },
          "execution_count": 97
        }
      ]
    },
    {
      "cell_type": "code",
      "metadata": {
        "id": "FAFY4kdDXo8p"
      },
      "source": [
        "# this function will also be used with the test set below\n",
        "def select_within_test_boundary(df, BB):\n",
        "    return (df.pickup_longitude >= BB[0]) & (df.pickup_longitude <= BB[1]) & \\\n",
        "           (df.pickup_latitude >= BB[2]) & (df.pickup_latitude <= BB[3]) & \\\n",
        "           (df.dropoff_longitude >= BB[0]) & (df.dropoff_longitude <= BB[1]) & \\\n",
        "           (df.dropoff_latitude >= BB[2]) & (df.dropoff_latitude <= BB[3])"
      ],
      "execution_count": null,
      "outputs": []
    },
    {
      "cell_type": "code",
      "metadata": {
        "colab": {
          "base_uri": "https://localhost:8080/"
        },
        "id": "LGhyZtupXr74",
        "outputId": "ff65fc6b-322a-4319-8caa-77c4b2345b93"
      },
      "source": [
        "BB = (-74.5, -72.8, 40.5, 41.8)\n",
        "print('Old size: %d' % len(train))\n",
        "train = train[select_within_test_boundary(train, BB)]\n",
        "print('New size: %d' % len(train))"
      ],
      "execution_count": null,
      "outputs": [
        {
          "output_type": "stream",
          "text": [
            "Old size: 199986\n",
            "New size: 195801\n"
          ],
          "name": "stdout"
        }
      ]
    },
    {
      "cell_type": "markdown",
      "metadata": {
        "id": "sn9Rls4J0XPH"
      },
      "source": [
        "# New-added feature minutes"
      ]
    },
    {
      "cell_type": "code",
      "metadata": {
        "id": "EEnCGV4rXwIC"
      },
      "source": [
        "def prepare_time_features(df):\n",
        "    df['pickup_datetime'] = df['pickup_datetime'].str.slice(0, 16)\n",
        "    df['pickup_datetime'] = pd.to_datetime(df['pickup_datetime'], utc=True, format='%Y-%m-%d %H:%M')\n",
        "    df['hour_of_day'] = df.pickup_datetime.dt.hour\n",
        "#jagruti\n",
        "    df['minutes'] = df.pickup_datetime.dt.strftime(\"%M\")\n",
        "    df['minutes'] = df['minutes'].astype(int)\n",
        "#jagruti   \n",
        "#     df['week'] = df.pickup_datetime.dt.week\n",
        "    df['month'] = df.pickup_datetime.dt.month\n",
        "    df[\"year\"] = df.pickup_datetime.dt.year\n",
        "\n",
        "#     df['day_of_year'] = df.pickup_datetime.dt.dayofyear\n",
        "#     df['week_of_year'] = df.pickup_datetime.dt.weekofyear\n",
        "    df[\"weekday\"] = df.pickup_datetime.dt.weekday\n",
        "#     df[\"quarter\"] = df.pickup_datetime.dt.quarter\n",
        "#     df[\"day_of_month\"] = df.pickup_datetime.dt.day\n",
        "    \n",
        "    return df"
      ],
      "execution_count": null,
      "outputs": []
    },
    {
      "cell_type": "code",
      "metadata": {
        "id": "ZmFsUIP5Xzml"
      },
      "source": [
        "train = prepare_time_features(train)\n",
        "test = prepare_time_features(test)"
      ],
      "execution_count": null,
      "outputs": []
    },
    {
      "cell_type": "code",
      "metadata": {
        "id": "pq0Kkl8bX3Cp"
      },
      "source": [
        "# calculate-distance-between-two-latitude-longitude-points-haversine-formula \n",
        "# Returns distance in miles\n",
        "def distance(lat1, lon1, lat2, lon2):\n",
        "    p = 0.017453292519943295 # Pi/180\n",
        "    a = 0.5 - np.cos((lat2 - lat1) * p)/2 + np.cos(lat1 * p) * np.cos(lat2 * p) * (1 - np.cos((lon2 - lon1) * p)) / 2\n",
        "    return 0.6213712 * 12742 * np.arcsin(np.sqrt(a))   # 2*R*asin..."
      ],
      "execution_count": null,
      "outputs": []
    },
    {
      "cell_type": "code",
      "metadata": {
        "id": "1oYZbBXFX56O"
      },
      "source": [
        "train['distance_miles'] = distance(train.pickup_latitude, train.pickup_longitude, \\\n",
        "                                      train.dropoff_latitude, train.dropoff_longitude)"
      ],
      "execution_count": null,
      "outputs": []
    },
    {
      "cell_type": "code",
      "metadata": {
        "id": "b6KlebrvX8ac"
      },
      "source": [
        "test['distance_miles'] = distance(test.pickup_latitude, test.pickup_longitude, \\\n",
        "                                      test.dropoff_latitude, test.dropoff_longitude)"
      ],
      "execution_count": null,
      "outputs": []
    },
    {
      "cell_type": "code",
      "metadata": {
        "id": "6g6i3HZnYBFH"
      },
      "source": [
        "def transform(data):\n",
        "    # Distances to nearby airports, \n",
        "    jfk = (-73.7781, 40.6413)\n",
        "    ewr = (-74.1745, 40.6895)\n",
        "    lgr = (-73.8740, 40.7769)\n",
        "\n",
        "    data['pickup_distance_to_jfk'] = distance(jfk[1], jfk[0],\n",
        "                                         data['pickup_latitude'], data['pickup_longitude'])\n",
        "    data['dropoff_distance_to_jfk'] = distance(jfk[1], jfk[0],\n",
        "                                           data['dropoff_latitude'], data['dropoff_longitude'])\n",
        "    data['pickup_distance_to_ewr'] = distance(ewr[1], ewr[0], \n",
        "                                          data['pickup_latitude'], data['pickup_longitude'])\n",
        "    data['dropoff_distance_to_ewr'] = distance(ewr[1], ewr[0],\n",
        "                                           data['dropoff_latitude'], data['dropoff_longitude'])\n",
        "    data['pickup_distance_to_lgr'] = distance(lgr[1], lgr[0],\n",
        "                                          data['pickup_latitude'], data['pickup_longitude'])\n",
        "    data['dropoff_distance_to_lgr'] = distance(lgr[1], lgr[0],\n",
        "                                           data['dropoff_latitude'], data['dropoff_longitude'])\n",
        "    \n",
        "    return data\n",
        "\n",
        "train = transform(train)\n",
        "test = transform(test)"
      ],
      "execution_count": null,
      "outputs": []
    },
    {
      "cell_type": "code",
      "metadata": {
        "colab": {
          "base_uri": "https://localhost:8080/",
          "height": 69
        },
        "id": "kJ3I_DxlYEEv",
        "outputId": "8c8899fd-95a4-4467-915a-c11239066915"
      },
      "source": [
        "train[(train['distance_miles']==0)&(train['fare_amount']==0)]"
      ],
      "execution_count": null,
      "outputs": [
        {
          "output_type": "execute_result",
          "data": {
            "text/html": [
              "<div>\n",
              "<style scoped>\n",
              "    .dataframe tbody tr th:only-of-type {\n",
              "        vertical-align: middle;\n",
              "    }\n",
              "\n",
              "    .dataframe tbody tr th {\n",
              "        vertical-align: top;\n",
              "    }\n",
              "\n",
              "    .dataframe thead th {\n",
              "        text-align: right;\n",
              "    }\n",
              "</style>\n",
              "<table border=\"1\" class=\"dataframe\">\n",
              "  <thead>\n",
              "    <tr style=\"text-align: right;\">\n",
              "      <th></th>\n",
              "      <th>key</th>\n",
              "      <th>fare_amount</th>\n",
              "      <th>pickup_datetime</th>\n",
              "      <th>pickup_longitude</th>\n",
              "      <th>pickup_latitude</th>\n",
              "      <th>dropoff_longitude</th>\n",
              "      <th>dropoff_latitude</th>\n",
              "      <th>passenger_count</th>\n",
              "      <th>hour_of_day</th>\n",
              "      <th>minutes</th>\n",
              "      <th>month</th>\n",
              "      <th>year</th>\n",
              "      <th>weekday</th>\n",
              "      <th>distance_miles</th>\n",
              "      <th>pickup_distance_to_jfk</th>\n",
              "      <th>dropoff_distance_to_jfk</th>\n",
              "      <th>pickup_distance_to_ewr</th>\n",
              "      <th>dropoff_distance_to_ewr</th>\n",
              "      <th>pickup_distance_to_lgr</th>\n",
              "      <th>dropoff_distance_to_lgr</th>\n",
              "    </tr>\n",
              "  </thead>\n",
              "  <tbody>\n",
              "  </tbody>\n",
              "</table>\n",
              "</div>"
            ],
            "text/plain": [
              "Empty DataFrame\n",
              "Columns: [key, fare_amount, pickup_datetime, pickup_longitude, pickup_latitude, dropoff_longitude, dropoff_latitude, passenger_count, hour_of_day, minutes, month, year, weekday, distance_miles, pickup_distance_to_jfk, dropoff_distance_to_jfk, pickup_distance_to_ewr, dropoff_distance_to_ewr, pickup_distance_to_lgr, dropoff_distance_to_lgr]\n",
              "Index: []"
            ]
          },
          "metadata": {
            "tags": []
          },
          "execution_count": 106
        }
      ]
    },
    {
      "cell_type": "code",
      "metadata": {
        "colab": {
          "base_uri": "https://localhost:8080/"
        },
        "id": "ZdInwkABYIIa",
        "outputId": "1eaf94d4-0036-4c31-faf7-d80e622be5d9"
      },
      "source": [
        "print(\"old size: %d\" % len(train))\n",
        "train = train.drop(index= train[(train['distance_miles']==0)&(train['fare_amount']==0)].index, axis=0)\n",
        "print(\"New size: %d\" % len(train))"
      ],
      "execution_count": null,
      "outputs": [
        {
          "output_type": "stream",
          "text": [
            "old size: 195801\n",
            "New size: 195801\n"
          ],
          "name": "stdout"
        }
      ]
    },
    {
      "cell_type": "code",
      "metadata": {
        "colab": {
          "base_uri": "https://localhost:8080/"
        },
        "id": "dcFcicenYK42",
        "outputId": "860ce30f-48f2-4ba1-d2d5-e17ad40da121"
      },
      "source": [
        "train[train['fare_amount']==0].shape"
      ],
      "execution_count": null,
      "outputs": [
        {
          "output_type": "execute_result",
          "data": {
            "text/plain": [
              "(4, 20)"
            ]
          },
          "metadata": {
            "tags": []
          },
          "execution_count": 108
        }
      ]
    },
    {
      "cell_type": "code",
      "metadata": {
        "colab": {
          "base_uri": "https://localhost:8080/"
        },
        "id": "2UgrdsJ3YNu9",
        "outputId": "6bed1bb1-b748-4590-9849-2fe540384b33"
      },
      "source": [
        "print(\"old size: %d\" % len(train))\n",
        "train = train.drop(index= train[train['fare_amount']==0].index, axis=0)\n",
        "print(\"New size: %d\" % len(train))"
      ],
      "execution_count": null,
      "outputs": [
        {
          "output_type": "stream",
          "text": [
            "old size: 195801\n",
            "New size: 195797\n"
          ],
          "name": "stdout"
        }
      ]
    },
    {
      "cell_type": "code",
      "metadata": {
        "colab": {
          "base_uri": "https://localhost:8080/"
        },
        "id": "MCYlCvf4YQr7",
        "outputId": "9ab8098e-8841-4d04-ed45-6d3fb61e6594"
      },
      "source": [
        "train[train['fare_amount'] < 2.5].shape"
      ],
      "execution_count": null,
      "outputs": [
        {
          "output_type": "execute_result",
          "data": {
            "text/plain": [
              "(3, 20)"
            ]
          },
          "metadata": {
            "tags": []
          },
          "execution_count": 110
        }
      ]
    },
    {
      "cell_type": "code",
      "metadata": {
        "colab": {
          "base_uri": "https://localhost:8080/"
        },
        "id": "BiAWvmSbYTRa",
        "outputId": "ab864b6e-97d5-4027-9856-f66f94a62cac"
      },
      "source": [
        "print(\"old size: %d\" % len(train))\n",
        "train = train.drop(index= train[train['fare_amount'] < 2.5].index, axis=0)\n",
        "print(\"New size: %d\" % len(train))"
      ],
      "execution_count": null,
      "outputs": [
        {
          "output_type": "stream",
          "text": [
            "old size: 195797\n",
            "New size: 195794\n"
          ],
          "name": "stdout"
        }
      ]
    },
    {
      "cell_type": "code",
      "metadata": {
        "colab": {
          "base_uri": "https://localhost:8080/",
          "height": 69
        },
        "id": "3xpzQT08YWeM",
        "outputId": "dcf63e63-df87-4f8d-e43d-98eb1f0368e7"
      },
      "source": [
        "train[train.passenger_count >= 7]"
      ],
      "execution_count": null,
      "outputs": [
        {
          "output_type": "execute_result",
          "data": {
            "text/html": [
              "<div>\n",
              "<style scoped>\n",
              "    .dataframe tbody tr th:only-of-type {\n",
              "        vertical-align: middle;\n",
              "    }\n",
              "\n",
              "    .dataframe tbody tr th {\n",
              "        vertical-align: top;\n",
              "    }\n",
              "\n",
              "    .dataframe thead th {\n",
              "        text-align: right;\n",
              "    }\n",
              "</style>\n",
              "<table border=\"1\" class=\"dataframe\">\n",
              "  <thead>\n",
              "    <tr style=\"text-align: right;\">\n",
              "      <th></th>\n",
              "      <th>key</th>\n",
              "      <th>fare_amount</th>\n",
              "      <th>pickup_datetime</th>\n",
              "      <th>pickup_longitude</th>\n",
              "      <th>pickup_latitude</th>\n",
              "      <th>dropoff_longitude</th>\n",
              "      <th>dropoff_latitude</th>\n",
              "      <th>passenger_count</th>\n",
              "      <th>hour_of_day</th>\n",
              "      <th>minutes</th>\n",
              "      <th>month</th>\n",
              "      <th>year</th>\n",
              "      <th>weekday</th>\n",
              "      <th>distance_miles</th>\n",
              "      <th>pickup_distance_to_jfk</th>\n",
              "      <th>dropoff_distance_to_jfk</th>\n",
              "      <th>pickup_distance_to_ewr</th>\n",
              "      <th>dropoff_distance_to_ewr</th>\n",
              "      <th>pickup_distance_to_lgr</th>\n",
              "      <th>dropoff_distance_to_lgr</th>\n",
              "    </tr>\n",
              "  </thead>\n",
              "  <tbody>\n",
              "  </tbody>\n",
              "</table>\n",
              "</div>"
            ],
            "text/plain": [
              "Empty DataFrame\n",
              "Columns: [key, fare_amount, pickup_datetime, pickup_longitude, pickup_latitude, dropoff_longitude, dropoff_latitude, passenger_count, hour_of_day, minutes, month, year, weekday, distance_miles, pickup_distance_to_jfk, dropoff_distance_to_jfk, pickup_distance_to_ewr, dropoff_distance_to_ewr, pickup_distance_to_lgr, dropoff_distance_to_lgr]\n",
              "Index: []"
            ]
          },
          "metadata": {
            "tags": []
          },
          "execution_count": 112
        }
      ]
    },
    {
      "cell_type": "code",
      "metadata": {
        "colab": {
          "base_uri": "https://localhost:8080/"
        },
        "id": "7kqtceIQYaLT",
        "outputId": "abc0082f-0ca9-4a39-fa7b-f745805025f5"
      },
      "source": [
        "print(\"old size: %d\" % len(train))\n",
        "train = train.drop(index= train[train.passenger_count >= 7].index, axis=0)\n",
        "print(\"New size: %d\" % len(train))"
      ],
      "execution_count": null,
      "outputs": [
        {
          "output_type": "stream",
          "text": [
            "old size: 195794\n",
            "New size: 195794\n"
          ],
          "name": "stdout"
        }
      ]
    },
    {
      "cell_type": "code",
      "metadata": {
        "colab": {
          "base_uri": "https://localhost:8080/",
          "height": 607
        },
        "id": "HdMxp1J0Yh8_",
        "outputId": "0c95df89-5cda-468d-a7dd-16466861eceb"
      },
      "source": [
        "train.describe().T"
      ],
      "execution_count": null,
      "outputs": [
        {
          "output_type": "execute_result",
          "data": {
            "text/html": [
              "<div>\n",
              "<style scoped>\n",
              "    .dataframe tbody tr th:only-of-type {\n",
              "        vertical-align: middle;\n",
              "    }\n",
              "\n",
              "    .dataframe tbody tr th {\n",
              "        vertical-align: top;\n",
              "    }\n",
              "\n",
              "    .dataframe thead th {\n",
              "        text-align: right;\n",
              "    }\n",
              "</style>\n",
              "<table border=\"1\" class=\"dataframe\">\n",
              "  <thead>\n",
              "    <tr style=\"text-align: right;\">\n",
              "      <th></th>\n",
              "      <th>count</th>\n",
              "      <th>mean</th>\n",
              "      <th>std</th>\n",
              "      <th>min</th>\n",
              "      <th>25%</th>\n",
              "      <th>50%</th>\n",
              "      <th>75%</th>\n",
              "      <th>max</th>\n",
              "    </tr>\n",
              "  </thead>\n",
              "  <tbody>\n",
              "    <tr>\n",
              "      <th>fare_amount</th>\n",
              "      <td>195794.0</td>\n",
              "      <td>11.327586</td>\n",
              "      <td>9.747742</td>\n",
              "      <td>2.500000</td>\n",
              "      <td>6.000000</td>\n",
              "      <td>8.500000</td>\n",
              "      <td>12.500000</td>\n",
              "      <td>500.000000</td>\n",
              "    </tr>\n",
              "    <tr>\n",
              "      <th>pickup_longitude</th>\n",
              "      <td>195794.0</td>\n",
              "      <td>-73.975089</td>\n",
              "      <td>0.038877</td>\n",
              "      <td>-74.438233</td>\n",
              "      <td>-73.992260</td>\n",
              "      <td>-73.982045</td>\n",
              "      <td>-73.968307</td>\n",
              "      <td>-72.856968</td>\n",
              "    </tr>\n",
              "    <tr>\n",
              "      <th>pickup_latitude</th>\n",
              "      <td>195794.0</td>\n",
              "      <td>40.751188</td>\n",
              "      <td>0.029950</td>\n",
              "      <td>40.500046</td>\n",
              "      <td>40.736652</td>\n",
              "      <td>40.753532</td>\n",
              "      <td>40.767549</td>\n",
              "      <td>41.692428</td>\n",
              "    </tr>\n",
              "    <tr>\n",
              "      <th>dropoff_longitude</th>\n",
              "      <td>195794.0</td>\n",
              "      <td>-73.974021</td>\n",
              "      <td>0.038285</td>\n",
              "      <td>-74.474595</td>\n",
              "      <td>-73.991473</td>\n",
              "      <td>-73.980503</td>\n",
              "      <td>-73.965180</td>\n",
              "      <td>-72.854940</td>\n",
              "    </tr>\n",
              "    <tr>\n",
              "      <th>dropoff_latitude</th>\n",
              "      <td>195794.0</td>\n",
              "      <td>40.751527</td>\n",
              "      <td>0.033111</td>\n",
              "      <td>40.500046</td>\n",
              "      <td>40.735666</td>\n",
              "      <td>40.753954</td>\n",
              "      <td>40.768380</td>\n",
              "      <td>41.714633</td>\n",
              "    </tr>\n",
              "    <tr>\n",
              "      <th>passenger_count</th>\n",
              "      <td>195794.0</td>\n",
              "      <td>1.682590</td>\n",
              "      <td>1.306671</td>\n",
              "      <td>0.000000</td>\n",
              "      <td>1.000000</td>\n",
              "      <td>1.000000</td>\n",
              "      <td>2.000000</td>\n",
              "      <td>6.000000</td>\n",
              "    </tr>\n",
              "    <tr>\n",
              "      <th>hour_of_day</th>\n",
              "      <td>195794.0</td>\n",
              "      <td>13.518591</td>\n",
              "      <td>6.502125</td>\n",
              "      <td>0.000000</td>\n",
              "      <td>9.000000</td>\n",
              "      <td>14.000000</td>\n",
              "      <td>19.000000</td>\n",
              "      <td>23.000000</td>\n",
              "    </tr>\n",
              "    <tr>\n",
              "      <th>minutes</th>\n",
              "      <td>195794.0</td>\n",
              "      <td>29.560308</td>\n",
              "      <td>17.305877</td>\n",
              "      <td>0.000000</td>\n",
              "      <td>15.000000</td>\n",
              "      <td>30.000000</td>\n",
              "      <td>45.000000</td>\n",
              "      <td>59.000000</td>\n",
              "    </tr>\n",
              "    <tr>\n",
              "      <th>month</th>\n",
              "      <td>195794.0</td>\n",
              "      <td>6.273522</td>\n",
              "      <td>3.445627</td>\n",
              "      <td>1.000000</td>\n",
              "      <td>3.000000</td>\n",
              "      <td>6.000000</td>\n",
              "      <td>9.000000</td>\n",
              "      <td>12.000000</td>\n",
              "    </tr>\n",
              "    <tr>\n",
              "      <th>year</th>\n",
              "      <td>195794.0</td>\n",
              "      <td>2011.738378</td>\n",
              "      <td>1.864582</td>\n",
              "      <td>2009.000000</td>\n",
              "      <td>2010.000000</td>\n",
              "      <td>2012.000000</td>\n",
              "      <td>2013.000000</td>\n",
              "      <td>2015.000000</td>\n",
              "    </tr>\n",
              "    <tr>\n",
              "      <th>weekday</th>\n",
              "      <td>195794.0</td>\n",
              "      <td>3.038724</td>\n",
              "      <td>1.949394</td>\n",
              "      <td>0.000000</td>\n",
              "      <td>1.000000</td>\n",
              "      <td>3.000000</td>\n",
              "      <td>5.000000</td>\n",
              "      <td>6.000000</td>\n",
              "    </tr>\n",
              "    <tr>\n",
              "      <th>distance_miles</th>\n",
              "      <td>195794.0</td>\n",
              "      <td>2.071023</td>\n",
              "      <td>2.373383</td>\n",
              "      <td>0.000000</td>\n",
              "      <td>0.780652</td>\n",
              "      <td>1.338763</td>\n",
              "      <td>2.427944</td>\n",
              "      <td>64.644331</td>\n",
              "    </tr>\n",
              "    <tr>\n",
              "      <th>pickup_distance_to_jfk</th>\n",
              "      <td>195794.0</td>\n",
              "      <td>12.973245</td>\n",
              "      <td>2.063202</td>\n",
              "      <td>0.133527</td>\n",
              "      <td>12.779616</td>\n",
              "      <td>13.168527</td>\n",
              "      <td>13.600133</td>\n",
              "      <td>78.602440</td>\n",
              "    </tr>\n",
              "    <tr>\n",
              "      <th>dropoff_distance_to_jfk</th>\n",
              "      <td>195794.0</td>\n",
              "      <td>12.994416</td>\n",
              "      <td>1.933751</td>\n",
              "      <td>0.232948</td>\n",
              "      <td>12.756218</td>\n",
              "      <td>13.165395</td>\n",
              "      <td>13.614299</td>\n",
              "      <td>79.697023</td>\n",
              "    </tr>\n",
              "    <tr>\n",
              "      <th>pickup_distance_to_ewr</th>\n",
              "      <td>195794.0</td>\n",
              "      <td>11.407585</td>\n",
              "      <td>2.344183</td>\n",
              "      <td>0.175065</td>\n",
              "      <td>10.175180</td>\n",
              "      <td>11.080036</td>\n",
              "      <td>12.097025</td>\n",
              "      <td>71.468468</td>\n",
              "    </tr>\n",
              "    <tr>\n",
              "      <th>dropoff_distance_to_ewr</th>\n",
              "      <td>195794.0</td>\n",
              "      <td>11.502080</td>\n",
              "      <td>2.350977</td>\n",
              "      <td>0.172360</td>\n",
              "      <td>10.254994</td>\n",
              "      <td>11.176489</td>\n",
              "      <td>12.314128</td>\n",
              "      <td>71.468468</td>\n",
              "    </tr>\n",
              "    <tr>\n",
              "      <th>pickup_distance_to_lgr</th>\n",
              "      <td>195794.0</td>\n",
              "      <td>6.006963</td>\n",
              "      <td>1.864457</td>\n",
              "      <td>0.160286</td>\n",
              "      <td>5.206910</td>\n",
              "      <td>5.968092</td>\n",
              "      <td>6.841847</td>\n",
              "      <td>68.036300</td>\n",
              "    </tr>\n",
              "    <tr>\n",
              "      <th>dropoff_distance_to_lgr</th>\n",
              "      <td>195794.0</td>\n",
              "      <td>6.012897</td>\n",
              "      <td>1.887299</td>\n",
              "      <td>0.087890</td>\n",
              "      <td>5.168180</td>\n",
              "      <td>5.911246</td>\n",
              "      <td>6.818732</td>\n",
              "      <td>69.154424</td>\n",
              "    </tr>\n",
              "  </tbody>\n",
              "</table>\n",
              "</div>"
            ],
            "text/plain": [
              "                            count         mean  ...          75%          max\n",
              "fare_amount              195794.0    11.327586  ...    12.500000   500.000000\n",
              "pickup_longitude         195794.0   -73.975089  ...   -73.968307   -72.856968\n",
              "pickup_latitude          195794.0    40.751188  ...    40.767549    41.692428\n",
              "dropoff_longitude        195794.0   -73.974021  ...   -73.965180   -72.854940\n",
              "dropoff_latitude         195794.0    40.751527  ...    40.768380    41.714633\n",
              "passenger_count          195794.0     1.682590  ...     2.000000     6.000000\n",
              "hour_of_day              195794.0    13.518591  ...    19.000000    23.000000\n",
              "minutes                  195794.0    29.560308  ...    45.000000    59.000000\n",
              "month                    195794.0     6.273522  ...     9.000000    12.000000\n",
              "year                     195794.0  2011.738378  ...  2013.000000  2015.000000\n",
              "weekday                  195794.0     3.038724  ...     5.000000     6.000000\n",
              "distance_miles           195794.0     2.071023  ...     2.427944    64.644331\n",
              "pickup_distance_to_jfk   195794.0    12.973245  ...    13.600133    78.602440\n",
              "dropoff_distance_to_jfk  195794.0    12.994416  ...    13.614299    79.697023\n",
              "pickup_distance_to_ewr   195794.0    11.407585  ...    12.097025    71.468468\n",
              "dropoff_distance_to_ewr  195794.0    11.502080  ...    12.314128    71.468468\n",
              "pickup_distance_to_lgr   195794.0     6.006963  ...     6.841847    68.036300\n",
              "dropoff_distance_to_lgr  195794.0     6.012897  ...     6.818732    69.154424\n",
              "\n",
              "[18 rows x 8 columns]"
            ]
          },
          "metadata": {
            "tags": []
          },
          "execution_count": 114
        }
      ]
    },
    {
      "cell_type": "code",
      "metadata": {
        "colab": {
          "base_uri": "https://localhost:8080/"
        },
        "id": "uJLkQMNbYpeC",
        "outputId": "165be8ff-0a1b-4392-b814-d6dca05c8a35"
      },
      "source": [
        "#train data set\n",
        "pd.cut(train['distance_miles'],np.linspace(0, 70, num = 8)).value_counts()"
      ],
      "execution_count": null,
      "outputs": [
        {
          "output_type": "execute_result",
          "data": {
            "text/plain": [
              "(0.0, 10.0]     189569\n",
              "(10.0, 20.0]      4043\n",
              "(20.0, 30.0]        32\n",
              "(60.0, 70.0]        23\n",
              "(50.0, 60.0]        16\n",
              "(40.0, 50.0]         1\n",
              "(30.0, 40.0]         1\n",
              "Name: distance_miles, dtype: int64"
            ]
          },
          "metadata": {
            "tags": []
          },
          "execution_count": 115
        }
      ]
    },
    {
      "cell_type": "code",
      "metadata": {
        "colab": {
          "base_uri": "https://localhost:8080/"
        },
        "id": "0nl9d_eqY0S9",
        "outputId": "f97a6d31-2633-444c-edbf-9fb4a9608e34"
      },
      "source": [
        "# test data set\n",
        "pd.cut(test['distance_miles'],np.linspace(0, 70, num = 8)).value_counts()"
      ],
      "execution_count": null,
      "outputs": [
        {
          "output_type": "execute_result",
          "data": {
            "text/plain": [
              "(0.0, 10.0]     9611\n",
              "(10.0, 20.0]     214\n",
              "(60.0, 70.0]       3\n",
              "(20.0, 30.0]       1\n",
              "(50.0, 60.0]       0\n",
              "(40.0, 50.0]       0\n",
              "(30.0, 40.0]       0\n",
              "Name: distance_miles, dtype: int64"
            ]
          },
          "metadata": {
            "tags": []
          },
          "execution_count": 116
        }
      ]
    },
    {
      "cell_type": "code",
      "metadata": {
        "colab": {
          "base_uri": "https://localhost:8080/"
        },
        "id": "zCPMYw-ZY4DT",
        "outputId": "4739e791-1c34-4624-b4a9-b4d25b34d105"
      },
      "source": [
        "# we will deal with it later \n",
        "fare_100 = train[train.fare_amount > 100]\n",
        "fare_100.shape"
      ],
      "execution_count": null,
      "outputs": [
        {
          "output_type": "execute_result",
          "data": {
            "text/plain": [
              "(75, 20)"
            ]
          },
          "metadata": {
            "tags": []
          },
          "execution_count": 117
        }
      ]
    },
    {
      "cell_type": "code",
      "metadata": {
        "colab": {
          "base_uri": "https://localhost:8080/"
        },
        "id": "E5Rkf7T5ZCrR",
        "outputId": "4fd9cd9f-46c7-42e5-eca5-be549174cb04"
      },
      "source": [
        "fare_100[fare_100.distance_miles <1].shape"
      ],
      "execution_count": null,
      "outputs": [
        {
          "output_type": "execute_result",
          "data": {
            "text/plain": [
              "(32, 20)"
            ]
          },
          "metadata": {
            "tags": []
          },
          "execution_count": 118
        }
      ]
    },
    {
      "cell_type": "code",
      "metadata": {
        "colab": {
          "base_uri": "https://localhost:8080/"
        },
        "id": "gFDaEF9ZZH7D",
        "outputId": "939afd28-94a6-4a97-e172-870910d379bf"
      },
      "source": [
        "train.columns"
      ],
      "execution_count": null,
      "outputs": [
        {
          "output_type": "execute_result",
          "data": {
            "text/plain": [
              "Index(['key', 'fare_amount', 'pickup_datetime', 'pickup_longitude',\n",
              "       'pickup_latitude', 'dropoff_longitude', 'dropoff_latitude',\n",
              "       'passenger_count', 'hour_of_day', 'minutes', 'month', 'year', 'weekday',\n",
              "       'distance_miles', 'pickup_distance_to_jfk', 'dropoff_distance_to_jfk',\n",
              "       'pickup_distance_to_ewr', 'dropoff_distance_to_ewr',\n",
              "       'pickup_distance_to_lgr', 'dropoff_distance_to_lgr'],\n",
              "      dtype='object')"
            ]
          },
          "metadata": {
            "tags": []
          },
          "execution_count": 119
        }
      ]
    },
    {
      "cell_type": "code",
      "metadata": {
        "colab": {
          "base_uri": "https://localhost:8080/"
        },
        "id": "ZcV18SrEZNo8",
        "outputId": "a25977d7-7209-4a6e-819e-2fdce7254a55"
      },
      "source": [
        "# create copy of the data set\n",
        "df_train = train.drop(columns= ['key','pickup_datetime'], axis= 1).copy()\n",
        "df_test = test.drop(columns= ['key','pickup_datetime'], axis= 1).copy()\n",
        "print(df_train.shape)\n",
        "print(df_test.shape)"
      ],
      "execution_count": null,
      "outputs": [
        {
          "output_type": "stream",
          "text": [
            "(195794, 18)\n",
            "(9914, 17)\n"
          ],
          "name": "stdout"
        }
      ]
    },
    {
      "cell_type": "code",
      "metadata": {
        "colab": {
          "base_uri": "https://localhost:8080/"
        },
        "id": "vs61fR25ZQcN",
        "outputId": "38f50688-1e2e-4d52-8cf3-f9383b697c79"
      },
      "source": [
        "from sklearn.model_selection import train_test_split \n",
        "X_train, X_test, y_train, y_test = train_test_split(df_train.drop('fare_amount', axis=1),\n",
        "                                                    df_train['fare_amount'], test_size=0.2, random_state = 42)\n",
        "print(X_train.shape)\n",
        "print(X_test.shape)\n",
        "print(y_train.shape)\n",
        "print(y_test.shape)"
      ],
      "execution_count": null,
      "outputs": [
        {
          "output_type": "stream",
          "text": [
            "(156635, 17)\n",
            "(39159, 17)\n",
            "(156635,)\n",
            "(39159,)\n"
          ],
          "name": "stdout"
        }
      ]
    },
    {
      "cell_type": "code",
      "metadata": {
        "id": "c2exREMHZdL2"
      },
      "source": [
        "import xgboost as xgb"
      ],
      "execution_count": null,
      "outputs": []
    },
    {
      "cell_type": "code",
      "metadata": {
        "id": "CVjXX9AIZgZ0"
      },
      "source": [
        "#params = {\n",
        "#   \n",
        "#    'max_depth': 7,\n",
        "#    'gamma' :0,\n",
        "#    'eta':.03, \n",
        "#    'subsample': 1,\n",
        "#    'colsample_bytree': 0.9, \n",
        "#    'objective':'reg:linear',\n",
        "#    'eval_metric':'rmse',\n",
        "#    'silent': 0\n",
        "#}"
      ],
      "execution_count": null,
      "outputs": []
    },
    {
      "cell_type": "markdown",
      "metadata": {
        "id": "inX8PgkB0dvB"
      },
      "source": [
        "# Modified the parameters for the XGBoost model"
      ]
    },
    {
      "cell_type": "code",
      "metadata": {
        "id": "kt79iPw-LIHk"
      },
      "source": [
        "#Jagruti Changed Parameters  \n",
        "\n",
        "params = {\n",
        "   \n",
        "    'max_depth': 9,\n",
        "    'gamma' :0,\n",
        "    'eta':.02, \n",
        "    'subsample': 1,\n",
        "    'colsample_bytree': 0.8, \n",
        "    'objective':'reg:linear',\n",
        "    'eval_metric':'rmse',\n",
        "    'silent': 0\n",
        "}\n",
        "\n",
        "#"
      ],
      "execution_count": null,
      "outputs": []
    },
    {
      "cell_type": "code",
      "metadata": {
        "colab": {
          "base_uri": "https://localhost:8080/"
        },
        "id": "AIpOUG_gZjhD",
        "outputId": "e3f60b69-91be-4378-9126-5da0cae1778a"
      },
      "source": [
        "def XGBmodel(X_train,X_test,y_train,y_test,params):\n",
        "    matrix_train = xgb.DMatrix(X_train,label=y_train)\n",
        "    matrix_test = xgb.DMatrix(X_test,label=y_test)\n",
        "    model=xgb.train(params=params,\n",
        "                    dtrain=matrix_train,num_boost_round=7000, \n",
        "                    early_stopping_rounds=10,evals=[(matrix_test,'test')])\n",
        "    return model\n",
        "\n",
        "model = XGBmodel(X_train,X_test,y_train,y_test,params)"
      ],
      "execution_count": null,
      "outputs": [
        {
          "output_type": "stream",
          "text": [
            "[00:22:39] WARNING: /workspace/src/objective/regression_obj.cu:152: reg:linear is now deprecated in favor of reg:squarederror.\n",
            "[0]\ttest-rmse:14.3472\n",
            "Will train until test-rmse hasn't improved in 10 rounds.\n",
            "[1]\ttest-rmse:14.0879\n",
            "[2]\ttest-rmse:13.8337\n",
            "[3]\ttest-rmse:13.598\n",
            "[4]\ttest-rmse:13.3547\n",
            "[5]\ttest-rmse:13.1171\n",
            "[6]\ttest-rmse:12.8968\n",
            "[7]\ttest-rmse:12.6817\n",
            "[8]\ttest-rmse:12.4584\n",
            "[9]\ttest-rmse:12.2527\n",
            "[10]\ttest-rmse:12.0384\n",
            "[11]\ttest-rmse:11.8292\n",
            "[12]\ttest-rmse:11.6365\n",
            "[13]\ttest-rmse:11.437\n",
            "[14]\ttest-rmse:11.2527\n",
            "[15]\ttest-rmse:11.062\n",
            "[16]\ttest-rmse:10.8746\n",
            "[17]\ttest-rmse:10.6927\n",
            "[18]\ttest-rmse:10.5156\n",
            "[19]\ttest-rmse:10.3513\n",
            "[20]\ttest-rmse:10.1916\n",
            "[21]\ttest-rmse:10.0242\n",
            "[22]\ttest-rmse:9.86051\n",
            "[23]\ttest-rmse:9.71224\n",
            "[24]\ttest-rmse:9.55672\n",
            "[25]\ttest-rmse:9.41447\n",
            "[26]\ttest-rmse:9.26539\n",
            "[27]\ttest-rmse:9.12034\n",
            "[28]\ttest-rmse:8.97809\n",
            "[29]\ttest-rmse:8.84071\n",
            "[30]\ttest-rmse:8.71337\n",
            "[31]\ttest-rmse:8.58989\n",
            "[32]\ttest-rmse:8.46128\n",
            "[33]\ttest-rmse:8.33547\n",
            "[34]\ttest-rmse:8.22112\n",
            "[35]\ttest-rmse:8.10103\n",
            "[36]\ttest-rmse:7.98488\n",
            "[37]\ttest-rmse:7.87\n",
            "[38]\ttest-rmse:7.75803\n",
            "[39]\ttest-rmse:7.6564\n",
            "[40]\ttest-rmse:7.55839\n",
            "[41]\ttest-rmse:7.4549\n",
            "[42]\ttest-rmse:7.35539\n",
            "[43]\ttest-rmse:7.25804\n",
            "[44]\ttest-rmse:7.16321\n",
            "[45]\ttest-rmse:7.07132\n",
            "[46]\ttest-rmse:6.98114\n",
            "[47]\ttest-rmse:6.89307\n",
            "[48]\ttest-rmse:6.80608\n",
            "[49]\ttest-rmse:6.72791\n",
            "[50]\ttest-rmse:6.64698\n",
            "[51]\ttest-rmse:6.5682\n",
            "[52]\ttest-rmse:6.48972\n",
            "[53]\ttest-rmse:6.41498\n",
            "[54]\ttest-rmse:6.34179\n",
            "[55]\ttest-rmse:6.2691\n",
            "[56]\ttest-rmse:6.20514\n",
            "[57]\ttest-rmse:6.14196\n",
            "[58]\ttest-rmse:6.08166\n",
            "[59]\ttest-rmse:6.01758\n",
            "[60]\ttest-rmse:5.95591\n",
            "[61]\ttest-rmse:5.89599\n",
            "[62]\ttest-rmse:5.84268\n",
            "[63]\ttest-rmse:5.78683\n",
            "[64]\ttest-rmse:5.73144\n",
            "[65]\ttest-rmse:5.68091\n",
            "[66]\ttest-rmse:5.62788\n",
            "[67]\ttest-rmse:5.57563\n",
            "[68]\ttest-rmse:5.52652\n",
            "[69]\ttest-rmse:5.47889\n",
            "[70]\ttest-rmse:5.43201\n",
            "[71]\ttest-rmse:5.38705\n",
            "[72]\ttest-rmse:5.34377\n",
            "[73]\ttest-rmse:5.30147\n",
            "[74]\ttest-rmse:5.25978\n",
            "[75]\ttest-rmse:5.22017\n",
            "[76]\ttest-rmse:5.18213\n",
            "[77]\ttest-rmse:5.14554\n",
            "[78]\ttest-rmse:5.10927\n",
            "[79]\ttest-rmse:5.07436\n",
            "[80]\ttest-rmse:5.04098\n",
            "[81]\ttest-rmse:5.0091\n",
            "[82]\ttest-rmse:4.98007\n",
            "[83]\ttest-rmse:4.95042\n",
            "[84]\ttest-rmse:4.91989\n",
            "[85]\ttest-rmse:4.8901\n",
            "[86]\ttest-rmse:4.86355\n",
            "[87]\ttest-rmse:4.83692\n",
            "[88]\ttest-rmse:4.81109\n",
            "[89]\ttest-rmse:4.78611\n",
            "[90]\ttest-rmse:4.76168\n",
            "[91]\ttest-rmse:4.73805\n",
            "[92]\ttest-rmse:4.71556\n",
            "[93]\ttest-rmse:4.69247\n",
            "[94]\ttest-rmse:4.67086\n",
            "[95]\ttest-rmse:4.64918\n",
            "[96]\ttest-rmse:4.62937\n",
            "[97]\ttest-rmse:4.61131\n",
            "[98]\ttest-rmse:4.59177\n",
            "[99]\ttest-rmse:4.57385\n",
            "[100]\ttest-rmse:4.55599\n",
            "[101]\ttest-rmse:4.53831\n",
            "[102]\ttest-rmse:4.52146\n",
            "[103]\ttest-rmse:4.50507\n",
            "[104]\ttest-rmse:4.48963\n",
            "[105]\ttest-rmse:4.47512\n",
            "[106]\ttest-rmse:4.46088\n",
            "[107]\ttest-rmse:4.44735\n",
            "[108]\ttest-rmse:4.43318\n",
            "[109]\ttest-rmse:4.41981\n",
            "[110]\ttest-rmse:4.4075\n",
            "[111]\ttest-rmse:4.39603\n",
            "[112]\ttest-rmse:4.38501\n",
            "[113]\ttest-rmse:4.37522\n",
            "[114]\ttest-rmse:4.36348\n",
            "[115]\ttest-rmse:4.35258\n",
            "[116]\ttest-rmse:4.34295\n",
            "[117]\ttest-rmse:4.3329\n",
            "[118]\ttest-rmse:4.32279\n",
            "[119]\ttest-rmse:4.31404\n",
            "[120]\ttest-rmse:4.30441\n",
            "[121]\ttest-rmse:4.29548\n",
            "[122]\ttest-rmse:4.2864\n",
            "[123]\ttest-rmse:4.27814\n",
            "[124]\ttest-rmse:4.26996\n",
            "[125]\ttest-rmse:4.26248\n",
            "[126]\ttest-rmse:4.25489\n",
            "[127]\ttest-rmse:4.24781\n",
            "[128]\ttest-rmse:4.24103\n",
            "[129]\ttest-rmse:4.23395\n",
            "[130]\ttest-rmse:4.22688\n",
            "[131]\ttest-rmse:4.2201\n",
            "[132]\ttest-rmse:4.21369\n",
            "[133]\ttest-rmse:4.20882\n",
            "[134]\ttest-rmse:4.20323\n",
            "[135]\ttest-rmse:4.19734\n",
            "[136]\ttest-rmse:4.19183\n",
            "[137]\ttest-rmse:4.18614\n",
            "[138]\ttest-rmse:4.18098\n",
            "[139]\ttest-rmse:4.17584\n",
            "[140]\ttest-rmse:4.17054\n",
            "[141]\ttest-rmse:4.16588\n",
            "[142]\ttest-rmse:4.16084\n",
            "[143]\ttest-rmse:4.15591\n",
            "[144]\ttest-rmse:4.15142\n",
            "[145]\ttest-rmse:4.14667\n",
            "[146]\ttest-rmse:4.14202\n",
            "[147]\ttest-rmse:4.13855\n",
            "[148]\ttest-rmse:4.1342\n",
            "[149]\ttest-rmse:4.13121\n",
            "[150]\ttest-rmse:4.1271\n",
            "[151]\ttest-rmse:4.12386\n",
            "[152]\ttest-rmse:4.12046\n",
            "[153]\ttest-rmse:4.11665\n",
            "[154]\ttest-rmse:4.11371\n",
            "[155]\ttest-rmse:4.11041\n",
            "[156]\ttest-rmse:4.10714\n",
            "[157]\ttest-rmse:4.10384\n",
            "[158]\ttest-rmse:4.10113\n",
            "[159]\ttest-rmse:4.09813\n",
            "[160]\ttest-rmse:4.09549\n",
            "[161]\ttest-rmse:4.09296\n",
            "[162]\ttest-rmse:4.09009\n",
            "[163]\ttest-rmse:4.08769\n",
            "[164]\ttest-rmse:4.08589\n",
            "[165]\ttest-rmse:4.08348\n",
            "[166]\ttest-rmse:4.08105\n",
            "[167]\ttest-rmse:4.0787\n",
            "[168]\ttest-rmse:4.07651\n",
            "[169]\ttest-rmse:4.07456\n",
            "[170]\ttest-rmse:4.07231\n",
            "[171]\ttest-rmse:4.07003\n",
            "[172]\ttest-rmse:4.06837\n",
            "[173]\ttest-rmse:4.0666\n",
            "[174]\ttest-rmse:4.065\n",
            "[175]\ttest-rmse:4.06333\n",
            "[176]\ttest-rmse:4.06189\n",
            "[177]\ttest-rmse:4.06013\n",
            "[178]\ttest-rmse:4.05858\n",
            "[179]\ttest-rmse:4.05679\n",
            "[180]\ttest-rmse:4.05545\n",
            "[181]\ttest-rmse:4.05365\n",
            "[182]\ttest-rmse:4.05204\n",
            "[183]\ttest-rmse:4.05044\n",
            "[184]\ttest-rmse:4.04864\n",
            "[185]\ttest-rmse:4.0471\n",
            "[186]\ttest-rmse:4.04559\n",
            "[187]\ttest-rmse:4.04424\n",
            "[188]\ttest-rmse:4.04282\n",
            "[189]\ttest-rmse:4.04136\n",
            "[190]\ttest-rmse:4.03987\n",
            "[191]\ttest-rmse:4.0388\n",
            "[192]\ttest-rmse:4.03736\n",
            "[193]\ttest-rmse:4.03647\n",
            "[194]\ttest-rmse:4.03507\n",
            "[195]\ttest-rmse:4.03378\n",
            "[196]\ttest-rmse:4.03238\n",
            "[197]\ttest-rmse:4.0313\n",
            "[198]\ttest-rmse:4.0295\n",
            "[199]\ttest-rmse:4.02881\n",
            "[200]\ttest-rmse:4.02773\n",
            "[201]\ttest-rmse:4.02684\n",
            "[202]\ttest-rmse:4.02601\n",
            "[203]\ttest-rmse:4.02468\n",
            "[204]\ttest-rmse:4.02376\n",
            "[205]\ttest-rmse:4.02228\n",
            "[206]\ttest-rmse:4.02214\n",
            "[207]\ttest-rmse:4.02119\n",
            "[208]\ttest-rmse:4.02054\n",
            "[209]\ttest-rmse:4.01966\n",
            "[210]\ttest-rmse:4.01941\n",
            "[211]\ttest-rmse:4.01853\n",
            "[212]\ttest-rmse:4.01753\n",
            "[213]\ttest-rmse:4.01663\n",
            "[214]\ttest-rmse:4.01547\n",
            "[215]\ttest-rmse:4.01461\n",
            "[216]\ttest-rmse:4.01377\n",
            "[217]\ttest-rmse:4.01318\n",
            "[218]\ttest-rmse:4.01281\n",
            "[219]\ttest-rmse:4.01228\n",
            "[220]\ttest-rmse:4.01107\n",
            "[221]\ttest-rmse:4.0103\n",
            "[222]\ttest-rmse:4.00948\n",
            "[223]\ttest-rmse:4.00928\n",
            "[224]\ttest-rmse:4.00871\n",
            "[225]\ttest-rmse:4.00795\n",
            "[226]\ttest-rmse:4.00731\n",
            "[227]\ttest-rmse:4.0063\n",
            "[228]\ttest-rmse:4.00602\n",
            "[229]\ttest-rmse:4.00551\n",
            "[230]\ttest-rmse:4.00465\n",
            "[231]\ttest-rmse:4.00373\n",
            "[232]\ttest-rmse:4.00308\n",
            "[233]\ttest-rmse:4.00278\n",
            "[234]\ttest-rmse:4.00265\n",
            "[235]\ttest-rmse:4.00167\n",
            "[236]\ttest-rmse:4.00075\n",
            "[237]\ttest-rmse:3.99985\n",
            "[238]\ttest-rmse:3.99938\n",
            "[239]\ttest-rmse:3.99929\n",
            "[240]\ttest-rmse:3.99865\n",
            "[241]\ttest-rmse:3.99754\n",
            "[242]\ttest-rmse:3.99714\n",
            "[243]\ttest-rmse:3.99658\n",
            "[244]\ttest-rmse:3.996\n",
            "[245]\ttest-rmse:3.99567\n",
            "[246]\ttest-rmse:3.99496\n",
            "[247]\ttest-rmse:3.99483\n",
            "[248]\ttest-rmse:3.99443\n",
            "[249]\ttest-rmse:3.9941\n",
            "[250]\ttest-rmse:3.99362\n",
            "[251]\ttest-rmse:3.99343\n",
            "[252]\ttest-rmse:3.99334\n",
            "[253]\ttest-rmse:3.99332\n",
            "[254]\ttest-rmse:3.99349\n",
            "[255]\ttest-rmse:3.99282\n",
            "[256]\ttest-rmse:3.9926\n",
            "[257]\ttest-rmse:3.99205\n",
            "[258]\ttest-rmse:3.99195\n",
            "[259]\ttest-rmse:3.99179\n",
            "[260]\ttest-rmse:3.99067\n",
            "[261]\ttest-rmse:3.99054\n",
            "[262]\ttest-rmse:3.99007\n",
            "[263]\ttest-rmse:3.98999\n",
            "[264]\ttest-rmse:3.98971\n",
            "[265]\ttest-rmse:3.98947\n",
            "[266]\ttest-rmse:3.98896\n",
            "[267]\ttest-rmse:3.98868\n",
            "[268]\ttest-rmse:3.98866\n",
            "[269]\ttest-rmse:3.9883\n",
            "[270]\ttest-rmse:3.98805\n",
            "[271]\ttest-rmse:3.98776\n",
            "[272]\ttest-rmse:3.98785\n",
            "[273]\ttest-rmse:3.98743\n",
            "[274]\ttest-rmse:3.98688\n",
            "[275]\ttest-rmse:3.98637\n",
            "[276]\ttest-rmse:3.98577\n",
            "[277]\ttest-rmse:3.98538\n",
            "[278]\ttest-rmse:3.98487\n",
            "[279]\ttest-rmse:3.98482\n",
            "[280]\ttest-rmse:3.98416\n",
            "[281]\ttest-rmse:3.98405\n",
            "[282]\ttest-rmse:3.98333\n",
            "[283]\ttest-rmse:3.98339\n",
            "[284]\ttest-rmse:3.98325\n",
            "[285]\ttest-rmse:3.98282\n",
            "[286]\ttest-rmse:3.98233\n",
            "[287]\ttest-rmse:3.98207\n",
            "[288]\ttest-rmse:3.98178\n",
            "[289]\ttest-rmse:3.98144\n",
            "[290]\ttest-rmse:3.98113\n",
            "[291]\ttest-rmse:3.98068\n",
            "[292]\ttest-rmse:3.98043\n",
            "[293]\ttest-rmse:3.97993\n",
            "[294]\ttest-rmse:3.97965\n",
            "[295]\ttest-rmse:3.97962\n",
            "[296]\ttest-rmse:3.97933\n",
            "[297]\ttest-rmse:3.97876\n",
            "[298]\ttest-rmse:3.97874\n",
            "[299]\ttest-rmse:3.97857\n",
            "[300]\ttest-rmse:3.97842\n",
            "[301]\ttest-rmse:3.97797\n",
            "[302]\ttest-rmse:3.97704\n",
            "[303]\ttest-rmse:3.97671\n",
            "[304]\ttest-rmse:3.9766\n",
            "[305]\ttest-rmse:3.97689\n",
            "[306]\ttest-rmse:3.97651\n",
            "[307]\ttest-rmse:3.97606\n",
            "[308]\ttest-rmse:3.97634\n",
            "[309]\ttest-rmse:3.9761\n",
            "[310]\ttest-rmse:3.97611\n",
            "[311]\ttest-rmse:3.97569\n",
            "[312]\ttest-rmse:3.9753\n",
            "[313]\ttest-rmse:3.97494\n",
            "[314]\ttest-rmse:3.97477\n",
            "[315]\ttest-rmse:3.97461\n",
            "[316]\ttest-rmse:3.97432\n",
            "[317]\ttest-rmse:3.97393\n",
            "[318]\ttest-rmse:3.9739\n",
            "[319]\ttest-rmse:3.9738\n",
            "[320]\ttest-rmse:3.97363\n",
            "[321]\ttest-rmse:3.97333\n",
            "[322]\ttest-rmse:3.97337\n",
            "[323]\ttest-rmse:3.97303\n",
            "[324]\ttest-rmse:3.97268\n",
            "[325]\ttest-rmse:3.97224\n",
            "[326]\ttest-rmse:3.97212\n",
            "[327]\ttest-rmse:3.97164\n",
            "[328]\ttest-rmse:3.97177\n",
            "[329]\ttest-rmse:3.97203\n",
            "[330]\ttest-rmse:3.97185\n",
            "[331]\ttest-rmse:3.97171\n",
            "[332]\ttest-rmse:3.97171\n",
            "[333]\ttest-rmse:3.97139\n",
            "[334]\ttest-rmse:3.9712\n",
            "[335]\ttest-rmse:3.9709\n",
            "[336]\ttest-rmse:3.97042\n",
            "[337]\ttest-rmse:3.9704\n",
            "[338]\ttest-rmse:3.97025\n",
            "[339]\ttest-rmse:3.97043\n",
            "[340]\ttest-rmse:3.97042\n",
            "[341]\ttest-rmse:3.97012\n",
            "[342]\ttest-rmse:3.97\n",
            "[343]\ttest-rmse:3.96989\n",
            "[344]\ttest-rmse:3.96932\n",
            "[345]\ttest-rmse:3.96876\n",
            "[346]\ttest-rmse:3.96855\n",
            "[347]\ttest-rmse:3.96814\n",
            "[348]\ttest-rmse:3.9677\n",
            "[349]\ttest-rmse:3.9677\n",
            "[350]\ttest-rmse:3.96773\n",
            "[351]\ttest-rmse:3.96756\n",
            "[352]\ttest-rmse:3.96729\n",
            "[353]\ttest-rmse:3.96718\n",
            "[354]\ttest-rmse:3.96717\n",
            "[355]\ttest-rmse:3.96691\n",
            "[356]\ttest-rmse:3.96667\n",
            "[357]\ttest-rmse:3.96622\n",
            "[358]\ttest-rmse:3.96613\n",
            "[359]\ttest-rmse:3.96584\n",
            "[360]\ttest-rmse:3.96537\n",
            "[361]\ttest-rmse:3.96529\n",
            "[362]\ttest-rmse:3.9647\n",
            "[363]\ttest-rmse:3.96476\n",
            "[364]\ttest-rmse:3.96431\n",
            "[365]\ttest-rmse:3.96407\n",
            "[366]\ttest-rmse:3.96397\n",
            "[367]\ttest-rmse:3.96369\n",
            "[368]\ttest-rmse:3.96338\n",
            "[369]\ttest-rmse:3.96339\n",
            "[370]\ttest-rmse:3.96312\n",
            "[371]\ttest-rmse:3.963\n",
            "[372]\ttest-rmse:3.96252\n",
            "[373]\ttest-rmse:3.96244\n",
            "[374]\ttest-rmse:3.96223\n",
            "[375]\ttest-rmse:3.96212\n",
            "[376]\ttest-rmse:3.96195\n",
            "[377]\ttest-rmse:3.96163\n",
            "[378]\ttest-rmse:3.96181\n",
            "[379]\ttest-rmse:3.96163\n",
            "[380]\ttest-rmse:3.96159\n",
            "[381]\ttest-rmse:3.96146\n",
            "[382]\ttest-rmse:3.9611\n",
            "[383]\ttest-rmse:3.96121\n",
            "[384]\ttest-rmse:3.96113\n",
            "[385]\ttest-rmse:3.96089\n",
            "[386]\ttest-rmse:3.9609\n",
            "[387]\ttest-rmse:3.96078\n",
            "[388]\ttest-rmse:3.96062\n",
            "[389]\ttest-rmse:3.96041\n",
            "[390]\ttest-rmse:3.96023\n",
            "[391]\ttest-rmse:3.95996\n",
            "[392]\ttest-rmse:3.95936\n",
            "[393]\ttest-rmse:3.95907\n",
            "[394]\ttest-rmse:3.95916\n",
            "[395]\ttest-rmse:3.95916\n",
            "[396]\ttest-rmse:3.95852\n",
            "[397]\ttest-rmse:3.95808\n",
            "[398]\ttest-rmse:3.95785\n",
            "[399]\ttest-rmse:3.95784\n",
            "[400]\ttest-rmse:3.95775\n",
            "[401]\ttest-rmse:3.95761\n",
            "[402]\ttest-rmse:3.95716\n",
            "[403]\ttest-rmse:3.95717\n",
            "[404]\ttest-rmse:3.95726\n",
            "[405]\ttest-rmse:3.95724\n",
            "[406]\ttest-rmse:3.95719\n",
            "[407]\ttest-rmse:3.95687\n",
            "[408]\ttest-rmse:3.95704\n",
            "[409]\ttest-rmse:3.95683\n",
            "[410]\ttest-rmse:3.95684\n",
            "[411]\ttest-rmse:3.95684\n",
            "[412]\ttest-rmse:3.95649\n",
            "[413]\ttest-rmse:3.95596\n",
            "[414]\ttest-rmse:3.9561\n",
            "[415]\ttest-rmse:3.95612\n",
            "[416]\ttest-rmse:3.95604\n",
            "[417]\ttest-rmse:3.956\n",
            "[418]\ttest-rmse:3.95574\n",
            "[419]\ttest-rmse:3.95556\n",
            "[420]\ttest-rmse:3.95565\n",
            "[421]\ttest-rmse:3.95566\n",
            "[422]\ttest-rmse:3.95549\n",
            "[423]\ttest-rmse:3.95551\n",
            "[424]\ttest-rmse:3.95551\n",
            "[425]\ttest-rmse:3.95564\n",
            "[426]\ttest-rmse:3.95494\n",
            "[427]\ttest-rmse:3.95477\n",
            "[428]\ttest-rmse:3.95446\n",
            "[429]\ttest-rmse:3.95445\n",
            "[430]\ttest-rmse:3.9539\n",
            "[431]\ttest-rmse:3.95358\n",
            "[432]\ttest-rmse:3.95359\n",
            "[433]\ttest-rmse:3.95355\n",
            "[434]\ttest-rmse:3.95351\n",
            "[435]\ttest-rmse:3.95318\n",
            "[436]\ttest-rmse:3.95307\n",
            "[437]\ttest-rmse:3.95306\n",
            "[438]\ttest-rmse:3.95286\n",
            "[439]\ttest-rmse:3.95292\n",
            "[440]\ttest-rmse:3.95271\n",
            "[441]\ttest-rmse:3.9525\n",
            "[442]\ttest-rmse:3.9525\n",
            "[443]\ttest-rmse:3.95239\n",
            "[444]\ttest-rmse:3.95214\n",
            "[445]\ttest-rmse:3.95199\n",
            "[446]\ttest-rmse:3.95193\n",
            "[447]\ttest-rmse:3.95207\n",
            "[448]\ttest-rmse:3.95194\n",
            "[449]\ttest-rmse:3.95168\n",
            "[450]\ttest-rmse:3.95144\n",
            "[451]\ttest-rmse:3.95139\n",
            "[452]\ttest-rmse:3.95119\n",
            "[453]\ttest-rmse:3.95082\n",
            "[454]\ttest-rmse:3.95067\n",
            "[455]\ttest-rmse:3.9505\n",
            "[456]\ttest-rmse:3.95056\n",
            "[457]\ttest-rmse:3.95078\n",
            "[458]\ttest-rmse:3.95048\n",
            "[459]\ttest-rmse:3.95037\n",
            "[460]\ttest-rmse:3.95028\n",
            "[461]\ttest-rmse:3.95025\n",
            "[462]\ttest-rmse:3.95024\n",
            "[463]\ttest-rmse:3.95052\n",
            "[464]\ttest-rmse:3.95035\n",
            "[465]\ttest-rmse:3.95031\n",
            "[466]\ttest-rmse:3.94993\n",
            "[467]\ttest-rmse:3.9499\n",
            "[468]\ttest-rmse:3.94993\n",
            "[469]\ttest-rmse:3.94952\n",
            "[470]\ttest-rmse:3.94951\n",
            "[471]\ttest-rmse:3.94941\n",
            "[472]\ttest-rmse:3.94925\n",
            "[473]\ttest-rmse:3.94924\n",
            "[474]\ttest-rmse:3.94897\n",
            "[475]\ttest-rmse:3.949\n",
            "[476]\ttest-rmse:3.94882\n",
            "[477]\ttest-rmse:3.94869\n",
            "[478]\ttest-rmse:3.9487\n",
            "[479]\ttest-rmse:3.9486\n",
            "[480]\ttest-rmse:3.94839\n",
            "[481]\ttest-rmse:3.94838\n",
            "[482]\ttest-rmse:3.94837\n",
            "[483]\ttest-rmse:3.94831\n",
            "[484]\ttest-rmse:3.94821\n",
            "[485]\ttest-rmse:3.94813\n",
            "[486]\ttest-rmse:3.948\n",
            "[487]\ttest-rmse:3.94801\n",
            "[488]\ttest-rmse:3.94795\n",
            "[489]\ttest-rmse:3.94793\n",
            "[490]\ttest-rmse:3.94779\n",
            "[491]\ttest-rmse:3.94779\n",
            "[492]\ttest-rmse:3.94769\n",
            "[493]\ttest-rmse:3.94764\n",
            "[494]\ttest-rmse:3.94749\n",
            "[495]\ttest-rmse:3.9474\n",
            "[496]\ttest-rmse:3.94747\n",
            "[497]\ttest-rmse:3.94721\n",
            "[498]\ttest-rmse:3.94712\n",
            "[499]\ttest-rmse:3.94707\n",
            "[500]\ttest-rmse:3.94706\n",
            "[501]\ttest-rmse:3.94689\n",
            "[502]\ttest-rmse:3.94682\n",
            "[503]\ttest-rmse:3.94682\n",
            "[504]\ttest-rmse:3.94677\n",
            "[505]\ttest-rmse:3.94656\n",
            "[506]\ttest-rmse:3.94647\n",
            "[507]\ttest-rmse:3.94647\n",
            "[508]\ttest-rmse:3.94649\n",
            "[509]\ttest-rmse:3.94646\n",
            "[510]\ttest-rmse:3.9462\n",
            "[511]\ttest-rmse:3.94612\n",
            "[512]\ttest-rmse:3.94608\n",
            "[513]\ttest-rmse:3.94584\n",
            "[514]\ttest-rmse:3.94585\n",
            "[515]\ttest-rmse:3.94583\n",
            "[516]\ttest-rmse:3.94581\n",
            "[517]\ttest-rmse:3.94564\n",
            "[518]\ttest-rmse:3.94565\n",
            "[519]\ttest-rmse:3.9454\n",
            "[520]\ttest-rmse:3.94541\n",
            "[521]\ttest-rmse:3.9453\n",
            "[522]\ttest-rmse:3.9453\n",
            "[523]\ttest-rmse:3.94492\n",
            "[524]\ttest-rmse:3.94478\n",
            "[525]\ttest-rmse:3.94477\n",
            "[526]\ttest-rmse:3.9448\n",
            "[527]\ttest-rmse:3.94469\n",
            "[528]\ttest-rmse:3.94469\n",
            "[529]\ttest-rmse:3.94467\n",
            "[530]\ttest-rmse:3.94472\n",
            "[531]\ttest-rmse:3.94454\n",
            "[532]\ttest-rmse:3.94464\n",
            "[533]\ttest-rmse:3.9446\n",
            "[534]\ttest-rmse:3.94451\n",
            "[535]\ttest-rmse:3.94453\n",
            "[536]\ttest-rmse:3.94449\n",
            "[537]\ttest-rmse:3.94431\n",
            "[538]\ttest-rmse:3.94423\n",
            "[539]\ttest-rmse:3.94406\n",
            "[540]\ttest-rmse:3.94374\n",
            "[541]\ttest-rmse:3.94377\n",
            "[542]\ttest-rmse:3.94385\n",
            "[543]\ttest-rmse:3.94376\n",
            "[544]\ttest-rmse:3.94375\n",
            "[545]\ttest-rmse:3.94376\n",
            "[546]\ttest-rmse:3.94324\n",
            "[547]\ttest-rmse:3.94319\n",
            "[548]\ttest-rmse:3.94299\n",
            "[549]\ttest-rmse:3.94299\n",
            "[550]\ttest-rmse:3.94289\n",
            "[551]\ttest-rmse:3.94242\n",
            "[552]\ttest-rmse:3.94237\n",
            "[553]\ttest-rmse:3.94217\n",
            "[554]\ttest-rmse:3.94221\n",
            "[555]\ttest-rmse:3.94222\n",
            "[556]\ttest-rmse:3.94226\n",
            "[557]\ttest-rmse:3.94237\n",
            "[558]\ttest-rmse:3.94235\n",
            "[559]\ttest-rmse:3.94199\n",
            "[560]\ttest-rmse:3.94193\n",
            "[561]\ttest-rmse:3.94193\n",
            "[562]\ttest-rmse:3.9419\n",
            "[563]\ttest-rmse:3.94179\n",
            "[564]\ttest-rmse:3.94178\n",
            "[565]\ttest-rmse:3.94171\n",
            "[566]\ttest-rmse:3.94157\n",
            "[567]\ttest-rmse:3.94159\n",
            "[568]\ttest-rmse:3.94161\n",
            "[569]\ttest-rmse:3.94131\n",
            "[570]\ttest-rmse:3.94135\n",
            "[571]\ttest-rmse:3.94123\n",
            "[572]\ttest-rmse:3.9412\n",
            "[573]\ttest-rmse:3.94111\n",
            "[574]\ttest-rmse:3.94111\n",
            "[575]\ttest-rmse:3.94114\n",
            "[576]\ttest-rmse:3.94093\n",
            "[577]\ttest-rmse:3.94074\n",
            "[578]\ttest-rmse:3.94061\n",
            "[579]\ttest-rmse:3.94043\n",
            "[580]\ttest-rmse:3.94017\n",
            "[581]\ttest-rmse:3.9401\n",
            "[582]\ttest-rmse:3.93988\n",
            "[583]\ttest-rmse:3.93961\n",
            "[584]\ttest-rmse:3.93951\n",
            "[585]\ttest-rmse:3.93946\n",
            "[586]\ttest-rmse:3.93938\n",
            "[587]\ttest-rmse:3.93924\n",
            "[588]\ttest-rmse:3.93904\n",
            "[589]\ttest-rmse:3.93903\n",
            "[590]\ttest-rmse:3.93904\n",
            "[591]\ttest-rmse:3.93909\n",
            "[592]\ttest-rmse:3.93883\n",
            "[593]\ttest-rmse:3.93888\n",
            "[594]\ttest-rmse:3.93882\n",
            "[595]\ttest-rmse:3.93874\n",
            "[596]\ttest-rmse:3.93852\n",
            "[597]\ttest-rmse:3.93851\n",
            "[598]\ttest-rmse:3.93848\n",
            "[599]\ttest-rmse:3.93836\n",
            "[600]\ttest-rmse:3.93829\n",
            "[601]\ttest-rmse:3.93826\n",
            "[602]\ttest-rmse:3.93816\n",
            "[603]\ttest-rmse:3.93812\n",
            "[604]\ttest-rmse:3.93793\n",
            "[605]\ttest-rmse:3.93785\n",
            "[606]\ttest-rmse:3.93784\n",
            "[607]\ttest-rmse:3.9375\n",
            "[608]\ttest-rmse:3.9375\n",
            "[609]\ttest-rmse:3.9375\n",
            "[610]\ttest-rmse:3.93715\n",
            "[611]\ttest-rmse:3.9372\n",
            "[612]\ttest-rmse:3.93697\n",
            "[613]\ttest-rmse:3.93701\n",
            "[614]\ttest-rmse:3.93689\n",
            "[615]\ttest-rmse:3.93679\n",
            "[616]\ttest-rmse:3.9365\n",
            "[617]\ttest-rmse:3.93632\n",
            "[618]\ttest-rmse:3.93632\n",
            "[619]\ttest-rmse:3.93622\n",
            "[620]\ttest-rmse:3.9362\n",
            "[621]\ttest-rmse:3.93617\n",
            "[622]\ttest-rmse:3.93616\n",
            "[623]\ttest-rmse:3.93606\n",
            "[624]\ttest-rmse:3.93605\n",
            "[625]\ttest-rmse:3.93607\n",
            "[626]\ttest-rmse:3.93603\n",
            "[627]\ttest-rmse:3.93586\n",
            "[628]\ttest-rmse:3.9357\n",
            "[629]\ttest-rmse:3.93578\n",
            "[630]\ttest-rmse:3.93567\n",
            "[631]\ttest-rmse:3.93552\n",
            "[632]\ttest-rmse:3.93559\n",
            "[633]\ttest-rmse:3.93559\n",
            "[634]\ttest-rmse:3.93545\n",
            "[635]\ttest-rmse:3.93541\n",
            "[636]\ttest-rmse:3.93531\n",
            "[637]\ttest-rmse:3.93512\n",
            "[638]\ttest-rmse:3.93511\n",
            "[639]\ttest-rmse:3.93496\n",
            "[640]\ttest-rmse:3.93502\n",
            "[641]\ttest-rmse:3.93496\n",
            "[642]\ttest-rmse:3.93483\n",
            "[643]\ttest-rmse:3.93469\n",
            "[644]\ttest-rmse:3.93473\n",
            "[645]\ttest-rmse:3.93467\n",
            "[646]\ttest-rmse:3.93462\n",
            "[647]\ttest-rmse:3.93455\n",
            "[648]\ttest-rmse:3.93451\n",
            "[649]\ttest-rmse:3.93447\n",
            "[650]\ttest-rmse:3.93432\n",
            "[651]\ttest-rmse:3.93409\n",
            "[652]\ttest-rmse:3.93411\n",
            "[653]\ttest-rmse:3.93408\n",
            "[654]\ttest-rmse:3.93389\n",
            "[655]\ttest-rmse:3.93373\n",
            "[656]\ttest-rmse:3.93375\n",
            "[657]\ttest-rmse:3.93369\n",
            "[658]\ttest-rmse:3.93368\n",
            "[659]\ttest-rmse:3.93368\n",
            "[660]\ttest-rmse:3.93358\n",
            "[661]\ttest-rmse:3.93354\n",
            "[662]\ttest-rmse:3.93349\n",
            "[663]\ttest-rmse:3.93347\n",
            "[664]\ttest-rmse:3.93339\n",
            "[665]\ttest-rmse:3.93345\n",
            "[666]\ttest-rmse:3.93327\n",
            "[667]\ttest-rmse:3.93314\n",
            "[668]\ttest-rmse:3.9331\n",
            "[669]\ttest-rmse:3.93312\n",
            "[670]\ttest-rmse:3.93309\n",
            "[671]\ttest-rmse:3.93304\n",
            "[672]\ttest-rmse:3.93304\n",
            "[673]\ttest-rmse:3.93298\n",
            "[674]\ttest-rmse:3.93301\n",
            "[675]\ttest-rmse:3.9329\n",
            "[676]\ttest-rmse:3.93297\n",
            "[677]\ttest-rmse:3.93306\n",
            "[678]\ttest-rmse:3.93304\n",
            "[679]\ttest-rmse:3.93304\n",
            "[680]\ttest-rmse:3.93271\n",
            "[681]\ttest-rmse:3.93269\n",
            "[682]\ttest-rmse:3.93268\n",
            "[683]\ttest-rmse:3.93269\n",
            "[684]\ttest-rmse:3.93276\n",
            "[685]\ttest-rmse:3.9327\n",
            "[686]\ttest-rmse:3.93244\n",
            "[687]\ttest-rmse:3.93209\n",
            "[688]\ttest-rmse:3.93206\n",
            "[689]\ttest-rmse:3.93194\n",
            "[690]\ttest-rmse:3.93187\n",
            "[691]\ttest-rmse:3.93185\n",
            "[692]\ttest-rmse:3.93182\n",
            "[693]\ttest-rmse:3.93182\n",
            "[694]\ttest-rmse:3.93182\n",
            "[695]\ttest-rmse:3.93165\n",
            "[696]\ttest-rmse:3.93162\n",
            "[697]\ttest-rmse:3.93156\n",
            "[698]\ttest-rmse:3.93156\n",
            "[699]\ttest-rmse:3.93144\n",
            "[700]\ttest-rmse:3.93136\n",
            "[701]\ttest-rmse:3.93135\n",
            "[702]\ttest-rmse:3.93137\n",
            "[703]\ttest-rmse:3.93118\n",
            "[704]\ttest-rmse:3.93102\n",
            "[705]\ttest-rmse:3.931\n",
            "[706]\ttest-rmse:3.931\n",
            "[707]\ttest-rmse:3.93096\n",
            "[708]\ttest-rmse:3.93096\n",
            "[709]\ttest-rmse:3.93096\n",
            "[710]\ttest-rmse:3.93091\n",
            "[711]\ttest-rmse:3.9308\n",
            "[712]\ttest-rmse:3.93077\n",
            "[713]\ttest-rmse:3.93077\n",
            "[714]\ttest-rmse:3.9308\n",
            "[715]\ttest-rmse:3.93073\n",
            "[716]\ttest-rmse:3.93072\n",
            "[717]\ttest-rmse:3.93063\n",
            "[718]\ttest-rmse:3.93062\n",
            "[719]\ttest-rmse:3.93064\n",
            "[720]\ttest-rmse:3.9305\n",
            "[721]\ttest-rmse:3.93055\n",
            "[722]\ttest-rmse:3.93053\n",
            "[723]\ttest-rmse:3.93052\n",
            "[724]\ttest-rmse:3.93051\n",
            "[725]\ttest-rmse:3.93051\n",
            "[726]\ttest-rmse:3.93051\n",
            "[727]\ttest-rmse:3.93035\n",
            "[728]\ttest-rmse:3.93011\n",
            "[729]\ttest-rmse:3.93009\n",
            "[730]\ttest-rmse:3.93003\n",
            "[731]\ttest-rmse:3.92995\n",
            "[732]\ttest-rmse:3.9299\n",
            "[733]\ttest-rmse:3.92989\n",
            "[734]\ttest-rmse:3.92986\n",
            "[735]\ttest-rmse:3.92985\n",
            "[736]\ttest-rmse:3.92987\n",
            "[737]\ttest-rmse:3.92969\n",
            "[738]\ttest-rmse:3.92965\n",
            "[739]\ttest-rmse:3.92966\n",
            "[740]\ttest-rmse:3.92952\n",
            "[741]\ttest-rmse:3.92951\n",
            "[742]\ttest-rmse:3.92952\n",
            "[743]\ttest-rmse:3.9296\n",
            "[744]\ttest-rmse:3.92961\n",
            "[745]\ttest-rmse:3.92961\n",
            "[746]\ttest-rmse:3.92948\n",
            "[747]\ttest-rmse:3.92948\n",
            "[748]\ttest-rmse:3.92942\n",
            "[749]\ttest-rmse:3.92933\n",
            "[750]\ttest-rmse:3.9291\n",
            "[751]\ttest-rmse:3.92911\n",
            "[752]\ttest-rmse:3.92911\n",
            "[753]\ttest-rmse:3.92913\n",
            "[754]\ttest-rmse:3.92913\n",
            "[755]\ttest-rmse:3.92906\n",
            "[756]\ttest-rmse:3.92904\n",
            "[757]\ttest-rmse:3.92903\n",
            "[758]\ttest-rmse:3.92898\n",
            "[759]\ttest-rmse:3.92895\n",
            "[760]\ttest-rmse:3.92893\n",
            "[761]\ttest-rmse:3.92901\n",
            "[762]\ttest-rmse:3.92904\n",
            "[763]\ttest-rmse:3.92902\n",
            "[764]\ttest-rmse:3.92914\n",
            "[765]\ttest-rmse:3.92909\n",
            "[766]\ttest-rmse:3.92909\n",
            "[767]\ttest-rmse:3.92916\n",
            "[768]\ttest-rmse:3.92918\n",
            "[769]\ttest-rmse:3.92916\n",
            "[770]\ttest-rmse:3.92913\n",
            "Stopping. Best iteration:\n",
            "[760]\ttest-rmse:3.92893\n",
            "\n"
          ],
          "name": "stdout"
        }
      ]
    },
    {
      "cell_type": "code",
      "metadata": {
        "id": "1_MAx_Sva4R-"
      },
      "source": [
        "prediction = model.predict(xgb.DMatrix(df_test), ntree_limit = model.best_ntree_limit).tolist()"
      ],
      "execution_count": null,
      "outputs": []
    },
    {
      "cell_type": "code",
      "metadata": {
        "colab": {
          "base_uri": "https://localhost:8080/",
          "height": 609
        },
        "id": "TpUD_Hlta_Py",
        "outputId": "b0c3712a-c4c1-4bd5-da78-53c305cb3ce0"
      },
      "source": [
        "test"
      ],
      "execution_count": null,
      "outputs": [
        {
          "output_type": "execute_result",
          "data": {
            "text/html": [
              "<div>\n",
              "<style scoped>\n",
              "    .dataframe tbody tr th:only-of-type {\n",
              "        vertical-align: middle;\n",
              "    }\n",
              "\n",
              "    .dataframe tbody tr th {\n",
              "        vertical-align: top;\n",
              "    }\n",
              "\n",
              "    .dataframe thead th {\n",
              "        text-align: right;\n",
              "    }\n",
              "</style>\n",
              "<table border=\"1\" class=\"dataframe\">\n",
              "  <thead>\n",
              "    <tr style=\"text-align: right;\">\n",
              "      <th></th>\n",
              "      <th>key</th>\n",
              "      <th>pickup_datetime</th>\n",
              "      <th>pickup_longitude</th>\n",
              "      <th>pickup_latitude</th>\n",
              "      <th>dropoff_longitude</th>\n",
              "      <th>dropoff_latitude</th>\n",
              "      <th>passenger_count</th>\n",
              "      <th>hour_of_day</th>\n",
              "      <th>minutes</th>\n",
              "      <th>month</th>\n",
              "      <th>year</th>\n",
              "      <th>weekday</th>\n",
              "      <th>distance_miles</th>\n",
              "      <th>pickup_distance_to_jfk</th>\n",
              "      <th>dropoff_distance_to_jfk</th>\n",
              "      <th>pickup_distance_to_ewr</th>\n",
              "      <th>dropoff_distance_to_ewr</th>\n",
              "      <th>pickup_distance_to_lgr</th>\n",
              "      <th>dropoff_distance_to_lgr</th>\n",
              "    </tr>\n",
              "  </thead>\n",
              "  <tbody>\n",
              "    <tr>\n",
              "      <th>0</th>\n",
              "      <td>2015-01-27 13:08:24.0000002</td>\n",
              "      <td>2015-01-27 13:08:00+00:00</td>\n",
              "      <td>-73.973320</td>\n",
              "      <td>40.763805</td>\n",
              "      <td>-73.981430</td>\n",
              "      <td>40.743835</td>\n",
              "      <td>1</td>\n",
              "      <td>13</td>\n",
              "      <td>8</td>\n",
              "      <td>1</td>\n",
              "      <td>2015</td>\n",
              "      <td>1</td>\n",
              "      <td>1.443607</td>\n",
              "      <td>13.274326</td>\n",
              "      <td>12.792807</td>\n",
              "      <td>11.718491</td>\n",
              "      <td>10.785343</td>\n",
              "      <td>5.275249</td>\n",
              "      <td>6.068721</td>\n",
              "    </tr>\n",
              "    <tr>\n",
              "      <th>1</th>\n",
              "      <td>2015-01-27 13:08:24.0000003</td>\n",
              "      <td>2015-01-27 13:08:00+00:00</td>\n",
              "      <td>-73.986862</td>\n",
              "      <td>40.719383</td>\n",
              "      <td>-73.998886</td>\n",
              "      <td>40.739201</td>\n",
              "      <td>1</td>\n",
              "      <td>13</td>\n",
              "      <td>8</td>\n",
              "      <td>1</td>\n",
              "      <td>2015</td>\n",
              "      <td>1</td>\n",
              "      <td>1.507044</td>\n",
              "      <td>12.196699</td>\n",
              "      <td>13.399582</td>\n",
              "      <td>10.042731</td>\n",
              "      <td>9.817205</td>\n",
              "      <td>7.119935</td>\n",
              "      <td>7.035995</td>\n",
              "    </tr>\n",
              "    <tr>\n",
              "      <th>2</th>\n",
              "      <td>2011-10-08 11:53:44.0000002</td>\n",
              "      <td>2011-10-08 11:53:00+00:00</td>\n",
              "      <td>-73.982524</td>\n",
              "      <td>40.751260</td>\n",
              "      <td>-73.979654</td>\n",
              "      <td>40.746139</td>\n",
              "      <td>1</td>\n",
              "      <td>11</td>\n",
              "      <td>53</td>\n",
              "      <td>10</td>\n",
              "      <td>2011</td>\n",
              "      <td>5</td>\n",
              "      <td>0.384398</td>\n",
              "      <td>13.130080</td>\n",
              "      <td>12.804646</td>\n",
              "      <td>10.921174</td>\n",
              "      <td>10.928398</td>\n",
              "      <td>5.949126</td>\n",
              "      <td>5.923673</td>\n",
              "    </tr>\n",
              "    <tr>\n",
              "      <th>3</th>\n",
              "      <td>2012-12-01 21:12:12.0000002</td>\n",
              "      <td>2012-12-01 21:12:00+00:00</td>\n",
              "      <td>-73.981160</td>\n",
              "      <td>40.767807</td>\n",
              "      <td>-73.990448</td>\n",
              "      <td>40.751635</td>\n",
              "      <td>1</td>\n",
              "      <td>21</td>\n",
              "      <td>12</td>\n",
              "      <td>12</td>\n",
              "      <td>2012</td>\n",
              "      <td>5</td>\n",
              "      <td>1.218529</td>\n",
              "      <td>13.766807</td>\n",
              "      <td>13.485374</td>\n",
              "      <td>11.478334</td>\n",
              "      <td>10.550950</td>\n",
              "      <td>5.642243</td>\n",
              "      <td>6.338990</td>\n",
              "    </tr>\n",
              "    <tr>\n",
              "      <th>4</th>\n",
              "      <td>2012-12-01 21:12:12.0000003</td>\n",
              "      <td>2012-12-01 21:12:00+00:00</td>\n",
              "      <td>-73.966046</td>\n",
              "      <td>40.789775</td>\n",
              "      <td>-73.988565</td>\n",
              "      <td>40.744427</td>\n",
              "      <td>1</td>\n",
              "      <td>21</td>\n",
              "      <td>12</td>\n",
              "      <td>12</td>\n",
              "      <td>2012</td>\n",
              "      <td>5</td>\n",
              "      <td>3.347514</td>\n",
              "      <td>14.216819</td>\n",
              "      <td>13.127774</td>\n",
              "      <td>12.926314</td>\n",
              "      <td>10.450604</td>\n",
              "      <td>4.896995</td>\n",
              "      <td>6.401733</td>\n",
              "    </tr>\n",
              "    <tr>\n",
              "      <th>...</th>\n",
              "      <td>...</td>\n",
              "      <td>...</td>\n",
              "      <td>...</td>\n",
              "      <td>...</td>\n",
              "      <td>...</td>\n",
              "      <td>...</td>\n",
              "      <td>...</td>\n",
              "      <td>...</td>\n",
              "      <td>...</td>\n",
              "      <td>...</td>\n",
              "      <td>...</td>\n",
              "      <td>...</td>\n",
              "      <td>...</td>\n",
              "      <td>...</td>\n",
              "      <td>...</td>\n",
              "      <td>...</td>\n",
              "      <td>...</td>\n",
              "      <td>...</td>\n",
              "      <td>...</td>\n",
              "    </tr>\n",
              "    <tr>\n",
              "      <th>9909</th>\n",
              "      <td>2015-05-10 12:37:51.0000002</td>\n",
              "      <td>2015-05-10 12:37:00+00:00</td>\n",
              "      <td>-73.968124</td>\n",
              "      <td>40.796997</td>\n",
              "      <td>-73.955643</td>\n",
              "      <td>40.780388</td>\n",
              "      <td>6</td>\n",
              "      <td>12</td>\n",
              "      <td>37</td>\n",
              "      <td>5</td>\n",
              "      <td>2015</td>\n",
              "      <td>6</td>\n",
              "      <td>1.320336</td>\n",
              "      <td>14.654308</td>\n",
              "      <td>13.372190</td>\n",
              "      <td>13.110204</td>\n",
              "      <td>13.066168</td>\n",
              "      <td>5.116029</td>\n",
              "      <td>4.278349</td>\n",
              "    </tr>\n",
              "    <tr>\n",
              "      <th>9910</th>\n",
              "      <td>2015-01-12 17:05:51.0000001</td>\n",
              "      <td>2015-01-12 17:05:00+00:00</td>\n",
              "      <td>-73.945511</td>\n",
              "      <td>40.803600</td>\n",
              "      <td>-73.960213</td>\n",
              "      <td>40.776371</td>\n",
              "      <td>6</td>\n",
              "      <td>17</td>\n",
              "      <td>5</td>\n",
              "      <td>1</td>\n",
              "      <td>2015</td>\n",
              "      <td>0</td>\n",
              "      <td>2.032486</td>\n",
              "      <td>14.233755</td>\n",
              "      <td>13.344366</td>\n",
              "      <td>14.346682</td>\n",
              "      <td>12.723911</td>\n",
              "      <td>4.170965</td>\n",
              "      <td>4.510944</td>\n",
              "    </tr>\n",
              "    <tr>\n",
              "      <th>9911</th>\n",
              "      <td>2015-04-19 20:44:15.0000001</td>\n",
              "      <td>2015-04-19 20:44:00+00:00</td>\n",
              "      <td>-73.991600</td>\n",
              "      <td>40.726608</td>\n",
              "      <td>-73.789742</td>\n",
              "      <td>40.647011</td>\n",
              "      <td>6</td>\n",
              "      <td>20</td>\n",
              "      <td>44</td>\n",
              "      <td>4</td>\n",
              "      <td>2015</td>\n",
              "      <td>6</td>\n",
              "      <td>11.920349</td>\n",
              "      <td>12.644137</td>\n",
              "      <td>0.726759</td>\n",
              "      <td>9.916691</td>\n",
              "      <td>20.376600</td>\n",
              "      <td>7.068421</td>\n",
              "      <td>10.000717</td>\n",
              "    </tr>\n",
              "    <tr>\n",
              "      <th>9912</th>\n",
              "      <td>2015-01-31 01:05:19.0000005</td>\n",
              "      <td>2015-01-31 01:05:00+00:00</td>\n",
              "      <td>-73.985573</td>\n",
              "      <td>40.735432</td>\n",
              "      <td>-73.939178</td>\n",
              "      <td>40.801731</td>\n",
              "      <td>6</td>\n",
              "      <td>1</td>\n",
              "      <td>5</td>\n",
              "      <td>1</td>\n",
              "      <td>2015</td>\n",
              "      <td>5</td>\n",
              "      <td>5.184402</td>\n",
              "      <td>12.666946</td>\n",
              "      <td>13.929041</td>\n",
              "      <td>10.391022</td>\n",
              "      <td>14.555692</td>\n",
              "      <td>6.504521</td>\n",
              "      <td>3.816918</td>\n",
              "    </tr>\n",
              "    <tr>\n",
              "      <th>9913</th>\n",
              "      <td>2015-01-18 14:06:23.0000006</td>\n",
              "      <td>2015-01-18 14:06:00+00:00</td>\n",
              "      <td>-73.988022</td>\n",
              "      <td>40.754070</td>\n",
              "      <td>-74.000282</td>\n",
              "      <td>40.759220</td>\n",
              "      <td>6</td>\n",
              "      <td>14</td>\n",
              "      <td>6</td>\n",
              "      <td>1</td>\n",
              "      <td>2015</td>\n",
              "      <td>6</td>\n",
              "      <td>0.733731</td>\n",
              "      <td>13.477140</td>\n",
              "      <td>14.206749</td>\n",
              "      <td>10.735791</td>\n",
              "      <td>10.316298</td>\n",
              "      <td>6.171796</td>\n",
              "      <td>6.720116</td>\n",
              "    </tr>\n",
              "  </tbody>\n",
              "</table>\n",
              "<p>9914 rows × 19 columns</p>\n",
              "</div>"
            ],
            "text/plain": [
              "                              key  ... dropoff_distance_to_lgr\n",
              "0     2015-01-27 13:08:24.0000002  ...                6.068721\n",
              "1     2015-01-27 13:08:24.0000003  ...                7.035995\n",
              "2     2011-10-08 11:53:44.0000002  ...                5.923673\n",
              "3     2012-12-01 21:12:12.0000002  ...                6.338990\n",
              "4     2012-12-01 21:12:12.0000003  ...                6.401733\n",
              "...                           ...  ...                     ...\n",
              "9909  2015-05-10 12:37:51.0000002  ...                4.278349\n",
              "9910  2015-01-12 17:05:51.0000001  ...                4.510944\n",
              "9911  2015-04-19 20:44:15.0000001  ...               10.000717\n",
              "9912  2015-01-31 01:05:19.0000005  ...                3.816918\n",
              "9913  2015-01-18 14:06:23.0000006  ...                6.720116\n",
              "\n",
              "[9914 rows x 19 columns]"
            ]
          },
          "metadata": {
            "tags": []
          },
          "execution_count": 131
        }
      ]
    },
    {
      "cell_type": "code",
      "metadata": {
        "id": "EaLkvmQXa92C"
      },
      "source": [
        "\n",
        "holdout = pd.DataFrame({'key': test['key'], 'fare_amount': prediction})\n",
        "holdout.to_csv('xgb_4m_utc_with_cleaning.csv', index=False)"
      ],
      "execution_count": null,
      "outputs": []
    },
    {
      "cell_type": "code",
      "metadata": {
        "colab": {
          "base_uri": "https://localhost:8080/",
          "height": 392
        },
        "id": "Vn2xPvAubEcI",
        "outputId": "f37d3ec1-8caa-4bc5-e1f3-68c5e1ae2370"
      },
      "source": [
        "import matplotlib.pyplot as plt\n",
        "fscores = pd.DataFrame({'X': list(model.get_fscore().keys()), 'Y': list(model.get_fscore().values())})\n",
        "fscores.sort_values(by='Y').plot.bar(x='X')"
      ],
      "execution_count": null,
      "outputs": [
        {
          "output_type": "execute_result",
          "data": {
            "text/plain": [
              "<matplotlib.axes._subplots.AxesSubplot at 0x7f75e240ac50>"
            ]
          },
          "metadata": {
            "tags": []
          },
          "execution_count": 133
        },
        {
          "output_type": "display_data",
          "data": {
            "image/png": "[encoded data removed]",
            "text/plain": [
              "<Figure size 432x288 with 1 Axes>"
            ]
          },
          "metadata": {
            "tags": []
          }
        }
      ]
    }
  ]
}