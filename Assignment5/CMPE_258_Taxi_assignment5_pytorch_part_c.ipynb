{
  "nbformat": 4,
  "nbformat_minor": 0,
  "metadata": {
    "accelerator": "GPU",
    "colab": {
      "name": "CMPE-258-Taxi-assignment5-pytorch-part-c.ipynb",
      "provenance": [],
      "collapsed_sections": [],
      "toc_visible": true,
      "machine_shape": "hm",
      "include_colab_link": true
    },
    "kernelspec": {
      "display_name": "Python 3",
      "name": "python3"
    },
    "language_info": {
      "name": "python"
    },
    "widgets": {
      "application/vnd.jupyter.widget-state+json": {
        "d91a6af23ad740639ff8d135d8740c64": {
          "model_module": "@jupyter-widgets/controls",
          "model_name": "HBoxModel",
          "state": {
            "_view_name": "HBoxView",
            "_dom_classes": [],
            "_model_name": "HBoxModel",
            "_view_module": "@jupyter-widgets/controls",
            "_model_module_version": "1.5.0",
            "_view_count": null,
            "_view_module_version": "1.5.0",
            "box_style": "",
            "layout": "IPY_MODEL_2a640464541f43c5991292f517acb3df",
            "_model_module": "@jupyter-widgets/controls",
            "children": [
              "IPY_MODEL_0d0556a1018b440d9a5343abfd664875",
              "IPY_MODEL_8d1cd9e1bd7c40bd9db48cb401a5bf6d"
            ]
          }
        },
        "2a640464541f43c5991292f517acb3df": {
          "model_module": "@jupyter-widgets/base",
          "model_name": "LayoutModel",
          "state": {
            "_view_name": "LayoutView",
            "grid_template_rows": null,
            "right": null,
            "justify_content": null,
            "_view_module": "@jupyter-widgets/base",
            "overflow": null,
            "_model_module_version": "1.2.0",
            "_view_count": null,
            "flex_flow": null,
            "width": null,
            "min_width": null,
            "border": null,
            "align_items": null,
            "bottom": null,
            "_model_module": "@jupyter-widgets/base",
            "top": null,
            "grid_column": null,
            "overflow_y": null,
            "overflow_x": null,
            "grid_auto_flow": null,
            "grid_area": null,
            "grid_template_columns": null,
            "flex": null,
            "_model_name": "LayoutModel",
            "justify_items": null,
            "grid_row": null,
            "max_height": null,
            "align_content": null,
            "visibility": null,
            "align_self": null,
            "height": null,
            "min_height": null,
            "padding": null,
            "grid_auto_rows": null,
            "grid_gap": null,
            "max_width": null,
            "order": null,
            "_view_module_version": "1.2.0",
            "grid_template_areas": null,
            "object_position": null,
            "object_fit": null,
            "grid_auto_columns": null,
            "margin": null,
            "display": null,
            "left": null
          }
        },
        "0d0556a1018b440d9a5343abfd664875": {
          "model_module": "@jupyter-widgets/controls",
          "model_name": "FloatProgressModel",
          "state": {
            "_view_name": "ProgressView",
            "style": "IPY_MODEL_33fff09cf16946a6ac24c5b1e605b61c",
            "_dom_classes": [],
            "description": "100%",
            "_model_name": "FloatProgressModel",
            "bar_style": "success",
            "max": 10,
            "_view_module": "@jupyter-widgets/controls",
            "_model_module_version": "1.5.0",
            "value": 10,
            "_view_count": null,
            "_view_module_version": "1.5.0",
            "orientation": "horizontal",
            "min": 0,
            "description_tooltip": null,
            "_model_module": "@jupyter-widgets/controls",
            "layout": "IPY_MODEL_5a1e6767df6d49548509dd1806834e1d"
          }
        },
        "8d1cd9e1bd7c40bd9db48cb401a5bf6d": {
          "model_module": "@jupyter-widgets/controls",
          "model_name": "HTMLModel",
          "state": {
            "_view_name": "HTMLView",
            "style": "IPY_MODEL_b7c1c84674b549969ab792d68e440427",
            "_dom_classes": [],
            "description": "",
            "_model_name": "HTMLModel",
            "placeholder": "​",
            "_view_module": "@jupyter-widgets/controls",
            "_model_module_version": "1.5.0",
            "value": " 10/10 [02:18&lt;00:00, 13.86s/it]",
            "_view_count": null,
            "_view_module_version": "1.5.0",
            "description_tooltip": null,
            "_model_module": "@jupyter-widgets/controls",
            "layout": "IPY_MODEL_a0c50306a28c49e3b94131fcb8f3ea28"
          }
        },
        "33fff09cf16946a6ac24c5b1e605b61c": {
          "model_module": "@jupyter-widgets/controls",
          "model_name": "ProgressStyleModel",
          "state": {
            "_view_name": "StyleView",
            "_model_name": "ProgressStyleModel",
            "description_width": "initial",
            "_view_module": "@jupyter-widgets/base",
            "_model_module_version": "1.5.0",
            "_view_count": null,
            "_view_module_version": "1.2.0",
            "bar_color": null,
            "_model_module": "@jupyter-widgets/controls"
          }
        },
        "5a1e6767df6d49548509dd1806834e1d": {
          "model_module": "@jupyter-widgets/base",
          "model_name": "LayoutModel",
          "state": {
            "_view_name": "LayoutView",
            "grid_template_rows": null,
            "right": null,
            "justify_content": null,
            "_view_module": "@jupyter-widgets/base",
            "overflow": null,
            "_model_module_version": "1.2.0",
            "_view_count": null,
            "flex_flow": null,
            "width": null,
            "min_width": null,
            "border": null,
            "align_items": null,
            "bottom": null,
            "_model_module": "@jupyter-widgets/base",
            "top": null,
            "grid_column": null,
            "overflow_y": null,
            "overflow_x": null,
            "grid_auto_flow": null,
            "grid_area": null,
            "grid_template_columns": null,
            "flex": null,
            "_model_name": "LayoutModel",
            "justify_items": null,
            "grid_row": null,
            "max_height": null,
            "align_content": null,
            "visibility": null,
            "align_self": null,
            "height": null,
            "min_height": null,
            "padding": null,
            "grid_auto_rows": null,
            "grid_gap": null,
            "max_width": null,
            "order": null,
            "_view_module_version": "1.2.0",
            "grid_template_areas": null,
            "object_position": null,
            "object_fit": null,
            "grid_auto_columns": null,
            "margin": null,
            "display": null,
            "left": null
          }
        },
        "b7c1c84674b549969ab792d68e440427": {
          "model_module": "@jupyter-widgets/controls",
          "model_name": "DescriptionStyleModel",
          "state": {
            "_view_name": "StyleView",
            "_model_name": "DescriptionStyleModel",
            "description_width": "",
            "_view_module": "@jupyter-widgets/base",
            "_model_module_version": "1.5.0",
            "_view_count": null,
            "_view_module_version": "1.2.0",
            "_model_module": "@jupyter-widgets/controls"
          }
        },
        "a0c50306a28c49e3b94131fcb8f3ea28": {
          "model_module": "@jupyter-widgets/base",
          "model_name": "LayoutModel",
          "state": {
            "_view_name": "LayoutView",
            "grid_template_rows": null,
            "right": null,
            "justify_content": null,
            "_view_module": "@jupyter-widgets/base",
            "overflow": null,
            "_model_module_version": "1.2.0",
            "_view_count": null,
            "flex_flow": null,
            "width": null,
            "min_width": null,
            "border": null,
            "align_items": null,
            "bottom": null,
            "_model_module": "@jupyter-widgets/base",
            "top": null,
            "grid_column": null,
            "overflow_y": null,
            "overflow_x": null,
            "grid_auto_flow": null,
            "grid_area": null,
            "grid_template_columns": null,
            "flex": null,
            "_model_name": "LayoutModel",
            "justify_items": null,
            "grid_row": null,
            "max_height": null,
            "align_content": null,
            "visibility": null,
            "align_self": null,
            "height": null,
            "min_height": null,
            "padding": null,
            "grid_auto_rows": null,
            "grid_gap": null,
            "max_width": null,
            "order": null,
            "_view_module_version": "1.2.0",
            "grid_template_areas": null,
            "object_position": null,
            "object_fit": null,
            "grid_auto_columns": null,
            "margin": null,
            "display": null,
            "left": null
          }
        },
        "4ac9367a437a4f42882756edbb3daa0d": {
          "model_module": "@jupyter-widgets/controls",
          "model_name": "HBoxModel",
          "state": {
            "_view_name": "HBoxView",
            "_dom_classes": [],
            "_model_name": "HBoxModel",
            "_view_module": "@jupyter-widgets/controls",
            "_model_module_version": "1.5.0",
            "_view_count": null,
            "_view_module_version": "1.5.0",
            "box_style": "",
            "layout": "IPY_MODEL_b7f14d01d5a4410eb82189f2dbc66f2f",
            "_model_module": "@jupyter-widgets/controls",
            "children": [
              "IPY_MODEL_123c27d14b554b76885cd1b019adc958",
              "IPY_MODEL_fc0a0e8b67974a3187d151f1b20b1963"
            ]
          }
        },
        "b7f14d01d5a4410eb82189f2dbc66f2f": {
          "model_module": "@jupyter-widgets/base",
          "model_name": "LayoutModel",
          "state": {
            "_view_name": "LayoutView",
            "grid_template_rows": null,
            "right": null,
            "justify_content": null,
            "_view_module": "@jupyter-widgets/base",
            "overflow": null,
            "_model_module_version": "1.2.0",
            "_view_count": null,
            "flex_flow": null,
            "width": null,
            "min_width": null,
            "border": null,
            "align_items": null,
            "bottom": null,
            "_model_module": "@jupyter-widgets/base",
            "top": null,
            "grid_column": null,
            "overflow_y": null,
            "overflow_x": null,
            "grid_auto_flow": null,
            "grid_area": null,
            "grid_template_columns": null,
            "flex": null,
            "_model_name": "LayoutModel",
            "justify_items": null,
            "grid_row": null,
            "max_height": null,
            "align_content": null,
            "visibility": null,
            "align_self": null,
            "height": null,
            "min_height": null,
            "padding": null,
            "grid_auto_rows": null,
            "grid_gap": null,
            "max_width": null,
            "order": null,
            "_view_module_version": "1.2.0",
            "grid_template_areas": null,
            "object_position": null,
            "object_fit": null,
            "grid_auto_columns": null,
            "margin": null,
            "display": null,
            "left": null
          }
        },
        "123c27d14b554b76885cd1b019adc958": {
          "model_module": "@jupyter-widgets/controls",
          "model_name": "FloatProgressModel",
          "state": {
            "_view_name": "ProgressView",
            "style": "IPY_MODEL_dce1fa27af17488d8c44bc61df25890a",
            "_dom_classes": [],
            "description": "Epoch 0: 100%",
            "_model_name": "FloatProgressModel",
            "bar_style": "",
            "max": 1250,
            "_view_module": "@jupyter-widgets/controls",
            "_model_module_version": "1.5.0",
            "value": 1250,
            "_view_count": null,
            "_view_module_version": "1.5.0",
            "orientation": "horizontal",
            "min": 0,
            "description_tooltip": null,
            "_model_module": "@jupyter-widgets/controls",
            "layout": "IPY_MODEL_3dabf0949c8149d9970f08f9fcc2b8c7"
          }
        },
        "fc0a0e8b67974a3187d151f1b20b1963": {
          "model_module": "@jupyter-widgets/controls",
          "model_name": "HTMLModel",
          "state": {
            "_view_name": "HTMLView",
            "style": "IPY_MODEL_bd27f636af9649b291cfda0dcdb914cb",
            "_dom_classes": [],
            "description": "",
            "_model_name": "HTMLModel",
            "placeholder": "​",
            "_view_module": "@jupyter-widgets/controls",
            "_model_module_version": "1.5.0",
            "value": " 1250/1250 [00:12&lt;00:00, 100.18it/s, loss=0.32]",
            "_view_count": null,
            "_view_module_version": "1.5.0",
            "description_tooltip": null,
            "_model_module": "@jupyter-widgets/controls",
            "layout": "IPY_MODEL_94d7d0182b974db1b1bc0bbaaf8591ea"
          }
        },
        "dce1fa27af17488d8c44bc61df25890a": {
          "model_module": "@jupyter-widgets/controls",
          "model_name": "ProgressStyleModel",
          "state": {
            "_view_name": "StyleView",
            "_model_name": "ProgressStyleModel",
            "description_width": "initial",
            "_view_module": "@jupyter-widgets/base",
            "_model_module_version": "1.5.0",
            "_view_count": null,
            "_view_module_version": "1.2.0",
            "bar_color": null,
            "_model_module": "@jupyter-widgets/controls"
          }
        },
        "3dabf0949c8149d9970f08f9fcc2b8c7": {
          "model_module": "@jupyter-widgets/base",
          "model_name": "LayoutModel",
          "state": {
            "_view_name": "LayoutView",
            "grid_template_rows": null,
            "right": null,
            "justify_content": null,
            "_view_module": "@jupyter-widgets/base",
            "overflow": null,
            "_model_module_version": "1.2.0",
            "_view_count": null,
            "flex_flow": null,
            "width": null,
            "min_width": null,
            "border": null,
            "align_items": null,
            "bottom": null,
            "_model_module": "@jupyter-widgets/base",
            "top": null,
            "grid_column": null,
            "overflow_y": null,
            "overflow_x": null,
            "grid_auto_flow": null,
            "grid_area": null,
            "grid_template_columns": null,
            "flex": null,
            "_model_name": "LayoutModel",
            "justify_items": null,
            "grid_row": null,
            "max_height": null,
            "align_content": null,
            "visibility": null,
            "align_self": null,
            "height": null,
            "min_height": null,
            "padding": null,
            "grid_auto_rows": null,
            "grid_gap": null,
            "max_width": null,
            "order": null,
            "_view_module_version": "1.2.0",
            "grid_template_areas": null,
            "object_position": null,
            "object_fit": null,
            "grid_auto_columns": null,
            "margin": null,
            "display": null,
            "left": null
          }
        },
        "bd27f636af9649b291cfda0dcdb914cb": {
          "model_module": "@jupyter-widgets/controls",
          "model_name": "DescriptionStyleModel",
          "state": {
            "_view_name": "StyleView",
            "_model_name": "DescriptionStyleModel",
            "description_width": "",
            "_view_module": "@jupyter-widgets/base",
            "_model_module_version": "1.5.0",
            "_view_count": null,
            "_view_module_version": "1.2.0",
            "_model_module": "@jupyter-widgets/controls"
          }
        },
        "94d7d0182b974db1b1bc0bbaaf8591ea": {
          "model_module": "@jupyter-widgets/base",
          "model_name": "LayoutModel",
          "state": {
            "_view_name": "LayoutView",
            "grid_template_rows": null,
            "right": null,
            "justify_content": null,
            "_view_module": "@jupyter-widgets/base",
            "overflow": null,
            "_model_module_version": "1.2.0",
            "_view_count": null,
            "flex_flow": null,
            "width": null,
            "min_width": null,
            "border": null,
            "align_items": null,
            "bottom": null,
            "_model_module": "@jupyter-widgets/base",
            "top": null,
            "grid_column": null,
            "overflow_y": null,
            "overflow_x": null,
            "grid_auto_flow": null,
            "grid_area": null,
            "grid_template_columns": null,
            "flex": null,
            "_model_name": "LayoutModel",
            "justify_items": null,
            "grid_row": null,
            "max_height": null,
            "align_content": null,
            "visibility": null,
            "align_self": null,
            "height": null,
            "min_height": null,
            "padding": null,
            "grid_auto_rows": null,
            "grid_gap": null,
            "max_width": null,
            "order": null,
            "_view_module_version": "1.2.0",
            "grid_template_areas": null,
            "object_position": null,
            "object_fit": null,
            "grid_auto_columns": null,
            "margin": null,
            "display": null,
            "left": null
          }
        },
        "8472655733a542b4a53ce43f8c1e53a7": {
          "model_module": "@jupyter-widgets/controls",
          "model_name": "HBoxModel",
          "state": {
            "_view_name": "HBoxView",
            "_dom_classes": [],
            "_model_name": "HBoxModel",
            "_view_module": "@jupyter-widgets/controls",
            "_model_module_version": "1.5.0",
            "_view_count": null,
            "_view_module_version": "1.5.0",
            "box_style": "",
            "layout": "IPY_MODEL_4bc0214e1373428b9cbbd2173c6293a7",
            "_model_module": "@jupyter-widgets/controls",
            "children": [
              "IPY_MODEL_5045b2e4921747fd85a0338c59ecbcf5",
              "IPY_MODEL_d000351a84ac497f872d4b3f5c18b6c9"
            ]
          }
        },
        "4bc0214e1373428b9cbbd2173c6293a7": {
          "model_module": "@jupyter-widgets/base",
          "model_name": "LayoutModel",
          "state": {
            "_view_name": "LayoutView",
            "grid_template_rows": null,
            "right": null,
            "justify_content": null,
            "_view_module": "@jupyter-widgets/base",
            "overflow": null,
            "_model_module_version": "1.2.0",
            "_view_count": null,
            "flex_flow": null,
            "width": null,
            "min_width": null,
            "border": null,
            "align_items": null,
            "bottom": null,
            "_model_module": "@jupyter-widgets/base",
            "top": null,
            "grid_column": null,
            "overflow_y": null,
            "overflow_x": null,
            "grid_auto_flow": null,
            "grid_area": null,
            "grid_template_columns": null,
            "flex": null,
            "_model_name": "LayoutModel",
            "justify_items": null,
            "grid_row": null,
            "max_height": null,
            "align_content": null,
            "visibility": null,
            "align_self": null,
            "height": null,
            "min_height": null,
            "padding": null,
            "grid_auto_rows": null,
            "grid_gap": null,
            "max_width": null,
            "order": null,
            "_view_module_version": "1.2.0",
            "grid_template_areas": null,
            "object_position": null,
            "object_fit": null,
            "grid_auto_columns": null,
            "margin": null,
            "display": null,
            "left": null
          }
        },
        "5045b2e4921747fd85a0338c59ecbcf5": {
          "model_module": "@jupyter-widgets/controls",
          "model_name": "FloatProgressModel",
          "state": {
            "_view_name": "ProgressView",
            "style": "IPY_MODEL_630089d4c92e4ee39a9e7e7a96329832",
            "_dom_classes": [],
            "description": "100%",
            "_model_name": "FloatProgressModel",
            "bar_style": "",
            "max": 313,
            "_view_module": "@jupyter-widgets/controls",
            "_model_module_version": "1.5.0",
            "value": 313,
            "_view_count": null,
            "_view_module_version": "1.5.0",
            "orientation": "horizontal",
            "min": 0,
            "description_tooltip": null,
            "_model_module": "@jupyter-widgets/controls",
            "layout": "IPY_MODEL_763f2a0ce72b4b0ca608acd90dd7a0ca"
          }
        },
        "d000351a84ac497f872d4b3f5c18b6c9": {
          "model_module": "@jupyter-widgets/controls",
          "model_name": "HTMLModel",
          "state": {
            "_view_name": "HTMLView",
            "style": "IPY_MODEL_f2521877631e403ba0075e0052b51852",
            "_dom_classes": [],
            "description": "",
            "_model_name": "HTMLModel",
            "placeholder": "​",
            "_view_module": "@jupyter-widgets/controls",
            "_model_module_version": "1.5.0",
            "value": " 313/313 [00:01&lt;00:00, 292.77it/s]",
            "_view_count": null,
            "_view_module_version": "1.5.0",
            "description_tooltip": null,
            "_model_module": "@jupyter-widgets/controls",
            "layout": "IPY_MODEL_cd8444338c514ffc96aba8ed5b0dc4f2"
          }
        },
        "630089d4c92e4ee39a9e7e7a96329832": {
          "model_module": "@jupyter-widgets/controls",
          "model_name": "ProgressStyleModel",
          "state": {
            "_view_name": "StyleView",
            "_model_name": "ProgressStyleModel",
            "description_width": "initial",
            "_view_module": "@jupyter-widgets/base",
            "_model_module_version": "1.5.0",
            "_view_count": null,
            "_view_module_version": "1.2.0",
            "bar_color": null,
            "_model_module": "@jupyter-widgets/controls"
          }
        },
        "763f2a0ce72b4b0ca608acd90dd7a0ca": {
          "model_module": "@jupyter-widgets/base",
          "model_name": "LayoutModel",
          "state": {
            "_view_name": "LayoutView",
            "grid_template_rows": null,
            "right": null,
            "justify_content": null,
            "_view_module": "@jupyter-widgets/base",
            "overflow": null,
            "_model_module_version": "1.2.0",
            "_view_count": null,
            "flex_flow": null,
            "width": null,
            "min_width": null,
            "border": null,
            "align_items": null,
            "bottom": null,
            "_model_module": "@jupyter-widgets/base",
            "top": null,
            "grid_column": null,
            "overflow_y": null,
            "overflow_x": null,
            "grid_auto_flow": null,
            "grid_area": null,
            "grid_template_columns": null,
            "flex": null,
            "_model_name": "LayoutModel",
            "justify_items": null,
            "grid_row": null,
            "max_height": null,
            "align_content": null,
            "visibility": null,
            "align_self": null,
            "height": null,
            "min_height": null,
            "padding": null,
            "grid_auto_rows": null,
            "grid_gap": null,
            "max_width": null,
            "order": null,
            "_view_module_version": "1.2.0",
            "grid_template_areas": null,
            "object_position": null,
            "object_fit": null,
            "grid_auto_columns": null,
            "margin": null,
            "display": null,
            "left": null
          }
        },
        "f2521877631e403ba0075e0052b51852": {
          "model_module": "@jupyter-widgets/controls",
          "model_name": "DescriptionStyleModel",
          "state": {
            "_view_name": "StyleView",
            "_model_name": "DescriptionStyleModel",
            "description_width": "",
            "_view_module": "@jupyter-widgets/base",
            "_model_module_version": "1.5.0",
            "_view_count": null,
            "_view_module_version": "1.2.0",
            "_model_module": "@jupyter-widgets/controls"
          }
        },
        "cd8444338c514ffc96aba8ed5b0dc4f2": {
          "model_module": "@jupyter-widgets/base",
          "model_name": "LayoutModel",
          "state": {
            "_view_name": "LayoutView",
            "grid_template_rows": null,
            "right": null,
            "justify_content": null,
            "_view_module": "@jupyter-widgets/base",
            "overflow": null,
            "_model_module_version": "1.2.0",
            "_view_count": null,
            "flex_flow": null,
            "width": null,
            "min_width": null,
            "border": null,
            "align_items": null,
            "bottom": null,
            "_model_module": "@jupyter-widgets/base",
            "top": null,
            "grid_column": null,
            "overflow_y": null,
            "overflow_x": null,
            "grid_auto_flow": null,
            "grid_area": null,
            "grid_template_columns": null,
            "flex": null,
            "_model_name": "LayoutModel",
            "justify_items": null,
            "grid_row": null,
            "max_height": null,
            "align_content": null,
            "visibility": null,
            "align_self": null,
            "height": null,
            "min_height": null,
            "padding": null,
            "grid_auto_rows": null,
            "grid_gap": null,
            "max_width": null,
            "order": null,
            "_view_module_version": "1.2.0",
            "grid_template_areas": null,
            "object_position": null,
            "object_fit": null,
            "grid_auto_columns": null,
            "margin": null,
            "display": null,
            "left": null
          }
        },
        "bb1203f4b9af4cfdaf543dd520d23c60": {
          "model_module": "@jupyter-widgets/controls",
          "model_name": "HBoxModel",
          "state": {
            "_view_name": "HBoxView",
            "_dom_classes": [],
            "_model_name": "HBoxModel",
            "_view_module": "@jupyter-widgets/controls",
            "_model_module_version": "1.5.0",
            "_view_count": null,
            "_view_module_version": "1.5.0",
            "box_style": "",
            "layout": "IPY_MODEL_2015b1b58dd04488badf26e2b8c4ba90",
            "_model_module": "@jupyter-widgets/controls",
            "children": [
              "IPY_MODEL_cca6cb8ee2834c95bb23cb6e208f6747",
              "IPY_MODEL_c300f209888c44b7a184564f224a562d"
            ]
          }
        },
        "2015b1b58dd04488badf26e2b8c4ba90": {
          "model_module": "@jupyter-widgets/base",
          "model_name": "LayoutModel",
          "state": {
            "_view_name": "LayoutView",
            "grid_template_rows": null,
            "right": null,
            "justify_content": null,
            "_view_module": "@jupyter-widgets/base",
            "overflow": null,
            "_model_module_version": "1.2.0",
            "_view_count": null,
            "flex_flow": null,
            "width": null,
            "min_width": null,
            "border": null,
            "align_items": null,
            "bottom": null,
            "_model_module": "@jupyter-widgets/base",
            "top": null,
            "grid_column": null,
            "overflow_y": null,
            "overflow_x": null,
            "grid_auto_flow": null,
            "grid_area": null,
            "grid_template_columns": null,
            "flex": null,
            "_model_name": "LayoutModel",
            "justify_items": null,
            "grid_row": null,
            "max_height": null,
            "align_content": null,
            "visibility": null,
            "align_self": null,
            "height": null,
            "min_height": null,
            "padding": null,
            "grid_auto_rows": null,
            "grid_gap": null,
            "max_width": null,
            "order": null,
            "_view_module_version": "1.2.0",
            "grid_template_areas": null,
            "object_position": null,
            "object_fit": null,
            "grid_auto_columns": null,
            "margin": null,
            "display": null,
            "left": null
          }
        },
        "cca6cb8ee2834c95bb23cb6e208f6747": {
          "model_module": "@jupyter-widgets/controls",
          "model_name": "FloatProgressModel",
          "state": {
            "_view_name": "ProgressView",
            "style": "IPY_MODEL_1c9ea46dbe7d47689959f46d16c737d6",
            "_dom_classes": [],
            "description": "Epoch 1: 100%",
            "_model_name": "FloatProgressModel",
            "bar_style": "",
            "max": 1250,
            "_view_module": "@jupyter-widgets/controls",
            "_model_module_version": "1.5.0",
            "value": 1250,
            "_view_count": null,
            "_view_module_version": "1.5.0",
            "orientation": "horizontal",
            "min": 0,
            "description_tooltip": null,
            "_model_module": "@jupyter-widgets/controls",
            "layout": "IPY_MODEL_234da075e37b4f91b1a1104777950c8e"
          }
        },
        "c300f209888c44b7a184564f224a562d": {
          "model_module": "@jupyter-widgets/controls",
          "model_name": "HTMLModel",
          "state": {
            "_view_name": "HTMLView",
            "style": "IPY_MODEL_4dcc0be6125345e7b3f9f45d6bba96f2",
            "_dom_classes": [],
            "description": "",
            "_model_name": "HTMLModel",
            "placeholder": "​",
            "_view_module": "@jupyter-widgets/controls",
            "_model_module_version": "1.5.0",
            "value": " 1250/1250 [00:12&lt;00:00, 97.41it/s, loss=0.402]",
            "_view_count": null,
            "_view_module_version": "1.5.0",
            "description_tooltip": null,
            "_model_module": "@jupyter-widgets/controls",
            "layout": "IPY_MODEL_7a7a1f471d974680a15d1def4184d1c6"
          }
        },
        "1c9ea46dbe7d47689959f46d16c737d6": {
          "model_module": "@jupyter-widgets/controls",
          "model_name": "ProgressStyleModel",
          "state": {
            "_view_name": "StyleView",
            "_model_name": "ProgressStyleModel",
            "description_width": "initial",
            "_view_module": "@jupyter-widgets/base",
            "_model_module_version": "1.5.0",
            "_view_count": null,
            "_view_module_version": "1.2.0",
            "bar_color": null,
            "_model_module": "@jupyter-widgets/controls"
          }
        },
        "234da075e37b4f91b1a1104777950c8e": {
          "model_module": "@jupyter-widgets/base",
          "model_name": "LayoutModel",
          "state": {
            "_view_name": "LayoutView",
            "grid_template_rows": null,
            "right": null,
            "justify_content": null,
            "_view_module": "@jupyter-widgets/base",
            "overflow": null,
            "_model_module_version": "1.2.0",
            "_view_count": null,
            "flex_flow": null,
            "width": null,
            "min_width": null,
            "border": null,
            "align_items": null,
            "bottom": null,
            "_model_module": "@jupyter-widgets/base",
            "top": null,
            "grid_column": null,
            "overflow_y": null,
            "overflow_x": null,
            "grid_auto_flow": null,
            "grid_area": null,
            "grid_template_columns": null,
            "flex": null,
            "_model_name": "LayoutModel",
            "justify_items": null,
            "grid_row": null,
            "max_height": null,
            "align_content": null,
            "visibility": null,
            "align_self": null,
            "height": null,
            "min_height": null,
            "padding": null,
            "grid_auto_rows": null,
            "grid_gap": null,
            "max_width": null,
            "order": null,
            "_view_module_version": "1.2.0",
            "grid_template_areas": null,
            "object_position": null,
            "object_fit": null,
            "grid_auto_columns": null,
            "margin": null,
            "display": null,
            "left": null
          }
        },
        "4dcc0be6125345e7b3f9f45d6bba96f2": {
          "model_module": "@jupyter-widgets/controls",
          "model_name": "DescriptionStyleModel",
          "state": {
            "_view_name": "StyleView",
            "_model_name": "DescriptionStyleModel",
            "description_width": "",
            "_view_module": "@jupyter-widgets/base",
            "_model_module_version": "1.5.0",
            "_view_count": null,
            "_view_module_version": "1.2.0",
            "_model_module": "@jupyter-widgets/controls"
          }
        },
        "7a7a1f471d974680a15d1def4184d1c6": {
          "model_module": "@jupyter-widgets/base",
          "model_name": "LayoutModel",
          "state": {
            "_view_name": "LayoutView",
            "grid_template_rows": null,
            "right": null,
            "justify_content": null,
            "_view_module": "@jupyter-widgets/base",
            "overflow": null,
            "_model_module_version": "1.2.0",
            "_view_count": null,
            "flex_flow": null,
            "width": null,
            "min_width": null,
            "border": null,
            "align_items": null,
            "bottom": null,
            "_model_module": "@jupyter-widgets/base",
            "top": null,
            "grid_column": null,
            "overflow_y": null,
            "overflow_x": null,
            "grid_auto_flow": null,
            "grid_area": null,
            "grid_template_columns": null,
            "flex": null,
            "_model_name": "LayoutModel",
            "justify_items": null,
            "grid_row": null,
            "max_height": null,
            "align_content": null,
            "visibility": null,
            "align_self": null,
            "height": null,
            "min_height": null,
            "padding": null,
            "grid_auto_rows": null,
            "grid_gap": null,
            "max_width": null,
            "order": null,
            "_view_module_version": "1.2.0",
            "grid_template_areas": null,
            "object_position": null,
            "object_fit": null,
            "grid_auto_columns": null,
            "margin": null,
            "display": null,
            "left": null
          }
        },
        "f3e5da788efc491395ba99bd669c6720": {
          "model_module": "@jupyter-widgets/controls",
          "model_name": "HBoxModel",
          "state": {
            "_view_name": "HBoxView",
            "_dom_classes": [],
            "_model_name": "HBoxModel",
            "_view_module": "@jupyter-widgets/controls",
            "_model_module_version": "1.5.0",
            "_view_count": null,
            "_view_module_version": "1.5.0",
            "box_style": "",
            "layout": "IPY_MODEL_1b78b9a1d7ff411eb29aaa4083db77b6",
            "_model_module": "@jupyter-widgets/controls",
            "children": [
              "IPY_MODEL_dca009fcbea04cc3b8da2144df5387d8",
              "IPY_MODEL_04cc663c61cc492eaf8a70854157be31"
            ]
          }
        },
        "1b78b9a1d7ff411eb29aaa4083db77b6": {
          "model_module": "@jupyter-widgets/base",
          "model_name": "LayoutModel",
          "state": {
            "_view_name": "LayoutView",
            "grid_template_rows": null,
            "right": null,
            "justify_content": null,
            "_view_module": "@jupyter-widgets/base",
            "overflow": null,
            "_model_module_version": "1.2.0",
            "_view_count": null,
            "flex_flow": null,
            "width": null,
            "min_width": null,
            "border": null,
            "align_items": null,
            "bottom": null,
            "_model_module": "@jupyter-widgets/base",
            "top": null,
            "grid_column": null,
            "overflow_y": null,
            "overflow_x": null,
            "grid_auto_flow": null,
            "grid_area": null,
            "grid_template_columns": null,
            "flex": null,
            "_model_name": "LayoutModel",
            "justify_items": null,
            "grid_row": null,
            "max_height": null,
            "align_content": null,
            "visibility": null,
            "align_self": null,
            "height": null,
            "min_height": null,
            "padding": null,
            "grid_auto_rows": null,
            "grid_gap": null,
            "max_width": null,
            "order": null,
            "_view_module_version": "1.2.0",
            "grid_template_areas": null,
            "object_position": null,
            "object_fit": null,
            "grid_auto_columns": null,
            "margin": null,
            "display": null,
            "left": null
          }
        },
        "dca009fcbea04cc3b8da2144df5387d8": {
          "model_module": "@jupyter-widgets/controls",
          "model_name": "FloatProgressModel",
          "state": {
            "_view_name": "ProgressView",
            "style": "IPY_MODEL_7e675877fa2b4874b5679ed81a92de98",
            "_dom_classes": [],
            "description": "100%",
            "_model_name": "FloatProgressModel",
            "bar_style": "",
            "max": 313,
            "_view_module": "@jupyter-widgets/controls",
            "_model_module_version": "1.5.0",
            "value": 313,
            "_view_count": null,
            "_view_module_version": "1.5.0",
            "orientation": "horizontal",
            "min": 0,
            "description_tooltip": null,
            "_model_module": "@jupyter-widgets/controls",
            "layout": "IPY_MODEL_583c276b61da4f1f842c2f7293e3539b"
          }
        },
        "04cc663c61cc492eaf8a70854157be31": {
          "model_module": "@jupyter-widgets/controls",
          "model_name": "HTMLModel",
          "state": {
            "_view_name": "HTMLView",
            "style": "IPY_MODEL_d3df642ebd2b4d6882797bc4777fef17",
            "_dom_classes": [],
            "description": "",
            "_model_name": "HTMLModel",
            "placeholder": "​",
            "_view_module": "@jupyter-widgets/controls",
            "_model_module_version": "1.5.0",
            "value": " 313/313 [00:01&lt;00:00, 299.17it/s]",
            "_view_count": null,
            "_view_module_version": "1.5.0",
            "description_tooltip": null,
            "_model_module": "@jupyter-widgets/controls",
            "layout": "IPY_MODEL_9e2dffe6bc194177a5e167c4d9efd469"
          }
        },
        "7e675877fa2b4874b5679ed81a92de98": {
          "model_module": "@jupyter-widgets/controls",
          "model_name": "ProgressStyleModel",
          "state": {
            "_view_name": "StyleView",
            "_model_name": "ProgressStyleModel",
            "description_width": "initial",
            "_view_module": "@jupyter-widgets/base",
            "_model_module_version": "1.5.0",
            "_view_count": null,
            "_view_module_version": "1.2.0",
            "bar_color": null,
            "_model_module": "@jupyter-widgets/controls"
          }
        },
        "583c276b61da4f1f842c2f7293e3539b": {
          "model_module": "@jupyter-widgets/base",
          "model_name": "LayoutModel",
          "state": {
            "_view_name": "LayoutView",
            "grid_template_rows": null,
            "right": null,
            "justify_content": null,
            "_view_module": "@jupyter-widgets/base",
            "overflow": null,
            "_model_module_version": "1.2.0",
            "_view_count": null,
            "flex_flow": null,
            "width": null,
            "min_width": null,
            "border": null,
            "align_items": null,
            "bottom": null,
            "_model_module": "@jupyter-widgets/base",
            "top": null,
            "grid_column": null,
            "overflow_y": null,
            "overflow_x": null,
            "grid_auto_flow": null,
            "grid_area": null,
            "grid_template_columns": null,
            "flex": null,
            "_model_name": "LayoutModel",
            "justify_items": null,
            "grid_row": null,
            "max_height": null,
            "align_content": null,
            "visibility": null,
            "align_self": null,
            "height": null,
            "min_height": null,
            "padding": null,
            "grid_auto_rows": null,
            "grid_gap": null,
            "max_width": null,
            "order": null,
            "_view_module_version": "1.2.0",
            "grid_template_areas": null,
            "object_position": null,
            "object_fit": null,
            "grid_auto_columns": null,
            "margin": null,
            "display": null,
            "left": null
          }
        },
        "d3df642ebd2b4d6882797bc4777fef17": {
          "model_module": "@jupyter-widgets/controls",
          "model_name": "DescriptionStyleModel",
          "state": {
            "_view_name": "StyleView",
            "_model_name": "DescriptionStyleModel",
            "description_width": "",
            "_view_module": "@jupyter-widgets/base",
            "_model_module_version": "1.5.0",
            "_view_count": null,
            "_view_module_version": "1.2.0",
            "_model_module": "@jupyter-widgets/controls"
          }
        },
        "9e2dffe6bc194177a5e167c4d9efd469": {
          "model_module": "@jupyter-widgets/base",
          "model_name": "LayoutModel",
          "state": {
            "_view_name": "LayoutView",
            "grid_template_rows": null,
            "right": null,
            "justify_content": null,
            "_view_module": "@jupyter-widgets/base",
            "overflow": null,
            "_model_module_version": "1.2.0",
            "_view_count": null,
            "flex_flow": null,
            "width": null,
            "min_width": null,
            "border": null,
            "align_items": null,
            "bottom": null,
            "_model_module": "@jupyter-widgets/base",
            "top": null,
            "grid_column": null,
            "overflow_y": null,
            "overflow_x": null,
            "grid_auto_flow": null,
            "grid_area": null,
            "grid_template_columns": null,
            "flex": null,
            "_model_name": "LayoutModel",
            "justify_items": null,
            "grid_row": null,
            "max_height": null,
            "align_content": null,
            "visibility": null,
            "align_self": null,
            "height": null,
            "min_height": null,
            "padding": null,
            "grid_auto_rows": null,
            "grid_gap": null,
            "max_width": null,
            "order": null,
            "_view_module_version": "1.2.0",
            "grid_template_areas": null,
            "object_position": null,
            "object_fit": null,
            "grid_auto_columns": null,
            "margin": null,
            "display": null,
            "left": null
          }
        },
        "89f00a591a054d11a2ab02e7146a1ac2": {
          "model_module": "@jupyter-widgets/controls",
          "model_name": "HBoxModel",
          "state": {
            "_view_name": "HBoxView",
            "_dom_classes": [],
            "_model_name": "HBoxModel",
            "_view_module": "@jupyter-widgets/controls",
            "_model_module_version": "1.5.0",
            "_view_count": null,
            "_view_module_version": "1.5.0",
            "box_style": "",
            "layout": "IPY_MODEL_8288e01bc8f74ca58e8f868ac14ead77",
            "_model_module": "@jupyter-widgets/controls",
            "children": [
              "IPY_MODEL_d98062504a6b4055a636721c7a117144",
              "IPY_MODEL_f821484513b74270bf6f7510a32472ec"
            ]
          }
        },
        "8288e01bc8f74ca58e8f868ac14ead77": {
          "model_module": "@jupyter-widgets/base",
          "model_name": "LayoutModel",
          "state": {
            "_view_name": "LayoutView",
            "grid_template_rows": null,
            "right": null,
            "justify_content": null,
            "_view_module": "@jupyter-widgets/base",
            "overflow": null,
            "_model_module_version": "1.2.0",
            "_view_count": null,
            "flex_flow": null,
            "width": null,
            "min_width": null,
            "border": null,
            "align_items": null,
            "bottom": null,
            "_model_module": "@jupyter-widgets/base",
            "top": null,
            "grid_column": null,
            "overflow_y": null,
            "overflow_x": null,
            "grid_auto_flow": null,
            "grid_area": null,
            "grid_template_columns": null,
            "flex": null,
            "_model_name": "LayoutModel",
            "justify_items": null,
            "grid_row": null,
            "max_height": null,
            "align_content": null,
            "visibility": null,
            "align_self": null,
            "height": null,
            "min_height": null,
            "padding": null,
            "grid_auto_rows": null,
            "grid_gap": null,
            "max_width": null,
            "order": null,
            "_view_module_version": "1.2.0",
            "grid_template_areas": null,
            "object_position": null,
            "object_fit": null,
            "grid_auto_columns": null,
            "margin": null,
            "display": null,
            "left": null
          }
        },
        "d98062504a6b4055a636721c7a117144": {
          "model_module": "@jupyter-widgets/controls",
          "model_name": "FloatProgressModel",
          "state": {
            "_view_name": "ProgressView",
            "style": "IPY_MODEL_ea02857ead7046889fc9c0e2ffeef18c",
            "_dom_classes": [],
            "description": "Epoch 2: 100%",
            "_model_name": "FloatProgressModel",
            "bar_style": "",
            "max": 1250,
            "_view_module": "@jupyter-widgets/controls",
            "_model_module_version": "1.5.0",
            "value": 1250,
            "_view_count": null,
            "_view_module_version": "1.5.0",
            "orientation": "horizontal",
            "min": 0,
            "description_tooltip": null,
            "_model_module": "@jupyter-widgets/controls",
            "layout": "IPY_MODEL_52ccd6be768942649c6481f8c0550d0d"
          }
        },
        "f821484513b74270bf6f7510a32472ec": {
          "model_module": "@jupyter-widgets/controls",
          "model_name": "HTMLModel",
          "state": {
            "_view_name": "HTMLView",
            "style": "IPY_MODEL_9d8cbd68d7f146e4b251632a50f5b6b8",
            "_dom_classes": [],
            "description": "",
            "_model_name": "HTMLModel",
            "placeholder": "​",
            "_view_module": "@jupyter-widgets/controls",
            "_model_module_version": "1.5.0",
            "value": " 1250/1250 [00:12&lt;00:00, 97.47it/s, loss=0.254]",
            "_view_count": null,
            "_view_module_version": "1.5.0",
            "description_tooltip": null,
            "_model_module": "@jupyter-widgets/controls",
            "layout": "IPY_MODEL_b65520e2081542d1b4f641840c8b9261"
          }
        },
        "ea02857ead7046889fc9c0e2ffeef18c": {
          "model_module": "@jupyter-widgets/controls",
          "model_name": "ProgressStyleModel",
          "state": {
            "_view_name": "StyleView",
            "_model_name": "ProgressStyleModel",
            "description_width": "initial",
            "_view_module": "@jupyter-widgets/base",
            "_model_module_version": "1.5.0",
            "_view_count": null,
            "_view_module_version": "1.2.0",
            "bar_color": null,
            "_model_module": "@jupyter-widgets/controls"
          }
        },
        "52ccd6be768942649c6481f8c0550d0d": {
          "model_module": "@jupyter-widgets/base",
          "model_name": "LayoutModel",
          "state": {
            "_view_name": "LayoutView",
            "grid_template_rows": null,
            "right": null,
            "justify_content": null,
            "_view_module": "@jupyter-widgets/base",
            "overflow": null,
            "_model_module_version": "1.2.0",
            "_view_count": null,
            "flex_flow": null,
            "width": null,
            "min_width": null,
            "border": null,
            "align_items": null,
            "bottom": null,
            "_model_module": "@jupyter-widgets/base",
            "top": null,
            "grid_column": null,
            "overflow_y": null,
            "overflow_x": null,
            "grid_auto_flow": null,
            "grid_area": null,
            "grid_template_columns": null,
            "flex": null,
            "_model_name": "LayoutModel",
            "justify_items": null,
            "grid_row": null,
            "max_height": null,
            "align_content": null,
            "visibility": null,
            "align_self": null,
            "height": null,
            "min_height": null,
            "padding": null,
            "grid_auto_rows": null,
            "grid_gap": null,
            "max_width": null,
            "order": null,
            "_view_module_version": "1.2.0",
            "grid_template_areas": null,
            "object_position": null,
            "object_fit": null,
            "grid_auto_columns": null,
            "margin": null,
            "display": null,
            "left": null
          }
        },
        "9d8cbd68d7f146e4b251632a50f5b6b8": {
          "model_module": "@jupyter-widgets/controls",
          "model_name": "DescriptionStyleModel",
          "state": {
            "_view_name": "StyleView",
            "_model_name": "DescriptionStyleModel",
            "description_width": "",
            "_view_module": "@jupyter-widgets/base",
            "_model_module_version": "1.5.0",
            "_view_count": null,
            "_view_module_version": "1.2.0",
            "_model_module": "@jupyter-widgets/controls"
          }
        },
        "b65520e2081542d1b4f641840c8b9261": {
          "model_module": "@jupyter-widgets/base",
          "model_name": "LayoutModel",
          "state": {
            "_view_name": "LayoutView",
            "grid_template_rows": null,
            "right": null,
            "justify_content": null,
            "_view_module": "@jupyter-widgets/base",
            "overflow": null,
            "_model_module_version": "1.2.0",
            "_view_count": null,
            "flex_flow": null,
            "width": null,
            "min_width": null,
            "border": null,
            "align_items": null,
            "bottom": null,
            "_model_module": "@jupyter-widgets/base",
            "top": null,
            "grid_column": null,
            "overflow_y": null,
            "overflow_x": null,
            "grid_auto_flow": null,
            "grid_area": null,
            "grid_template_columns": null,
            "flex": null,
            "_model_name": "LayoutModel",
            "justify_items": null,
            "grid_row": null,
            "max_height": null,
            "align_content": null,
            "visibility": null,
            "align_self": null,
            "height": null,
            "min_height": null,
            "padding": null,
            "grid_auto_rows": null,
            "grid_gap": null,
            "max_width": null,
            "order": null,
            "_view_module_version": "1.2.0",
            "grid_template_areas": null,
            "object_position": null,
            "object_fit": null,
            "grid_auto_columns": null,
            "margin": null,
            "display": null,
            "left": null
          }
        },
        "0369e34243a746b3a6ab0b679d1cb5ae": {
          "model_module": "@jupyter-widgets/controls",
          "model_name": "HBoxModel",
          "state": {
            "_view_name": "HBoxView",
            "_dom_classes": [],
            "_model_name": "HBoxModel",
            "_view_module": "@jupyter-widgets/controls",
            "_model_module_version": "1.5.0",
            "_view_count": null,
            "_view_module_version": "1.5.0",
            "box_style": "",
            "layout": "IPY_MODEL_ca27d2a1d35248aca8f450ac5597c1c9",
            "_model_module": "@jupyter-widgets/controls",
            "children": [
              "IPY_MODEL_fcfa49ff357249b496fb6a01de44649a",
              "IPY_MODEL_7e885b49174e4808affb703a8efa3acb"
            ]
          }
        },
        "ca27d2a1d35248aca8f450ac5597c1c9": {
          "model_module": "@jupyter-widgets/base",
          "model_name": "LayoutModel",
          "state": {
            "_view_name": "LayoutView",
            "grid_template_rows": null,
            "right": null,
            "justify_content": null,
            "_view_module": "@jupyter-widgets/base",
            "overflow": null,
            "_model_module_version": "1.2.0",
            "_view_count": null,
            "flex_flow": null,
            "width": null,
            "min_width": null,
            "border": null,
            "align_items": null,
            "bottom": null,
            "_model_module": "@jupyter-widgets/base",
            "top": null,
            "grid_column": null,
            "overflow_y": null,
            "overflow_x": null,
            "grid_auto_flow": null,
            "grid_area": null,
            "grid_template_columns": null,
            "flex": null,
            "_model_name": "LayoutModel",
            "justify_items": null,
            "grid_row": null,
            "max_height": null,
            "align_content": null,
            "visibility": null,
            "align_self": null,
            "height": null,
            "min_height": null,
            "padding": null,
            "grid_auto_rows": null,
            "grid_gap": null,
            "max_width": null,
            "order": null,
            "_view_module_version": "1.2.0",
            "grid_template_areas": null,
            "object_position": null,
            "object_fit": null,
            "grid_auto_columns": null,
            "margin": null,
            "display": null,
            "left": null
          }
        },
        "fcfa49ff357249b496fb6a01de44649a": {
          "model_module": "@jupyter-widgets/controls",
          "model_name": "FloatProgressModel",
          "state": {
            "_view_name": "ProgressView",
            "style": "IPY_MODEL_5bc9eef1aa6748679a7ce7b4b941cb62",
            "_dom_classes": [],
            "description": "100%",
            "_model_name": "FloatProgressModel",
            "bar_style": "",
            "max": 313,
            "_view_module": "@jupyter-widgets/controls",
            "_model_module_version": "1.5.0",
            "value": 313,
            "_view_count": null,
            "_view_module_version": "1.5.0",
            "orientation": "horizontal",
            "min": 0,
            "description_tooltip": null,
            "_model_module": "@jupyter-widgets/controls",
            "layout": "IPY_MODEL_957918a750394e8585c39992142b0ae4"
          }
        },
        "7e885b49174e4808affb703a8efa3acb": {
          "model_module": "@jupyter-widgets/controls",
          "model_name": "HTMLModel",
          "state": {
            "_view_name": "HTMLView",
            "style": "IPY_MODEL_7ca23c4a576b4b929a5f5d6f727ec7fc",
            "_dom_classes": [],
            "description": "",
            "_model_name": "HTMLModel",
            "placeholder": "​",
            "_view_module": "@jupyter-widgets/controls",
            "_model_module_version": "1.5.0",
            "value": " 313/313 [00:01&lt;00:00, 303.07it/s]",
            "_view_count": null,
            "_view_module_version": "1.5.0",
            "description_tooltip": null,
            "_model_module": "@jupyter-widgets/controls",
            "layout": "IPY_MODEL_d144bafaf79f4060ada87cd7f1b770de"
          }
        },
        "5bc9eef1aa6748679a7ce7b4b941cb62": {
          "model_module": "@jupyter-widgets/controls",
          "model_name": "ProgressStyleModel",
          "state": {
            "_view_name": "StyleView",
            "_model_name": "ProgressStyleModel",
            "description_width": "initial",
            "_view_module": "@jupyter-widgets/base",
            "_model_module_version": "1.5.0",
            "_view_count": null,
            "_view_module_version": "1.2.0",
            "bar_color": null,
            "_model_module": "@jupyter-widgets/controls"
          }
        },
        "957918a750394e8585c39992142b0ae4": {
          "model_module": "@jupyter-widgets/base",
          "model_name": "LayoutModel",
          "state": {
            "_view_name": "LayoutView",
            "grid_template_rows": null,
            "right": null,
            "justify_content": null,
            "_view_module": "@jupyter-widgets/base",
            "overflow": null,
            "_model_module_version": "1.2.0",
            "_view_count": null,
            "flex_flow": null,
            "width": null,
            "min_width": null,
            "border": null,
            "align_items": null,
            "bottom": null,
            "_model_module": "@jupyter-widgets/base",
            "top": null,
            "grid_column": null,
            "overflow_y": null,
            "overflow_x": null,
            "grid_auto_flow": null,
            "grid_area": null,
            "grid_template_columns": null,
            "flex": null,
            "_model_name": "LayoutModel",
            "justify_items": null,
            "grid_row": null,
            "max_height": null,
            "align_content": null,
            "visibility": null,
            "align_self": null,
            "height": null,
            "min_height": null,
            "padding": null,
            "grid_auto_rows": null,
            "grid_gap": null,
            "max_width": null,
            "order": null,
            "_view_module_version": "1.2.0",
            "grid_template_areas": null,
            "object_position": null,
            "object_fit": null,
            "grid_auto_columns": null,
            "margin": null,
            "display": null,
            "left": null
          }
        },
        "7ca23c4a576b4b929a5f5d6f727ec7fc": {
          "model_module": "@jupyter-widgets/controls",
          "model_name": "DescriptionStyleModel",
          "state": {
            "_view_name": "StyleView",
            "_model_name": "DescriptionStyleModel",
            "description_width": "",
            "_view_module": "@jupyter-widgets/base",
            "_model_module_version": "1.5.0",
            "_view_count": null,
            "_view_module_version": "1.2.0",
            "_model_module": "@jupyter-widgets/controls"
          }
        },
        "d144bafaf79f4060ada87cd7f1b770de": {
          "model_module": "@jupyter-widgets/base",
          "model_name": "LayoutModel",
          "state": {
            "_view_name": "LayoutView",
            "grid_template_rows": null,
            "right": null,
            "justify_content": null,
            "_view_module": "@jupyter-widgets/base",
            "overflow": null,
            "_model_module_version": "1.2.0",
            "_view_count": null,
            "flex_flow": null,
            "width": null,
            "min_width": null,
            "border": null,
            "align_items": null,
            "bottom": null,
            "_model_module": "@jupyter-widgets/base",
            "top": null,
            "grid_column": null,
            "overflow_y": null,
            "overflow_x": null,
            "grid_auto_flow": null,
            "grid_area": null,
            "grid_template_columns": null,
            "flex": null,
            "_model_name": "LayoutModel",
            "justify_items": null,
            "grid_row": null,
            "max_height": null,
            "align_content": null,
            "visibility": null,
            "align_self": null,
            "height": null,
            "min_height": null,
            "padding": null,
            "grid_auto_rows": null,
            "grid_gap": null,
            "max_width": null,
            "order": null,
            "_view_module_version": "1.2.0",
            "grid_template_areas": null,
            "object_position": null,
            "object_fit": null,
            "grid_auto_columns": null,
            "margin": null,
            "display": null,
            "left": null
          }
        },
        "dfe8e6794a9e499bac50d9e2c79e8770": {
          "model_module": "@jupyter-widgets/controls",
          "model_name": "HBoxModel",
          "state": {
            "_view_name": "HBoxView",
            "_dom_classes": [],
            "_model_name": "HBoxModel",
            "_view_module": "@jupyter-widgets/controls",
            "_model_module_version": "1.5.0",
            "_view_count": null,
            "_view_module_version": "1.5.0",
            "box_style": "",
            "layout": "IPY_MODEL_363c58ecef5e4565964f29f735da0812",
            "_model_module": "@jupyter-widgets/controls",
            "children": [
              "IPY_MODEL_99ba7e512f8c45829f650f2e600ca05b",
              "IPY_MODEL_5a8953822a9a467a8bcdb21999586286"
            ]
          }
        },
        "363c58ecef5e4565964f29f735da0812": {
          "model_module": "@jupyter-widgets/base",
          "model_name": "LayoutModel",
          "state": {
            "_view_name": "LayoutView",
            "grid_template_rows": null,
            "right": null,
            "justify_content": null,
            "_view_module": "@jupyter-widgets/base",
            "overflow": null,
            "_model_module_version": "1.2.0",
            "_view_count": null,
            "flex_flow": null,
            "width": null,
            "min_width": null,
            "border": null,
            "align_items": null,
            "bottom": null,
            "_model_module": "@jupyter-widgets/base",
            "top": null,
            "grid_column": null,
            "overflow_y": null,
            "overflow_x": null,
            "grid_auto_flow": null,
            "grid_area": null,
            "grid_template_columns": null,
            "flex": null,
            "_model_name": "LayoutModel",
            "justify_items": null,
            "grid_row": null,
            "max_height": null,
            "align_content": null,
            "visibility": null,
            "align_self": null,
            "height": null,
            "min_height": null,
            "padding": null,
            "grid_auto_rows": null,
            "grid_gap": null,
            "max_width": null,
            "order": null,
            "_view_module_version": "1.2.0",
            "grid_template_areas": null,
            "object_position": null,
            "object_fit": null,
            "grid_auto_columns": null,
            "margin": null,
            "display": null,
            "left": null
          }
        },
        "99ba7e512f8c45829f650f2e600ca05b": {
          "model_module": "@jupyter-widgets/controls",
          "model_name": "FloatProgressModel",
          "state": {
            "_view_name": "ProgressView",
            "style": "IPY_MODEL_4f0c270bcf92479f963d0c2d557fa25e",
            "_dom_classes": [],
            "description": "Epoch 3: 100%",
            "_model_name": "FloatProgressModel",
            "bar_style": "",
            "max": 1250,
            "_view_module": "@jupyter-widgets/controls",
            "_model_module_version": "1.5.0",
            "value": 1250,
            "_view_count": null,
            "_view_module_version": "1.5.0",
            "orientation": "horizontal",
            "min": 0,
            "description_tooltip": null,
            "_model_module": "@jupyter-widgets/controls",
            "layout": "IPY_MODEL_e111347fd98a46a58c78f8be78d59d47"
          }
        },
        "5a8953822a9a467a8bcdb21999586286": {
          "model_module": "@jupyter-widgets/controls",
          "model_name": "HTMLModel",
          "state": {
            "_view_name": "HTMLView",
            "style": "IPY_MODEL_e7432ecd55b544c2b0b37c98c295473e",
            "_dom_classes": [],
            "description": "",
            "_model_name": "HTMLModel",
            "placeholder": "​",
            "_view_module": "@jupyter-widgets/controls",
            "_model_module_version": "1.5.0",
            "value": " 1250/1250 [00:12&lt;00:00, 99.62it/s, loss=0.479]",
            "_view_count": null,
            "_view_module_version": "1.5.0",
            "description_tooltip": null,
            "_model_module": "@jupyter-widgets/controls",
            "layout": "IPY_MODEL_e613aad61bbd47f284ace63335dc5e66"
          }
        },
        "4f0c270bcf92479f963d0c2d557fa25e": {
          "model_module": "@jupyter-widgets/controls",
          "model_name": "ProgressStyleModel",
          "state": {
            "_view_name": "StyleView",
            "_model_name": "ProgressStyleModel",
            "description_width": "initial",
            "_view_module": "@jupyter-widgets/base",
            "_model_module_version": "1.5.0",
            "_view_count": null,
            "_view_module_version": "1.2.0",
            "bar_color": null,
            "_model_module": "@jupyter-widgets/controls"
          }
        },
        "e111347fd98a46a58c78f8be78d59d47": {
          "model_module": "@jupyter-widgets/base",
          "model_name": "LayoutModel",
          "state": {
            "_view_name": "LayoutView",
            "grid_template_rows": null,
            "right": null,
            "justify_content": null,
            "_view_module": "@jupyter-widgets/base",
            "overflow": null,
            "_model_module_version": "1.2.0",
            "_view_count": null,
            "flex_flow": null,
            "width": null,
            "min_width": null,
            "border": null,
            "align_items": null,
            "bottom": null,
            "_model_module": "@jupyter-widgets/base",
            "top": null,
            "grid_column": null,
            "overflow_y": null,
            "overflow_x": null,
            "grid_auto_flow": null,
            "grid_area": null,
            "grid_template_columns": null,
            "flex": null,
            "_model_name": "LayoutModel",
            "justify_items": null,
            "grid_row": null,
            "max_height": null,
            "align_content": null,
            "visibility": null,
            "align_self": null,
            "height": null,
            "min_height": null,
            "padding": null,
            "grid_auto_rows": null,
            "grid_gap": null,
            "max_width": null,
            "order": null,
            "_view_module_version": "1.2.0",
            "grid_template_areas": null,
            "object_position": null,
            "object_fit": null,
            "grid_auto_columns": null,
            "margin": null,
            "display": null,
            "left": null
          }
        },
        "e7432ecd55b544c2b0b37c98c295473e": {
          "model_module": "@jupyter-widgets/controls",
          "model_name": "DescriptionStyleModel",
          "state": {
            "_view_name": "StyleView",
            "_model_name": "DescriptionStyleModel",
            "description_width": "",
            "_view_module": "@jupyter-widgets/base",
            "_model_module_version": "1.5.0",
            "_view_count": null,
            "_view_module_version": "1.2.0",
            "_model_module": "@jupyter-widgets/controls"
          }
        },
        "e613aad61bbd47f284ace63335dc5e66": {
          "model_module": "@jupyter-widgets/base",
          "model_name": "LayoutModel",
          "state": {
            "_view_name": "LayoutView",
            "grid_template_rows": null,
            "right": null,
            "justify_content": null,
            "_view_module": "@jupyter-widgets/base",
            "overflow": null,
            "_model_module_version": "1.2.0",
            "_view_count": null,
            "flex_flow": null,
            "width": null,
            "min_width": null,
            "border": null,
            "align_items": null,
            "bottom": null,
            "_model_module": "@jupyter-widgets/base",
            "top": null,
            "grid_column": null,
            "overflow_y": null,
            "overflow_x": null,
            "grid_auto_flow": null,
            "grid_area": null,
            "grid_template_columns": null,
            "flex": null,
            "_model_name": "LayoutModel",
            "justify_items": null,
            "grid_row": null,
            "max_height": null,
            "align_content": null,
            "visibility": null,
            "align_self": null,
            "height": null,
            "min_height": null,
            "padding": null,
            "grid_auto_rows": null,
            "grid_gap": null,
            "max_width": null,
            "order": null,
            "_view_module_version": "1.2.0",
            "grid_template_areas": null,
            "object_position": null,
            "object_fit": null,
            "grid_auto_columns": null,
            "margin": null,
            "display": null,
            "left": null
          }
        },
        "817d2dabd67d4286a6d84c6c211185de": {
          "model_module": "@jupyter-widgets/controls",
          "model_name": "HBoxModel",
          "state": {
            "_view_name": "HBoxView",
            "_dom_classes": [],
            "_model_name": "HBoxModel",
            "_view_module": "@jupyter-widgets/controls",
            "_model_module_version": "1.5.0",
            "_view_count": null,
            "_view_module_version": "1.5.0",
            "box_style": "",
            "layout": "IPY_MODEL_6e7c13d25d95484b90927014465b7b8e",
            "_model_module": "@jupyter-widgets/controls",
            "children": [
              "IPY_MODEL_701ba3ce1afa4444a5cfebb7f7943666",
              "IPY_MODEL_f4fc4bb85fe54628bca3ac798df27cfa"
            ]
          }
        },
        "6e7c13d25d95484b90927014465b7b8e": {
          "model_module": "@jupyter-widgets/base",
          "model_name": "LayoutModel",
          "state": {
            "_view_name": "LayoutView",
            "grid_template_rows": null,
            "right": null,
            "justify_content": null,
            "_view_module": "@jupyter-widgets/base",
            "overflow": null,
            "_model_module_version": "1.2.0",
            "_view_count": null,
            "flex_flow": null,
            "width": null,
            "min_width": null,
            "border": null,
            "align_items": null,
            "bottom": null,
            "_model_module": "@jupyter-widgets/base",
            "top": null,
            "grid_column": null,
            "overflow_y": null,
            "overflow_x": null,
            "grid_auto_flow": null,
            "grid_area": null,
            "grid_template_columns": null,
            "flex": null,
            "_model_name": "LayoutModel",
            "justify_items": null,
            "grid_row": null,
            "max_height": null,
            "align_content": null,
            "visibility": null,
            "align_self": null,
            "height": null,
            "min_height": null,
            "padding": null,
            "grid_auto_rows": null,
            "grid_gap": null,
            "max_width": null,
            "order": null,
            "_view_module_version": "1.2.0",
            "grid_template_areas": null,
            "object_position": null,
            "object_fit": null,
            "grid_auto_columns": null,
            "margin": null,
            "display": null,
            "left": null
          }
        },
        "701ba3ce1afa4444a5cfebb7f7943666": {
          "model_module": "@jupyter-widgets/controls",
          "model_name": "FloatProgressModel",
          "state": {
            "_view_name": "ProgressView",
            "style": "IPY_MODEL_e629251ad7c74f4fbdf4407dab2320f7",
            "_dom_classes": [],
            "description": "100%",
            "_model_name": "FloatProgressModel",
            "bar_style": "",
            "max": 313,
            "_view_module": "@jupyter-widgets/controls",
            "_model_module_version": "1.5.0",
            "value": 313,
            "_view_count": null,
            "_view_module_version": "1.5.0",
            "orientation": "horizontal",
            "min": 0,
            "description_tooltip": null,
            "_model_module": "@jupyter-widgets/controls",
            "layout": "IPY_MODEL_d29493ec00c847e188311fdcb2cfe9cd"
          }
        },
        "f4fc4bb85fe54628bca3ac798df27cfa": {
          "model_module": "@jupyter-widgets/controls",
          "model_name": "HTMLModel",
          "state": {
            "_view_name": "HTMLView",
            "style": "IPY_MODEL_74ace533169240a7b5f626af231d0c29",
            "_dom_classes": [],
            "description": "",
            "_model_name": "HTMLModel",
            "placeholder": "​",
            "_view_module": "@jupyter-widgets/controls",
            "_model_module_version": "1.5.0",
            "value": " 313/313 [00:01&lt;00:00, 300.31it/s]",
            "_view_count": null,
            "_view_module_version": "1.5.0",
            "description_tooltip": null,
            "_model_module": "@jupyter-widgets/controls",
            "layout": "IPY_MODEL_3fa3bdaab74f4e91a2b6adda41191b4e"
          }
        },
        "e629251ad7c74f4fbdf4407dab2320f7": {
          "model_module": "@jupyter-widgets/controls",
          "model_name": "ProgressStyleModel",
          "state": {
            "_view_name": "StyleView",
            "_model_name": "ProgressStyleModel",
            "description_width": "initial",
            "_view_module": "@jupyter-widgets/base",
            "_model_module_version": "1.5.0",
            "_view_count": null,
            "_view_module_version": "1.2.0",
            "bar_color": null,
            "_model_module": "@jupyter-widgets/controls"
          }
        },
        "d29493ec00c847e188311fdcb2cfe9cd": {
          "model_module": "@jupyter-widgets/base",
          "model_name": "LayoutModel",
          "state": {
            "_view_name": "LayoutView",
            "grid_template_rows": null,
            "right": null,
            "justify_content": null,
            "_view_module": "@jupyter-widgets/base",
            "overflow": null,
            "_model_module_version": "1.2.0",
            "_view_count": null,
            "flex_flow": null,
            "width": null,
            "min_width": null,
            "border": null,
            "align_items": null,
            "bottom": null,
            "_model_module": "@jupyter-widgets/base",
            "top": null,
            "grid_column": null,
            "overflow_y": null,
            "overflow_x": null,
            "grid_auto_flow": null,
            "grid_area": null,
            "grid_template_columns": null,
            "flex": null,
            "_model_name": "LayoutModel",
            "justify_items": null,
            "grid_row": null,
            "max_height": null,
            "align_content": null,
            "visibility": null,
            "align_self": null,
            "height": null,
            "min_height": null,
            "padding": null,
            "grid_auto_rows": null,
            "grid_gap": null,
            "max_width": null,
            "order": null,
            "_view_module_version": "1.2.0",
            "grid_template_areas": null,
            "object_position": null,
            "object_fit": null,
            "grid_auto_columns": null,
            "margin": null,
            "display": null,
            "left": null
          }
        },
        "74ace533169240a7b5f626af231d0c29": {
          "model_module": "@jupyter-widgets/controls",
          "model_name": "DescriptionStyleModel",
          "state": {
            "_view_name": "StyleView",
            "_model_name": "DescriptionStyleModel",
            "description_width": "",
            "_view_module": "@jupyter-widgets/base",
            "_model_module_version": "1.5.0",
            "_view_count": null,
            "_view_module_version": "1.2.0",
            "_model_module": "@jupyter-widgets/controls"
          }
        },
        "3fa3bdaab74f4e91a2b6adda41191b4e": {
          "model_module": "@jupyter-widgets/base",
          "model_name": "LayoutModel",
          "state": {
            "_view_name": "LayoutView",
            "grid_template_rows": null,
            "right": null,
            "justify_content": null,
            "_view_module": "@jupyter-widgets/base",
            "overflow": null,
            "_model_module_version": "1.2.0",
            "_view_count": null,
            "flex_flow": null,
            "width": null,
            "min_width": null,
            "border": null,
            "align_items": null,
            "bottom": null,
            "_model_module": "@jupyter-widgets/base",
            "top": null,
            "grid_column": null,
            "overflow_y": null,
            "overflow_x": null,
            "grid_auto_flow": null,
            "grid_area": null,
            "grid_template_columns": null,
            "flex": null,
            "_model_name": "LayoutModel",
            "justify_items": null,
            "grid_row": null,
            "max_height": null,
            "align_content": null,
            "visibility": null,
            "align_self": null,
            "height": null,
            "min_height": null,
            "padding": null,
            "grid_auto_rows": null,
            "grid_gap": null,
            "max_width": null,
            "order": null,
            "_view_module_version": "1.2.0",
            "grid_template_areas": null,
            "object_position": null,
            "object_fit": null,
            "grid_auto_columns": null,
            "margin": null,
            "display": null,
            "left": null
          }
        },
        "c6f52cfb924749b2a410d5d0f6fa6fe5": {
          "model_module": "@jupyter-widgets/controls",
          "model_name": "HBoxModel",
          "state": {
            "_view_name": "HBoxView",
            "_dom_classes": [],
            "_model_name": "HBoxModel",
            "_view_module": "@jupyter-widgets/controls",
            "_model_module_version": "1.5.0",
            "_view_count": null,
            "_view_module_version": "1.5.0",
            "box_style": "",
            "layout": "IPY_MODEL_8eb34480e87c49caa3b8beab824e02c1",
            "_model_module": "@jupyter-widgets/controls",
            "children": [
              "IPY_MODEL_75e63599cfab40ef9dbd0b3aa2409b99",
              "IPY_MODEL_7ea6f6bfc1a44cbb8bfec09912c7cce4"
            ]
          }
        },
        "8eb34480e87c49caa3b8beab824e02c1": {
          "model_module": "@jupyter-widgets/base",
          "model_name": "LayoutModel",
          "state": {
            "_view_name": "LayoutView",
            "grid_template_rows": null,
            "right": null,
            "justify_content": null,
            "_view_module": "@jupyter-widgets/base",
            "overflow": null,
            "_model_module_version": "1.2.0",
            "_view_count": null,
            "flex_flow": null,
            "width": null,
            "min_width": null,
            "border": null,
            "align_items": null,
            "bottom": null,
            "_model_module": "@jupyter-widgets/base",
            "top": null,
            "grid_column": null,
            "overflow_y": null,
            "overflow_x": null,
            "grid_auto_flow": null,
            "grid_area": null,
            "grid_template_columns": null,
            "flex": null,
            "_model_name": "LayoutModel",
            "justify_items": null,
            "grid_row": null,
            "max_height": null,
            "align_content": null,
            "visibility": null,
            "align_self": null,
            "height": null,
            "min_height": null,
            "padding": null,
            "grid_auto_rows": null,
            "grid_gap": null,
            "max_width": null,
            "order": null,
            "_view_module_version": "1.2.0",
            "grid_template_areas": null,
            "object_position": null,
            "object_fit": null,
            "grid_auto_columns": null,
            "margin": null,
            "display": null,
            "left": null
          }
        },
        "75e63599cfab40ef9dbd0b3aa2409b99": {
          "model_module": "@jupyter-widgets/controls",
          "model_name": "FloatProgressModel",
          "state": {
            "_view_name": "ProgressView",
            "style": "IPY_MODEL_11b65013382e45a29ad19382c067a2aa",
            "_dom_classes": [],
            "description": "Epoch 4: 100%",
            "_model_name": "FloatProgressModel",
            "bar_style": "",
            "max": 1250,
            "_view_module": "@jupyter-widgets/controls",
            "_model_module_version": "1.5.0",
            "value": 1250,
            "_view_count": null,
            "_view_module_version": "1.5.0",
            "orientation": "horizontal",
            "min": 0,
            "description_tooltip": null,
            "_model_module": "@jupyter-widgets/controls",
            "layout": "IPY_MODEL_0c046cb75c7146698fb9bdc5a34368d0"
          }
        },
        "7ea6f6bfc1a44cbb8bfec09912c7cce4": {
          "model_module": "@jupyter-widgets/controls",
          "model_name": "HTMLModel",
          "state": {
            "_view_name": "HTMLView",
            "style": "IPY_MODEL_33d7be965566498e94756f8d4addab8f",
            "_dom_classes": [],
            "description": "",
            "_model_name": "HTMLModel",
            "placeholder": "​",
            "_view_module": "@jupyter-widgets/controls",
            "_model_module_version": "1.5.0",
            "value": " 1250/1250 [00:12&lt;00:00, 99.00it/s, loss=0.423]",
            "_view_count": null,
            "_view_module_version": "1.5.0",
            "description_tooltip": null,
            "_model_module": "@jupyter-widgets/controls",
            "layout": "IPY_MODEL_5b506a9e4ab546499a7b7d80d4879ee6"
          }
        },
        "11b65013382e45a29ad19382c067a2aa": {
          "model_module": "@jupyter-widgets/controls",
          "model_name": "ProgressStyleModel",
          "state": {
            "_view_name": "StyleView",
            "_model_name": "ProgressStyleModel",
            "description_width": "initial",
            "_view_module": "@jupyter-widgets/base",
            "_model_module_version": "1.5.0",
            "_view_count": null,
            "_view_module_version": "1.2.0",
            "bar_color": null,
            "_model_module": "@jupyter-widgets/controls"
          }
        },
        "0c046cb75c7146698fb9bdc5a34368d0": {
          "model_module": "@jupyter-widgets/base",
          "model_name": "LayoutModel",
          "state": {
            "_view_name": "LayoutView",
            "grid_template_rows": null,
            "right": null,
            "justify_content": null,
            "_view_module": "@jupyter-widgets/base",
            "overflow": null,
            "_model_module_version": "1.2.0",
            "_view_count": null,
            "flex_flow": null,
            "width": null,
            "min_width": null,
            "border": null,
            "align_items": null,
            "bottom": null,
            "_model_module": "@jupyter-widgets/base",
            "top": null,
            "grid_column": null,
            "overflow_y": null,
            "overflow_x": null,
            "grid_auto_flow": null,
            "grid_area": null,
            "grid_template_columns": null,
            "flex": null,
            "_model_name": "LayoutModel",
            "justify_items": null,
            "grid_row": null,
            "max_height": null,
            "align_content": null,
            "visibility": null,
            "align_self": null,
            "height": null,
            "min_height": null,
            "padding": null,
            "grid_auto_rows": null,
            "grid_gap": null,
            "max_width": null,
            "order": null,
            "_view_module_version": "1.2.0",
            "grid_template_areas": null,
            "object_position": null,
            "object_fit": null,
            "grid_auto_columns": null,
            "margin": null,
            "display": null,
            "left": null
          }
        },
        "33d7be965566498e94756f8d4addab8f": {
          "model_module": "@jupyter-widgets/controls",
          "model_name": "DescriptionStyleModel",
          "state": {
            "_view_name": "StyleView",
            "_model_name": "DescriptionStyleModel",
            "description_width": "",
            "_view_module": "@jupyter-widgets/base",
            "_model_module_version": "1.5.0",
            "_view_count": null,
            "_view_module_version": "1.2.0",
            "_model_module": "@jupyter-widgets/controls"
          }
        },
        "5b506a9e4ab546499a7b7d80d4879ee6": {
          "model_module": "@jupyter-widgets/base",
          "model_name": "LayoutModel",
          "state": {
            "_view_name": "LayoutView",
            "grid_template_rows": null,
            "right": null,
            "justify_content": null,
            "_view_module": "@jupyter-widgets/base",
            "overflow": null,
            "_model_module_version": "1.2.0",
            "_view_count": null,
            "flex_flow": null,
            "width": null,
            "min_width": null,
            "border": null,
            "align_items": null,
            "bottom": null,
            "_model_module": "@jupyter-widgets/base",
            "top": null,
            "grid_column": null,
            "overflow_y": null,
            "overflow_x": null,
            "grid_auto_flow": null,
            "grid_area": null,
            "grid_template_columns": null,
            "flex": null,
            "_model_name": "LayoutModel",
            "justify_items": null,
            "grid_row": null,
            "max_height": null,
            "align_content": null,
            "visibility": null,
            "align_self": null,
            "height": null,
            "min_height": null,
            "padding": null,
            "grid_auto_rows": null,
            "grid_gap": null,
            "max_width": null,
            "order": null,
            "_view_module_version": "1.2.0",
            "grid_template_areas": null,
            "object_position": null,
            "object_fit": null,
            "grid_auto_columns": null,
            "margin": null,
            "display": null,
            "left": null
          }
        },
        "18339870d6ae47f8aff78cc590aec1cc": {
          "model_module": "@jupyter-widgets/controls",
          "model_name": "HBoxModel",
          "state": {
            "_view_name": "HBoxView",
            "_dom_classes": [],
            "_model_name": "HBoxModel",
            "_view_module": "@jupyter-widgets/controls",
            "_model_module_version": "1.5.0",
            "_view_count": null,
            "_view_module_version": "1.5.0",
            "box_style": "",
            "layout": "IPY_MODEL_f997b7cba5f04426a55a6976d98c079b",
            "_model_module": "@jupyter-widgets/controls",
            "children": [
              "IPY_MODEL_9446c7118ef94956a25a47f140531654",
              "IPY_MODEL_f9e2159df73d4a1e9056f4ec578c8640"
            ]
          }
        },
        "f997b7cba5f04426a55a6976d98c079b": {
          "model_module": "@jupyter-widgets/base",
          "model_name": "LayoutModel",
          "state": {
            "_view_name": "LayoutView",
            "grid_template_rows": null,
            "right": null,
            "justify_content": null,
            "_view_module": "@jupyter-widgets/base",
            "overflow": null,
            "_model_module_version": "1.2.0",
            "_view_count": null,
            "flex_flow": null,
            "width": null,
            "min_width": null,
            "border": null,
            "align_items": null,
            "bottom": null,
            "_model_module": "@jupyter-widgets/base",
            "top": null,
            "grid_column": null,
            "overflow_y": null,
            "overflow_x": null,
            "grid_auto_flow": null,
            "grid_area": null,
            "grid_template_columns": null,
            "flex": null,
            "_model_name": "LayoutModel",
            "justify_items": null,
            "grid_row": null,
            "max_height": null,
            "align_content": null,
            "visibility": null,
            "align_self": null,
            "height": null,
            "min_height": null,
            "padding": null,
            "grid_auto_rows": null,
            "grid_gap": null,
            "max_width": null,
            "order": null,
            "_view_module_version": "1.2.0",
            "grid_template_areas": null,
            "object_position": null,
            "object_fit": null,
            "grid_auto_columns": null,
            "margin": null,
            "display": null,
            "left": null
          }
        },
        "9446c7118ef94956a25a47f140531654": {
          "model_module": "@jupyter-widgets/controls",
          "model_name": "FloatProgressModel",
          "state": {
            "_view_name": "ProgressView",
            "style": "IPY_MODEL_08683bea2ed2426098490ad4b7c08f2e",
            "_dom_classes": [],
            "description": "100%",
            "_model_name": "FloatProgressModel",
            "bar_style": "",
            "max": 313,
            "_view_module": "@jupyter-widgets/controls",
            "_model_module_version": "1.5.0",
            "value": 313,
            "_view_count": null,
            "_view_module_version": "1.5.0",
            "orientation": "horizontal",
            "min": 0,
            "description_tooltip": null,
            "_model_module": "@jupyter-widgets/controls",
            "layout": "IPY_MODEL_c793258606ad4ce3b980a088011cb4b7"
          }
        },
        "f9e2159df73d4a1e9056f4ec578c8640": {
          "model_module": "@jupyter-widgets/controls",
          "model_name": "HTMLModel",
          "state": {
            "_view_name": "HTMLView",
            "style": "IPY_MODEL_b5805d2a6ccd44b69db7afdd5526a390",
            "_dom_classes": [],
            "description": "",
            "_model_name": "HTMLModel",
            "placeholder": "​",
            "_view_module": "@jupyter-widgets/controls",
            "_model_module_version": "1.5.0",
            "value": " 313/313 [00:01&lt;00:00, 302.98it/s]",
            "_view_count": null,
            "_view_module_version": "1.5.0",
            "description_tooltip": null,
            "_model_module": "@jupyter-widgets/controls",
            "layout": "IPY_MODEL_97ab0bd0b9a94ddc87ef620900cff572"
          }
        },
        "08683bea2ed2426098490ad4b7c08f2e": {
          "model_module": "@jupyter-widgets/controls",
          "model_name": "ProgressStyleModel",
          "state": {
            "_view_name": "StyleView",
            "_model_name": "ProgressStyleModel",
            "description_width": "initial",
            "_view_module": "@jupyter-widgets/base",
            "_model_module_version": "1.5.0",
            "_view_count": null,
            "_view_module_version": "1.2.0",
            "bar_color": null,
            "_model_module": "@jupyter-widgets/controls"
          }
        },
        "c793258606ad4ce3b980a088011cb4b7": {
          "model_module": "@jupyter-widgets/base",
          "model_name": "LayoutModel",
          "state": {
            "_view_name": "LayoutView",
            "grid_template_rows": null,
            "right": null,
            "justify_content": null,
            "_view_module": "@jupyter-widgets/base",
            "overflow": null,
            "_model_module_version": "1.2.0",
            "_view_count": null,
            "flex_flow": null,
            "width": null,
            "min_width": null,
            "border": null,
            "align_items": null,
            "bottom": null,
            "_model_module": "@jupyter-widgets/base",
            "top": null,
            "grid_column": null,
            "overflow_y": null,
            "overflow_x": null,
            "grid_auto_flow": null,
            "grid_area": null,
            "grid_template_columns": null,
            "flex": null,
            "_model_name": "LayoutModel",
            "justify_items": null,
            "grid_row": null,
            "max_height": null,
            "align_content": null,
            "visibility": null,
            "align_self": null,
            "height": null,
            "min_height": null,
            "padding": null,
            "grid_auto_rows": null,
            "grid_gap": null,
            "max_width": null,
            "order": null,
            "_view_module_version": "1.2.0",
            "grid_template_areas": null,
            "object_position": null,
            "object_fit": null,
            "grid_auto_columns": null,
            "margin": null,
            "display": null,
            "left": null
          }
        },
        "b5805d2a6ccd44b69db7afdd5526a390": {
          "model_module": "@jupyter-widgets/controls",
          "model_name": "DescriptionStyleModel",
          "state": {
            "_view_name": "StyleView",
            "_model_name": "DescriptionStyleModel",
            "description_width": "",
            "_view_module": "@jupyter-widgets/base",
            "_model_module_version": "1.5.0",
            "_view_count": null,
            "_view_module_version": "1.2.0",
            "_model_module": "@jupyter-widgets/controls"
          }
        },
        "97ab0bd0b9a94ddc87ef620900cff572": {
          "model_module": "@jupyter-widgets/base",
          "model_name": "LayoutModel",
          "state": {
            "_view_name": "LayoutView",
            "grid_template_rows": null,
            "right": null,
            "justify_content": null,
            "_view_module": "@jupyter-widgets/base",
            "overflow": null,
            "_model_module_version": "1.2.0",
            "_view_count": null,
            "flex_flow": null,
            "width": null,
            "min_width": null,
            "border": null,
            "align_items": null,
            "bottom": null,
            "_model_module": "@jupyter-widgets/base",
            "top": null,
            "grid_column": null,
            "overflow_y": null,
            "overflow_x": null,
            "grid_auto_flow": null,
            "grid_area": null,
            "grid_template_columns": null,
            "flex": null,
            "_model_name": "LayoutModel",
            "justify_items": null,
            "grid_row": null,
            "max_height": null,
            "align_content": null,
            "visibility": null,
            "align_self": null,
            "height": null,
            "min_height": null,
            "padding": null,
            "grid_auto_rows": null,
            "grid_gap": null,
            "max_width": null,
            "order": null,
            "_view_module_version": "1.2.0",
            "grid_template_areas": null,
            "object_position": null,
            "object_fit": null,
            "grid_auto_columns": null,
            "margin": null,
            "display": null,
            "left": null
          }
        },
        "7e63f75bed504d34a6e5ad9f86d98289": {
          "model_module": "@jupyter-widgets/controls",
          "model_name": "HBoxModel",
          "state": {
            "_view_name": "HBoxView",
            "_dom_classes": [],
            "_model_name": "HBoxModel",
            "_view_module": "@jupyter-widgets/controls",
            "_model_module_version": "1.5.0",
            "_view_count": null,
            "_view_module_version": "1.5.0",
            "box_style": "",
            "layout": "IPY_MODEL_55aa107d3d3c473bb1209bc67a4aceb4",
            "_model_module": "@jupyter-widgets/controls",
            "children": [
              "IPY_MODEL_082c15acef954cda8d4b21eac94d8712",
              "IPY_MODEL_3f040509387548c3b7fae6f774d982a6"
            ]
          }
        },
        "55aa107d3d3c473bb1209bc67a4aceb4": {
          "model_module": "@jupyter-widgets/base",
          "model_name": "LayoutModel",
          "state": {
            "_view_name": "LayoutView",
            "grid_template_rows": null,
            "right": null,
            "justify_content": null,
            "_view_module": "@jupyter-widgets/base",
            "overflow": null,
            "_model_module_version": "1.2.0",
            "_view_count": null,
            "flex_flow": null,
            "width": null,
            "min_width": null,
            "border": null,
            "align_items": null,
            "bottom": null,
            "_model_module": "@jupyter-widgets/base",
            "top": null,
            "grid_column": null,
            "overflow_y": null,
            "overflow_x": null,
            "grid_auto_flow": null,
            "grid_area": null,
            "grid_template_columns": null,
            "flex": null,
            "_model_name": "LayoutModel",
            "justify_items": null,
            "grid_row": null,
            "max_height": null,
            "align_content": null,
            "visibility": null,
            "align_self": null,
            "height": null,
            "min_height": null,
            "padding": null,
            "grid_auto_rows": null,
            "grid_gap": null,
            "max_width": null,
            "order": null,
            "_view_module_version": "1.2.0",
            "grid_template_areas": null,
            "object_position": null,
            "object_fit": null,
            "grid_auto_columns": null,
            "margin": null,
            "display": null,
            "left": null
          }
        },
        "082c15acef954cda8d4b21eac94d8712": {
          "model_module": "@jupyter-widgets/controls",
          "model_name": "FloatProgressModel",
          "state": {
            "_view_name": "ProgressView",
            "style": "IPY_MODEL_1202176ee58f4b8e95ca76f8311b01e4",
            "_dom_classes": [],
            "description": "Epoch 5: 100%",
            "_model_name": "FloatProgressModel",
            "bar_style": "",
            "max": 1250,
            "_view_module": "@jupyter-widgets/controls",
            "_model_module_version": "1.5.0",
            "value": 1250,
            "_view_count": null,
            "_view_module_version": "1.5.0",
            "orientation": "horizontal",
            "min": 0,
            "description_tooltip": null,
            "_model_module": "@jupyter-widgets/controls",
            "layout": "IPY_MODEL_47713235c7a143b5a3c0494a743aaf41"
          }
        },
        "3f040509387548c3b7fae6f774d982a6": {
          "model_module": "@jupyter-widgets/controls",
          "model_name": "HTMLModel",
          "state": {
            "_view_name": "HTMLView",
            "style": "IPY_MODEL_41a67eb6836e4a14813339e9303525c1",
            "_dom_classes": [],
            "description": "",
            "_model_name": "HTMLModel",
            "placeholder": "​",
            "_view_module": "@jupyter-widgets/controls",
            "_model_module_version": "1.5.0",
            "value": " 1250/1250 [00:12&lt;00:00, 100.35it/s, loss=0.33]",
            "_view_count": null,
            "_view_module_version": "1.5.0",
            "description_tooltip": null,
            "_model_module": "@jupyter-widgets/controls",
            "layout": "IPY_MODEL_39aed5e010114de2803655ec6be00d61"
          }
        },
        "1202176ee58f4b8e95ca76f8311b01e4": {
          "model_module": "@jupyter-widgets/controls",
          "model_name": "ProgressStyleModel",
          "state": {
            "_view_name": "StyleView",
            "_model_name": "ProgressStyleModel",
            "description_width": "initial",
            "_view_module": "@jupyter-widgets/base",
            "_model_module_version": "1.5.0",
            "_view_count": null,
            "_view_module_version": "1.2.0",
            "bar_color": null,
            "_model_module": "@jupyter-widgets/controls"
          }
        },
        "47713235c7a143b5a3c0494a743aaf41": {
          "model_module": "@jupyter-widgets/base",
          "model_name": "LayoutModel",
          "state": {
            "_view_name": "LayoutView",
            "grid_template_rows": null,
            "right": null,
            "justify_content": null,
            "_view_module": "@jupyter-widgets/base",
            "overflow": null,
            "_model_module_version": "1.2.0",
            "_view_count": null,
            "flex_flow": null,
            "width": null,
            "min_width": null,
            "border": null,
            "align_items": null,
            "bottom": null,
            "_model_module": "@jupyter-widgets/base",
            "top": null,
            "grid_column": null,
            "overflow_y": null,
            "overflow_x": null,
            "grid_auto_flow": null,
            "grid_area": null,
            "grid_template_columns": null,
            "flex": null,
            "_model_name": "LayoutModel",
            "justify_items": null,
            "grid_row": null,
            "max_height": null,
            "align_content": null,
            "visibility": null,
            "align_self": null,
            "height": null,
            "min_height": null,
            "padding": null,
            "grid_auto_rows": null,
            "grid_gap": null,
            "max_width": null,
            "order": null,
            "_view_module_version": "1.2.0",
            "grid_template_areas": null,
            "object_position": null,
            "object_fit": null,
            "grid_auto_columns": null,
            "margin": null,
            "display": null,
            "left": null
          }
        },
        "41a67eb6836e4a14813339e9303525c1": {
          "model_module": "@jupyter-widgets/controls",
          "model_name": "DescriptionStyleModel",
          "state": {
            "_view_name": "StyleView",
            "_model_name": "DescriptionStyleModel",
            "description_width": "",
            "_view_module": "@jupyter-widgets/base",
            "_model_module_version": "1.5.0",
            "_view_count": null,
            "_view_module_version": "1.2.0",
            "_model_module": "@jupyter-widgets/controls"
          }
        },
        "39aed5e010114de2803655ec6be00d61": {
          "model_module": "@jupyter-widgets/base",
          "model_name": "LayoutModel",
          "state": {
            "_view_name": "LayoutView",
            "grid_template_rows": null,
            "right": null,
            "justify_content": null,
            "_view_module": "@jupyter-widgets/base",
            "overflow": null,
            "_model_module_version": "1.2.0",
            "_view_count": null,
            "flex_flow": null,
            "width": null,
            "min_width": null,
            "border": null,
            "align_items": null,
            "bottom": null,
            "_model_module": "@jupyter-widgets/base",
            "top": null,
            "grid_column": null,
            "overflow_y": null,
            "overflow_x": null,
            "grid_auto_flow": null,
            "grid_area": null,
            "grid_template_columns": null,
            "flex": null,
            "_model_name": "LayoutModel",
            "justify_items": null,
            "grid_row": null,
            "max_height": null,
            "align_content": null,
            "visibility": null,
            "align_self": null,
            "height": null,
            "min_height": null,
            "padding": null,
            "grid_auto_rows": null,
            "grid_gap": null,
            "max_width": null,
            "order": null,
            "_view_module_version": "1.2.0",
            "grid_template_areas": null,
            "object_position": null,
            "object_fit": null,
            "grid_auto_columns": null,
            "margin": null,
            "display": null,
            "left": null
          }
        },
        "23fd04763dc34ce7ac1df782395df0c9": {
          "model_module": "@jupyter-widgets/controls",
          "model_name": "HBoxModel",
          "state": {
            "_view_name": "HBoxView",
            "_dom_classes": [],
            "_model_name": "HBoxModel",
            "_view_module": "@jupyter-widgets/controls",
            "_model_module_version": "1.5.0",
            "_view_count": null,
            "_view_module_version": "1.5.0",
            "box_style": "",
            "layout": "IPY_MODEL_41a4d6b55bee4c218617f86455e2f5c8",
            "_model_module": "@jupyter-widgets/controls",
            "children": [
              "IPY_MODEL_fe6608d2c4b84b66af8b2109e9397994",
              "IPY_MODEL_285d3c3e817f4b039b6436addf86cd32"
            ]
          }
        },
        "41a4d6b55bee4c218617f86455e2f5c8": {
          "model_module": "@jupyter-widgets/base",
          "model_name": "LayoutModel",
          "state": {
            "_view_name": "LayoutView",
            "grid_template_rows": null,
            "right": null,
            "justify_content": null,
            "_view_module": "@jupyter-widgets/base",
            "overflow": null,
            "_model_module_version": "1.2.0",
            "_view_count": null,
            "flex_flow": null,
            "width": null,
            "min_width": null,
            "border": null,
            "align_items": null,
            "bottom": null,
            "_model_module": "@jupyter-widgets/base",
            "top": null,
            "grid_column": null,
            "overflow_y": null,
            "overflow_x": null,
            "grid_auto_flow": null,
            "grid_area": null,
            "grid_template_columns": null,
            "flex": null,
            "_model_name": "LayoutModel",
            "justify_items": null,
            "grid_row": null,
            "max_height": null,
            "align_content": null,
            "visibility": null,
            "align_self": null,
            "height": null,
            "min_height": null,
            "padding": null,
            "grid_auto_rows": null,
            "grid_gap": null,
            "max_width": null,
            "order": null,
            "_view_module_version": "1.2.0",
            "grid_template_areas": null,
            "object_position": null,
            "object_fit": null,
            "grid_auto_columns": null,
            "margin": null,
            "display": null,
            "left": null
          }
        },
        "fe6608d2c4b84b66af8b2109e9397994": {
          "model_module": "@jupyter-widgets/controls",
          "model_name": "FloatProgressModel",
          "state": {
            "_view_name": "ProgressView",
            "style": "IPY_MODEL_b81b83b8340446818fbdb0edbc78ef02",
            "_dom_classes": [],
            "description": "100%",
            "_model_name": "FloatProgressModel",
            "bar_style": "",
            "max": 313,
            "_view_module": "@jupyter-widgets/controls",
            "_model_module_version": "1.5.0",
            "value": 313,
            "_view_count": null,
            "_view_module_version": "1.5.0",
            "orientation": "horizontal",
            "min": 0,
            "description_tooltip": null,
            "_model_module": "@jupyter-widgets/controls",
            "layout": "IPY_MODEL_36639829e05e476b93c883257cac30ae"
          }
        },
        "285d3c3e817f4b039b6436addf86cd32": {
          "model_module": "@jupyter-widgets/controls",
          "model_name": "HTMLModel",
          "state": {
            "_view_name": "HTMLView",
            "style": "IPY_MODEL_580cdcc8efc540c594548e2b92eba661",
            "_dom_classes": [],
            "description": "",
            "_model_name": "HTMLModel",
            "placeholder": "​",
            "_view_module": "@jupyter-widgets/controls",
            "_model_module_version": "1.5.0",
            "value": " 313/313 [00:01&lt;00:00, 303.53it/s]",
            "_view_count": null,
            "_view_module_version": "1.5.0",
            "description_tooltip": null,
            "_model_module": "@jupyter-widgets/controls",
            "layout": "IPY_MODEL_50d2414b91ee4332b735b1fa39bc6a55"
          }
        },
        "b81b83b8340446818fbdb0edbc78ef02": {
          "model_module": "@jupyter-widgets/controls",
          "model_name": "ProgressStyleModel",
          "state": {
            "_view_name": "StyleView",
            "_model_name": "ProgressStyleModel",
            "description_width": "initial",
            "_view_module": "@jupyter-widgets/base",
            "_model_module_version": "1.5.0",
            "_view_count": null,
            "_view_module_version": "1.2.0",
            "bar_color": null,
            "_model_module": "@jupyter-widgets/controls"
          }
        },
        "36639829e05e476b93c883257cac30ae": {
          "model_module": "@jupyter-widgets/base",
          "model_name": "LayoutModel",
          "state": {
            "_view_name": "LayoutView",
            "grid_template_rows": null,
            "right": null,
            "justify_content": null,
            "_view_module": "@jupyter-widgets/base",
            "overflow": null,
            "_model_module_version": "1.2.0",
            "_view_count": null,
            "flex_flow": null,
            "width": null,
            "min_width": null,
            "border": null,
            "align_items": null,
            "bottom": null,
            "_model_module": "@jupyter-widgets/base",
            "top": null,
            "grid_column": null,
            "overflow_y": null,
            "overflow_x": null,
            "grid_auto_flow": null,
            "grid_area": null,
            "grid_template_columns": null,
            "flex": null,
            "_model_name": "LayoutModel",
            "justify_items": null,
            "grid_row": null,
            "max_height": null,
            "align_content": null,
            "visibility": null,
            "align_self": null,
            "height": null,
            "min_height": null,
            "padding": null,
            "grid_auto_rows": null,
            "grid_gap": null,
            "max_width": null,
            "order": null,
            "_view_module_version": "1.2.0",
            "grid_template_areas": null,
            "object_position": null,
            "object_fit": null,
            "grid_auto_columns": null,
            "margin": null,
            "display": null,
            "left": null
          }
        },
        "580cdcc8efc540c594548e2b92eba661": {
          "model_module": "@jupyter-widgets/controls",
          "model_name": "DescriptionStyleModel",
          "state": {
            "_view_name": "StyleView",
            "_model_name": "DescriptionStyleModel",
            "description_width": "",
            "_view_module": "@jupyter-widgets/base",
            "_model_module_version": "1.5.0",
            "_view_count": null,
            "_view_module_version": "1.2.0",
            "_model_module": "@jupyter-widgets/controls"
          }
        },
        "50d2414b91ee4332b735b1fa39bc6a55": {
          "model_module": "@jupyter-widgets/base",
          "model_name": "LayoutModel",
          "state": {
            "_view_name": "LayoutView",
            "grid_template_rows": null,
            "right": null,
            "justify_content": null,
            "_view_module": "@jupyter-widgets/base",
            "overflow": null,
            "_model_module_version": "1.2.0",
            "_view_count": null,
            "flex_flow": null,
            "width": null,
            "min_width": null,
            "border": null,
            "align_items": null,
            "bottom": null,
            "_model_module": "@jupyter-widgets/base",
            "top": null,
            "grid_column": null,
            "overflow_y": null,
            "overflow_x": null,
            "grid_auto_flow": null,
            "grid_area": null,
            "grid_template_columns": null,
            "flex": null,
            "_model_name": "LayoutModel",
            "justify_items": null,
            "grid_row": null,
            "max_height": null,
            "align_content": null,
            "visibility": null,
            "align_self": null,
            "height": null,
            "min_height": null,
            "padding": null,
            "grid_auto_rows": null,
            "grid_gap": null,
            "max_width": null,
            "order": null,
            "_view_module_version": "1.2.0",
            "grid_template_areas": null,
            "object_position": null,
            "object_fit": null,
            "grid_auto_columns": null,
            "margin": null,
            "display": null,
            "left": null
          }
        },
        "945a51134f8241b392d0b264bc8975b3": {
          "model_module": "@jupyter-widgets/controls",
          "model_name": "HBoxModel",
          "state": {
            "_view_name": "HBoxView",
            "_dom_classes": [],
            "_model_name": "HBoxModel",
            "_view_module": "@jupyter-widgets/controls",
            "_model_module_version": "1.5.0",
            "_view_count": null,
            "_view_module_version": "1.5.0",
            "box_style": "",
            "layout": "IPY_MODEL_3ef21d62e6b9401fac207d1309478402",
            "_model_module": "@jupyter-widgets/controls",
            "children": [
              "IPY_MODEL_5504805e79e04872a0385a1339ea6dcb",
              "IPY_MODEL_827911cbf1574bf3b80140db3e4c4115"
            ]
          }
        },
        "3ef21d62e6b9401fac207d1309478402": {
          "model_module": "@jupyter-widgets/base",
          "model_name": "LayoutModel",
          "state": {
            "_view_name": "LayoutView",
            "grid_template_rows": null,
            "right": null,
            "justify_content": null,
            "_view_module": "@jupyter-widgets/base",
            "overflow": null,
            "_model_module_version": "1.2.0",
            "_view_count": null,
            "flex_flow": null,
            "width": null,
            "min_width": null,
            "border": null,
            "align_items": null,
            "bottom": null,
            "_model_module": "@jupyter-widgets/base",
            "top": null,
            "grid_column": null,
            "overflow_y": null,
            "overflow_x": null,
            "grid_auto_flow": null,
            "grid_area": null,
            "grid_template_columns": null,
            "flex": null,
            "_model_name": "LayoutModel",
            "justify_items": null,
            "grid_row": null,
            "max_height": null,
            "align_content": null,
            "visibility": null,
            "align_self": null,
            "height": null,
            "min_height": null,
            "padding": null,
            "grid_auto_rows": null,
            "grid_gap": null,
            "max_width": null,
            "order": null,
            "_view_module_version": "1.2.0",
            "grid_template_areas": null,
            "object_position": null,
            "object_fit": null,
            "grid_auto_columns": null,
            "margin": null,
            "display": null,
            "left": null
          }
        },
        "5504805e79e04872a0385a1339ea6dcb": {
          "model_module": "@jupyter-widgets/controls",
          "model_name": "FloatProgressModel",
          "state": {
            "_view_name": "ProgressView",
            "style": "IPY_MODEL_2bb5f7ff39d9461499b16c6337f89ed6",
            "_dom_classes": [],
            "description": "Epoch 6: 100%",
            "_model_name": "FloatProgressModel",
            "bar_style": "",
            "max": 1250,
            "_view_module": "@jupyter-widgets/controls",
            "_model_module_version": "1.5.0",
            "value": 1250,
            "_view_count": null,
            "_view_module_version": "1.5.0",
            "orientation": "horizontal",
            "min": 0,
            "description_tooltip": null,
            "_model_module": "@jupyter-widgets/controls",
            "layout": "IPY_MODEL_435e85fbaabc4441a93bbcfe629ae8cb"
          }
        },
        "827911cbf1574bf3b80140db3e4c4115": {
          "model_module": "@jupyter-widgets/controls",
          "model_name": "HTMLModel",
          "state": {
            "_view_name": "HTMLView",
            "style": "IPY_MODEL_2bf26dc2ab8a4c2fbd1998fbd8f301b2",
            "_dom_classes": [],
            "description": "",
            "_model_name": "HTMLModel",
            "placeholder": "​",
            "_view_module": "@jupyter-widgets/controls",
            "_model_module_version": "1.5.0",
            "value": " 1250/1250 [00:12&lt;00:00, 97.70it/s, loss=0.398]",
            "_view_count": null,
            "_view_module_version": "1.5.0",
            "description_tooltip": null,
            "_model_module": "@jupyter-widgets/controls",
            "layout": "IPY_MODEL_b5664237bb6240418a3babc46963584e"
          }
        },
        "2bb5f7ff39d9461499b16c6337f89ed6": {
          "model_module": "@jupyter-widgets/controls",
          "model_name": "ProgressStyleModel",
          "state": {
            "_view_name": "StyleView",
            "_model_name": "ProgressStyleModel",
            "description_width": "initial",
            "_view_module": "@jupyter-widgets/base",
            "_model_module_version": "1.5.0",
            "_view_count": null,
            "_view_module_version": "1.2.0",
            "bar_color": null,
            "_model_module": "@jupyter-widgets/controls"
          }
        },
        "435e85fbaabc4441a93bbcfe629ae8cb": {
          "model_module": "@jupyter-widgets/base",
          "model_name": "LayoutModel",
          "state": {
            "_view_name": "LayoutView",
            "grid_template_rows": null,
            "right": null,
            "justify_content": null,
            "_view_module": "@jupyter-widgets/base",
            "overflow": null,
            "_model_module_version": "1.2.0",
            "_view_count": null,
            "flex_flow": null,
            "width": null,
            "min_width": null,
            "border": null,
            "align_items": null,
            "bottom": null,
            "_model_module": "@jupyter-widgets/base",
            "top": null,
            "grid_column": null,
            "overflow_y": null,
            "overflow_x": null,
            "grid_auto_flow": null,
            "grid_area": null,
            "grid_template_columns": null,
            "flex": null,
            "_model_name": "LayoutModel",
            "justify_items": null,
            "grid_row": null,
            "max_height": null,
            "align_content": null,
            "visibility": null,
            "align_self": null,
            "height": null,
            "min_height": null,
            "padding": null,
            "grid_auto_rows": null,
            "grid_gap": null,
            "max_width": null,
            "order": null,
            "_view_module_version": "1.2.0",
            "grid_template_areas": null,
            "object_position": null,
            "object_fit": null,
            "grid_auto_columns": null,
            "margin": null,
            "display": null,
            "left": null
          }
        },
        "2bf26dc2ab8a4c2fbd1998fbd8f301b2": {
          "model_module": "@jupyter-widgets/controls",
          "model_name": "DescriptionStyleModel",
          "state": {
            "_view_name": "StyleView",
            "_model_name": "DescriptionStyleModel",
            "description_width": "",
            "_view_module": "@jupyter-widgets/base",
            "_model_module_version": "1.5.0",
            "_view_count": null,
            "_view_module_version": "1.2.0",
            "_model_module": "@jupyter-widgets/controls"
          }
        },
        "b5664237bb6240418a3babc46963584e": {
          "model_module": "@jupyter-widgets/base",
          "model_name": "LayoutModel",
          "state": {
            "_view_name": "LayoutView",
            "grid_template_rows": null,
            "right": null,
            "justify_content": null,
            "_view_module": "@jupyter-widgets/base",
            "overflow": null,
            "_model_module_version": "1.2.0",
            "_view_count": null,
            "flex_flow": null,
            "width": null,
            "min_width": null,
            "border": null,
            "align_items": null,
            "bottom": null,
            "_model_module": "@jupyter-widgets/base",
            "top": null,
            "grid_column": null,
            "overflow_y": null,
            "overflow_x": null,
            "grid_auto_flow": null,
            "grid_area": null,
            "grid_template_columns": null,
            "flex": null,
            "_model_name": "LayoutModel",
            "justify_items": null,
            "grid_row": null,
            "max_height": null,
            "align_content": null,
            "visibility": null,
            "align_self": null,
            "height": null,
            "min_height": null,
            "padding": null,
            "grid_auto_rows": null,
            "grid_gap": null,
            "max_width": null,
            "order": null,
            "_view_module_version": "1.2.0",
            "grid_template_areas": null,
            "object_position": null,
            "object_fit": null,
            "grid_auto_columns": null,
            "margin": null,
            "display": null,
            "left": null
          }
        },
        "a9e97e647fc04d0aaa050e958bc9cce7": {
          "model_module": "@jupyter-widgets/controls",
          "model_name": "HBoxModel",
          "state": {
            "_view_name": "HBoxView",
            "_dom_classes": [],
            "_model_name": "HBoxModel",
            "_view_module": "@jupyter-widgets/controls",
            "_model_module_version": "1.5.0",
            "_view_count": null,
            "_view_module_version": "1.5.0",
            "box_style": "",
            "layout": "IPY_MODEL_9367471fd2a34b6a8905f01424800895",
            "_model_module": "@jupyter-widgets/controls",
            "children": [
              "IPY_MODEL_c12da1cac0904630a162546645ce276e",
              "IPY_MODEL_2f5cb5c096b04639b34196c3c3977972"
            ]
          }
        },
        "9367471fd2a34b6a8905f01424800895": {
          "model_module": "@jupyter-widgets/base",
          "model_name": "LayoutModel",
          "state": {
            "_view_name": "LayoutView",
            "grid_template_rows": null,
            "right": null,
            "justify_content": null,
            "_view_module": "@jupyter-widgets/base",
            "overflow": null,
            "_model_module_version": "1.2.0",
            "_view_count": null,
            "flex_flow": null,
            "width": null,
            "min_width": null,
            "border": null,
            "align_items": null,
            "bottom": null,
            "_model_module": "@jupyter-widgets/base",
            "top": null,
            "grid_column": null,
            "overflow_y": null,
            "overflow_x": null,
            "grid_auto_flow": null,
            "grid_area": null,
            "grid_template_columns": null,
            "flex": null,
            "_model_name": "LayoutModel",
            "justify_items": null,
            "grid_row": null,
            "max_height": null,
            "align_content": null,
            "visibility": null,
            "align_self": null,
            "height": null,
            "min_height": null,
            "padding": null,
            "grid_auto_rows": null,
            "grid_gap": null,
            "max_width": null,
            "order": null,
            "_view_module_version": "1.2.0",
            "grid_template_areas": null,
            "object_position": null,
            "object_fit": null,
            "grid_auto_columns": null,
            "margin": null,
            "display": null,
            "left": null
          }
        },
        "c12da1cac0904630a162546645ce276e": {
          "model_module": "@jupyter-widgets/controls",
          "model_name": "FloatProgressModel",
          "state": {
            "_view_name": "ProgressView",
            "style": "IPY_MODEL_c99c3c6ac0634fa3b9215b892ec4c947",
            "_dom_classes": [],
            "description": "100%",
            "_model_name": "FloatProgressModel",
            "bar_style": "",
            "max": 313,
            "_view_module": "@jupyter-widgets/controls",
            "_model_module_version": "1.5.0",
            "value": 313,
            "_view_count": null,
            "_view_module_version": "1.5.0",
            "orientation": "horizontal",
            "min": 0,
            "description_tooltip": null,
            "_model_module": "@jupyter-widgets/controls",
            "layout": "IPY_MODEL_e917844d50c94091a82ac3d81f4002d8"
          }
        },
        "2f5cb5c096b04639b34196c3c3977972": {
          "model_module": "@jupyter-widgets/controls",
          "model_name": "HTMLModel",
          "state": {
            "_view_name": "HTMLView",
            "style": "IPY_MODEL_7136ab6b8d264a1e842828c1efb4e002",
            "_dom_classes": [],
            "description": "",
            "_model_name": "HTMLModel",
            "placeholder": "​",
            "_view_module": "@jupyter-widgets/controls",
            "_model_module_version": "1.5.0",
            "value": " 313/313 [00:01&lt;00:00, 294.55it/s]",
            "_view_count": null,
            "_view_module_version": "1.5.0",
            "description_tooltip": null,
            "_model_module": "@jupyter-widgets/controls",
            "layout": "IPY_MODEL_13114615bd744bee8e5a23070a18f6df"
          }
        },
        "c99c3c6ac0634fa3b9215b892ec4c947": {
          "model_module": "@jupyter-widgets/controls",
          "model_name": "ProgressStyleModel",
          "state": {
            "_view_name": "StyleView",
            "_model_name": "ProgressStyleModel",
            "description_width": "initial",
            "_view_module": "@jupyter-widgets/base",
            "_model_module_version": "1.5.0",
            "_view_count": null,
            "_view_module_version": "1.2.0",
            "bar_color": null,
            "_model_module": "@jupyter-widgets/controls"
          }
        },
        "e917844d50c94091a82ac3d81f4002d8": {
          "model_module": "@jupyter-widgets/base",
          "model_name": "LayoutModel",
          "state": {
            "_view_name": "LayoutView",
            "grid_template_rows": null,
            "right": null,
            "justify_content": null,
            "_view_module": "@jupyter-widgets/base",
            "overflow": null,
            "_model_module_version": "1.2.0",
            "_view_count": null,
            "flex_flow": null,
            "width": null,
            "min_width": null,
            "border": null,
            "align_items": null,
            "bottom": null,
            "_model_module": "@jupyter-widgets/base",
            "top": null,
            "grid_column": null,
            "overflow_y": null,
            "overflow_x": null,
            "grid_auto_flow": null,
            "grid_area": null,
            "grid_template_columns": null,
            "flex": null,
            "_model_name": "LayoutModel",
            "justify_items": null,
            "grid_row": null,
            "max_height": null,
            "align_content": null,
            "visibility": null,
            "align_self": null,
            "height": null,
            "min_height": null,
            "padding": null,
            "grid_auto_rows": null,
            "grid_gap": null,
            "max_width": null,
            "order": null,
            "_view_module_version": "1.2.0",
            "grid_template_areas": null,
            "object_position": null,
            "object_fit": null,
            "grid_auto_columns": null,
            "margin": null,
            "display": null,
            "left": null
          }
        },
        "7136ab6b8d264a1e842828c1efb4e002": {
          "model_module": "@jupyter-widgets/controls",
          "model_name": "DescriptionStyleModel",
          "state": {
            "_view_name": "StyleView",
            "_model_name": "DescriptionStyleModel",
            "description_width": "",
            "_view_module": "@jupyter-widgets/base",
            "_model_module_version": "1.5.0",
            "_view_count": null,
            "_view_module_version": "1.2.0",
            "_model_module": "@jupyter-widgets/controls"
          }
        },
        "13114615bd744bee8e5a23070a18f6df": {
          "model_module": "@jupyter-widgets/base",
          "model_name": "LayoutModel",
          "state": {
            "_view_name": "LayoutView",
            "grid_template_rows": null,
            "right": null,
            "justify_content": null,
            "_view_module": "@jupyter-widgets/base",
            "overflow": null,
            "_model_module_version": "1.2.0",
            "_view_count": null,
            "flex_flow": null,
            "width": null,
            "min_width": null,
            "border": null,
            "align_items": null,
            "bottom": null,
            "_model_module": "@jupyter-widgets/base",
            "top": null,
            "grid_column": null,
            "overflow_y": null,
            "overflow_x": null,
            "grid_auto_flow": null,
            "grid_area": null,
            "grid_template_columns": null,
            "flex": null,
            "_model_name": "LayoutModel",
            "justify_items": null,
            "grid_row": null,
            "max_height": null,
            "align_content": null,
            "visibility": null,
            "align_self": null,
            "height": null,
            "min_height": null,
            "padding": null,
            "grid_auto_rows": null,
            "grid_gap": null,
            "max_width": null,
            "order": null,
            "_view_module_version": "1.2.0",
            "grid_template_areas": null,
            "object_position": null,
            "object_fit": null,
            "grid_auto_columns": null,
            "margin": null,
            "display": null,
            "left": null
          }
        },
        "44b4a05d6c6b4fbf8fe14ad9eccb7451": {
          "model_module": "@jupyter-widgets/controls",
          "model_name": "HBoxModel",
          "state": {
            "_view_name": "HBoxView",
            "_dom_classes": [],
            "_model_name": "HBoxModel",
            "_view_module": "@jupyter-widgets/controls",
            "_model_module_version": "1.5.0",
            "_view_count": null,
            "_view_module_version": "1.5.0",
            "box_style": "",
            "layout": "IPY_MODEL_2f0a379bcc754db99116528dc82c4d74",
            "_model_module": "@jupyter-widgets/controls",
            "children": [
              "IPY_MODEL_29f59f888d5d4710983153bad8b96323",
              "IPY_MODEL_74a29987ae2d46aa9e0392372360d4db"
            ]
          }
        },
        "2f0a379bcc754db99116528dc82c4d74": {
          "model_module": "@jupyter-widgets/base",
          "model_name": "LayoutModel",
          "state": {
            "_view_name": "LayoutView",
            "grid_template_rows": null,
            "right": null,
            "justify_content": null,
            "_view_module": "@jupyter-widgets/base",
            "overflow": null,
            "_model_module_version": "1.2.0",
            "_view_count": null,
            "flex_flow": null,
            "width": null,
            "min_width": null,
            "border": null,
            "align_items": null,
            "bottom": null,
            "_model_module": "@jupyter-widgets/base",
            "top": null,
            "grid_column": null,
            "overflow_y": null,
            "overflow_x": null,
            "grid_auto_flow": null,
            "grid_area": null,
            "grid_template_columns": null,
            "flex": null,
            "_model_name": "LayoutModel",
            "justify_items": null,
            "grid_row": null,
            "max_height": null,
            "align_content": null,
            "visibility": null,
            "align_self": null,
            "height": null,
            "min_height": null,
            "padding": null,
            "grid_auto_rows": null,
            "grid_gap": null,
            "max_width": null,
            "order": null,
            "_view_module_version": "1.2.0",
            "grid_template_areas": null,
            "object_position": null,
            "object_fit": null,
            "grid_auto_columns": null,
            "margin": null,
            "display": null,
            "left": null
          }
        },
        "29f59f888d5d4710983153bad8b96323": {
          "model_module": "@jupyter-widgets/controls",
          "model_name": "FloatProgressModel",
          "state": {
            "_view_name": "ProgressView",
            "style": "IPY_MODEL_c758538d74b64e97999315babcfd86bc",
            "_dom_classes": [],
            "description": "Epoch 7: 100%",
            "_model_name": "FloatProgressModel",
            "bar_style": "",
            "max": 1250,
            "_view_module": "@jupyter-widgets/controls",
            "_model_module_version": "1.5.0",
            "value": 1250,
            "_view_count": null,
            "_view_module_version": "1.5.0",
            "orientation": "horizontal",
            "min": 0,
            "description_tooltip": null,
            "_model_module": "@jupyter-widgets/controls",
            "layout": "IPY_MODEL_ce532dd456334f709bb53b95964aa2be"
          }
        },
        "74a29987ae2d46aa9e0392372360d4db": {
          "model_module": "@jupyter-widgets/controls",
          "model_name": "HTMLModel",
          "state": {
            "_view_name": "HTMLView",
            "style": "IPY_MODEL_7d6337f64c384fa8a03e3c93af3bbdbd",
            "_dom_classes": [],
            "description": "",
            "_model_name": "HTMLModel",
            "placeholder": "​",
            "_view_module": "@jupyter-widgets/controls",
            "_model_module_version": "1.5.0",
            "value": " 1250/1250 [00:12&lt;00:00, 98.50it/s, loss=0.362]",
            "_view_count": null,
            "_view_module_version": "1.5.0",
            "description_tooltip": null,
            "_model_module": "@jupyter-widgets/controls",
            "layout": "IPY_MODEL_b6659f674e684de5908471c0fbb45f77"
          }
        },
        "c758538d74b64e97999315babcfd86bc": {
          "model_module": "@jupyter-widgets/controls",
          "model_name": "ProgressStyleModel",
          "state": {
            "_view_name": "StyleView",
            "_model_name": "ProgressStyleModel",
            "description_width": "initial",
            "_view_module": "@jupyter-widgets/base",
            "_model_module_version": "1.5.0",
            "_view_count": null,
            "_view_module_version": "1.2.0",
            "bar_color": null,
            "_model_module": "@jupyter-widgets/controls"
          }
        },
        "ce532dd456334f709bb53b95964aa2be": {
          "model_module": "@jupyter-widgets/base",
          "model_name": "LayoutModel",
          "state": {
            "_view_name": "LayoutView",
            "grid_template_rows": null,
            "right": null,
            "justify_content": null,
            "_view_module": "@jupyter-widgets/base",
            "overflow": null,
            "_model_module_version": "1.2.0",
            "_view_count": null,
            "flex_flow": null,
            "width": null,
            "min_width": null,
            "border": null,
            "align_items": null,
            "bottom": null,
            "_model_module": "@jupyter-widgets/base",
            "top": null,
            "grid_column": null,
            "overflow_y": null,
            "overflow_x": null,
            "grid_auto_flow": null,
            "grid_area": null,
            "grid_template_columns": null,
            "flex": null,
            "_model_name": "LayoutModel",
            "justify_items": null,
            "grid_row": null,
            "max_height": null,
            "align_content": null,
            "visibility": null,
            "align_self": null,
            "height": null,
            "min_height": null,
            "padding": null,
            "grid_auto_rows": null,
            "grid_gap": null,
            "max_width": null,
            "order": null,
            "_view_module_version": "1.2.0",
            "grid_template_areas": null,
            "object_position": null,
            "object_fit": null,
            "grid_auto_columns": null,
            "margin": null,
            "display": null,
            "left": null
          }
        },
        "7d6337f64c384fa8a03e3c93af3bbdbd": {
          "model_module": "@jupyter-widgets/controls",
          "model_name": "DescriptionStyleModel",
          "state": {
            "_view_name": "StyleView",
            "_model_name": "DescriptionStyleModel",
            "description_width": "",
            "_view_module": "@jupyter-widgets/base",
            "_model_module_version": "1.5.0",
            "_view_count": null,
            "_view_module_version": "1.2.0",
            "_model_module": "@jupyter-widgets/controls"
          }
        },
        "b6659f674e684de5908471c0fbb45f77": {
          "model_module": "@jupyter-widgets/base",
          "model_name": "LayoutModel",
          "state": {
            "_view_name": "LayoutView",
            "grid_template_rows": null,
            "right": null,
            "justify_content": null,
            "_view_module": "@jupyter-widgets/base",
            "overflow": null,
            "_model_module_version": "1.2.0",
            "_view_count": null,
            "flex_flow": null,
            "width": null,
            "min_width": null,
            "border": null,
            "align_items": null,
            "bottom": null,
            "_model_module": "@jupyter-widgets/base",
            "top": null,
            "grid_column": null,
            "overflow_y": null,
            "overflow_x": null,
            "grid_auto_flow": null,
            "grid_area": null,
            "grid_template_columns": null,
            "flex": null,
            "_model_name": "LayoutModel",
            "justify_items": null,
            "grid_row": null,
            "max_height": null,
            "align_content": null,
            "visibility": null,
            "align_self": null,
            "height": null,
            "min_height": null,
            "padding": null,
            "grid_auto_rows": null,
            "grid_gap": null,
            "max_width": null,
            "order": null,
            "_view_module_version": "1.2.0",
            "grid_template_areas": null,
            "object_position": null,
            "object_fit": null,
            "grid_auto_columns": null,
            "margin": null,
            "display": null,
            "left": null
          }
        },
        "ec9775041df74c92a204e94b3f6f8cee": {
          "model_module": "@jupyter-widgets/controls",
          "model_name": "HBoxModel",
          "state": {
            "_view_name": "HBoxView",
            "_dom_classes": [],
            "_model_name": "HBoxModel",
            "_view_module": "@jupyter-widgets/controls",
            "_model_module_version": "1.5.0",
            "_view_count": null,
            "_view_module_version": "1.5.0",
            "box_style": "",
            "layout": "IPY_MODEL_410e69c587104f6fbe26c1ebb6a3c7cc",
            "_model_module": "@jupyter-widgets/controls",
            "children": [
              "IPY_MODEL_c800a38089ae416a9f01919201eac534",
              "IPY_MODEL_b20c6f9a278b42a496066172716df8fc"
            ]
          }
        },
        "410e69c587104f6fbe26c1ebb6a3c7cc": {
          "model_module": "@jupyter-widgets/base",
          "model_name": "LayoutModel",
          "state": {
            "_view_name": "LayoutView",
            "grid_template_rows": null,
            "right": null,
            "justify_content": null,
            "_view_module": "@jupyter-widgets/base",
            "overflow": null,
            "_model_module_version": "1.2.0",
            "_view_count": null,
            "flex_flow": null,
            "width": null,
            "min_width": null,
            "border": null,
            "align_items": null,
            "bottom": null,
            "_model_module": "@jupyter-widgets/base",
            "top": null,
            "grid_column": null,
            "overflow_y": null,
            "overflow_x": null,
            "grid_auto_flow": null,
            "grid_area": null,
            "grid_template_columns": null,
            "flex": null,
            "_model_name": "LayoutModel",
            "justify_items": null,
            "grid_row": null,
            "max_height": null,
            "align_content": null,
            "visibility": null,
            "align_self": null,
            "height": null,
            "min_height": null,
            "padding": null,
            "grid_auto_rows": null,
            "grid_gap": null,
            "max_width": null,
            "order": null,
            "_view_module_version": "1.2.0",
            "grid_template_areas": null,
            "object_position": null,
            "object_fit": null,
            "grid_auto_columns": null,
            "margin": null,
            "display": null,
            "left": null
          }
        },
        "c800a38089ae416a9f01919201eac534": {
          "model_module": "@jupyter-widgets/controls",
          "model_name": "FloatProgressModel",
          "state": {
            "_view_name": "ProgressView",
            "style": "IPY_MODEL_35860545071e44d6a53ccbbee349e344",
            "_dom_classes": [],
            "description": "100%",
            "_model_name": "FloatProgressModel",
            "bar_style": "",
            "max": 313,
            "_view_module": "@jupyter-widgets/controls",
            "_model_module_version": "1.5.0",
            "value": 313,
            "_view_count": null,
            "_view_module_version": "1.5.0",
            "orientation": "horizontal",
            "min": 0,
            "description_tooltip": null,
            "_model_module": "@jupyter-widgets/controls",
            "layout": "IPY_MODEL_20e19acbfe9e4daba4440463f7245de2"
          }
        },
        "b20c6f9a278b42a496066172716df8fc": {
          "model_module": "@jupyter-widgets/controls",
          "model_name": "HTMLModel",
          "state": {
            "_view_name": "HTMLView",
            "style": "IPY_MODEL_169bc274cd694560a574fcc86ee62c65",
            "_dom_classes": [],
            "description": "",
            "_model_name": "HTMLModel",
            "placeholder": "​",
            "_view_module": "@jupyter-widgets/controls",
            "_model_module_version": "1.5.0",
            "value": " 313/313 [00:01&lt;00:00, 300.44it/s]",
            "_view_count": null,
            "_view_module_version": "1.5.0",
            "description_tooltip": null,
            "_model_module": "@jupyter-widgets/controls",
            "layout": "IPY_MODEL_f97a49ede6034ceb91ad33d23de7cc5d"
          }
        },
        "35860545071e44d6a53ccbbee349e344": {
          "model_module": "@jupyter-widgets/controls",
          "model_name": "ProgressStyleModel",
          "state": {
            "_view_name": "StyleView",
            "_model_name": "ProgressStyleModel",
            "description_width": "initial",
            "_view_module": "@jupyter-widgets/base",
            "_model_module_version": "1.5.0",
            "_view_count": null,
            "_view_module_version": "1.2.0",
            "bar_color": null,
            "_model_module": "@jupyter-widgets/controls"
          }
        },
        "20e19acbfe9e4daba4440463f7245de2": {
          "model_module": "@jupyter-widgets/base",
          "model_name": "LayoutModel",
          "state": {
            "_view_name": "LayoutView",
            "grid_template_rows": null,
            "right": null,
            "justify_content": null,
            "_view_module": "@jupyter-widgets/base",
            "overflow": null,
            "_model_module_version": "1.2.0",
            "_view_count": null,
            "flex_flow": null,
            "width": null,
            "min_width": null,
            "border": null,
            "align_items": null,
            "bottom": null,
            "_model_module": "@jupyter-widgets/base",
            "top": null,
            "grid_column": null,
            "overflow_y": null,
            "overflow_x": null,
            "grid_auto_flow": null,
            "grid_area": null,
            "grid_template_columns": null,
            "flex": null,
            "_model_name": "LayoutModel",
            "justify_items": null,
            "grid_row": null,
            "max_height": null,
            "align_content": null,
            "visibility": null,
            "align_self": null,
            "height": null,
            "min_height": null,
            "padding": null,
            "grid_auto_rows": null,
            "grid_gap": null,
            "max_width": null,
            "order": null,
            "_view_module_version": "1.2.0",
            "grid_template_areas": null,
            "object_position": null,
            "object_fit": null,
            "grid_auto_columns": null,
            "margin": null,
            "display": null,
            "left": null
          }
        },
        "169bc274cd694560a574fcc86ee62c65": {
          "model_module": "@jupyter-widgets/controls",
          "model_name": "DescriptionStyleModel",
          "state": {
            "_view_name": "StyleView",
            "_model_name": "DescriptionStyleModel",
            "description_width": "",
            "_view_module": "@jupyter-widgets/base",
            "_model_module_version": "1.5.0",
            "_view_count": null,
            "_view_module_version": "1.2.0",
            "_model_module": "@jupyter-widgets/controls"
          }
        },
        "f97a49ede6034ceb91ad33d23de7cc5d": {
          "model_module": "@jupyter-widgets/base",
          "model_name": "LayoutModel",
          "state": {
            "_view_name": "LayoutView",
            "grid_template_rows": null,
            "right": null,
            "justify_content": null,
            "_view_module": "@jupyter-widgets/base",
            "overflow": null,
            "_model_module_version": "1.2.0",
            "_view_count": null,
            "flex_flow": null,
            "width": null,
            "min_width": null,
            "border": null,
            "align_items": null,
            "bottom": null,
            "_model_module": "@jupyter-widgets/base",
            "top": null,
            "grid_column": null,
            "overflow_y": null,
            "overflow_x": null,
            "grid_auto_flow": null,
            "grid_area": null,
            "grid_template_columns": null,
            "flex": null,
            "_model_name": "LayoutModel",
            "justify_items": null,
            "grid_row": null,
            "max_height": null,
            "align_content": null,
            "visibility": null,
            "align_self": null,
            "height": null,
            "min_height": null,
            "padding": null,
            "grid_auto_rows": null,
            "grid_gap": null,
            "max_width": null,
            "order": null,
            "_view_module_version": "1.2.0",
            "grid_template_areas": null,
            "object_position": null,
            "object_fit": null,
            "grid_auto_columns": null,
            "margin": null,
            "display": null,
            "left": null
          }
        },
        "132a2a8b73894da4a96c7bb5c9f42768": {
          "model_module": "@jupyter-widgets/controls",
          "model_name": "HBoxModel",
          "state": {
            "_view_name": "HBoxView",
            "_dom_classes": [],
            "_model_name": "HBoxModel",
            "_view_module": "@jupyter-widgets/controls",
            "_model_module_version": "1.5.0",
            "_view_count": null,
            "_view_module_version": "1.5.0",
            "box_style": "",
            "layout": "IPY_MODEL_31308cc53a6a46eca6e7df3120dde16a",
            "_model_module": "@jupyter-widgets/controls",
            "children": [
              "IPY_MODEL_53c31fab339b4a17b376d32266375307",
              "IPY_MODEL_331101412ae544f78c41efe85e93b6f6"
            ]
          }
        },
        "31308cc53a6a46eca6e7df3120dde16a": {
          "model_module": "@jupyter-widgets/base",
          "model_name": "LayoutModel",
          "state": {
            "_view_name": "LayoutView",
            "grid_template_rows": null,
            "right": null,
            "justify_content": null,
            "_view_module": "@jupyter-widgets/base",
            "overflow": null,
            "_model_module_version": "1.2.0",
            "_view_count": null,
            "flex_flow": null,
            "width": null,
            "min_width": null,
            "border": null,
            "align_items": null,
            "bottom": null,
            "_model_module": "@jupyter-widgets/base",
            "top": null,
            "grid_column": null,
            "overflow_y": null,
            "overflow_x": null,
            "grid_auto_flow": null,
            "grid_area": null,
            "grid_template_columns": null,
            "flex": null,
            "_model_name": "LayoutModel",
            "justify_items": null,
            "grid_row": null,
            "max_height": null,
            "align_content": null,
            "visibility": null,
            "align_self": null,
            "height": null,
            "min_height": null,
            "padding": null,
            "grid_auto_rows": null,
            "grid_gap": null,
            "max_width": null,
            "order": null,
            "_view_module_version": "1.2.0",
            "grid_template_areas": null,
            "object_position": null,
            "object_fit": null,
            "grid_auto_columns": null,
            "margin": null,
            "display": null,
            "left": null
          }
        },
        "53c31fab339b4a17b376d32266375307": {
          "model_module": "@jupyter-widgets/controls",
          "model_name": "FloatProgressModel",
          "state": {
            "_view_name": "ProgressView",
            "style": "IPY_MODEL_4b00d826ebc54dc79eebff6fe261732c",
            "_dom_classes": [],
            "description": "Epoch 8: 100%",
            "_model_name": "FloatProgressModel",
            "bar_style": "",
            "max": 1250,
            "_view_module": "@jupyter-widgets/controls",
            "_model_module_version": "1.5.0",
            "value": 1250,
            "_view_count": null,
            "_view_module_version": "1.5.0",
            "orientation": "horizontal",
            "min": 0,
            "description_tooltip": null,
            "_model_module": "@jupyter-widgets/controls",
            "layout": "IPY_MODEL_73422dcd65034c9d8ea9b623adfb375e"
          }
        },
        "331101412ae544f78c41efe85e93b6f6": {
          "model_module": "@jupyter-widgets/controls",
          "model_name": "HTMLModel",
          "state": {
            "_view_name": "HTMLView",
            "style": "IPY_MODEL_3db7e07cbe88423aa65475893eab733a",
            "_dom_classes": [],
            "description": "",
            "_model_name": "HTMLModel",
            "placeholder": "​",
            "_view_module": "@jupyter-widgets/controls",
            "_model_module_version": "1.5.0",
            "value": " 1250/1250 [00:12&lt;00:00, 98.54it/s, loss=0.34]",
            "_view_count": null,
            "_view_module_version": "1.5.0",
            "description_tooltip": null,
            "_model_module": "@jupyter-widgets/controls",
            "layout": "IPY_MODEL_80a5d53b82474c07a7ac633addabb48e"
          }
        },
        "4b00d826ebc54dc79eebff6fe261732c": {
          "model_module": "@jupyter-widgets/controls",
          "model_name": "ProgressStyleModel",
          "state": {
            "_view_name": "StyleView",
            "_model_name": "ProgressStyleModel",
            "description_width": "initial",
            "_view_module": "@jupyter-widgets/base",
            "_model_module_version": "1.5.0",
            "_view_count": null,
            "_view_module_version": "1.2.0",
            "bar_color": null,
            "_model_module": "@jupyter-widgets/controls"
          }
        },
        "73422dcd65034c9d8ea9b623adfb375e": {
          "model_module": "@jupyter-widgets/base",
          "model_name": "LayoutModel",
          "state": {
            "_view_name": "LayoutView",
            "grid_template_rows": null,
            "right": null,
            "justify_content": null,
            "_view_module": "@jupyter-widgets/base",
            "overflow": null,
            "_model_module_version": "1.2.0",
            "_view_count": null,
            "flex_flow": null,
            "width": null,
            "min_width": null,
            "border": null,
            "align_items": null,
            "bottom": null,
            "_model_module": "@jupyter-widgets/base",
            "top": null,
            "grid_column": null,
            "overflow_y": null,
            "overflow_x": null,
            "grid_auto_flow": null,
            "grid_area": null,
            "grid_template_columns": null,
            "flex": null,
            "_model_name": "LayoutModel",
            "justify_items": null,
            "grid_row": null,
            "max_height": null,
            "align_content": null,
            "visibility": null,
            "align_self": null,
            "height": null,
            "min_height": null,
            "padding": null,
            "grid_auto_rows": null,
            "grid_gap": null,
            "max_width": null,
            "order": null,
            "_view_module_version": "1.2.0",
            "grid_template_areas": null,
            "object_position": null,
            "object_fit": null,
            "grid_auto_columns": null,
            "margin": null,
            "display": null,
            "left": null
          }
        },
        "3db7e07cbe88423aa65475893eab733a": {
          "model_module": "@jupyter-widgets/controls",
          "model_name": "DescriptionStyleModel",
          "state": {
            "_view_name": "StyleView",
            "_model_name": "DescriptionStyleModel",
            "description_width": "",
            "_view_module": "@jupyter-widgets/base",
            "_model_module_version": "1.5.0",
            "_view_count": null,
            "_view_module_version": "1.2.0",
            "_model_module": "@jupyter-widgets/controls"
          }
        },
        "80a5d53b82474c07a7ac633addabb48e": {
          "model_module": "@jupyter-widgets/base",
          "model_name": "LayoutModel",
          "state": {
            "_view_name": "LayoutView",
            "grid_template_rows": null,
            "right": null,
            "justify_content": null,
            "_view_module": "@jupyter-widgets/base",
            "overflow": null,
            "_model_module_version": "1.2.0",
            "_view_count": null,
            "flex_flow": null,
            "width": null,
            "min_width": null,
            "border": null,
            "align_items": null,
            "bottom": null,
            "_model_module": "@jupyter-widgets/base",
            "top": null,
            "grid_column": null,
            "overflow_y": null,
            "overflow_x": null,
            "grid_auto_flow": null,
            "grid_area": null,
            "grid_template_columns": null,
            "flex": null,
            "_model_name": "LayoutModel",
            "justify_items": null,
            "grid_row": null,
            "max_height": null,
            "align_content": null,
            "visibility": null,
            "align_self": null,
            "height": null,
            "min_height": null,
            "padding": null,
            "grid_auto_rows": null,
            "grid_gap": null,
            "max_width": null,
            "order": null,
            "_view_module_version": "1.2.0",
            "grid_template_areas": null,
            "object_position": null,
            "object_fit": null,
            "grid_auto_columns": null,
            "margin": null,
            "display": null,
            "left": null
          }
        },
        "b03bb020fbc647fb953315ff31b0c32f": {
          "model_module": "@jupyter-widgets/controls",
          "model_name": "HBoxModel",
          "state": {
            "_view_name": "HBoxView",
            "_dom_classes": [],
            "_model_name": "HBoxModel",
            "_view_module": "@jupyter-widgets/controls",
            "_model_module_version": "1.5.0",
            "_view_count": null,
            "_view_module_version": "1.5.0",
            "box_style": "",
            "layout": "IPY_MODEL_9bf8b73e3844402b88c7cf5dfd9e1e65",
            "_model_module": "@jupyter-widgets/controls",
            "children": [
              "IPY_MODEL_a0ca06da28c94701b893fd3fee229734",
              "IPY_MODEL_a461e485725c46eaa6ba38138caf31a3"
            ]
          }
        },
        "9bf8b73e3844402b88c7cf5dfd9e1e65": {
          "model_module": "@jupyter-widgets/base",
          "model_name": "LayoutModel",
          "state": {
            "_view_name": "LayoutView",
            "grid_template_rows": null,
            "right": null,
            "justify_content": null,
            "_view_module": "@jupyter-widgets/base",
            "overflow": null,
            "_model_module_version": "1.2.0",
            "_view_count": null,
            "flex_flow": null,
            "width": null,
            "min_width": null,
            "border": null,
            "align_items": null,
            "bottom": null,
            "_model_module": "@jupyter-widgets/base",
            "top": null,
            "grid_column": null,
            "overflow_y": null,
            "overflow_x": null,
            "grid_auto_flow": null,
            "grid_area": null,
            "grid_template_columns": null,
            "flex": null,
            "_model_name": "LayoutModel",
            "justify_items": null,
            "grid_row": null,
            "max_height": null,
            "align_content": null,
            "visibility": null,
            "align_self": null,
            "height": null,
            "min_height": null,
            "padding": null,
            "grid_auto_rows": null,
            "grid_gap": null,
            "max_width": null,
            "order": null,
            "_view_module_version": "1.2.0",
            "grid_template_areas": null,
            "object_position": null,
            "object_fit": null,
            "grid_auto_columns": null,
            "margin": null,
            "display": null,
            "left": null
          }
        },
        "a0ca06da28c94701b893fd3fee229734": {
          "model_module": "@jupyter-widgets/controls",
          "model_name": "FloatProgressModel",
          "state": {
            "_view_name": "ProgressView",
            "style": "IPY_MODEL_3d8d8c349ab6499c807bbb8d48c03554",
            "_dom_classes": [],
            "description": "100%",
            "_model_name": "FloatProgressModel",
            "bar_style": "",
            "max": 313,
            "_view_module": "@jupyter-widgets/controls",
            "_model_module_version": "1.5.0",
            "value": 313,
            "_view_count": null,
            "_view_module_version": "1.5.0",
            "orientation": "horizontal",
            "min": 0,
            "description_tooltip": null,
            "_model_module": "@jupyter-widgets/controls",
            "layout": "IPY_MODEL_6085dfa9753c450890a113004683becc"
          }
        },
        "a461e485725c46eaa6ba38138caf31a3": {
          "model_module": "@jupyter-widgets/controls",
          "model_name": "HTMLModel",
          "state": {
            "_view_name": "HTMLView",
            "style": "IPY_MODEL_c967a844b9634ff5b0c4dbb6745a1314",
            "_dom_classes": [],
            "description": "",
            "_model_name": "HTMLModel",
            "placeholder": "​",
            "_view_module": "@jupyter-widgets/controls",
            "_model_module_version": "1.5.0",
            "value": " 313/313 [00:01&lt;00:00, 300.47it/s]",
            "_view_count": null,
            "_view_module_version": "1.5.0",
            "description_tooltip": null,
            "_model_module": "@jupyter-widgets/controls",
            "layout": "IPY_MODEL_8b881a6e76fc407e9c06cabd37a587da"
          }
        },
        "3d8d8c349ab6499c807bbb8d48c03554": {
          "model_module": "@jupyter-widgets/controls",
          "model_name": "ProgressStyleModel",
          "state": {
            "_view_name": "StyleView",
            "_model_name": "ProgressStyleModel",
            "description_width": "initial",
            "_view_module": "@jupyter-widgets/base",
            "_model_module_version": "1.5.0",
            "_view_count": null,
            "_view_module_version": "1.2.0",
            "bar_color": null,
            "_model_module": "@jupyter-widgets/controls"
          }
        },
        "6085dfa9753c450890a113004683becc": {
          "model_module": "@jupyter-widgets/base",
          "model_name": "LayoutModel",
          "state": {
            "_view_name": "LayoutView",
            "grid_template_rows": null,
            "right": null,
            "justify_content": null,
            "_view_module": "@jupyter-widgets/base",
            "overflow": null,
            "_model_module_version": "1.2.0",
            "_view_count": null,
            "flex_flow": null,
            "width": null,
            "min_width": null,
            "border": null,
            "align_items": null,
            "bottom": null,
            "_model_module": "@jupyter-widgets/base",
            "top": null,
            "grid_column": null,
            "overflow_y": null,
            "overflow_x": null,
            "grid_auto_flow": null,
            "grid_area": null,
            "grid_template_columns": null,
            "flex": null,
            "_model_name": "LayoutModel",
            "justify_items": null,
            "grid_row": null,
            "max_height": null,
            "align_content": null,
            "visibility": null,
            "align_self": null,
            "height": null,
            "min_height": null,
            "padding": null,
            "grid_auto_rows": null,
            "grid_gap": null,
            "max_width": null,
            "order": null,
            "_view_module_version": "1.2.0",
            "grid_template_areas": null,
            "object_position": null,
            "object_fit": null,
            "grid_auto_columns": null,
            "margin": null,
            "display": null,
            "left": null
          }
        },
        "c967a844b9634ff5b0c4dbb6745a1314": {
          "model_module": "@jupyter-widgets/controls",
          "model_name": "DescriptionStyleModel",
          "state": {
            "_view_name": "StyleView",
            "_model_name": "DescriptionStyleModel",
            "description_width": "",
            "_view_module": "@jupyter-widgets/base",
            "_model_module_version": "1.5.0",
            "_view_count": null,
            "_view_module_version": "1.2.0",
            "_model_module": "@jupyter-widgets/controls"
          }
        },
        "8b881a6e76fc407e9c06cabd37a587da": {
          "model_module": "@jupyter-widgets/base",
          "model_name": "LayoutModel",
          "state": {
            "_view_name": "LayoutView",
            "grid_template_rows": null,
            "right": null,
            "justify_content": null,
            "_view_module": "@jupyter-widgets/base",
            "overflow": null,
            "_model_module_version": "1.2.0",
            "_view_count": null,
            "flex_flow": null,
            "width": null,
            "min_width": null,
            "border": null,
            "align_items": null,
            "bottom": null,
            "_model_module": "@jupyter-widgets/base",
            "top": null,
            "grid_column": null,
            "overflow_y": null,
            "overflow_x": null,
            "grid_auto_flow": null,
            "grid_area": null,
            "grid_template_columns": null,
            "flex": null,
            "_model_name": "LayoutModel",
            "justify_items": null,
            "grid_row": null,
            "max_height": null,
            "align_content": null,
            "visibility": null,
            "align_self": null,
            "height": null,
            "min_height": null,
            "padding": null,
            "grid_auto_rows": null,
            "grid_gap": null,
            "max_width": null,
            "order": null,
            "_view_module_version": "1.2.0",
            "grid_template_areas": null,
            "object_position": null,
            "object_fit": null,
            "grid_auto_columns": null,
            "margin": null,
            "display": null,
            "left": null
          }
        },
        "fcc7ead373f84a4ea9dc46eebcbce990": {
          "model_module": "@jupyter-widgets/controls",
          "model_name": "HBoxModel",
          "state": {
            "_view_name": "HBoxView",
            "_dom_classes": [],
            "_model_name": "HBoxModel",
            "_view_module": "@jupyter-widgets/controls",
            "_model_module_version": "1.5.0",
            "_view_count": null,
            "_view_module_version": "1.5.0",
            "box_style": "",
            "layout": "IPY_MODEL_58dbcd67e49f4eb2bb5fcd16b75bb316",
            "_model_module": "@jupyter-widgets/controls",
            "children": [
              "IPY_MODEL_db1e3a602d864299ae7429fd25849de3",
              "IPY_MODEL_bcf96055cd6d4cb6a2fa15d3caca2415"
            ]
          }
        },
        "58dbcd67e49f4eb2bb5fcd16b75bb316": {
          "model_module": "@jupyter-widgets/base",
          "model_name": "LayoutModel",
          "state": {
            "_view_name": "LayoutView",
            "grid_template_rows": null,
            "right": null,
            "justify_content": null,
            "_view_module": "@jupyter-widgets/base",
            "overflow": null,
            "_model_module_version": "1.2.0",
            "_view_count": null,
            "flex_flow": null,
            "width": null,
            "min_width": null,
            "border": null,
            "align_items": null,
            "bottom": null,
            "_model_module": "@jupyter-widgets/base",
            "top": null,
            "grid_column": null,
            "overflow_y": null,
            "overflow_x": null,
            "grid_auto_flow": null,
            "grid_area": null,
            "grid_template_columns": null,
            "flex": null,
            "_model_name": "LayoutModel",
            "justify_items": null,
            "grid_row": null,
            "max_height": null,
            "align_content": null,
            "visibility": null,
            "align_self": null,
            "height": null,
            "min_height": null,
            "padding": null,
            "grid_auto_rows": null,
            "grid_gap": null,
            "max_width": null,
            "order": null,
            "_view_module_version": "1.2.0",
            "grid_template_areas": null,
            "object_position": null,
            "object_fit": null,
            "grid_auto_columns": null,
            "margin": null,
            "display": null,
            "left": null
          }
        },
        "db1e3a602d864299ae7429fd25849de3": {
          "model_module": "@jupyter-widgets/controls",
          "model_name": "FloatProgressModel",
          "state": {
            "_view_name": "ProgressView",
            "style": "IPY_MODEL_71564d80172c4502857c1c48ff606501",
            "_dom_classes": [],
            "description": "Epoch 9: 100%",
            "_model_name": "FloatProgressModel",
            "bar_style": "",
            "max": 1250,
            "_view_module": "@jupyter-widgets/controls",
            "_model_module_version": "1.5.0",
            "value": 1250,
            "_view_count": null,
            "_view_module_version": "1.5.0",
            "orientation": "horizontal",
            "min": 0,
            "description_tooltip": null,
            "_model_module": "@jupyter-widgets/controls",
            "layout": "IPY_MODEL_4247be80c394423d98c5d704d7a2e035"
          }
        },
        "bcf96055cd6d4cb6a2fa15d3caca2415": {
          "model_module": "@jupyter-widgets/controls",
          "model_name": "HTMLModel",
          "state": {
            "_view_name": "HTMLView",
            "style": "IPY_MODEL_0481f19e1b124fa79c5c95a53216b4bd",
            "_dom_classes": [],
            "description": "",
            "_model_name": "HTMLModel",
            "placeholder": "​",
            "_view_module": "@jupyter-widgets/controls",
            "_model_module_version": "1.5.0",
            "value": " 1250/1250 [00:12&lt;00:00, 97.60it/s, loss=0.342]",
            "_view_count": null,
            "_view_module_version": "1.5.0",
            "description_tooltip": null,
            "_model_module": "@jupyter-widgets/controls",
            "layout": "IPY_MODEL_865c5e2567884cd89871a3453b9d273f"
          }
        },
        "71564d80172c4502857c1c48ff606501": {
          "model_module": "@jupyter-widgets/controls",
          "model_name": "ProgressStyleModel",
          "state": {
            "_view_name": "StyleView",
            "_model_name": "ProgressStyleModel",
            "description_width": "initial",
            "_view_module": "@jupyter-widgets/base",
            "_model_module_version": "1.5.0",
            "_view_count": null,
            "_view_module_version": "1.2.0",
            "bar_color": null,
            "_model_module": "@jupyter-widgets/controls"
          }
        },
        "4247be80c394423d98c5d704d7a2e035": {
          "model_module": "@jupyter-widgets/base",
          "model_name": "LayoutModel",
          "state": {
            "_view_name": "LayoutView",
            "grid_template_rows": null,
            "right": null,
            "justify_content": null,
            "_view_module": "@jupyter-widgets/base",
            "overflow": null,
            "_model_module_version": "1.2.0",
            "_view_count": null,
            "flex_flow": null,
            "width": null,
            "min_width": null,
            "border": null,
            "align_items": null,
            "bottom": null,
            "_model_module": "@jupyter-widgets/base",
            "top": null,
            "grid_column": null,
            "overflow_y": null,
            "overflow_x": null,
            "grid_auto_flow": null,
            "grid_area": null,
            "grid_template_columns": null,
            "flex": null,
            "_model_name": "LayoutModel",
            "justify_items": null,
            "grid_row": null,
            "max_height": null,
            "align_content": null,
            "visibility": null,
            "align_self": null,
            "height": null,
            "min_height": null,
            "padding": null,
            "grid_auto_rows": null,
            "grid_gap": null,
            "max_width": null,
            "order": null,
            "_view_module_version": "1.2.0",
            "grid_template_areas": null,
            "object_position": null,
            "object_fit": null,
            "grid_auto_columns": null,
            "margin": null,
            "display": null,
            "left": null
          }
        },
        "0481f19e1b124fa79c5c95a53216b4bd": {
          "model_module": "@jupyter-widgets/controls",
          "model_name": "DescriptionStyleModel",
          "state": {
            "_view_name": "StyleView",
            "_model_name": "DescriptionStyleModel",
            "description_width": "",
            "_view_module": "@jupyter-widgets/base",
            "_model_module_version": "1.5.0",
            "_view_count": null,
            "_view_module_version": "1.2.0",
            "_model_module": "@jupyter-widgets/controls"
          }
        },
        "865c5e2567884cd89871a3453b9d273f": {
          "model_module": "@jupyter-widgets/base",
          "model_name": "LayoutModel",
          "state": {
            "_view_name": "LayoutView",
            "grid_template_rows": null,
            "right": null,
            "justify_content": null,
            "_view_module": "@jupyter-widgets/base",
            "overflow": null,
            "_model_module_version": "1.2.0",
            "_view_count": null,
            "flex_flow": null,
            "width": null,
            "min_width": null,
            "border": null,
            "align_items": null,
            "bottom": null,
            "_model_module": "@jupyter-widgets/base",
            "top": null,
            "grid_column": null,
            "overflow_y": null,
            "overflow_x": null,
            "grid_auto_flow": null,
            "grid_area": null,
            "grid_template_columns": null,
            "flex": null,
            "_model_name": "LayoutModel",
            "justify_items": null,
            "grid_row": null,
            "max_height": null,
            "align_content": null,
            "visibility": null,
            "align_self": null,
            "height": null,
            "min_height": null,
            "padding": null,
            "grid_auto_rows": null,
            "grid_gap": null,
            "max_width": null,
            "order": null,
            "_view_module_version": "1.2.0",
            "grid_template_areas": null,
            "object_position": null,
            "object_fit": null,
            "grid_auto_columns": null,
            "margin": null,
            "display": null,
            "left": null
          }
        },
        "9097c50b61024a6eab850128d2948ae0": {
          "model_module": "@jupyter-widgets/controls",
          "model_name": "HBoxModel",
          "state": {
            "_view_name": "HBoxView",
            "_dom_classes": [],
            "_model_name": "HBoxModel",
            "_view_module": "@jupyter-widgets/controls",
            "_model_module_version": "1.5.0",
            "_view_count": null,
            "_view_module_version": "1.5.0",
            "box_style": "",
            "layout": "IPY_MODEL_fc8383dd4a814b9e892c0b0eec9ce2bd",
            "_model_module": "@jupyter-widgets/controls",
            "children": [
              "IPY_MODEL_e7235c5df9144d5fab65c9051099f28f",
              "IPY_MODEL_4e3f682e773d42bc984651593b33f014"
            ]
          }
        },
        "fc8383dd4a814b9e892c0b0eec9ce2bd": {
          "model_module": "@jupyter-widgets/base",
          "model_name": "LayoutModel",
          "state": {
            "_view_name": "LayoutView",
            "grid_template_rows": null,
            "right": null,
            "justify_content": null,
            "_view_module": "@jupyter-widgets/base",
            "overflow": null,
            "_model_module_version": "1.2.0",
            "_view_count": null,
            "flex_flow": null,
            "width": null,
            "min_width": null,
            "border": null,
            "align_items": null,
            "bottom": null,
            "_model_module": "@jupyter-widgets/base",
            "top": null,
            "grid_column": null,
            "overflow_y": null,
            "overflow_x": null,
            "grid_auto_flow": null,
            "grid_area": null,
            "grid_template_columns": null,
            "flex": null,
            "_model_name": "LayoutModel",
            "justify_items": null,
            "grid_row": null,
            "max_height": null,
            "align_content": null,
            "visibility": null,
            "align_self": null,
            "height": null,
            "min_height": null,
            "padding": null,
            "grid_auto_rows": null,
            "grid_gap": null,
            "max_width": null,
            "order": null,
            "_view_module_version": "1.2.0",
            "grid_template_areas": null,
            "object_position": null,
            "object_fit": null,
            "grid_auto_columns": null,
            "margin": null,
            "display": null,
            "left": null
          }
        },
        "e7235c5df9144d5fab65c9051099f28f": {
          "model_module": "@jupyter-widgets/controls",
          "model_name": "FloatProgressModel",
          "state": {
            "_view_name": "ProgressView",
            "style": "IPY_MODEL_fb2b2f6c4ca14ff2a67ee7649cdd93a1",
            "_dom_classes": [],
            "description": "100%",
            "_model_name": "FloatProgressModel",
            "bar_style": "",
            "max": 313,
            "_view_module": "@jupyter-widgets/controls",
            "_model_module_version": "1.5.0",
            "value": 313,
            "_view_count": null,
            "_view_module_version": "1.5.0",
            "orientation": "horizontal",
            "min": 0,
            "description_tooltip": null,
            "_model_module": "@jupyter-widgets/controls",
            "layout": "IPY_MODEL_bea692fe733c4cad83cc0d0066e65239"
          }
        },
        "4e3f682e773d42bc984651593b33f014": {
          "model_module": "@jupyter-widgets/controls",
          "model_name": "HTMLModel",
          "state": {
            "_view_name": "HTMLView",
            "style": "IPY_MODEL_b6edf6c44a2946a1a1c471e5dbc9792d",
            "_dom_classes": [],
            "description": "",
            "_model_name": "HTMLModel",
            "placeholder": "​",
            "_view_module": "@jupyter-widgets/controls",
            "_model_module_version": "1.5.0",
            "value": " 313/313 [00:01&lt;00:00, 301.47it/s]",
            "_view_count": null,
            "_view_module_version": "1.5.0",
            "description_tooltip": null,
            "_model_module": "@jupyter-widgets/controls",
            "layout": "IPY_MODEL_bb5f082e56bc401ba4b501c520bbb7f2"
          }
        },
        "fb2b2f6c4ca14ff2a67ee7649cdd93a1": {
          "model_module": "@jupyter-widgets/controls",
          "model_name": "ProgressStyleModel",
          "state": {
            "_view_name": "StyleView",
            "_model_name": "ProgressStyleModel",
            "description_width": "initial",
            "_view_module": "@jupyter-widgets/base",
            "_model_module_version": "1.5.0",
            "_view_count": null,
            "_view_module_version": "1.2.0",
            "bar_color": null,
            "_model_module": "@jupyter-widgets/controls"
          }
        },
        "bea692fe733c4cad83cc0d0066e65239": {
          "model_module": "@jupyter-widgets/base",
          "model_name": "LayoutModel",
          "state": {
            "_view_name": "LayoutView",
            "grid_template_rows": null,
            "right": null,
            "justify_content": null,
            "_view_module": "@jupyter-widgets/base",
            "overflow": null,
            "_model_module_version": "1.2.0",
            "_view_count": null,
            "flex_flow": null,
            "width": null,
            "min_width": null,
            "border": null,
            "align_items": null,
            "bottom": null,
            "_model_module": "@jupyter-widgets/base",
            "top": null,
            "grid_column": null,
            "overflow_y": null,
            "overflow_x": null,
            "grid_auto_flow": null,
            "grid_area": null,
            "grid_template_columns": null,
            "flex": null,
            "_model_name": "LayoutModel",
            "justify_items": null,
            "grid_row": null,
            "max_height": null,
            "align_content": null,
            "visibility": null,
            "align_self": null,
            "height": null,
            "min_height": null,
            "padding": null,
            "grid_auto_rows": null,
            "grid_gap": null,
            "max_width": null,
            "order": null,
            "_view_module_version": "1.2.0",
            "grid_template_areas": null,
            "object_position": null,
            "object_fit": null,
            "grid_auto_columns": null,
            "margin": null,
            "display": null,
            "left": null
          }
        },
        "b6edf6c44a2946a1a1c471e5dbc9792d": {
          "model_module": "@jupyter-widgets/controls",
          "model_name": "DescriptionStyleModel",
          "state": {
            "_view_name": "StyleView",
            "_model_name": "DescriptionStyleModel",
            "description_width": "",
            "_view_module": "@jupyter-widgets/base",
            "_model_module_version": "1.5.0",
            "_view_count": null,
            "_view_module_version": "1.2.0",
            "_model_module": "@jupyter-widgets/controls"
          }
        },
        "bb5f082e56bc401ba4b501c520bbb7f2": {
          "model_module": "@jupyter-widgets/base",
          "model_name": "LayoutModel",
          "state": {
            "_view_name": "LayoutView",
            "grid_template_rows": null,
            "right": null,
            "justify_content": null,
            "_view_module": "@jupyter-widgets/base",
            "overflow": null,
            "_model_module_version": "1.2.0",
            "_view_count": null,
            "flex_flow": null,
            "width": null,
            "min_width": null,
            "border": null,
            "align_items": null,
            "bottom": null,
            "_model_module": "@jupyter-widgets/base",
            "top": null,
            "grid_column": null,
            "overflow_y": null,
            "overflow_x": null,
            "grid_auto_flow": null,
            "grid_area": null,
            "grid_template_columns": null,
            "flex": null,
            "_model_name": "LayoutModel",
            "justify_items": null,
            "grid_row": null,
            "max_height": null,
            "align_content": null,
            "visibility": null,
            "align_self": null,
            "height": null,
            "min_height": null,
            "padding": null,
            "grid_auto_rows": null,
            "grid_gap": null,
            "max_width": null,
            "order": null,
            "_view_module_version": "1.2.0",
            "grid_template_areas": null,
            "object_position": null,
            "object_fit": null,
            "grid_auto_columns": null,
            "margin": null,
            "display": null,
            "left": null
          }
        }
      }
    }
  },
  "cells": [
    {
      "cell_type": "markdown",
      "metadata": {
        "id": "view-in-github",
        "colab_type": "text"
      },
      "source": [
        "<a href=\"https://colab.research.google.com/github/jagrutimohanty/CMPE-258-DeepLearning/blob/main/Assignment5/CMPE_258_Taxi_assignment5_pytorch_part_c.ipynb\" target=\"_parent\"><img src=\"https://colab.research.google.com/assets/colab-badge.svg\" alt=\"Open In Colab\"/></a>"
      ]
    },
    {
      "cell_type": "markdown",
      "metadata": {
        "id": "p14APQ6T1UKY"
      },
      "source": [
        "**Name : Jagruti Mohanty**\n",
        "\n",
        "Assignment 5 part a"
      ]
    },
    {
      "cell_type": "markdown",
      "metadata": {
        "id": "jFdpP0DM1cvT"
      },
      "source": [
        "### About the problem and dataset\n",
        "\n",
        "Use NYC's openly available taxi-fare dataset to predict the price of a Taxi ride. Our goal is to use TF as the ML Framework to build a pipeline which should be capable of scaling on infinite data to make an enterprise scale model."
      ]
    },
    {
      "cell_type": "markdown",
      "metadata": {
        "id": "2TB14i1O1hpS"
      },
      "source": [
        "Completed the assignment with help of reference shared and made modifications and additions to the existing code"
      ]
    },
    {
      "cell_type": "markdown",
      "metadata": {
        "id": "FLy1g84tWWzZ"
      },
      "source": [
        "### Feature engineering : Added new features minutes and month column and implemented into pytorch model\n",
        "\n",
        "###Changed the parameters of the pytorch model"
      ]
    },
    {
      "cell_type": "code",
      "metadata": {
        "colab": {
          "base_uri": "https://localhost:8080/"
        },
        "id": "iFVnvwgtmcUc",
        "outputId": "14d9f414-e5da-44c2-a5cd-ec5a54f4a6bf"
      },
      "source": [
        "# Owner - Hasan Rafiq\n",
        "# Load the TensorBoard notebook extension\n",
        "%load_ext tensorboard\n",
        "\n",
        "import pandas as pd\n",
        "import seaborn as sns\n",
        "import matplotlib.pyplot as plt\n",
        "import numpy as np\n",
        "import folium\n",
        "\n",
        "from folium import plugins\n",
        "\n",
        "import tensorflow as tf\n",
        "import tensorflow.keras as keras\n",
        "print(tf.__version__)\n",
        "\n",
        "device = \"gpu\"\n",
        "\n",
        "if device == \"tpu\":\n",
        "  resolver = tf.distribute.cluster_resolver.TPUClusterResolver(tpu='grpc://' + os.environ['COLAB_TPU_ADDR'])\n",
        "  tf.config.experimental_connect_to_cluster(resolver)\n",
        "  # This is the TPU initialization code that has to be at the beginning.\n",
        "  tf.tpu.experimental.initialize_tpu_system(resolver)\n",
        "  strategy = tf.distribute.experimental.TPUStrategy(resolver)\n",
        "else:\n",
        "  strategy = tf.distribute.MultiWorkerMirroredStrategy()"
      ],
      "execution_count": 1,
      "outputs": [
        {
          "output_type": "stream",
          "text": [
            "2.4.1\n",
            "INFO:tensorflow:Using MirroredStrategy with devices ('/device:GPU:0',)\n",
            "INFO:tensorflow:Single-worker MultiWorkerMirroredStrategy with local_devices = ('/device:GPU:0',), communication = CommunicationImplementation.AUTO\n"
          ],
          "name": "stdout"
        }
      ]
    },
    {
      "cell_type": "code",
      "metadata": {
        "id": "HEwQuuuGPOe4"
      },
      "source": [
        "## import libraries\n",
        "\n",
        "#PyTorch \n",
        "\n",
        "import torch\n",
        "import torch.nn as nn\n",
        "from torch.utils.data import Dataset, DataLoader\n",
        "import torch.optim as torch_optim\n",
        "from torchvision import models\n",
        "from torch.nn import init\n",
        "import torch.optim as optim\n",
        "from torch.autograd import Variable\n",
        "import torch.nn.functional as F\n",
        "from torch.utils import data\n",
        "from torch.optim import lr_scheduler\n",
        "\n",
        "#sklearn\n",
        "from sklearn.model_selection import train_test_split\n",
        "from sklearn.preprocessing import LabelEncoder\n",
        "from sklearn.metrics import mean_squared_error\n",
        "from sklearn import preprocessing\n",
        "\n",
        "\n",
        "#other\n",
        "from IPython.core.debugger import set_trace\n",
        "import pandas as pd\n",
        "import numpy as np\n",
        "from collections import Counter\n",
        "from datetime import datetime\n",
        "import math \n",
        "from google.colab import files\n",
        "import io\n",
        "import datetime as dt\n",
        "import re\n",
        "import pandas_profiling\n",
        "import pandas_profiling as pp\n",
        "from math import sqrt\n",
        "\n",
        "#graphs\n",
        "import seaborn as sns\n",
        "import matplotlib.pyplot as plt\n",
        "import matplotlib.ticker as ticker\n",
        "import matplotlib.dates as mdates\n",
        "import matplotlib.cbook as cbook\n",
        "import pylab as plt\n",
        "import matplotlib.dates as dates\n",
        "import seaborn as sns\n",
        "import pylab\n",
        "import matplotlib\n",
        "import matplotlib.dates\n",
        "from IPython.display import display\n",
        "import plotly.graph_objects as go\n",
        "\n",
        "\n",
        "%matplotlib inline"
      ],
      "execution_count": 2,
      "outputs": []
    },
    {
      "cell_type": "code",
      "metadata": {
        "id": "jm0Su7IBQrYp"
      },
      "source": [
        "from pydrive.auth import GoogleAuth\n",
        "from pydrive.drive import GoogleDrive\n",
        "from google.colab import auth\n",
        "from oauth2client.client import GoogleCredentials"
      ],
      "execution_count": 3,
      "outputs": []
    },
    {
      "cell_type": "code",
      "metadata": {
        "id": "rMb8wSf3QvTZ"
      },
      "source": [
        "#Authenticate and create the PyDrive client\n",
        "auth.authenticate_user()\n",
        "gauth = GoogleAuth()\n",
        "gauth.credentials = GoogleCredentials.get_application_default()\n",
        "drive = GoogleDrive(gauth)"
      ],
      "execution_count": 4,
      "outputs": []
    },
    {
      "cell_type": "code",
      "metadata": {
        "id": "dbnmi95jQ3Je"
      },
      "source": [
        "#Get the Shareable file link and get the contents\n",
        "downloaded = drive.CreateFile({'id':\"1uBPgT7IhDcuKddxuls6MKJwIL_A0zg-Q\"})   \n",
        "downloaded.GetContentFile('test.csv') "
      ],
      "execution_count": 5,
      "outputs": []
    },
    {
      "cell_type": "markdown",
      "metadata": {
        "id": "hachC7726snf"
      },
      "source": [
        ""
      ]
    },
    {
      "cell_type": "code",
      "metadata": {
        "id": "hpB5rxQZRGBU",
        "colab": {
          "base_uri": "https://localhost:8080/",
          "height": 309
        },
        "outputId": "7a834fdb-ae08-400a-c15b-53d442848c76"
      },
      "source": [
        "df_test = pd.read_csv('test.csv', sep=',')\n",
        "\n",
        "df_test = df_test.dropna(how='any', axis=0)\n",
        "df_test.head()"
      ],
      "execution_count": 6,
      "outputs": [
        {
          "output_type": "execute_result",
          "data": {
            "text/html": [
              "<div>\n",
              "<style scoped>\n",
              "    .dataframe tbody tr th:only-of-type {\n",
              "        vertical-align: middle;\n",
              "    }\n",
              "\n",
              "    .dataframe tbody tr th {\n",
              "        vertical-align: top;\n",
              "    }\n",
              "\n",
              "    .dataframe thead th {\n",
              "        text-align: right;\n",
              "    }\n",
              "</style>\n",
              "<table border=\"1\" class=\"dataframe\">\n",
              "  <thead>\n",
              "    <tr style=\"text-align: right;\">\n",
              "      <th></th>\n",
              "      <th>key</th>\n",
              "      <th>pickup_datetime</th>\n",
              "      <th>pickup_longitude</th>\n",
              "      <th>pickup_latitude</th>\n",
              "      <th>dropoff_longitude</th>\n",
              "      <th>dropoff_latitude</th>\n",
              "      <th>passenger_count</th>\n",
              "    </tr>\n",
              "  </thead>\n",
              "  <tbody>\n",
              "    <tr>\n",
              "      <th>0</th>\n",
              "      <td>2015-01-27 13:08:24.0000002</td>\n",
              "      <td>2015-01-27 13:08:24 UTC</td>\n",
              "      <td>-73.973320</td>\n",
              "      <td>40.763805</td>\n",
              "      <td>-73.981430</td>\n",
              "      <td>40.743835</td>\n",
              "      <td>1</td>\n",
              "    </tr>\n",
              "    <tr>\n",
              "      <th>1</th>\n",
              "      <td>2015-01-27 13:08:24.0000003</td>\n",
              "      <td>2015-01-27 13:08:24 UTC</td>\n",
              "      <td>-73.986862</td>\n",
              "      <td>40.719383</td>\n",
              "      <td>-73.998886</td>\n",
              "      <td>40.739201</td>\n",
              "      <td>1</td>\n",
              "    </tr>\n",
              "    <tr>\n",
              "      <th>2</th>\n",
              "      <td>2011-10-08 11:53:44.0000002</td>\n",
              "      <td>2011-10-08 11:53:44 UTC</td>\n",
              "      <td>-73.982524</td>\n",
              "      <td>40.751260</td>\n",
              "      <td>-73.979654</td>\n",
              "      <td>40.746139</td>\n",
              "      <td>1</td>\n",
              "    </tr>\n",
              "    <tr>\n",
              "      <th>3</th>\n",
              "      <td>2012-12-01 21:12:12.0000002</td>\n",
              "      <td>2012-12-01 21:12:12 UTC</td>\n",
              "      <td>-73.981160</td>\n",
              "      <td>40.767807</td>\n",
              "      <td>-73.990448</td>\n",
              "      <td>40.751635</td>\n",
              "      <td>1</td>\n",
              "    </tr>\n",
              "    <tr>\n",
              "      <th>4</th>\n",
              "      <td>2012-12-01 21:12:12.0000003</td>\n",
              "      <td>2012-12-01 21:12:12 UTC</td>\n",
              "      <td>-73.966046</td>\n",
              "      <td>40.789775</td>\n",
              "      <td>-73.988565</td>\n",
              "      <td>40.744427</td>\n",
              "      <td>1</td>\n",
              "    </tr>\n",
              "  </tbody>\n",
              "</table>\n",
              "</div>"
            ],
            "text/plain": [
              "                           key  ... passenger_count\n",
              "0  2015-01-27 13:08:24.0000002  ...               1\n",
              "1  2015-01-27 13:08:24.0000003  ...               1\n",
              "2  2011-10-08 11:53:44.0000002  ...               1\n",
              "3  2012-12-01 21:12:12.0000002  ...               1\n",
              "4  2012-12-01 21:12:12.0000003  ...               1\n",
              "\n",
              "[5 rows x 7 columns]"
            ]
          },
          "metadata": {
            "tags": []
          },
          "execution_count": 6
        }
      ]
    },
    {
      "cell_type": "markdown",
      "metadata": {
        "id": "afxtDyiIkFmj"
      },
      "source": [
        ""
      ]
    },
    {
      "cell_type": "code",
      "metadata": {
        "id": "JXAMmqTVY_yL"
      },
      "source": [
        "#Get the Shareable file link and get the contents\n",
        "#downloaded = drive.CreateFile({'id':\"11txyUfFsJK3ehIArY6Kup3dGP7V8ZULy\"})   \n",
        "#downloaded.GetContentFile('train.csv')"
      ],
      "execution_count": 7,
      "outputs": []
    },
    {
      "cell_type": "code",
      "metadata": {
        "colab": {
          "base_uri": "https://localhost:8080/"
        },
        "id": "_rY6bTgx7cRK",
        "outputId": "ab0e8021-323b-488a-9c76-f7b73faf1a2a"
      },
      "source": [
        "from google.colab import drive\n",
        "\n",
        "drive.mount('/content/gdrive')\n",
        "\n",
        "!ls '/content/gdrive/MyDrive/CMPE-258-Jagruti Mohanty'\n"
      ],
      "execution_count": 8,
      "outputs": [
        {
          "output_type": "stream",
          "text": [
            "Mounted at /content/gdrive\n",
            " colabGitWorkflow_workingwithgit.ipynb\t test.csv\t   train.csv\n",
            " mobileprediction.csv\t\t\t'Test Doc.ipynb'\n"
          ],
          "name": "stdout"
        }
      ]
    },
    {
      "cell_type": "code",
      "metadata": {
        "id": "akfmb1fiRnS0",
        "colab": {
          "base_uri": "https://localhost:8080/",
          "height": 309
        },
        "outputId": "614dc7f9-d3b2-463b-c39d-7b11dd7f2dab"
      },
      "source": [
        "df_train = pd.read_csv('/content/gdrive/MyDrive/CMPE-258-Jagruti Mohanty/train.csv', sep=',',nrows=200000)\n",
        "\n",
        "df_train = df_train.dropna(how='any', axis=0)\n",
        "df_train.head()"
      ],
      "execution_count": 9,
      "outputs": [
        {
          "output_type": "execute_result",
          "data": {
            "text/html": [
              "<div>\n",
              "<style scoped>\n",
              "    .dataframe tbody tr th:only-of-type {\n",
              "        vertical-align: middle;\n",
              "    }\n",
              "\n",
              "    .dataframe tbody tr th {\n",
              "        vertical-align: top;\n",
              "    }\n",
              "\n",
              "    .dataframe thead th {\n",
              "        text-align: right;\n",
              "    }\n",
              "</style>\n",
              "<table border=\"1\" class=\"dataframe\">\n",
              "  <thead>\n",
              "    <tr style=\"text-align: right;\">\n",
              "      <th></th>\n",
              "      <th>key</th>\n",
              "      <th>fare_amount</th>\n",
              "      <th>pickup_datetime</th>\n",
              "      <th>pickup_longitude</th>\n",
              "      <th>pickup_latitude</th>\n",
              "      <th>dropoff_longitude</th>\n",
              "      <th>dropoff_latitude</th>\n",
              "      <th>passenger_count</th>\n",
              "    </tr>\n",
              "  </thead>\n",
              "  <tbody>\n",
              "    <tr>\n",
              "      <th>0</th>\n",
              "      <td>2009-06-15 17:26:21.0000001</td>\n",
              "      <td>4.5</td>\n",
              "      <td>2009-06-15 17:26:21 UTC</td>\n",
              "      <td>-73.844311</td>\n",
              "      <td>40.721319</td>\n",
              "      <td>-73.841610</td>\n",
              "      <td>40.712278</td>\n",
              "      <td>1</td>\n",
              "    </tr>\n",
              "    <tr>\n",
              "      <th>1</th>\n",
              "      <td>2010-01-05 16:52:16.0000002</td>\n",
              "      <td>16.9</td>\n",
              "      <td>2010-01-05 16:52:16 UTC</td>\n",
              "      <td>-74.016048</td>\n",
              "      <td>40.711303</td>\n",
              "      <td>-73.979268</td>\n",
              "      <td>40.782004</td>\n",
              "      <td>1</td>\n",
              "    </tr>\n",
              "    <tr>\n",
              "      <th>2</th>\n",
              "      <td>2011-08-18 00:35:00.00000049</td>\n",
              "      <td>5.7</td>\n",
              "      <td>2011-08-18 00:35:00 UTC</td>\n",
              "      <td>-73.982738</td>\n",
              "      <td>40.761270</td>\n",
              "      <td>-73.991242</td>\n",
              "      <td>40.750562</td>\n",
              "      <td>2</td>\n",
              "    </tr>\n",
              "    <tr>\n",
              "      <th>3</th>\n",
              "      <td>2012-04-21 04:30:42.0000001</td>\n",
              "      <td>7.7</td>\n",
              "      <td>2012-04-21 04:30:42 UTC</td>\n",
              "      <td>-73.987130</td>\n",
              "      <td>40.733143</td>\n",
              "      <td>-73.991567</td>\n",
              "      <td>40.758092</td>\n",
              "      <td>1</td>\n",
              "    </tr>\n",
              "    <tr>\n",
              "      <th>4</th>\n",
              "      <td>2010-03-09 07:51:00.000000135</td>\n",
              "      <td>5.3</td>\n",
              "      <td>2010-03-09 07:51:00 UTC</td>\n",
              "      <td>-73.968095</td>\n",
              "      <td>40.768008</td>\n",
              "      <td>-73.956655</td>\n",
              "      <td>40.783762</td>\n",
              "      <td>1</td>\n",
              "    </tr>\n",
              "  </tbody>\n",
              "</table>\n",
              "</div>"
            ],
            "text/plain": [
              "                             key  ...  passenger_count\n",
              "0    2009-06-15 17:26:21.0000001  ...                1\n",
              "1    2010-01-05 16:52:16.0000002  ...                1\n",
              "2   2011-08-18 00:35:00.00000049  ...                2\n",
              "3    2012-04-21 04:30:42.0000001  ...                1\n",
              "4  2010-03-09 07:51:00.000000135  ...                1\n",
              "\n",
              "[5 rows x 8 columns]"
            ]
          },
          "metadata": {
            "tags": []
          },
          "execution_count": 9
        }
      ]
    },
    {
      "cell_type": "code",
      "metadata": {
        "id": "H5Q-rq_f87bK",
        "colab": {
          "base_uri": "https://localhost:8080/"
        },
        "outputId": "0f76f5d6-3d53-4f54-879e-8a55ac20bfc3"
      },
      "source": [
        "train_X = df_train.drop(columns=['fare_amount'])\n",
        "Y = np.log(df_train.fare_amount)\n",
        "\n",
        "test_X = df_test\n",
        "df = train_X.append(test_X,sort=False)"
      ],
      "execution_count": 10,
      "outputs": [
        {
          "output_type": "stream",
          "text": [
            "/usr/local/lib/python3.7/dist-packages/pandas/core/series.py:726: RuntimeWarning:\n",
            "\n",
            "divide by zero encountered in log\n",
            "\n",
            "/usr/local/lib/python3.7/dist-packages/pandas/core/series.py:726: RuntimeWarning:\n",
            "\n",
            "invalid value encountered in log\n",
            "\n"
          ],
          "name": "stderr"
        }
      ]
    },
    {
      "cell_type": "code",
      "metadata": {
        "id": "WsmOKPVjSRpY"
      },
      "source": [
        "df = df.dropna(how='any', axis=0)"
      ],
      "execution_count": 11,
      "outputs": []
    },
    {
      "cell_type": "code",
      "metadata": {
        "id": "nJeU6s-c_HYs"
      },
      "source": [
        "## import libraries\n",
        "\n",
        "#PyTorch \n",
        "\n",
        "import torch\n",
        "import torch.nn as nn\n",
        "from torch.utils.data import Dataset, DataLoader\n",
        "import torch.optim as torch_optim\n",
        "from torchvision import models\n",
        "from torch.nn import init\n",
        "import torch.optim as optim\n",
        "from torch.autograd import Variable\n",
        "import torch.nn.functional as F\n",
        "from torch.utils import data\n",
        "from torch.optim import lr_scheduler\n",
        "\n",
        "#sklearn\n",
        "from sklearn.model_selection import train_test_split\n",
        "from sklearn.preprocessing import LabelEncoder\n",
        "from sklearn.metrics import mean_squared_error\n",
        "from sklearn import preprocessing\n",
        "\n",
        "\n",
        "#other\n",
        "from IPython.core.debugger import set_trace\n",
        "import pandas as pd\n",
        "import numpy as np\n",
        "from collections import Counter\n",
        "from datetime import datetime\n",
        "import math \n",
        "from google.colab import files\n",
        "import io\n",
        "import datetime as dt\n",
        "import re\n",
        "import pandas_profiling\n",
        "import pandas_profiling as pp\n",
        "from math import sqrt\n",
        "\n",
        "#graphs\n",
        "import seaborn as sns\n",
        "import matplotlib.pyplot as plt\n",
        "import matplotlib.ticker as ticker\n",
        "import matplotlib.dates as mdates\n",
        "import matplotlib.cbook as cbook\n",
        "import pylab as plt\n",
        "import matplotlib.dates as dates\n",
        "import seaborn as sns\n",
        "import pylab\n",
        "import matplotlib\n",
        "import matplotlib.dates\n",
        "from IPython.display import display\n",
        "import plotly.graph_objects as go\n",
        "\n",
        "\n",
        "%matplotlib inline"
      ],
      "execution_count": 12,
      "outputs": []
    },
    {
      "cell_type": "code",
      "metadata": {
        "colab": {
          "base_uri": "https://localhost:8080/"
        },
        "id": "5mVlaGSS_PYa",
        "outputId": "2dc9f384-b839-4615-d4f2-ed379d00f825"
      },
      "source": [
        "# load tqdm\n",
        "#!pip install --force https://github.com/chengs/tqdm/archive/colab.zip\n",
        "from tqdm import tqdm, tqdm_notebook, tnrange\n",
        "\n",
        "device = torch.device(\"cuda:0\" if torch.cuda.is_available() else \"cpu\")\n",
        "device"
      ],
      "execution_count": 13,
      "outputs": [
        {
          "output_type": "execute_result",
          "data": {
            "text/plain": [
              "device(type='cuda', index=0)"
            ]
          },
          "metadata": {
            "tags": []
          },
          "execution_count": 13
        }
      ]
    },
    {
      "cell_type": "code",
      "metadata": {
        "id": "PyPfsCXS9t_k"
      },
      "source": [
        "\n",
        "def haversine_distance(df, lat1, long1, lat2, long2):\n",
        "    \"\"\"\n",
        "    Calculates the haversine distance between 2 sets of GPS coordinates in df\n",
        "    \"\"\"\n",
        "    r = 6371  # average radius of Earth in kilometers\n",
        "       \n",
        "    phi1 = np.radians(df[lat1])\n",
        "    phi2 = np.radians(df[lat2])\n",
        "    \n",
        "    delta_phi = np.radians(df[lat2]-df[lat1])\n",
        "    delta_lambda = np.radians(df[long2]-df[long1])\n",
        "     \n",
        "    a = np.sin(delta_phi/2)**2 + np.cos(phi1) * np.cos(phi2) * np.sin(delta_lambda/2)**2\n",
        "    c = 2 * np.arctan2(np.sqrt(a), np.sqrt(1-a))\n",
        "    d = (r * c) # in kilometers\n",
        "\n",
        "    return d\n"
      ],
      "execution_count": 14,
      "outputs": []
    },
    {
      "cell_type": "code",
      "metadata": {
        "colab": {
          "base_uri": "https://localhost:8080/"
        },
        "id": "zctgXZoPAZMg",
        "outputId": "815cbd42-0392-430a-f7b0-321c2830646a"
      },
      "source": [
        "# delete the fares that are less than 0\n",
        "df_train = df_train.loc[df_train.fare_amount > 0]\n",
        "df_train.fare_amount.min()"
      ],
      "execution_count": 15,
      "outputs": [
        {
          "output_type": "execute_result",
          "data": {
            "text/plain": [
              "0.01"
            ]
          },
          "metadata": {
            "tags": []
          },
          "execution_count": 15
        }
      ]
    },
    {
      "cell_type": "code",
      "metadata": {
        "id": "Dagz_vBEBnPZ"
      },
      "source": [
        "\n",
        "df = train_X.append(test_X,sort=False)"
      ],
      "execution_count": 16,
      "outputs": []
    },
    {
      "cell_type": "code",
      "metadata": {
        "id": "ez4Hr0Ul-IoE"
      },
      "source": [
        "train_X = df_train.drop(columns=['fare_amount'])\n",
        "Y = np.log(df_train.fare_amount)\n",
        "\n",
        "#Y = df_train['fare_amount']\n",
        "test_X = df_test"
      ],
      "execution_count": 17,
      "outputs": []
    },
    {
      "cell_type": "code",
      "metadata": {
        "colab": {
          "base_uri": "https://localhost:8080/",
          "height": 309
        },
        "id": "tYjIll-DBr7L",
        "outputId": "033d283f-ad9b-4418-ca0b-8dc23cc3b7da"
      },
      "source": [
        "df['dist_km'] = haversine_distance(df,'pickup_latitude', 'pickup_longitude', 'dropoff_latitude', 'dropoff_longitude')\n",
        "df.head()"
      ],
      "execution_count": 18,
      "outputs": [
        {
          "output_type": "execute_result",
          "data": {
            "text/html": [
              "<div>\n",
              "<style scoped>\n",
              "    .dataframe tbody tr th:only-of-type {\n",
              "        vertical-align: middle;\n",
              "    }\n",
              "\n",
              "    .dataframe tbody tr th {\n",
              "        vertical-align: top;\n",
              "    }\n",
              "\n",
              "    .dataframe thead th {\n",
              "        text-align: right;\n",
              "    }\n",
              "</style>\n",
              "<table border=\"1\" class=\"dataframe\">\n",
              "  <thead>\n",
              "    <tr style=\"text-align: right;\">\n",
              "      <th></th>\n",
              "      <th>key</th>\n",
              "      <th>pickup_datetime</th>\n",
              "      <th>pickup_longitude</th>\n",
              "      <th>pickup_latitude</th>\n",
              "      <th>dropoff_longitude</th>\n",
              "      <th>dropoff_latitude</th>\n",
              "      <th>passenger_count</th>\n",
              "      <th>dist_km</th>\n",
              "    </tr>\n",
              "  </thead>\n",
              "  <tbody>\n",
              "    <tr>\n",
              "      <th>0</th>\n",
              "      <td>2009-06-15 17:26:21.0000001</td>\n",
              "      <td>2009-06-15 17:26:21 UTC</td>\n",
              "      <td>-73.844311</td>\n",
              "      <td>40.721319</td>\n",
              "      <td>-73.841610</td>\n",
              "      <td>40.712278</td>\n",
              "      <td>1</td>\n",
              "      <td>1.030764</td>\n",
              "    </tr>\n",
              "    <tr>\n",
              "      <th>1</th>\n",
              "      <td>2010-01-05 16:52:16.0000002</td>\n",
              "      <td>2010-01-05 16:52:16 UTC</td>\n",
              "      <td>-74.016048</td>\n",
              "      <td>40.711303</td>\n",
              "      <td>-73.979268</td>\n",
              "      <td>40.782004</td>\n",
              "      <td>1</td>\n",
              "      <td>8.450134</td>\n",
              "    </tr>\n",
              "    <tr>\n",
              "      <th>2</th>\n",
              "      <td>2011-08-18 00:35:00.00000049</td>\n",
              "      <td>2011-08-18 00:35:00 UTC</td>\n",
              "      <td>-73.982738</td>\n",
              "      <td>40.761270</td>\n",
              "      <td>-73.991242</td>\n",
              "      <td>40.750562</td>\n",
              "      <td>2</td>\n",
              "      <td>1.389525</td>\n",
              "    </tr>\n",
              "    <tr>\n",
              "      <th>3</th>\n",
              "      <td>2012-04-21 04:30:42.0000001</td>\n",
              "      <td>2012-04-21 04:30:42 UTC</td>\n",
              "      <td>-73.987130</td>\n",
              "      <td>40.733143</td>\n",
              "      <td>-73.991567</td>\n",
              "      <td>40.758092</td>\n",
              "      <td>1</td>\n",
              "      <td>2.799270</td>\n",
              "    </tr>\n",
              "    <tr>\n",
              "      <th>4</th>\n",
              "      <td>2010-03-09 07:51:00.000000135</td>\n",
              "      <td>2010-03-09 07:51:00 UTC</td>\n",
              "      <td>-73.968095</td>\n",
              "      <td>40.768008</td>\n",
              "      <td>-73.956655</td>\n",
              "      <td>40.783762</td>\n",
              "      <td>1</td>\n",
              "      <td>1.999157</td>\n",
              "    </tr>\n",
              "  </tbody>\n",
              "</table>\n",
              "</div>"
            ],
            "text/plain": [
              "                             key  ...   dist_km\n",
              "0    2009-06-15 17:26:21.0000001  ...  1.030764\n",
              "1    2010-01-05 16:52:16.0000002  ...  8.450134\n",
              "2   2011-08-18 00:35:00.00000049  ...  1.389525\n",
              "3    2012-04-21 04:30:42.0000001  ...  2.799270\n",
              "4  2010-03-09 07:51:00.000000135  ...  1.999157\n",
              "\n",
              "[5 rows x 8 columns]"
            ]
          },
          "metadata": {
            "tags": []
          },
          "execution_count": 18
        }
      ]
    },
    {
      "cell_type": "code",
      "metadata": {
        "colab": {
          "base_uri": "https://localhost:8080/"
        },
        "id": "dCmOWyM8Ac2F",
        "outputId": "d19c0fd0-3587-47c8-a17a-89062ee88e03"
      },
      "source": [
        "len(df_train)"
      ],
      "execution_count": 19,
      "outputs": [
        {
          "output_type": "execute_result",
          "data": {
            "text/plain": [
              "199981"
            ]
          },
          "metadata": {
            "tags": []
          },
          "execution_count": 19
        }
      ]
    },
    {
      "cell_type": "markdown",
      "metadata": {
        "id": "vPs6HLSF1obI"
      },
      "source": [
        "#New-added feature"
      ]
    },
    {
      "cell_type": "code",
      "metadata": {
        "id": "IEedrhY7B0O9"
      },
      "source": [
        "#cat_cols = ['Hour', 'AMorPM', 'Weekday']\n",
        "#jagruti made changes\n",
        "cat_cols = ['Month','Hour', 'Minutes' ,'AMorPM', 'Weekday']\n",
        "#jagruti made changes\n",
        "\n",
        "cont_cols = ['pickup_latitude', 'pickup_longitude', 'dropoff_latitude', 'dropoff_longitude', 'passenger_count', 'dist_km']"
      ],
      "execution_count": 20,
      "outputs": []
    },
    {
      "cell_type": "code",
      "metadata": {
        "id": "o1QZXq16-CMi"
      },
      "source": [
        "for col in df.columns:\n",
        "  if col in cat_cols:\n",
        "    df[col] = LabelEncoder().fit_transform(df[col])\n",
        "    df[col]= df[col].astype('category')"
      ],
      "execution_count": 21,
      "outputs": []
    },
    {
      "cell_type": "markdown",
      "metadata": {
        "id": "IAXyy1t41zoD"
      },
      "source": [
        "#New-added feature month and minutes"
      ]
    },
    {
      "cell_type": "code",
      "metadata": {
        "colab": {
          "base_uri": "https://localhost:8080/",
          "height": 394
        },
        "id": "nKVSKnygBv2q",
        "outputId": "4e27c018-0fd4-48b0-bf3d-dee0a713a62d"
      },
      "source": [
        "df['EDTdate'] = pd.to_datetime(df['pickup_datetime'].str[:19]) - pd.Timedelta(hours=4) #changes it from 4 to 6\n",
        "\n",
        "#jagruti add the minutes and month detail as well as these two are important features \n",
        "\n",
        "df['Month'] = df['EDTdate'].dt.strftime(\"%m\")\n",
        "#jagruti\n",
        "df['Hour'] = df['EDTdate'].dt.hour\n",
        "#jagruti \n",
        "df['Minutes'] = df['EDTdate'].dt.strftime(\"%M\")\n",
        "#jagruti\n",
        "df['AMorPM'] = np.where(df['Hour']<12,'am','pm')\n",
        "df['Weekday'] = df['EDTdate'].dt.strftime(\"%a\")\n",
        "df.head()"
      ],
      "execution_count": 22,
      "outputs": [
        {
          "output_type": "execute_result",
          "data": {
            "text/html": [
              "<div>\n",
              "<style scoped>\n",
              "    .dataframe tbody tr th:only-of-type {\n",
              "        vertical-align: middle;\n",
              "    }\n",
              "\n",
              "    .dataframe tbody tr th {\n",
              "        vertical-align: top;\n",
              "    }\n",
              "\n",
              "    .dataframe thead th {\n",
              "        text-align: right;\n",
              "    }\n",
              "</style>\n",
              "<table border=\"1\" class=\"dataframe\">\n",
              "  <thead>\n",
              "    <tr style=\"text-align: right;\">\n",
              "      <th></th>\n",
              "      <th>key</th>\n",
              "      <th>pickup_datetime</th>\n",
              "      <th>pickup_longitude</th>\n",
              "      <th>pickup_latitude</th>\n",
              "      <th>dropoff_longitude</th>\n",
              "      <th>dropoff_latitude</th>\n",
              "      <th>passenger_count</th>\n",
              "      <th>dist_km</th>\n",
              "      <th>EDTdate</th>\n",
              "      <th>Month</th>\n",
              "      <th>Hour</th>\n",
              "      <th>Minutes</th>\n",
              "      <th>AMorPM</th>\n",
              "      <th>Weekday</th>\n",
              "    </tr>\n",
              "  </thead>\n",
              "  <tbody>\n",
              "    <tr>\n",
              "      <th>0</th>\n",
              "      <td>2009-06-15 17:26:21.0000001</td>\n",
              "      <td>2009-06-15 17:26:21 UTC</td>\n",
              "      <td>-73.844311</td>\n",
              "      <td>40.721319</td>\n",
              "      <td>-73.841610</td>\n",
              "      <td>40.712278</td>\n",
              "      <td>1</td>\n",
              "      <td>1.030764</td>\n",
              "      <td>2009-06-15 13:26:21</td>\n",
              "      <td>06</td>\n",
              "      <td>13</td>\n",
              "      <td>26</td>\n",
              "      <td>pm</td>\n",
              "      <td>Mon</td>\n",
              "    </tr>\n",
              "    <tr>\n",
              "      <th>1</th>\n",
              "      <td>2010-01-05 16:52:16.0000002</td>\n",
              "      <td>2010-01-05 16:52:16 UTC</td>\n",
              "      <td>-74.016048</td>\n",
              "      <td>40.711303</td>\n",
              "      <td>-73.979268</td>\n",
              "      <td>40.782004</td>\n",
              "      <td>1</td>\n",
              "      <td>8.450134</td>\n",
              "      <td>2010-01-05 12:52:16</td>\n",
              "      <td>01</td>\n",
              "      <td>12</td>\n",
              "      <td>52</td>\n",
              "      <td>pm</td>\n",
              "      <td>Tue</td>\n",
              "    </tr>\n",
              "    <tr>\n",
              "      <th>2</th>\n",
              "      <td>2011-08-18 00:35:00.00000049</td>\n",
              "      <td>2011-08-18 00:35:00 UTC</td>\n",
              "      <td>-73.982738</td>\n",
              "      <td>40.761270</td>\n",
              "      <td>-73.991242</td>\n",
              "      <td>40.750562</td>\n",
              "      <td>2</td>\n",
              "      <td>1.389525</td>\n",
              "      <td>2011-08-17 20:35:00</td>\n",
              "      <td>08</td>\n",
              "      <td>20</td>\n",
              "      <td>35</td>\n",
              "      <td>pm</td>\n",
              "      <td>Wed</td>\n",
              "    </tr>\n",
              "    <tr>\n",
              "      <th>3</th>\n",
              "      <td>2012-04-21 04:30:42.0000001</td>\n",
              "      <td>2012-04-21 04:30:42 UTC</td>\n",
              "      <td>-73.987130</td>\n",
              "      <td>40.733143</td>\n",
              "      <td>-73.991567</td>\n",
              "      <td>40.758092</td>\n",
              "      <td>1</td>\n",
              "      <td>2.799270</td>\n",
              "      <td>2012-04-21 00:30:42</td>\n",
              "      <td>04</td>\n",
              "      <td>0</td>\n",
              "      <td>30</td>\n",
              "      <td>am</td>\n",
              "      <td>Sat</td>\n",
              "    </tr>\n",
              "    <tr>\n",
              "      <th>4</th>\n",
              "      <td>2010-03-09 07:51:00.000000135</td>\n",
              "      <td>2010-03-09 07:51:00 UTC</td>\n",
              "      <td>-73.968095</td>\n",
              "      <td>40.768008</td>\n",
              "      <td>-73.956655</td>\n",
              "      <td>40.783762</td>\n",
              "      <td>1</td>\n",
              "      <td>1.999157</td>\n",
              "      <td>2010-03-09 03:51:00</td>\n",
              "      <td>03</td>\n",
              "      <td>3</td>\n",
              "      <td>51</td>\n",
              "      <td>am</td>\n",
              "      <td>Tue</td>\n",
              "    </tr>\n",
              "  </tbody>\n",
              "</table>\n",
              "</div>"
            ],
            "text/plain": [
              "                             key          pickup_datetime  ...  AMorPM  Weekday\n",
              "0    2009-06-15 17:26:21.0000001  2009-06-15 17:26:21 UTC  ...      pm      Mon\n",
              "1    2010-01-05 16:52:16.0000002  2010-01-05 16:52:16 UTC  ...      pm      Tue\n",
              "2   2011-08-18 00:35:00.00000049  2011-08-18 00:35:00 UTC  ...      pm      Wed\n",
              "3    2012-04-21 04:30:42.0000001  2012-04-21 04:30:42 UTC  ...      am      Sat\n",
              "4  2010-03-09 07:51:00.000000135  2010-03-09 07:51:00 UTC  ...      am      Tue\n",
              "\n",
              "[5 rows x 14 columns]"
            ]
          },
          "metadata": {
            "tags": []
          },
          "execution_count": 22
        }
      ]
    },
    {
      "cell_type": "markdown",
      "metadata": {
        "id": "2_9GMieyWUzZ"
      },
      "source": [
        ""
      ]
    },
    {
      "cell_type": "code",
      "metadata": {
        "id": "JBPjFmGnB7gQ"
      },
      "source": [
        "#make the cat categories as \"category\" and label encoder it.\n",
        "for col in df.columns:\n",
        "  if col in cat_cols:\n",
        "    df[col] = LabelEncoder().fit_transform(df[col])\n",
        "    df[col]= df[col].astype('category')"
      ],
      "execution_count": 23,
      "outputs": []
    },
    {
      "cell_type": "code",
      "metadata": {
        "colab": {
          "base_uri": "https://localhost:8080/",
          "height": 394
        },
        "id": "CLLyt5AgB_g1",
        "outputId": "cf165972-c359-42ca-a647-b93cb87798b2"
      },
      "source": [
        "\n",
        "df.head()"
      ],
      "execution_count": 24,
      "outputs": [
        {
          "output_type": "execute_result",
          "data": {
            "text/html": [
              "<div>\n",
              "<style scoped>\n",
              "    .dataframe tbody tr th:only-of-type {\n",
              "        vertical-align: middle;\n",
              "    }\n",
              "\n",
              "    .dataframe tbody tr th {\n",
              "        vertical-align: top;\n",
              "    }\n",
              "\n",
              "    .dataframe thead th {\n",
              "        text-align: right;\n",
              "    }\n",
              "</style>\n",
              "<table border=\"1\" class=\"dataframe\">\n",
              "  <thead>\n",
              "    <tr style=\"text-align: right;\">\n",
              "      <th></th>\n",
              "      <th>key</th>\n",
              "      <th>pickup_datetime</th>\n",
              "      <th>pickup_longitude</th>\n",
              "      <th>pickup_latitude</th>\n",
              "      <th>dropoff_longitude</th>\n",
              "      <th>dropoff_latitude</th>\n",
              "      <th>passenger_count</th>\n",
              "      <th>dist_km</th>\n",
              "      <th>EDTdate</th>\n",
              "      <th>Month</th>\n",
              "      <th>Hour</th>\n",
              "      <th>Minutes</th>\n",
              "      <th>AMorPM</th>\n",
              "      <th>Weekday</th>\n",
              "    </tr>\n",
              "  </thead>\n",
              "  <tbody>\n",
              "    <tr>\n",
              "      <th>0</th>\n",
              "      <td>2009-06-15 17:26:21.0000001</td>\n",
              "      <td>2009-06-15 17:26:21 UTC</td>\n",
              "      <td>-73.844311</td>\n",
              "      <td>40.721319</td>\n",
              "      <td>-73.841610</td>\n",
              "      <td>40.712278</td>\n",
              "      <td>1</td>\n",
              "      <td>1.030764</td>\n",
              "      <td>2009-06-15 13:26:21</td>\n",
              "      <td>5</td>\n",
              "      <td>13</td>\n",
              "      <td>26</td>\n",
              "      <td>1</td>\n",
              "      <td>1</td>\n",
              "    </tr>\n",
              "    <tr>\n",
              "      <th>1</th>\n",
              "      <td>2010-01-05 16:52:16.0000002</td>\n",
              "      <td>2010-01-05 16:52:16 UTC</td>\n",
              "      <td>-74.016048</td>\n",
              "      <td>40.711303</td>\n",
              "      <td>-73.979268</td>\n",
              "      <td>40.782004</td>\n",
              "      <td>1</td>\n",
              "      <td>8.450134</td>\n",
              "      <td>2010-01-05 12:52:16</td>\n",
              "      <td>0</td>\n",
              "      <td>12</td>\n",
              "      <td>52</td>\n",
              "      <td>1</td>\n",
              "      <td>5</td>\n",
              "    </tr>\n",
              "    <tr>\n",
              "      <th>2</th>\n",
              "      <td>2011-08-18 00:35:00.00000049</td>\n",
              "      <td>2011-08-18 00:35:00 UTC</td>\n",
              "      <td>-73.982738</td>\n",
              "      <td>40.761270</td>\n",
              "      <td>-73.991242</td>\n",
              "      <td>40.750562</td>\n",
              "      <td>2</td>\n",
              "      <td>1.389525</td>\n",
              "      <td>2011-08-17 20:35:00</td>\n",
              "      <td>7</td>\n",
              "      <td>20</td>\n",
              "      <td>35</td>\n",
              "      <td>1</td>\n",
              "      <td>6</td>\n",
              "    </tr>\n",
              "    <tr>\n",
              "      <th>3</th>\n",
              "      <td>2012-04-21 04:30:42.0000001</td>\n",
              "      <td>2012-04-21 04:30:42 UTC</td>\n",
              "      <td>-73.987130</td>\n",
              "      <td>40.733143</td>\n",
              "      <td>-73.991567</td>\n",
              "      <td>40.758092</td>\n",
              "      <td>1</td>\n",
              "      <td>2.799270</td>\n",
              "      <td>2012-04-21 00:30:42</td>\n",
              "      <td>3</td>\n",
              "      <td>0</td>\n",
              "      <td>30</td>\n",
              "      <td>0</td>\n",
              "      <td>2</td>\n",
              "    </tr>\n",
              "    <tr>\n",
              "      <th>4</th>\n",
              "      <td>2010-03-09 07:51:00.000000135</td>\n",
              "      <td>2010-03-09 07:51:00 UTC</td>\n",
              "      <td>-73.968095</td>\n",
              "      <td>40.768008</td>\n",
              "      <td>-73.956655</td>\n",
              "      <td>40.783762</td>\n",
              "      <td>1</td>\n",
              "      <td>1.999157</td>\n",
              "      <td>2010-03-09 03:51:00</td>\n",
              "      <td>2</td>\n",
              "      <td>3</td>\n",
              "      <td>51</td>\n",
              "      <td>0</td>\n",
              "      <td>5</td>\n",
              "    </tr>\n",
              "  </tbody>\n",
              "</table>\n",
              "</div>"
            ],
            "text/plain": [
              "                             key          pickup_datetime  ...  AMorPM  Weekday\n",
              "0    2009-06-15 17:26:21.0000001  2009-06-15 17:26:21 UTC  ...       1        1\n",
              "1    2010-01-05 16:52:16.0000002  2010-01-05 16:52:16 UTC  ...       1        5\n",
              "2   2011-08-18 00:35:00.00000049  2011-08-18 00:35:00 UTC  ...       1        6\n",
              "3    2012-04-21 04:30:42.0000001  2012-04-21 04:30:42 UTC  ...       0        2\n",
              "4  2010-03-09 07:51:00.000000135  2010-03-09 07:51:00 UTC  ...       0        5\n",
              "\n",
              "[5 rows x 14 columns]"
            ]
          },
          "metadata": {
            "tags": []
          },
          "execution_count": 24
        }
      ]
    },
    {
      "cell_type": "code",
      "metadata": {
        "colab": {
          "base_uri": "https://localhost:8080/"
        },
        "id": "vUjJRp8FCHoE",
        "outputId": "a42d3dce-bfba-4510-b406-accb3c2b639b"
      },
      "source": [
        "\n",
        "df.info()\n"
      ],
      "execution_count": 25,
      "outputs": [
        {
          "output_type": "stream",
          "text": [
            "<class 'pandas.core.frame.DataFrame'>\n",
            "Int64Index: 209913 entries, 0 to 9913\n",
            "Data columns (total 14 columns):\n",
            " #   Column             Non-Null Count   Dtype         \n",
            "---  ------             --------------   -----         \n",
            " 0   key                209913 non-null  object        \n",
            " 1   pickup_datetime    209913 non-null  object        \n",
            " 2   pickup_longitude   209913 non-null  float64       \n",
            " 3   pickup_latitude    209913 non-null  float64       \n",
            " 4   dropoff_longitude  209913 non-null  float64       \n",
            " 5   dropoff_latitude   209913 non-null  float64       \n",
            " 6   passenger_count    209913 non-null  int64         \n",
            " 7   dist_km            209913 non-null  float64       \n",
            " 8   EDTdate            209913 non-null  datetime64[ns]\n",
            " 9   Month              209913 non-null  category      \n",
            " 10  Hour               209913 non-null  category      \n",
            " 11  Minutes            209913 non-null  category      \n",
            " 12  AMorPM             209913 non-null  category      \n",
            " 13  Weekday            209913 non-null  category      \n",
            "dtypes: category(5), datetime64[ns](1), float64(5), int64(1), object(2)\n",
            "memory usage: 17.0+ MB\n"
          ],
          "name": "stdout"
        }
      ]
    },
    {
      "cell_type": "code",
      "metadata": {
        "colab": {
          "base_uri": "https://localhost:8080/"
        },
        "id": "0iaS-vgVATXq",
        "outputId": "51e78977-1bc5-4da9-dfa7-795718fb0797"
      },
      "source": [
        "df_test_for_sub = df_test['key']\n",
        "df_test_for_sub"
      ],
      "execution_count": 26,
      "outputs": [
        {
          "output_type": "execute_result",
          "data": {
            "text/plain": [
              "0       2015-01-27 13:08:24.0000002\n",
              "1       2015-01-27 13:08:24.0000003\n",
              "2       2011-10-08 11:53:44.0000002\n",
              "3       2012-12-01 21:12:12.0000002\n",
              "4       2012-12-01 21:12:12.0000003\n",
              "                   ...             \n",
              "9909    2015-05-10 12:37:51.0000002\n",
              "9910    2015-01-12 17:05:51.0000001\n",
              "9911    2015-04-19 20:44:15.0000001\n",
              "9912    2015-01-31 01:05:19.0000005\n",
              "9913    2015-01-18 14:06:23.0000006\n",
              "Name: key, Length: 9914, dtype: object"
            ]
          },
          "metadata": {
            "tags": []
          },
          "execution_count": 26
        }
      ]
    },
    {
      "cell_type": "markdown",
      "metadata": {
        "id": "bQVaYZt81_Bp"
      },
      "source": [
        "#Modified the existing step"
      ]
    },
    {
      "cell_type": "code",
      "metadata": {
        "id": "btQulOi5DOhu"
      },
      "source": [
        "# keep only the cols for the model\n",
        "#df = df[['Hour', 'AMorPM', 'Weekday','pickup_latitude', 'pickup_longitude', 'dropoff_latitude', 'dropoff_longitude', 'passenger_count', 'dist_km']]\n",
        "\n",
        "#jagruti made changes\n",
        "df = df[['Month','Hour','Minutes', 'AMorPM', 'Weekday','pickup_latitude', 'pickup_longitude', 'dropoff_latitude', 'dropoff_longitude', 'passenger_count', 'dist_km']]\n",
        "#jagruti made changes"
      ],
      "execution_count": 27,
      "outputs": []
    },
    {
      "cell_type": "code",
      "metadata": {
        "colab": {
          "base_uri": "https://localhost:8080/",
          "height": 439
        },
        "id": "O4Ut5XOWN-Pb",
        "outputId": "61427dd3-71d5-46b4-fbd9-4fc9e3590512"
      },
      "source": [
        "df"
      ],
      "execution_count": 28,
      "outputs": [
        {
          "output_type": "execute_result",
          "data": {
            "text/html": [
              "<div>\n",
              "<style scoped>\n",
              "    .dataframe tbody tr th:only-of-type {\n",
              "        vertical-align: middle;\n",
              "    }\n",
              "\n",
              "    .dataframe tbody tr th {\n",
              "        vertical-align: top;\n",
              "    }\n",
              "\n",
              "    .dataframe thead th {\n",
              "        text-align: right;\n",
              "    }\n",
              "</style>\n",
              "<table border=\"1\" class=\"dataframe\">\n",
              "  <thead>\n",
              "    <tr style=\"text-align: right;\">\n",
              "      <th></th>\n",
              "      <th>Month</th>\n",
              "      <th>Hour</th>\n",
              "      <th>Minutes</th>\n",
              "      <th>AMorPM</th>\n",
              "      <th>Weekday</th>\n",
              "      <th>pickup_latitude</th>\n",
              "      <th>pickup_longitude</th>\n",
              "      <th>dropoff_latitude</th>\n",
              "      <th>dropoff_longitude</th>\n",
              "      <th>passenger_count</th>\n",
              "      <th>dist_km</th>\n",
              "    </tr>\n",
              "  </thead>\n",
              "  <tbody>\n",
              "    <tr>\n",
              "      <th>0</th>\n",
              "      <td>5</td>\n",
              "      <td>13</td>\n",
              "      <td>26</td>\n",
              "      <td>1</td>\n",
              "      <td>1</td>\n",
              "      <td>40.721319</td>\n",
              "      <td>-73.844311</td>\n",
              "      <td>40.712278</td>\n",
              "      <td>-73.841610</td>\n",
              "      <td>1</td>\n",
              "      <td>1.030764</td>\n",
              "    </tr>\n",
              "    <tr>\n",
              "      <th>1</th>\n",
              "      <td>0</td>\n",
              "      <td>12</td>\n",
              "      <td>52</td>\n",
              "      <td>1</td>\n",
              "      <td>5</td>\n",
              "      <td>40.711303</td>\n",
              "      <td>-74.016048</td>\n",
              "      <td>40.782004</td>\n",
              "      <td>-73.979268</td>\n",
              "      <td>1</td>\n",
              "      <td>8.450134</td>\n",
              "    </tr>\n",
              "    <tr>\n",
              "      <th>2</th>\n",
              "      <td>7</td>\n",
              "      <td>20</td>\n",
              "      <td>35</td>\n",
              "      <td>1</td>\n",
              "      <td>6</td>\n",
              "      <td>40.761270</td>\n",
              "      <td>-73.982738</td>\n",
              "      <td>40.750562</td>\n",
              "      <td>-73.991242</td>\n",
              "      <td>2</td>\n",
              "      <td>1.389525</td>\n",
              "    </tr>\n",
              "    <tr>\n",
              "      <th>3</th>\n",
              "      <td>3</td>\n",
              "      <td>0</td>\n",
              "      <td>30</td>\n",
              "      <td>0</td>\n",
              "      <td>2</td>\n",
              "      <td>40.733143</td>\n",
              "      <td>-73.987130</td>\n",
              "      <td>40.758092</td>\n",
              "      <td>-73.991567</td>\n",
              "      <td>1</td>\n",
              "      <td>2.799270</td>\n",
              "    </tr>\n",
              "    <tr>\n",
              "      <th>4</th>\n",
              "      <td>2</td>\n",
              "      <td>3</td>\n",
              "      <td>51</td>\n",
              "      <td>0</td>\n",
              "      <td>5</td>\n",
              "      <td>40.768008</td>\n",
              "      <td>-73.968095</td>\n",
              "      <td>40.783762</td>\n",
              "      <td>-73.956655</td>\n",
              "      <td>1</td>\n",
              "      <td>1.999157</td>\n",
              "    </tr>\n",
              "    <tr>\n",
              "      <th>...</th>\n",
              "      <td>...</td>\n",
              "      <td>...</td>\n",
              "      <td>...</td>\n",
              "      <td>...</td>\n",
              "      <td>...</td>\n",
              "      <td>...</td>\n",
              "      <td>...</td>\n",
              "      <td>...</td>\n",
              "      <td>...</td>\n",
              "      <td>...</td>\n",
              "      <td>...</td>\n",
              "    </tr>\n",
              "    <tr>\n",
              "      <th>9909</th>\n",
              "      <td>4</td>\n",
              "      <td>8</td>\n",
              "      <td>37</td>\n",
              "      <td>0</td>\n",
              "      <td>3</td>\n",
              "      <td>40.796997</td>\n",
              "      <td>-73.968124</td>\n",
              "      <td>40.780388</td>\n",
              "      <td>-73.955643</td>\n",
              "      <td>6</td>\n",
              "      <td>2.124874</td>\n",
              "    </tr>\n",
              "    <tr>\n",
              "      <th>9910</th>\n",
              "      <td>0</td>\n",
              "      <td>13</td>\n",
              "      <td>5</td>\n",
              "      <td>1</td>\n",
              "      <td>1</td>\n",
              "      <td>40.803600</td>\n",
              "      <td>-73.945511</td>\n",
              "      <td>40.776371</td>\n",
              "      <td>-73.960213</td>\n",
              "      <td>6</td>\n",
              "      <td>3.270969</td>\n",
              "    </tr>\n",
              "    <tr>\n",
              "      <th>9911</th>\n",
              "      <td>3</td>\n",
              "      <td>16</td>\n",
              "      <td>44</td>\n",
              "      <td>1</td>\n",
              "      <td>3</td>\n",
              "      <td>40.726608</td>\n",
              "      <td>-73.991600</td>\n",
              "      <td>40.647011</td>\n",
              "      <td>-73.789742</td>\n",
              "      <td>6</td>\n",
              "      <td>19.183941</td>\n",
              "    </tr>\n",
              "    <tr>\n",
              "      <th>9912</th>\n",
              "      <td>0</td>\n",
              "      <td>21</td>\n",
              "      <td>5</td>\n",
              "      <td>1</td>\n",
              "      <td>0</td>\n",
              "      <td>40.735432</td>\n",
              "      <td>-73.985573</td>\n",
              "      <td>40.801731</td>\n",
              "      <td>-73.939178</td>\n",
              "      <td>6</td>\n",
              "      <td>8.343486</td>\n",
              "    </tr>\n",
              "    <tr>\n",
              "      <th>9913</th>\n",
              "      <td>0</td>\n",
              "      <td>10</td>\n",
              "      <td>6</td>\n",
              "      <td>0</td>\n",
              "      <td>3</td>\n",
              "      <td>40.754070</td>\n",
              "      <td>-73.988022</td>\n",
              "      <td>40.759220</td>\n",
              "      <td>-74.000282</td>\n",
              "      <td>6</td>\n",
              "      <td>1.180825</td>\n",
              "    </tr>\n",
              "  </tbody>\n",
              "</table>\n",
              "<p>209913 rows × 11 columns</p>\n",
              "</div>"
            ],
            "text/plain": [
              "     Month Hour Minutes  ... dropoff_longitude passenger_count    dist_km\n",
              "0        5   13      26  ...        -73.841610               1   1.030764\n",
              "1        0   12      52  ...        -73.979268               1   8.450134\n",
              "2        7   20      35  ...        -73.991242               2   1.389525\n",
              "3        3    0      30  ...        -73.991567               1   2.799270\n",
              "4        2    3      51  ...        -73.956655               1   1.999157\n",
              "...    ...  ...     ...  ...               ...             ...        ...\n",
              "9909     4    8      37  ...        -73.955643               6   2.124874\n",
              "9910     0   13       5  ...        -73.960213               6   3.270969\n",
              "9911     3   16      44  ...        -73.789742               6  19.183941\n",
              "9912     0   21       5  ...        -73.939178               6   8.343486\n",
              "9913     0   10       6  ...        -74.000282               6   1.180825\n",
              "\n",
              "[209913 rows x 11 columns]"
            ]
          },
          "metadata": {
            "tags": []
          },
          "execution_count": 28
        }
      ]
    },
    {
      "cell_type": "code",
      "metadata": {
        "id": "xrTQtleaQjWO"
      },
      "source": [
        "df_train = df_train.dropna(how='any', axis=0)"
      ],
      "execution_count": 29,
      "outputs": []
    },
    {
      "cell_type": "code",
      "metadata": {
        "id": "MjcwkbEwDS5d"
      },
      "source": [
        "df_train = df[:199981]\n",
        "df_test = df[199981:] "
      ],
      "execution_count": 30,
      "outputs": []
    },
    {
      "cell_type": "code",
      "metadata": {
        "colab": {
          "base_uri": "https://localhost:8080/",
          "height": 439
        },
        "id": "ebJmA9qeOnDB",
        "outputId": "428b967a-64ad-4807-f012-119fe3570dd4"
      },
      "source": [
        "df_train"
      ],
      "execution_count": 31,
      "outputs": [
        {
          "output_type": "execute_result",
          "data": {
            "text/html": [
              "<div>\n",
              "<style scoped>\n",
              "    .dataframe tbody tr th:only-of-type {\n",
              "        vertical-align: middle;\n",
              "    }\n",
              "\n",
              "    .dataframe tbody tr th {\n",
              "        vertical-align: top;\n",
              "    }\n",
              "\n",
              "    .dataframe thead th {\n",
              "        text-align: right;\n",
              "    }\n",
              "</style>\n",
              "<table border=\"1\" class=\"dataframe\">\n",
              "  <thead>\n",
              "    <tr style=\"text-align: right;\">\n",
              "      <th></th>\n",
              "      <th>Month</th>\n",
              "      <th>Hour</th>\n",
              "      <th>Minutes</th>\n",
              "      <th>AMorPM</th>\n",
              "      <th>Weekday</th>\n",
              "      <th>pickup_latitude</th>\n",
              "      <th>pickup_longitude</th>\n",
              "      <th>dropoff_latitude</th>\n",
              "      <th>dropoff_longitude</th>\n",
              "      <th>passenger_count</th>\n",
              "      <th>dist_km</th>\n",
              "    </tr>\n",
              "  </thead>\n",
              "  <tbody>\n",
              "    <tr>\n",
              "      <th>0</th>\n",
              "      <td>5</td>\n",
              "      <td>13</td>\n",
              "      <td>26</td>\n",
              "      <td>1</td>\n",
              "      <td>1</td>\n",
              "      <td>40.721319</td>\n",
              "      <td>-73.844311</td>\n",
              "      <td>40.712278</td>\n",
              "      <td>-73.841610</td>\n",
              "      <td>1</td>\n",
              "      <td>1.030764</td>\n",
              "    </tr>\n",
              "    <tr>\n",
              "      <th>1</th>\n",
              "      <td>0</td>\n",
              "      <td>12</td>\n",
              "      <td>52</td>\n",
              "      <td>1</td>\n",
              "      <td>5</td>\n",
              "      <td>40.711303</td>\n",
              "      <td>-74.016048</td>\n",
              "      <td>40.782004</td>\n",
              "      <td>-73.979268</td>\n",
              "      <td>1</td>\n",
              "      <td>8.450134</td>\n",
              "    </tr>\n",
              "    <tr>\n",
              "      <th>2</th>\n",
              "      <td>7</td>\n",
              "      <td>20</td>\n",
              "      <td>35</td>\n",
              "      <td>1</td>\n",
              "      <td>6</td>\n",
              "      <td>40.761270</td>\n",
              "      <td>-73.982738</td>\n",
              "      <td>40.750562</td>\n",
              "      <td>-73.991242</td>\n",
              "      <td>2</td>\n",
              "      <td>1.389525</td>\n",
              "    </tr>\n",
              "    <tr>\n",
              "      <th>3</th>\n",
              "      <td>3</td>\n",
              "      <td>0</td>\n",
              "      <td>30</td>\n",
              "      <td>0</td>\n",
              "      <td>2</td>\n",
              "      <td>40.733143</td>\n",
              "      <td>-73.987130</td>\n",
              "      <td>40.758092</td>\n",
              "      <td>-73.991567</td>\n",
              "      <td>1</td>\n",
              "      <td>2.799270</td>\n",
              "    </tr>\n",
              "    <tr>\n",
              "      <th>4</th>\n",
              "      <td>2</td>\n",
              "      <td>3</td>\n",
              "      <td>51</td>\n",
              "      <td>0</td>\n",
              "      <td>5</td>\n",
              "      <td>40.768008</td>\n",
              "      <td>-73.968095</td>\n",
              "      <td>40.783762</td>\n",
              "      <td>-73.956655</td>\n",
              "      <td>1</td>\n",
              "      <td>1.999157</td>\n",
              "    </tr>\n",
              "    <tr>\n",
              "      <th>...</th>\n",
              "      <td>...</td>\n",
              "      <td>...</td>\n",
              "      <td>...</td>\n",
              "      <td>...</td>\n",
              "      <td>...</td>\n",
              "      <td>...</td>\n",
              "      <td>...</td>\n",
              "      <td>...</td>\n",
              "      <td>...</td>\n",
              "      <td>...</td>\n",
              "      <td>...</td>\n",
              "    </tr>\n",
              "    <tr>\n",
              "      <th>199977</th>\n",
              "      <td>8</td>\n",
              "      <td>2</td>\n",
              "      <td>46</td>\n",
              "      <td>0</td>\n",
              "      <td>5</td>\n",
              "      <td>40.739802</td>\n",
              "      <td>-73.998794</td>\n",
              "      <td>40.750046</td>\n",
              "      <td>-73.995108</td>\n",
              "      <td>1</td>\n",
              "      <td>1.180648</td>\n",
              "    </tr>\n",
              "    <tr>\n",
              "      <th>199978</th>\n",
              "      <td>9</td>\n",
              "      <td>12</td>\n",
              "      <td>15</td>\n",
              "      <td>1</td>\n",
              "      <td>0</td>\n",
              "      <td>40.774110</td>\n",
              "      <td>-73.873325</td>\n",
              "      <td>40.746500</td>\n",
              "      <td>-73.891250</td>\n",
              "      <td>2</td>\n",
              "      <td>3.421216</td>\n",
              "    </tr>\n",
              "    <tr>\n",
              "      <th>199979</th>\n",
              "      <td>8</td>\n",
              "      <td>17</td>\n",
              "      <td>37</td>\n",
              "      <td>1</td>\n",
              "      <td>3</td>\n",
              "      <td>40.661065</td>\n",
              "      <td>-73.980177</td>\n",
              "      <td>40.638822</td>\n",
              "      <td>-73.994345</td>\n",
              "      <td>6</td>\n",
              "      <td>2.746985</td>\n",
              "    </tr>\n",
              "    <tr>\n",
              "      <th>199980</th>\n",
              "      <td>7</td>\n",
              "      <td>7</td>\n",
              "      <td>13</td>\n",
              "      <td>0</td>\n",
              "      <td>2</td>\n",
              "      <td>40.724633</td>\n",
              "      <td>-73.997915</td>\n",
              "      <td>40.760758</td>\n",
              "      <td>-73.973431</td>\n",
              "      <td>1</td>\n",
              "      <td>4.515565</td>\n",
              "    </tr>\n",
              "    <tr>\n",
              "      <th>199981</th>\n",
              "      <td>9</td>\n",
              "      <td>16</td>\n",
              "      <td>42</td>\n",
              "      <td>1</td>\n",
              "      <td>4</td>\n",
              "      <td>40.771615</td>\n",
              "      <td>-73.983210</td>\n",
              "      <td>40.714510</td>\n",
              "      <td>-74.010007</td>\n",
              "      <td>1</td>\n",
              "      <td>6.739161</td>\n",
              "    </tr>\n",
              "  </tbody>\n",
              "</table>\n",
              "<p>199981 rows × 11 columns</p>\n",
              "</div>"
            ],
            "text/plain": [
              "       Month Hour Minutes  ... dropoff_longitude passenger_count   dist_km\n",
              "0          5   13      26  ...        -73.841610               1  1.030764\n",
              "1          0   12      52  ...        -73.979268               1  8.450134\n",
              "2          7   20      35  ...        -73.991242               2  1.389525\n",
              "3          3    0      30  ...        -73.991567               1  2.799270\n",
              "4          2    3      51  ...        -73.956655               1  1.999157\n",
              "...      ...  ...     ...  ...               ...             ...       ...\n",
              "199977     8    2      46  ...        -73.995108               1  1.180648\n",
              "199978     9   12      15  ...        -73.891250               2  3.421216\n",
              "199979     8   17      37  ...        -73.994345               6  2.746985\n",
              "199980     7    7      13  ...        -73.973431               1  4.515565\n",
              "199981     9   16      42  ...        -74.010007               1  6.739161\n",
              "\n",
              "[199981 rows x 11 columns]"
            ]
          },
          "metadata": {
            "tags": []
          },
          "execution_count": 31
        }
      ]
    },
    {
      "cell_type": "code",
      "metadata": {
        "colab": {
          "base_uri": "https://localhost:8080/"
        },
        "id": "qLJ0QBz0DWym",
        "outputId": "4c4a982d-417e-48b9-cd5b-8fb56c93bc91"
      },
      "source": [
        "#Normalizing \n",
        "\n",
        "from pandas.api.types import is_numeric_dtype\n",
        "\n",
        "#\"Compute the means and stds of `self.cont_names` columns to normalize them.\"\n",
        "def Normalize(df):\n",
        "  means,stds = {},{}\n",
        "  cont_names = ['pickup_latitude', 'pickup_longitude', 'dropoff_latitude', 'dropoff_longitude', 'passenger_count', 'dist_km']\n",
        "  for n in cont_names:\n",
        "    assert is_numeric_dtype(df[n]), (f\"\"\"Cannot normalize '{n}' column as it isn't numerical. Are you sure it doesn't belong in the categorical set of columns?\"\"\")\n",
        "    means[n],stds[n] = df[n].mean(),df[n].std()\n",
        "    df[n] = (df[n]-means[n]) / (1e-7 + stds[n])\n",
        "\n",
        "\n",
        "Normalize(df_train)\n",
        "Normalize(df_test)\n",
        "X = df_train"
      ],
      "execution_count": 32,
      "outputs": [
        {
          "output_type": "stream",
          "text": [
            "/usr/local/lib/python3.7/dist-packages/ipykernel_launcher.py:12: SettingWithCopyWarning:\n",
            "\n",
            "\n",
            "A value is trying to be set on a copy of a slice from a DataFrame.\n",
            "Try using .loc[row_indexer,col_indexer] = value instead\n",
            "\n",
            "See the caveats in the documentation: https://pandas.pydata.org/pandas-docs/stable/user_guide/indexing.html#returning-a-view-versus-a-copy\n",
            "\n"
          ],
          "name": "stderr"
        }
      ]
    },
    {
      "cell_type": "code",
      "metadata": {
        "colab": {
          "base_uri": "https://localhost:8080/",
          "height": 224
        },
        "id": "SQ5-tkAmDZ_C",
        "outputId": "f768b58c-0c7e-4483-a3c2-966544d40c13"
      },
      "source": [
        "df_train.head()"
      ],
      "execution_count": 33,
      "outputs": [
        {
          "output_type": "execute_result",
          "data": {
            "text/html": [
              "<div>\n",
              "<style scoped>\n",
              "    .dataframe tbody tr th:only-of-type {\n",
              "        vertical-align: middle;\n",
              "    }\n",
              "\n",
              "    .dataframe tbody tr th {\n",
              "        vertical-align: top;\n",
              "    }\n",
              "\n",
              "    .dataframe thead th {\n",
              "        text-align: right;\n",
              "    }\n",
              "</style>\n",
              "<table border=\"1\" class=\"dataframe\">\n",
              "  <thead>\n",
              "    <tr style=\"text-align: right;\">\n",
              "      <th></th>\n",
              "      <th>Month</th>\n",
              "      <th>Hour</th>\n",
              "      <th>Minutes</th>\n",
              "      <th>AMorPM</th>\n",
              "      <th>Weekday</th>\n",
              "      <th>pickup_latitude</th>\n",
              "      <th>pickup_longitude</th>\n",
              "      <th>dropoff_latitude</th>\n",
              "      <th>dropoff_longitude</th>\n",
              "      <th>passenger_count</th>\n",
              "      <th>dist_km</th>\n",
              "    </tr>\n",
              "  </thead>\n",
              "  <tbody>\n",
              "    <tr>\n",
              "      <th>0</th>\n",
              "      <td>5</td>\n",
              "      <td>13</td>\n",
              "      <td>26</td>\n",
              "      <td>1</td>\n",
              "      <td>1</td>\n",
              "      <td>0.079514</td>\n",
              "      <td>-0.115287</td>\n",
              "      <td>0.116534</td>\n",
              "      <td>-0.123366</td>\n",
              "      <td>-0.522253</td>\n",
              "      <td>-0.049490</td>\n",
              "    </tr>\n",
              "    <tr>\n",
              "      <th>1</th>\n",
              "      <td>0</td>\n",
              "      <td>12</td>\n",
              "      <td>52</td>\n",
              "      <td>1</td>\n",
              "      <td>5</td>\n",
              "      <td>0.078518</td>\n",
              "      <td>-0.130081</td>\n",
              "      <td>0.126862</td>\n",
              "      <td>-0.136202</td>\n",
              "      <td>-0.522253</td>\n",
              "      <td>-0.028849</td>\n",
              "    </tr>\n",
              "    <tr>\n",
              "      <th>2</th>\n",
              "      <td>7</td>\n",
              "      <td>20</td>\n",
              "      <td>35</td>\n",
              "      <td>1</td>\n",
              "      <td>6</td>\n",
              "      <td>0.083490</td>\n",
              "      <td>-0.127212</td>\n",
              "      <td>0.122205</td>\n",
              "      <td>-0.137318</td>\n",
              "      <td>0.243009</td>\n",
              "      <td>-0.048492</td>\n",
              "    </tr>\n",
              "    <tr>\n",
              "      <th>3</th>\n",
              "      <td>3</td>\n",
              "      <td>0</td>\n",
              "      <td>30</td>\n",
              "      <td>0</td>\n",
              "      <td>2</td>\n",
              "      <td>0.080691</td>\n",
              "      <td>-0.127590</td>\n",
              "      <td>0.123320</td>\n",
              "      <td>-0.137349</td>\n",
              "      <td>-0.522253</td>\n",
              "      <td>-0.044570</td>\n",
              "    </tr>\n",
              "    <tr>\n",
              "      <th>4</th>\n",
              "      <td>2</td>\n",
              "      <td>3</td>\n",
              "      <td>51</td>\n",
              "      <td>0</td>\n",
              "      <td>5</td>\n",
              "      <td>0.084160</td>\n",
              "      <td>-0.125950</td>\n",
              "      <td>0.127122</td>\n",
              "      <td>-0.134093</td>\n",
              "      <td>-0.522253</td>\n",
              "      <td>-0.046796</td>\n",
              "    </tr>\n",
              "  </tbody>\n",
              "</table>\n",
              "</div>"
            ],
            "text/plain": [
              "  Month Hour Minutes  ... dropoff_longitude passenger_count   dist_km\n",
              "0     5   13      26  ...         -0.123366       -0.522253 -0.049490\n",
              "1     0   12      52  ...         -0.136202       -0.522253 -0.028849\n",
              "2     7   20      35  ...         -0.137318        0.243009 -0.048492\n",
              "3     3    0      30  ...         -0.137349       -0.522253 -0.044570\n",
              "4     2    3      51  ...         -0.134093       -0.522253 -0.046796\n",
              "\n",
              "[5 rows x 11 columns]"
            ]
          },
          "metadata": {
            "tags": []
          },
          "execution_count": 33
        }
      ]
    },
    {
      "cell_type": "code",
      "metadata": {
        "colab": {
          "base_uri": "https://localhost:8080/"
        },
        "id": "SrTIQFIbDcwJ",
        "outputId": "2d51cebd-9657-4cee-bcb7-abff9a18fb86"
      },
      "source": [
        "X.shape"
      ],
      "execution_count": 34,
      "outputs": [
        {
          "output_type": "execute_result",
          "data": {
            "text/plain": [
              "(199981, 11)"
            ]
          },
          "metadata": {
            "tags": []
          },
          "execution_count": 34
        }
      ]
    },
    {
      "cell_type": "code",
      "metadata": {
        "colab": {
          "base_uri": "https://localhost:8080/"
        },
        "id": "ru2QyfHQDf8G",
        "outputId": "7bae0187-c909-43a0-c54b-8cf369fa88b3"
      },
      "source": [
        "X.info()"
      ],
      "execution_count": 35,
      "outputs": [
        {
          "output_type": "stream",
          "text": [
            "<class 'pandas.core.frame.DataFrame'>\n",
            "Int64Index: 199981 entries, 0 to 199981\n",
            "Data columns (total 11 columns):\n",
            " #   Column             Non-Null Count   Dtype   \n",
            "---  ------             --------------   -----   \n",
            " 0   Month              199981 non-null  category\n",
            " 1   Hour               199981 non-null  category\n",
            " 2   Minutes            199981 non-null  category\n",
            " 3   AMorPM             199981 non-null  category\n",
            " 4   Weekday            199981 non-null  category\n",
            " 5   pickup_latitude    199981 non-null  float64 \n",
            " 6   pickup_longitude   199981 non-null  float64 \n",
            " 7   dropoff_latitude   199981 non-null  float64 \n",
            " 8   dropoff_longitude  199981 non-null  float64 \n",
            " 9   passenger_count    199981 non-null  float64 \n",
            " 10  dist_km            199981 non-null  float64 \n",
            "dtypes: category(5), float64(6)\n",
            "memory usage: 11.6 MB\n"
          ],
          "name": "stdout"
        }
      ]
    },
    {
      "cell_type": "code",
      "metadata": {
        "colab": {
          "base_uri": "https://localhost:8080/",
          "height": 224
        },
        "id": "G10UaFAjDjb5",
        "outputId": "adbb1e1a-76ac-4ed6-bc41-0d3e3b12a563"
      },
      "source": [
        "X_train, X_val, y_train, y_val = train_test_split(X, Y, test_size=0.20, random_state=42,shuffle=True ) \n",
        "X_train.head()"
      ],
      "execution_count": 36,
      "outputs": [
        {
          "output_type": "execute_result",
          "data": {
            "text/html": [
              "<div>\n",
              "<style scoped>\n",
              "    .dataframe tbody tr th:only-of-type {\n",
              "        vertical-align: middle;\n",
              "    }\n",
              "\n",
              "    .dataframe tbody tr th {\n",
              "        vertical-align: top;\n",
              "    }\n",
              "\n",
              "    .dataframe thead th {\n",
              "        text-align: right;\n",
              "    }\n",
              "</style>\n",
              "<table border=\"1\" class=\"dataframe\">\n",
              "  <thead>\n",
              "    <tr style=\"text-align: right;\">\n",
              "      <th></th>\n",
              "      <th>Month</th>\n",
              "      <th>Hour</th>\n",
              "      <th>Minutes</th>\n",
              "      <th>AMorPM</th>\n",
              "      <th>Weekday</th>\n",
              "      <th>pickup_latitude</th>\n",
              "      <th>pickup_longitude</th>\n",
              "      <th>dropoff_latitude</th>\n",
              "      <th>dropoff_longitude</th>\n",
              "      <th>passenger_count</th>\n",
              "      <th>dist_km</th>\n",
              "    </tr>\n",
              "  </thead>\n",
              "  <tbody>\n",
              "    <tr>\n",
              "      <th>15044</th>\n",
              "      <td>1</td>\n",
              "      <td>6</td>\n",
              "      <td>53</td>\n",
              "      <td>0</td>\n",
              "      <td>4</td>\n",
              "      <td>-3.972592</td>\n",
              "      <td>6.245864</td>\n",
              "      <td>-5.913646</td>\n",
              "      <td>6.761825</td>\n",
              "      <td>1.773534</td>\n",
              "      <td>-0.052357</td>\n",
              "    </tr>\n",
              "    <tr>\n",
              "      <th>11425</th>\n",
              "      <td>11</td>\n",
              "      <td>7</td>\n",
              "      <td>20</td>\n",
              "      <td>0</td>\n",
              "      <td>1</td>\n",
              "      <td>0.082313</td>\n",
              "      <td>-0.126774</td>\n",
              "      <td>0.122994</td>\n",
              "      <td>-0.137281</td>\n",
              "      <td>-0.522253</td>\n",
              "      <td>-0.048680</td>\n",
              "    </tr>\n",
              "    <tr>\n",
              "      <th>109940</th>\n",
              "      <td>6</td>\n",
              "      <td>9</td>\n",
              "      <td>37</td>\n",
              "      <td>0</td>\n",
              "      <td>4</td>\n",
              "      <td>0.084969</td>\n",
              "      <td>-0.127738</td>\n",
              "      <td>0.125289</td>\n",
              "      <td>-0.134348</td>\n",
              "      <td>-0.522253</td>\n",
              "      <td>-0.045301</td>\n",
              "    </tr>\n",
              "    <tr>\n",
              "      <th>74152</th>\n",
              "      <td>4</td>\n",
              "      <td>4</td>\n",
              "      <td>49</td>\n",
              "      <td>0</td>\n",
              "      <td>6</td>\n",
              "      <td>0.082050</td>\n",
              "      <td>-0.128880</td>\n",
              "      <td>0.127539</td>\n",
              "      <td>-0.136241</td>\n",
              "      <td>-0.522253</td>\n",
              "      <td>-0.038981</td>\n",
              "    </tr>\n",
              "    <tr>\n",
              "      <th>67720</th>\n",
              "      <td>8</td>\n",
              "      <td>19</td>\n",
              "      <td>50</td>\n",
              "      <td>1</td>\n",
              "      <td>0</td>\n",
              "      <td>0.082896</td>\n",
              "      <td>-0.126909</td>\n",
              "      <td>0.122050</td>\n",
              "      <td>-0.136587</td>\n",
              "      <td>-0.522253</td>\n",
              "      <td>-0.050317</td>\n",
              "    </tr>\n",
              "  </tbody>\n",
              "</table>\n",
              "</div>"
            ],
            "text/plain": [
              "       Month Hour Minutes  ... dropoff_longitude passenger_count   dist_km\n",
              "15044      1    6      53  ...          6.761825        1.773534 -0.052357\n",
              "11425     11    7      20  ...         -0.137281       -0.522253 -0.048680\n",
              "109940     6    9      37  ...         -0.134348       -0.522253 -0.045301\n",
              "74152      4    4      49  ...         -0.136241       -0.522253 -0.038981\n",
              "67720      8   19      50  ...         -0.136587       -0.522253 -0.050317\n",
              "\n",
              "[5 rows x 11 columns]"
            ]
          },
          "metadata": {
            "tags": []
          },
          "execution_count": 36
        }
      ]
    },
    {
      "cell_type": "code",
      "metadata": {
        "colab": {
          "base_uri": "https://localhost:8080/"
        },
        "id": "L3nOST5S-8yd",
        "outputId": "cea13a2d-5993-4f96-d7bd-e61dde9ea378"
      },
      "source": [
        "Y"
      ],
      "execution_count": 37,
      "outputs": [
        {
          "output_type": "execute_result",
          "data": {
            "text/plain": [
              "0         1.504077\n",
              "1         2.827314\n",
              "2         1.740466\n",
              "3         2.041220\n",
              "4         1.667707\n",
              "            ...   \n",
              "199995    2.186051\n",
              "199996    2.646175\n",
              "199997    1.931521\n",
              "199998    2.890372\n",
              "199999    3.757239\n",
              "Name: fare_amount, Length: 199981, dtype: float64"
            ]
          },
          "metadata": {
            "tags": []
          },
          "execution_count": 37
        }
      ]
    },
    {
      "cell_type": "code",
      "metadata": {
        "colab": {
          "base_uri": "https://localhost:8080/"
        },
        "id": "pfCMOyY7PU27",
        "outputId": "968efcdf-cada-4b5e-a57f-af5a3d8ae4a9"
      },
      "source": [
        "# load tqdm\n",
        "#!pip install --force https://github.com/chengs/tqdm/archive/colab.zip\n",
        "from tqdm import tqdm, tqdm_notebook, tnrange\n",
        "\n",
        "device = torch.device(\"cuda:0\" if torch.cuda.is_available() else \"cpu\")\n",
        "device"
      ],
      "execution_count": 38,
      "outputs": [
        {
          "output_type": "execute_result",
          "data": {
            "text/plain": [
              "device(type='cuda', index=0)"
            ]
          },
          "metadata": {
            "tags": []
          },
          "execution_count": 38
        }
      ]
    },
    {
      "cell_type": "code",
      "metadata": {
        "colab": {
          "base_uri": "https://localhost:8080/"
        },
        "id": "YPuJ6x-wmkoF",
        "outputId": "0a1cdeef-7587-4228-e022-a6442d6de67c"
      },
      "source": [
        "!wget https://raw.githubusercontent.com/tensorflow/tfx/master/tfx/examples/chicago_taxi_pipeline/data/simple/data.csv"
      ],
      "execution_count": 39,
      "outputs": [
        {
          "output_type": "stream",
          "text": [
            "--2021-04-25 03:03:18--  https://raw.githubusercontent.com/tensorflow/tfx/master/tfx/examples/chicago_taxi_pipeline/data/simple/data.csv\n",
            "Resolving raw.githubusercontent.com (raw.githubusercontent.com)... 185.199.108.133, 185.199.109.133, 185.199.110.133, ...\n",
            "Connecting to raw.githubusercontent.com (raw.githubusercontent.com)|185.199.108.133|:443... connected.\n",
            "HTTP request sent, awaiting response... 200 OK\n",
            "Length: 1922812 (1.8M) [text/plain]\n",
            "Saving to: ‘data.csv’\n",
            "\n",
            "data.csv            100%[===================>]   1.83M  --.-KB/s    in 0.09s   \n",
            "\n",
            "2021-04-25 03:03:19 (21.5 MB/s) - ‘data.csv’ saved [1922812/1922812]\n",
            "\n"
          ],
          "name": "stdout"
        }
      ]
    },
    {
      "cell_type": "code",
      "metadata": {
        "colab": {
          "base_uri": "https://localhost:8080/"
        },
        "id": "TF39N2Tq_Rc9",
        "outputId": "bda7b7bc-3c64-4578-f86a-765fae9a4475"
      },
      "source": [
        "## import libraries\n",
        "\n",
        "#PyTorch \n",
        "\n",
        "import torch\n",
        "import torch.nn as nn\n",
        "from torch.utils.data import Dataset, DataLoader\n",
        "import torch.optim as torch_optim\n",
        "from torchvision import models\n",
        "from torch.nn import init\n",
        "import torch.optim as optim\n",
        "from torch.autograd import Variable\n",
        "import torch.nn.functional as F\n",
        "from torch.utils import data\n",
        "from torch.optim import lr_scheduler\n",
        "\n",
        "#sklearn\n",
        "from sklearn.model_selection import train_test_split\n",
        "from sklearn.preprocessing import LabelEncoder\n",
        "from sklearn.metrics import mean_squared_error\n",
        "from sklearn import preprocessing\n",
        "\n",
        "\n",
        "#other\n",
        "from IPython.core.debugger import set_trace\n",
        "import pandas as pd\n",
        "import numpy as np\n",
        "from collections import Counter\n",
        "from datetime import datetime\n",
        "import math \n",
        "from google.colab import files\n",
        "import io\n",
        "import datetime as dt\n",
        "import re\n",
        "import pandas_profiling\n",
        "import pandas_profiling as pp\n",
        "from math import sqrt\n",
        "\n",
        "#graphs\n",
        "import seaborn as sns\n",
        "import matplotlib.pyplot as plt\n",
        "import matplotlib.ticker as ticker\n",
        "import matplotlib.dates as mdates\n",
        "import matplotlib.cbook as cbook\n",
        "import pylab as plt\n",
        "import matplotlib.dates as dates\n",
        "import seaborn as sns\n",
        "import pylab\n",
        "import matplotlib\n",
        "import matplotlib.dates\n",
        "from IPython.display import display\n",
        "import plotly.graph_objects as go\n",
        "\n",
        "\n",
        "%matplotlib inline\n",
        "\n",
        "\n",
        "# load tqdm\n",
        "#!pip install --force https://github.com/chengs/tqdm/archive/colab.zip\n",
        "from tqdm import tqdm, tqdm_notebook, tnrange\n",
        "\n",
        "device = torch.device(\"cuda:0\" if torch.cuda.is_available() else \"cpu\")\n",
        "device"
      ],
      "execution_count": 40,
      "outputs": [
        {
          "output_type": "execute_result",
          "data": {
            "text/plain": [
              "device(type='cuda', index=0)"
            ]
          },
          "metadata": {
            "tags": []
          },
          "execution_count": 40
        }
      ]
    },
    {
      "cell_type": "code",
      "metadata": {
        "colab": {
          "base_uri": "https://localhost:8080/"
        },
        "id": "F1FJlfCL_p_5",
        "outputId": "dcf54290-4a2c-47fd-ffbd-1913de6ba4e0"
      },
      "source": [
        "df.nunique()"
      ],
      "execution_count": 41,
      "outputs": [
        {
          "output_type": "execute_result",
          "data": {
            "text/plain": [
              "Month                    12\n",
              "Hour                     24\n",
              "Minutes                  60\n",
              "AMorPM                    2\n",
              "Weekday                   7\n",
              "pickup_latitude       93125\n",
              "pickup_longitude      80141\n",
              "dropoff_latitude      99980\n",
              "dropoff_longitude     86215\n",
              "passenger_count           7\n",
              "dist_km              204091\n",
              "dtype: int64"
            ]
          },
          "metadata": {
            "tags": []
          },
          "execution_count": 41
        }
      ]
    },
    {
      "cell_type": "code",
      "metadata": {
        "colab": {
          "base_uri": "https://localhost:8080/",
          "height": 297
        },
        "id": "zQdCxZjl_tBK",
        "outputId": "6cec2e16-2f3b-4486-edbd-58c1f0b3eeab"
      },
      "source": [
        "df.describe()"
      ],
      "execution_count": 42,
      "outputs": [
        {
          "output_type": "execute_result",
          "data": {
            "text/html": [
              "<div>\n",
              "<style scoped>\n",
              "    .dataframe tbody tr th:only-of-type {\n",
              "        vertical-align: middle;\n",
              "    }\n",
              "\n",
              "    .dataframe tbody tr th {\n",
              "        vertical-align: top;\n",
              "    }\n",
              "\n",
              "    .dataframe thead th {\n",
              "        text-align: right;\n",
              "    }\n",
              "</style>\n",
              "<table border=\"1\" class=\"dataframe\">\n",
              "  <thead>\n",
              "    <tr style=\"text-align: right;\">\n",
              "      <th></th>\n",
              "      <th>pickup_latitude</th>\n",
              "      <th>pickup_longitude</th>\n",
              "      <th>dropoff_latitude</th>\n",
              "      <th>dropoff_longitude</th>\n",
              "      <th>passenger_count</th>\n",
              "      <th>dist_km</th>\n",
              "    </tr>\n",
              "  </thead>\n",
              "  <tbody>\n",
              "    <tr>\n",
              "      <th>count</th>\n",
              "      <td>2.099130e+05</td>\n",
              "      <td>2.099130e+05</td>\n",
              "      <td>2.099130e+05</td>\n",
              "      <td>2.099130e+05</td>\n",
              "      <td>209913.000000</td>\n",
              "      <td>2.099130e+05</td>\n",
              "    </tr>\n",
              "    <tr>\n",
              "      <th>mean</th>\n",
              "      <td>-6.700974e-14</td>\n",
              "      <td>-1.255537e-13</td>\n",
              "      <td>3.799585e-14</td>\n",
              "      <td>3.141186e-13</td>\n",
              "      <td>1.681925</td>\n",
              "      <td>7.876827e-16</td>\n",
              "    </tr>\n",
              "    <tr>\n",
              "      <th>std</th>\n",
              "      <td>9.999975e-01</td>\n",
              "      <td>9.999975e-01</td>\n",
              "      <td>9.999975e-01</td>\n",
              "      <td>9.999975e-01</td>\n",
              "      <td>1.305419</td>\n",
              "      <td>9.999976e-01</td>\n",
              "    </tr>\n",
              "    <tr>\n",
              "      <th>min</th>\n",
              "      <td>-3.140686e+02</td>\n",
              "      <td>-5.720257e+01</td>\n",
              "      <td>-1.821159e+02</td>\n",
              "      <td>-1.099031e+02</td>\n",
              "      <td>0.000000</td>\n",
              "      <td>-8.647266e-01</td>\n",
              "    </tr>\n",
              "    <tr>\n",
              "      <th>25%</th>\n",
              "      <td>8.076250e-02</td>\n",
              "      <td>-1.280760e-01</td>\n",
              "      <td>1.195436e-01</td>\n",
              "      <td>-1.373762e-01</td>\n",
              "      <td>1.000000</td>\n",
              "      <td>-4.915128e-02</td>\n",
              "    </tr>\n",
              "    <tr>\n",
              "      <th>50%</th>\n",
              "      <td>8.263974e-02</td>\n",
              "      <td>-1.271348e-01</td>\n",
              "      <td>1.225797e-01</td>\n",
              "      <td>-1.362820e-01</td>\n",
              "      <td>1.000000</td>\n",
              "      <td>-4.657110e-02</td>\n",
              "    </tr>\n",
              "    <tr>\n",
              "      <th>75%</th>\n",
              "      <td>8.417201e-02</td>\n",
              "      <td>-1.257867e-01</td>\n",
              "      <td>1.249068e-01</td>\n",
              "      <td>-1.346277e-01</td>\n",
              "      <td>2.000000</td>\n",
              "      <td>-4.145652e-02</td>\n",
              "    </tr>\n",
              "    <tr>\n",
              "      <th>max</th>\n",
              "      <td>1.654991e+02</td>\n",
              "      <td>1.906431e+02</td>\n",
              "      <td>5.401696e+01</td>\n",
              "      <td>2.511775e+01</td>\n",
              "      <td>6.000000</td>\n",
              "      <td>2.429302e+01</td>\n",
              "    </tr>\n",
              "  </tbody>\n",
              "</table>\n",
              "</div>"
            ],
            "text/plain": [
              "       pickup_latitude  pickup_longitude  ...  passenger_count       dist_km\n",
              "count     2.099130e+05      2.099130e+05  ...    209913.000000  2.099130e+05\n",
              "mean     -6.700974e-14     -1.255537e-13  ...         1.681925  7.876827e-16\n",
              "std       9.999975e-01      9.999975e-01  ...         1.305419  9.999976e-01\n",
              "min      -3.140686e+02     -5.720257e+01  ...         0.000000 -8.647266e-01\n",
              "25%       8.076250e-02     -1.280760e-01  ...         1.000000 -4.915128e-02\n",
              "50%       8.263974e-02     -1.271348e-01  ...         1.000000 -4.657110e-02\n",
              "75%       8.417201e-02     -1.257867e-01  ...         2.000000 -4.145652e-02\n",
              "max       1.654991e+02      1.906431e+02  ...         6.000000  2.429302e+01\n",
              "\n",
              "[8 rows x 6 columns]"
            ]
          },
          "metadata": {
            "tags": []
          },
          "execution_count": 42
        }
      ]
    },
    {
      "cell_type": "code",
      "metadata": {
        "colab": {
          "base_uri": "https://localhost:8080/"
        },
        "id": "K11Bhhf7GQXW",
        "outputId": "89bf399e-6544-49f4-bf9d-85e1a26d7f64"
      },
      "source": [
        "#df.info()\n",
        "cat_szs = [len(df[col].cat.categories) for col in cat_cols]\n",
        "emb_szs = [(size, min(50, (size+1)//2)) for size in cat_szs]\n",
        "emb_szs"
      ],
      "execution_count": 43,
      "outputs": [
        {
          "output_type": "execute_result",
          "data": {
            "text/plain": [
              "[(12, 6), (24, 12), (60, 30), (2, 1), (7, 4)]"
            ]
          },
          "metadata": {
            "tags": []
          },
          "execution_count": 43
        }
      ]
    },
    {
      "cell_type": "code",
      "metadata": {
        "colab": {
          "base_uri": "https://localhost:8080/"
        },
        "id": "gKUFbH06Ga1f",
        "outputId": "58a4ae80-fa21-412a-f149-a0e956d8eb22"
      },
      "source": [
        "type(emb_szs)"
      ],
      "execution_count": 44,
      "outputs": [
        {
          "output_type": "execute_result",
          "data": {
            "text/plain": [
              "list"
            ]
          },
          "metadata": {
            "tags": []
          },
          "execution_count": 44
        }
      ]
    },
    {
      "cell_type": "code",
      "metadata": {
        "colab": {
          "base_uri": "https://localhost:8080/"
        },
        "id": "9Q0P2E8aGdgR",
        "outputId": "d7bc3054-022d-4251-87e7-aada31c65a1c"
      },
      "source": [
        "\n",
        "X_train.shape"
      ],
      "execution_count": 45,
      "outputs": [
        {
          "output_type": "execute_result",
          "data": {
            "text/plain": [
              "(159984, 11)"
            ]
          },
          "metadata": {
            "tags": []
          },
          "execution_count": 45
        }
      ]
    },
    {
      "cell_type": "code",
      "metadata": {
        "colab": {
          "base_uri": "https://localhost:8080/"
        },
        "id": "sd0E5UAUGgQj",
        "outputId": "22303a66-ce18-43e7-d4aa-f3475b6ed022"
      },
      "source": [
        "\n",
        "X_val.shape"
      ],
      "execution_count": 46,
      "outputs": [
        {
          "output_type": "execute_result",
          "data": {
            "text/plain": [
              "(39997, 11)"
            ]
          },
          "metadata": {
            "tags": []
          },
          "execution_count": 46
        }
      ]
    },
    {
      "cell_type": "code",
      "metadata": {
        "colab": {
          "base_uri": "https://localhost:8080/"
        },
        "id": "QnMMhCopGiu9",
        "outputId": "b59ccb6f-8351-4020-9c77-d1db95e08bd9"
      },
      "source": [
        "\n",
        "y_train.shape"
      ],
      "execution_count": 47,
      "outputs": [
        {
          "output_type": "execute_result",
          "data": {
            "text/plain": [
              "(159984,)"
            ]
          },
          "metadata": {
            "tags": []
          },
          "execution_count": 47
        }
      ]
    },
    {
      "cell_type": "code",
      "metadata": {
        "colab": {
          "base_uri": "https://localhost:8080/"
        },
        "id": "0u1uO3AVGmAU",
        "outputId": "0e90feda-c2a5-46ad-b961-83e6968f600d"
      },
      "source": [
        "y_val.shape"
      ],
      "execution_count": 48,
      "outputs": [
        {
          "output_type": "execute_result",
          "data": {
            "text/plain": [
              "(39997,)"
            ]
          },
          "metadata": {
            "tags": []
          },
          "execution_count": 48
        }
      ]
    },
    {
      "cell_type": "code",
      "metadata": {
        "id": "MVXAoQQnGrBP"
      },
      "source": [
        "class RegressionColumnarDataset(data.Dataset):\n",
        "    def __init__(self, df, cats, y):\n",
        "        \n",
        "        \n",
        "        self.dfcats = df[cats] #type: pandas.core.frame.DataFrame\n",
        "        self.dfconts = df.drop(cats, axis=1) #type: pandas.core.frame.DataFrame\n",
        "        \n",
        "        \n",
        "        self.cats = np.stack([c.values for n, c in self.dfcats.items()], axis=1).astype(np.int64) #tpye: numpy.ndarray\n",
        "        self.conts = np.stack([c.values for n, c in self.dfconts.items()], axis=1).astype(np.float32) #tpye: numpy.ndarray\n",
        "        self.y = y.values.astype(np.float32)\n",
        "        \n",
        "        \n",
        "    def __len__(self): return len(self.y)\n",
        "\n",
        "    def __getitem__(self, idx):\n",
        "        \n",
        "        return [self.cats[idx], self.conts[idx], self.y[idx]]"
      ],
      "execution_count": 49,
      "outputs": []
    },
    {
      "cell_type": "code",
      "metadata": {
        "id": "u3QNT81UGubm"
      },
      "source": [
        "trainds = RegressionColumnarDataset(X_train, cat_cols, y_train) #type: __main__.RegressionColumnarDataset\n",
        "valds = RegressionColumnarDataset(X_val, cat_cols, y_val) #type: __main__.RegressionColumnarDataset"
      ],
      "execution_count": 50,
      "outputs": []
    },
    {
      "cell_type": "code",
      "metadata": {
        "id": "SKwFqMbEGxlH"
      },
      "source": [
        "params = {'batch_size': 128,\n",
        "          'shuffle': True}\n",
        "\n",
        "\n",
        "traindl = DataLoader(trainds, **params) #type: torch.utils.data.dataloader.DataLoader\n",
        "valdl = DataLoader(valds, **params) #type: torch.utils.data.dataloader.DataLoader"
      ],
      "execution_count": 51,
      "outputs": []
    },
    {
      "cell_type": "markdown",
      "metadata": {
        "id": "jWjV4fFkG5Pl"
      },
      "source": [
        "#Tabular\n",
        "\n"
      ]
    },
    {
      "cell_type": "markdown",
      "metadata": {
        "id": "HZREVkXN2cTB"
      },
      "source": [
        "#Modified the hyperparameters for the pytorch model"
      ]
    },
    {
      "cell_type": "code",
      "metadata": {
        "id": "24DY2mFnG8gu"
      },
      "source": [
        "# help functions\n",
        "\n",
        "from collections.abc import Iterable\n",
        "\n",
        "\n",
        "def bn_drop_lin(n_in:int, n_out:int, bn:bool=True, p:float=0., actn=None):\n",
        "    \"Sequence of batchnorm (if `bn`), dropout (with `p`) and linear (`n_in`,`n_out`) layers followed by `actn`.\"\n",
        "    layers = [nn.BatchNorm1d(n_in)] if bn else []\n",
        "    if p != 0: layers.append(nn.Dropout(p))\n",
        "    layers.append(nn.Linear(n_in, n_out))\n",
        "    if actn is not None: layers.append(actn)\n",
        "    return layers\n",
        "\n",
        "def ifnone(a,b):\n",
        "    \"`a` if `a` is not None, otherwise `b`.\"\n",
        "    return b if a is None else a\n",
        "\n",
        "def listify(p, q):\n",
        "    \"Make `p` listy and the same length as `q`.\"\n",
        "    if p is None: p=[]\n",
        "    elif isinstance(p, str):          p = [p]\n",
        "    elif not isinstance(p, Iterable): p = [p]\n",
        "    #Rank 0 tensors in PyTorch are Iterable but don't have a length.\n",
        "    else:\n",
        "        try: a = len(p)\n",
        "        except: p = [p]\n",
        "    n = q if type(q)==int else len(p) if q is None else len(q)\n",
        "    if len(p)==1: p = p * n\n",
        "    assert len(p)==n, f'List len mismatch ({len(p)} vs {n})'\n",
        "    return list(p)\n",
        "\n",
        "              \n",
        "\n",
        "class TabularModel(nn.Module):\n",
        "    \"Basic model for tabular data.\"\n",
        "    def __init__(self, emb_szs, n_cont:int, out_sz:int, layers, ps=None,\n",
        "                 emb_drop:float=0., y_range=None, use_bn:bool=True, bn_final:bool=False):\n",
        "        super().__init__()\n",
        "        ps = ifnone(ps, [0]*len(layers))\n",
        "        ps = listify(ps, layers)\n",
        "        self.embeds = nn.ModuleList([nn.Embedding(ni, nf) for ni,nf in emb_szs]) #type: torch.nn.modules.container.ModuleList\n",
        "        self.emb_drop = nn.Dropout(emb_drop) #type: torch.nn.modules.dropout.Dropout\n",
        "        self.bn_cont = nn.BatchNorm1d(n_cont) #type torch.nn.modules.batchnorm.BatchNorm1d\n",
        "        n_emb = sum(e.embedding_dim for e in self.embeds) # n_emb = 17 , type: int\n",
        "        self.n_emb,self.n_cont,self.y_range = n_emb,n_cont,y_range\n",
        "        sizes = [n_emb + n_cont] + layers + [out_sz] #typeL list, len: 4\n",
        "        actns = [nn.ReLU(inplace=True) for _ in range(len(sizes)-2)] + [None] #type: list, len: 3.  the last in None because we finish with linear\n",
        "        layers = []\n",
        "        for i,(n_in,n_out,dp,act) in enumerate(zip(sizes[:-1],sizes[1:],[0.]+ps,actns)):\n",
        "            layers += bn_drop_lin(n_in, n_out, bn=use_bn and i!=0, p=dp, actn=act)\n",
        "        if bn_final: layers.append(nn.BatchNorm1d(sizes[-1]))\n",
        "        self.layers = nn.Sequential(*layers) #type: torch.nn.modules.container.Sequential\n",
        "        \n",
        "\n",
        "\n",
        "\n",
        "    def forward(self, x_cat, x_cont):\n",
        "        if self.n_emb != 0:\n",
        "            x = [e(x_cat[:,i]) for i,e in enumerate(self.embeds)] #take the embedding list and grab an embedding and pass in our single row of data.        \n",
        "            x = torch.cat(x, 1) # concatenate it on dim 1 ## remeber that the len is the batch size\n",
        "            x = self.emb_drop(x) # pass it through a dropout layer\n",
        "        if self.n_cont != 0:\n",
        "            x_cont = self.bn_cont(x_cont) # batchnorm1d\n",
        "            x = torch.cat([x, x_cont], 1) if self.n_emb != 0 else x_cont # combine the categircal and continous variables on dim 1\n",
        "        x = self.layers(x)\n",
        "        if self.y_range is not None:\n",
        "            x = (self.y_range[1]-self.y_range[0]) * torch.sigmoid(x) + self.y_range[0] # deal with y_range\n",
        "        return x.squeeze()"
      ],
      "execution_count": 52,
      "outputs": []
    },
    {
      "cell_type": "code",
      "metadata": {
        "colab": {
          "base_uri": "https://localhost:8080/"
        },
        "id": "_nsUHy3RHGlh",
        "outputId": "51391c6f-b73d-4dc8-d9fc-f1aa7c505bfe"
      },
      "source": [
        "torch.manual_seed(33)"
      ],
      "execution_count": 53,
      "outputs": [
        {
          "output_type": "execute_result",
          "data": {
            "text/plain": [
              "<torch._C.Generator at 0x7f443014b290>"
            ]
          },
          "metadata": {
            "tags": []
          },
          "execution_count": 53
        }
      ]
    },
    {
      "cell_type": "code",
      "metadata": {
        "colab": {
          "base_uri": "https://localhost:8080/"
        },
        "id": "yY-As2JOHKtt",
        "outputId": "c6a57ba5-b3ec-4f0e-c418-cf7797f7732e"
      },
      "source": [
        "y_range = (0, y_train.max()*1.2)\n",
        "y_range"
      ],
      "execution_count": 54,
      "outputs": [
        {
          "output_type": "execute_result",
          "data": {
            "text/plain": [
              "(0, 7.457529718106629)"
            ]
          },
          "metadata": {
            "tags": []
          },
          "execution_count": 54
        }
      ]
    },
    {
      "cell_type": "markdown",
      "metadata": {
        "id": "fU0EKMKP97jm"
      },
      "source": [
        "#Modified the layers "
      ]
    },
    {
      "cell_type": "code",
      "metadata": {
        "colab": {
          "base_uri": "https://localhost:8080/"
        },
        "id": "S1-lLOEDHNwV",
        "outputId": "f793b0cf-8934-4109-f8fe-0994a1f10f7d"
      },
      "source": [
        "model = TabularModel(emb_szs = emb_szs,n_cont = len(cont_cols),out_sz = 1,layers = [2000,1000,500],ps= [0.001,0.01,0.01],emb_drop=0.04, y_range=y_range).to(device)\n",
        "model"
      ],
      "execution_count": 55,
      "outputs": [
        {
          "output_type": "execute_result",
          "data": {
            "text/plain": [
              "TabularModel(\n",
              "  (embeds): ModuleList(\n",
              "    (0): Embedding(12, 6)\n",
              "    (1): Embedding(24, 12)\n",
              "    (2): Embedding(60, 30)\n",
              "    (3): Embedding(2, 1)\n",
              "    (4): Embedding(7, 4)\n",
              "  )\n",
              "  (emb_drop): Dropout(p=0.04, inplace=False)\n",
              "  (bn_cont): BatchNorm1d(6, eps=1e-05, momentum=0.1, affine=True, track_running_stats=True)\n",
              "  (layers): Sequential(\n",
              "    (0): Linear(in_features=59, out_features=2000, bias=True)\n",
              "    (1): ReLU(inplace=True)\n",
              "    (2): BatchNorm1d(2000, eps=1e-05, momentum=0.1, affine=True, track_running_stats=True)\n",
              "    (3): Dropout(p=0.001, inplace=False)\n",
              "    (4): Linear(in_features=2000, out_features=1000, bias=True)\n",
              "    (5): ReLU(inplace=True)\n",
              "    (6): BatchNorm1d(1000, eps=1e-05, momentum=0.1, affine=True, track_running_stats=True)\n",
              "    (7): Dropout(p=0.01, inplace=False)\n",
              "    (8): Linear(in_features=1000, out_features=500, bias=True)\n",
              "    (9): ReLU(inplace=True)\n",
              "    (10): BatchNorm1d(500, eps=1e-05, momentum=0.1, affine=True, track_running_stats=True)\n",
              "    (11): Dropout(p=0.01, inplace=False)\n",
              "    (12): Linear(in_features=500, out_features=1, bias=True)\n",
              "  )\n",
              ")"
            ]
          },
          "metadata": {
            "tags": []
          },
          "execution_count": 55
        }
      ]
    },
    {
      "cell_type": "markdown",
      "metadata": {
        "id": "MqEp0fO2HR-z"
      },
      "source": [
        "#optimizer\n"
      ]
    },
    {
      "cell_type": "code",
      "metadata": {
        "id": "dDIguRAsHVtW"
      },
      "source": [
        "from collections import defaultdict\n",
        "opt = torch.optim.Adam(model.parameters(), lr=1e-2) # can add: weight_decay=\n",
        "#lr_cosine = lr_scheduler.CosineAnnealingLR(opt,T_max = 350) #1000 ## if you want to add lr_cosine\n",
        "\n",
        "\n",
        "\n",
        "lr = defaultdict(list)\n",
        "tloss = defaultdict(list)\n",
        "vloss = defaultdict(list)"
      ],
      "execution_count": 56,
      "outputs": []
    },
    {
      "cell_type": "code",
      "metadata": {
        "id": "JrIpATQuHaEE"
      },
      "source": [
        "def inv_y(y): return np.exp(y)\n",
        "\n",
        "def rmse(targ, y_pred):\n",
        "    return np.sqrt(mean_squared_error(inv_y(y_pred), inv_y(targ))) #.detach().numpy()\n",
        "    \n",
        "\n",
        "def rmse(targ, y_pred):\n",
        "   return np.sqrt(mean_squared_error(y_pred, targ)) #.detach().numpy()\n",
        "\n",
        "\n",
        "#def fit(model, train_dl, val_dl, loss_fn, opt, scheduler, epochs=3): ## if you want to add schedular\n",
        "def fit(model, train_dl, val_dl, loss_fn, opt, epochs=3):\n",
        "    num_batch = len(train_dl)\n",
        "    for epoch in tnrange(epochs):      \n",
        "        y_true_train = list()\n",
        "        y_pred_train = list()\n",
        "        total_loss_train = 0          \n",
        "        \n",
        "        t = tqdm_notebook(iter(train_dl), leave=False, total=num_batch)\n",
        "        for cat, cont, y in t:\n",
        "            cat = cat.cuda()\n",
        "            cont = cont.cuda()\n",
        "            y = y.cuda()\n",
        "            \n",
        "            t.set_description(f'Epoch {epoch}')\n",
        "            \n",
        "            opt.zero_grad() #find where the grads are zero\n",
        "            pred = model(cat, cont)\n",
        "            loss = loss_fn(pred, y)\n",
        "            \n",
        "            loss.backward() # do backprop\n",
        "            lr[epoch].append(opt.param_groups[0]['lr'])\n",
        "            tloss[epoch].append(loss.item())\n",
        "            opt.step()\n",
        "            #scheduler.step()\n",
        "            \n",
        "            \n",
        "            t.set_postfix(loss=loss.item())\n",
        "            \n",
        "            y_true_train += list(y.cpu().data.numpy())\n",
        "            y_pred_train += list(pred.cpu().data.numpy())\n",
        "            total_loss_train += loss.item()\n",
        "            \n",
        "        train_acc = rmse(y_true_train, y_pred_train)\n",
        "        train_loss = total_loss_train/len(train_dl) # len train_dl = 704. the calc is number of train examples (89991) / batch size (128)\n",
        "        \n",
        "        if val_dl:\n",
        "            y_true_val = list()\n",
        "            y_pred_val = list()\n",
        "            total_loss_val = 0\n",
        "            for cat, cont, y in tqdm_notebook(val_dl, leave=False):\n",
        "                cat = cat.cuda()\n",
        "                cont = cont.cuda()\n",
        "                y = y.cuda()\n",
        "                pred = model(cat, cont)\n",
        "                loss = loss_fn(pred, y)\n",
        "                \n",
        "                y_true_val += list(y.cpu().data.numpy())\n",
        "                y_pred_val += list(pred.cpu().data.numpy())\n",
        "                total_loss_val += loss.item()\n",
        "                vloss[epoch].append(loss.item())\n",
        "            valacc = rmse(y_true_val, y_pred_val)\n",
        "            valloss = total_loss_val/len(valdl)\n",
        "            print(f'Epoch {epoch}: train_loss: {train_loss:.4f} train_rmse: {train_acc:.4f} | val_loss: {valloss:.4f} val_rmse: {valacc:.4f}')\n",
        "        else:\n",
        "            print(f'Epoch {epoch}: train_loss: {train_loss:.4f} train_rmse: {train_acc:.4f}')\n",
        "    \n",
        "    return lr, tloss, vloss"
      ],
      "execution_count": 57,
      "outputs": []
    },
    {
      "cell_type": "code",
      "metadata": {
        "colab": {
          "base_uri": "https://localhost:8080/"
        },
        "id": "51mJKR9iHvpH",
        "outputId": "12aface9-5b7b-44c3-ca23-3a3e30e13ee3"
      },
      "source": [
        "# load tqdm\n",
        "#!pip install --force https://github.com/chengs/tqdm/archive/colab.zip\n",
        "from tqdm import tqdm, tqdm_notebook, tnrange\n",
        "\n",
        "device = torch.device(\"cuda:0\" if torch.cuda.is_available() else \"cpu\")\n",
        "device"
      ],
      "execution_count": 58,
      "outputs": [
        {
          "output_type": "execute_result",
          "data": {
            "text/plain": [
              "device(type='cuda', index=0)"
            ]
          },
          "metadata": {
            "tags": []
          },
          "execution_count": 58
        }
      ]
    },
    {
      "cell_type": "code",
      "metadata": {
        "colab": {
          "base_uri": "https://localhost:8080/",
          "height": 1000,
          "referenced_widgets": [
            "d91a6af23ad740639ff8d135d8740c64",
            "2a640464541f43c5991292f517acb3df",
            "0d0556a1018b440d9a5343abfd664875",
            "8d1cd9e1bd7c40bd9db48cb401a5bf6d",
            "33fff09cf16946a6ac24c5b1e605b61c",
            "5a1e6767df6d49548509dd1806834e1d",
            "b7c1c84674b549969ab792d68e440427",
            "a0c50306a28c49e3b94131fcb8f3ea28",
            "4ac9367a437a4f42882756edbb3daa0d",
            "b7f14d01d5a4410eb82189f2dbc66f2f",
            "123c27d14b554b76885cd1b019adc958",
            "fc0a0e8b67974a3187d151f1b20b1963",
            "dce1fa27af17488d8c44bc61df25890a",
            "3dabf0949c8149d9970f08f9fcc2b8c7",
            "bd27f636af9649b291cfda0dcdb914cb",
            "94d7d0182b974db1b1bc0bbaaf8591ea",
            "8472655733a542b4a53ce43f8c1e53a7",
            "4bc0214e1373428b9cbbd2173c6293a7",
            "5045b2e4921747fd85a0338c59ecbcf5",
            "d000351a84ac497f872d4b3f5c18b6c9",
            "630089d4c92e4ee39a9e7e7a96329832",
            "763f2a0ce72b4b0ca608acd90dd7a0ca",
            "f2521877631e403ba0075e0052b51852",
            "cd8444338c514ffc96aba8ed5b0dc4f2",
            "bb1203f4b9af4cfdaf543dd520d23c60",
            "2015b1b58dd04488badf26e2b8c4ba90",
            "cca6cb8ee2834c95bb23cb6e208f6747",
            "c300f209888c44b7a184564f224a562d",
            "1c9ea46dbe7d47689959f46d16c737d6",
            "234da075e37b4f91b1a1104777950c8e",
            "4dcc0be6125345e7b3f9f45d6bba96f2",
            "7a7a1f471d974680a15d1def4184d1c6",
            "f3e5da788efc491395ba99bd669c6720",
            "1b78b9a1d7ff411eb29aaa4083db77b6",
            "dca009fcbea04cc3b8da2144df5387d8",
            "04cc663c61cc492eaf8a70854157be31",
            "7e675877fa2b4874b5679ed81a92de98",
            "583c276b61da4f1f842c2f7293e3539b",
            "d3df642ebd2b4d6882797bc4777fef17",
            "9e2dffe6bc194177a5e167c4d9efd469",
            "89f00a591a054d11a2ab02e7146a1ac2",
            "8288e01bc8f74ca58e8f868ac14ead77",
            "d98062504a6b4055a636721c7a117144",
            "f821484513b74270bf6f7510a32472ec",
            "ea02857ead7046889fc9c0e2ffeef18c",
            "52ccd6be768942649c6481f8c0550d0d",
            "9d8cbd68d7f146e4b251632a50f5b6b8",
            "b65520e2081542d1b4f641840c8b9261",
            "0369e34243a746b3a6ab0b679d1cb5ae",
            "ca27d2a1d35248aca8f450ac5597c1c9",
            "fcfa49ff357249b496fb6a01de44649a",
            "7e885b49174e4808affb703a8efa3acb",
            "5bc9eef1aa6748679a7ce7b4b941cb62",
            "957918a750394e8585c39992142b0ae4",
            "7ca23c4a576b4b929a5f5d6f727ec7fc",
            "d144bafaf79f4060ada87cd7f1b770de",
            "dfe8e6794a9e499bac50d9e2c79e8770",
            "363c58ecef5e4565964f29f735da0812",
            "99ba7e512f8c45829f650f2e600ca05b",
            "5a8953822a9a467a8bcdb21999586286",
            "4f0c270bcf92479f963d0c2d557fa25e",
            "e111347fd98a46a58c78f8be78d59d47",
            "e7432ecd55b544c2b0b37c98c295473e",
            "e613aad61bbd47f284ace63335dc5e66",
            "817d2dabd67d4286a6d84c6c211185de",
            "6e7c13d25d95484b90927014465b7b8e",
            "701ba3ce1afa4444a5cfebb7f7943666",
            "f4fc4bb85fe54628bca3ac798df27cfa",
            "e629251ad7c74f4fbdf4407dab2320f7",
            "d29493ec00c847e188311fdcb2cfe9cd",
            "74ace533169240a7b5f626af231d0c29",
            "3fa3bdaab74f4e91a2b6adda41191b4e",
            "c6f52cfb924749b2a410d5d0f6fa6fe5",
            "8eb34480e87c49caa3b8beab824e02c1",
            "75e63599cfab40ef9dbd0b3aa2409b99",
            "7ea6f6bfc1a44cbb8bfec09912c7cce4",
            "11b65013382e45a29ad19382c067a2aa",
            "0c046cb75c7146698fb9bdc5a34368d0",
            "33d7be965566498e94756f8d4addab8f",
            "5b506a9e4ab546499a7b7d80d4879ee6",
            "18339870d6ae47f8aff78cc590aec1cc",
            "f997b7cba5f04426a55a6976d98c079b",
            "9446c7118ef94956a25a47f140531654",
            "f9e2159df73d4a1e9056f4ec578c8640",
            "08683bea2ed2426098490ad4b7c08f2e",
            "c793258606ad4ce3b980a088011cb4b7",
            "b5805d2a6ccd44b69db7afdd5526a390",
            "97ab0bd0b9a94ddc87ef620900cff572",
            "7e63f75bed504d34a6e5ad9f86d98289",
            "55aa107d3d3c473bb1209bc67a4aceb4",
            "082c15acef954cda8d4b21eac94d8712",
            "3f040509387548c3b7fae6f774d982a6",
            "1202176ee58f4b8e95ca76f8311b01e4",
            "47713235c7a143b5a3c0494a743aaf41",
            "41a67eb6836e4a14813339e9303525c1",
            "39aed5e010114de2803655ec6be00d61",
            "23fd04763dc34ce7ac1df782395df0c9",
            "41a4d6b55bee4c218617f86455e2f5c8",
            "fe6608d2c4b84b66af8b2109e9397994",
            "285d3c3e817f4b039b6436addf86cd32",
            "b81b83b8340446818fbdb0edbc78ef02",
            "36639829e05e476b93c883257cac30ae",
            "580cdcc8efc540c594548e2b92eba661",
            "50d2414b91ee4332b735b1fa39bc6a55",
            "945a51134f8241b392d0b264bc8975b3",
            "3ef21d62e6b9401fac207d1309478402",
            "5504805e79e04872a0385a1339ea6dcb",
            "827911cbf1574bf3b80140db3e4c4115",
            "2bb5f7ff39d9461499b16c6337f89ed6",
            "435e85fbaabc4441a93bbcfe629ae8cb",
            "2bf26dc2ab8a4c2fbd1998fbd8f301b2",
            "b5664237bb6240418a3babc46963584e",
            "a9e97e647fc04d0aaa050e958bc9cce7",
            "9367471fd2a34b6a8905f01424800895",
            "c12da1cac0904630a162546645ce276e",
            "2f5cb5c096b04639b34196c3c3977972",
            "c99c3c6ac0634fa3b9215b892ec4c947",
            "e917844d50c94091a82ac3d81f4002d8",
            "7136ab6b8d264a1e842828c1efb4e002",
            "13114615bd744bee8e5a23070a18f6df",
            "44b4a05d6c6b4fbf8fe14ad9eccb7451",
            "2f0a379bcc754db99116528dc82c4d74",
            "29f59f888d5d4710983153bad8b96323",
            "74a29987ae2d46aa9e0392372360d4db",
            "c758538d74b64e97999315babcfd86bc",
            "ce532dd456334f709bb53b95964aa2be",
            "7d6337f64c384fa8a03e3c93af3bbdbd",
            "b6659f674e684de5908471c0fbb45f77",
            "ec9775041df74c92a204e94b3f6f8cee",
            "410e69c587104f6fbe26c1ebb6a3c7cc",
            "c800a38089ae416a9f01919201eac534",
            "b20c6f9a278b42a496066172716df8fc",
            "35860545071e44d6a53ccbbee349e344",
            "20e19acbfe9e4daba4440463f7245de2",
            "169bc274cd694560a574fcc86ee62c65",
            "f97a49ede6034ceb91ad33d23de7cc5d",
            "132a2a8b73894da4a96c7bb5c9f42768",
            "31308cc53a6a46eca6e7df3120dde16a",
            "53c31fab339b4a17b376d32266375307",
            "331101412ae544f78c41efe85e93b6f6",
            "4b00d826ebc54dc79eebff6fe261732c",
            "73422dcd65034c9d8ea9b623adfb375e",
            "3db7e07cbe88423aa65475893eab733a",
            "80a5d53b82474c07a7ac633addabb48e",
            "b03bb020fbc647fb953315ff31b0c32f",
            "9bf8b73e3844402b88c7cf5dfd9e1e65",
            "a0ca06da28c94701b893fd3fee229734",
            "a461e485725c46eaa6ba38138caf31a3",
            "3d8d8c349ab6499c807bbb8d48c03554",
            "6085dfa9753c450890a113004683becc",
            "c967a844b9634ff5b0c4dbb6745a1314",
            "8b881a6e76fc407e9c06cabd37a587da",
            "fcc7ead373f84a4ea9dc46eebcbce990",
            "58dbcd67e49f4eb2bb5fcd16b75bb316",
            "db1e3a602d864299ae7429fd25849de3",
            "bcf96055cd6d4cb6a2fa15d3caca2415",
            "71564d80172c4502857c1c48ff606501",
            "4247be80c394423d98c5d704d7a2e035",
            "0481f19e1b124fa79c5c95a53216b4bd",
            "865c5e2567884cd89871a3453b9d273f",
            "9097c50b61024a6eab850128d2948ae0",
            "fc8383dd4a814b9e892c0b0eec9ce2bd",
            "e7235c5df9144d5fab65c9051099f28f",
            "4e3f682e773d42bc984651593b33f014",
            "fb2b2f6c4ca14ff2a67ee7649cdd93a1",
            "bea692fe733c4cad83cc0d0066e65239",
            "b6edf6c44a2946a1a1c471e5dbc9792d",
            "bb5f082e56bc401ba4b501c520bbb7f2"
          ]
        },
        "id": "pd17uxRiHhXc",
        "outputId": "8c9cd797-8b69-4892-c2af-1380305f48a2"
      },
      "source": [
        "#if you want to add lr_cosine\n",
        "#lr, tloss, vloss = fit(model=model, train_dl=traindl, val_dl=valdl, loss_fn=nn.MSELoss(), opt=opt, scheduler=lr_cosine, epochs=10)\n",
        "\n",
        "\n",
        "lr, tloss, vloss = fit(model=model, train_dl=traindl, val_dl=valdl, loss_fn=nn.MSELoss(), opt=opt,  epochs=10)\n",
        "\n",
        "#jagruti this shows training loss decreased after adding our changes to implement two new features"
      ],
      "execution_count": 59,
      "outputs": [
        {
          "output_type": "stream",
          "text": [
            "/usr/local/lib/python3.7/dist-packages/ipykernel_launcher.py:14: TqdmDeprecationWarning:\n",
            "\n",
            "Please use `tqdm.notebook.trange` instead of `tqdm.tnrange`\n",
            "\n"
          ],
          "name": "stderr"
        },
        {
          "output_type": "display_data",
          "data": {
            "application/vnd.jupyter.widget-view+json": {
              "model_id": "d91a6af23ad740639ff8d135d8740c64",
              "version_minor": 0,
              "version_major": 2
            },
            "text/plain": [
              "HBox(children=(FloatProgress(value=0.0, max=10.0), HTML(value='')))"
            ]
          },
          "metadata": {
            "tags": []
          }
        },
        {
          "output_type": "stream",
          "text": [
            "/usr/local/lib/python3.7/dist-packages/ipykernel_launcher.py:19: TqdmDeprecationWarning:\n",
            "\n",
            "This function will be removed in tqdm==5.0.0\n",
            "Please use `tqdm.notebook.tqdm` instead of `tqdm.tqdm_notebook`\n",
            "\n"
          ],
          "name": "stderr"
        },
        {
          "output_type": "display_data",
          "data": {
            "application/vnd.jupyter.widget-view+json": {
              "model_id": "4ac9367a437a4f42882756edbb3daa0d",
              "version_minor": 0,
              "version_major": 2
            },
            "text/plain": [
              "HBox(children=(FloatProgress(value=0.0, max=1250.0), HTML(value='')))"
            ]
          },
          "metadata": {
            "tags": []
          }
        },
        {
          "output_type": "stream",
          "text": [
            "/usr/local/lib/python3.7/dist-packages/ipykernel_launcher.py:51: TqdmDeprecationWarning:\n",
            "\n",
            "This function will be removed in tqdm==5.0.0\n",
            "Please use `tqdm.notebook.tqdm` instead of `tqdm.tqdm_notebook`\n",
            "\n"
          ],
          "name": "stderr"
        },
        {
          "output_type": "display_data",
          "data": {
            "application/vnd.jupyter.widget-view+json": {
              "model_id": "8472655733a542b4a53ce43f8c1e53a7",
              "version_minor": 0,
              "version_major": 2
            },
            "text/plain": [
              "HBox(children=(FloatProgress(value=0.0, max=313.0), HTML(value='')))"
            ]
          },
          "metadata": {
            "tags": []
          }
        },
        {
          "output_type": "stream",
          "text": [
            "Epoch 0: train_loss: 0.5488 train_rmse: 0.7408 | val_loss: 0.4123 val_rmse: 0.6420\n"
          ],
          "name": "stdout"
        },
        {
          "output_type": "stream",
          "text": [
            "/usr/local/lib/python3.7/dist-packages/ipykernel_launcher.py:19: TqdmDeprecationWarning:\n",
            "\n",
            "This function will be removed in tqdm==5.0.0\n",
            "Please use `tqdm.notebook.tqdm` instead of `tqdm.tqdm_notebook`\n",
            "\n"
          ],
          "name": "stderr"
        },
        {
          "output_type": "display_data",
          "data": {
            "application/vnd.jupyter.widget-view+json": {
              "model_id": "bb1203f4b9af4cfdaf543dd520d23c60",
              "version_minor": 0,
              "version_major": 2
            },
            "text/plain": [
              "HBox(children=(FloatProgress(value=0.0, max=1250.0), HTML(value='')))"
            ]
          },
          "metadata": {
            "tags": []
          }
        },
        {
          "output_type": "stream",
          "text": [
            "/usr/local/lib/python3.7/dist-packages/ipykernel_launcher.py:51: TqdmDeprecationWarning:\n",
            "\n",
            "This function will be removed in tqdm==5.0.0\n",
            "Please use `tqdm.notebook.tqdm` instead of `tqdm.tqdm_notebook`\n",
            "\n"
          ],
          "name": "stderr"
        },
        {
          "output_type": "display_data",
          "data": {
            "application/vnd.jupyter.widget-view+json": {
              "model_id": "f3e5da788efc491395ba99bd669c6720",
              "version_minor": 0,
              "version_major": 2
            },
            "text/plain": [
              "HBox(children=(FloatProgress(value=0.0, max=313.0), HTML(value='')))"
            ]
          },
          "metadata": {
            "tags": []
          }
        },
        {
          "output_type": "stream",
          "text": [
            "Epoch 1: train_loss: 0.3720 train_rmse: 0.6099 | val_loss: 0.3649 val_rmse: 0.6041\n"
          ],
          "name": "stdout"
        },
        {
          "output_type": "stream",
          "text": [
            "/usr/local/lib/python3.7/dist-packages/ipykernel_launcher.py:19: TqdmDeprecationWarning:\n",
            "\n",
            "This function will be removed in tqdm==5.0.0\n",
            "Please use `tqdm.notebook.tqdm` instead of `tqdm.tqdm_notebook`\n",
            "\n"
          ],
          "name": "stderr"
        },
        {
          "output_type": "display_data",
          "data": {
            "application/vnd.jupyter.widget-view+json": {
              "model_id": "89f00a591a054d11a2ab02e7146a1ac2",
              "version_minor": 0,
              "version_major": 2
            },
            "text/plain": [
              "HBox(children=(FloatProgress(value=0.0, max=1250.0), HTML(value='')))"
            ]
          },
          "metadata": {
            "tags": []
          }
        },
        {
          "output_type": "stream",
          "text": [
            "/usr/local/lib/python3.7/dist-packages/ipykernel_launcher.py:51: TqdmDeprecationWarning:\n",
            "\n",
            "This function will be removed in tqdm==5.0.0\n",
            "Please use `tqdm.notebook.tqdm` instead of `tqdm.tqdm_notebook`\n",
            "\n"
          ],
          "name": "stderr"
        },
        {
          "output_type": "display_data",
          "data": {
            "application/vnd.jupyter.widget-view+json": {
              "model_id": "0369e34243a746b3a6ab0b679d1cb5ae",
              "version_minor": 0,
              "version_major": 2
            },
            "text/plain": [
              "HBox(children=(FloatProgress(value=0.0, max=313.0), HTML(value='')))"
            ]
          },
          "metadata": {
            "tags": []
          }
        },
        {
          "output_type": "stream",
          "text": [
            "Epoch 2: train_loss: 0.3643 train_rmse: 0.6036 | val_loss: 0.3623 val_rmse: 0.6017\n"
          ],
          "name": "stdout"
        },
        {
          "output_type": "stream",
          "text": [
            "/usr/local/lib/python3.7/dist-packages/ipykernel_launcher.py:19: TqdmDeprecationWarning:\n",
            "\n",
            "This function will be removed in tqdm==5.0.0\n",
            "Please use `tqdm.notebook.tqdm` instead of `tqdm.tqdm_notebook`\n",
            "\n"
          ],
          "name": "stderr"
        },
        {
          "output_type": "display_data",
          "data": {
            "application/vnd.jupyter.widget-view+json": {
              "model_id": "dfe8e6794a9e499bac50d9e2c79e8770",
              "version_minor": 0,
              "version_major": 2
            },
            "text/plain": [
              "HBox(children=(FloatProgress(value=0.0, max=1250.0), HTML(value='')))"
            ]
          },
          "metadata": {
            "tags": []
          }
        },
        {
          "output_type": "stream",
          "text": [
            "/usr/local/lib/python3.7/dist-packages/ipykernel_launcher.py:51: TqdmDeprecationWarning:\n",
            "\n",
            "This function will be removed in tqdm==5.0.0\n",
            "Please use `tqdm.notebook.tqdm` instead of `tqdm.tqdm_notebook`\n",
            "\n"
          ],
          "name": "stderr"
        },
        {
          "output_type": "display_data",
          "data": {
            "application/vnd.jupyter.widget-view+json": {
              "model_id": "817d2dabd67d4286a6d84c6c211185de",
              "version_minor": 0,
              "version_major": 2
            },
            "text/plain": [
              "HBox(children=(FloatProgress(value=0.0, max=313.0), HTML(value='')))"
            ]
          },
          "metadata": {
            "tags": []
          }
        },
        {
          "output_type": "stream",
          "text": [
            "Epoch 3: train_loss: 0.3632 train_rmse: 0.6026 | val_loss: 0.3616 val_rmse: 0.6014\n"
          ],
          "name": "stdout"
        },
        {
          "output_type": "stream",
          "text": [
            "/usr/local/lib/python3.7/dist-packages/ipykernel_launcher.py:19: TqdmDeprecationWarning:\n",
            "\n",
            "This function will be removed in tqdm==5.0.0\n",
            "Please use `tqdm.notebook.tqdm` instead of `tqdm.tqdm_notebook`\n",
            "\n"
          ],
          "name": "stderr"
        },
        {
          "output_type": "display_data",
          "data": {
            "application/vnd.jupyter.widget-view+json": {
              "model_id": "c6f52cfb924749b2a410d5d0f6fa6fe5",
              "version_minor": 0,
              "version_major": 2
            },
            "text/plain": [
              "HBox(children=(FloatProgress(value=0.0, max=1250.0), HTML(value='')))"
            ]
          },
          "metadata": {
            "tags": []
          }
        },
        {
          "output_type": "stream",
          "text": [
            "/usr/local/lib/python3.7/dist-packages/ipykernel_launcher.py:51: TqdmDeprecationWarning:\n",
            "\n",
            "This function will be removed in tqdm==5.0.0\n",
            "Please use `tqdm.notebook.tqdm` instead of `tqdm.tqdm_notebook`\n",
            "\n"
          ],
          "name": "stderr"
        },
        {
          "output_type": "display_data",
          "data": {
            "application/vnd.jupyter.widget-view+json": {
              "model_id": "18339870d6ae47f8aff78cc590aec1cc",
              "version_minor": 0,
              "version_major": 2
            },
            "text/plain": [
              "HBox(children=(FloatProgress(value=0.0, max=313.0), HTML(value='')))"
            ]
          },
          "metadata": {
            "tags": []
          }
        },
        {
          "output_type": "stream",
          "text": [
            "Epoch 4: train_loss: 0.3634 train_rmse: 0.6028 | val_loss: 0.3618 val_rmse: 0.6015\n"
          ],
          "name": "stdout"
        },
        {
          "output_type": "stream",
          "text": [
            "/usr/local/lib/python3.7/dist-packages/ipykernel_launcher.py:19: TqdmDeprecationWarning:\n",
            "\n",
            "This function will be removed in tqdm==5.0.0\n",
            "Please use `tqdm.notebook.tqdm` instead of `tqdm.tqdm_notebook`\n",
            "\n"
          ],
          "name": "stderr"
        },
        {
          "output_type": "display_data",
          "data": {
            "application/vnd.jupyter.widget-view+json": {
              "model_id": "7e63f75bed504d34a6e5ad9f86d98289",
              "version_minor": 0,
              "version_major": 2
            },
            "text/plain": [
              "HBox(children=(FloatProgress(value=0.0, max=1250.0), HTML(value='')))"
            ]
          },
          "metadata": {
            "tags": []
          }
        },
        {
          "output_type": "stream",
          "text": [
            "/usr/local/lib/python3.7/dist-packages/ipykernel_launcher.py:51: TqdmDeprecationWarning:\n",
            "\n",
            "This function will be removed in tqdm==5.0.0\n",
            "Please use `tqdm.notebook.tqdm` instead of `tqdm.tqdm_notebook`\n",
            "\n"
          ],
          "name": "stderr"
        },
        {
          "output_type": "display_data",
          "data": {
            "application/vnd.jupyter.widget-view+json": {
              "model_id": "23fd04763dc34ce7ac1df782395df0c9",
              "version_minor": 0,
              "version_major": 2
            },
            "text/plain": [
              "HBox(children=(FloatProgress(value=0.0, max=313.0), HTML(value='')))"
            ]
          },
          "metadata": {
            "tags": []
          }
        },
        {
          "output_type": "stream",
          "text": [
            "Epoch 5: train_loss: 0.3643 train_rmse: 0.6036 | val_loss: 0.3628 val_rmse: 0.6024\n"
          ],
          "name": "stdout"
        },
        {
          "output_type": "stream",
          "text": [
            "/usr/local/lib/python3.7/dist-packages/ipykernel_launcher.py:19: TqdmDeprecationWarning:\n",
            "\n",
            "This function will be removed in tqdm==5.0.0\n",
            "Please use `tqdm.notebook.tqdm` instead of `tqdm.tqdm_notebook`\n",
            "\n"
          ],
          "name": "stderr"
        },
        {
          "output_type": "display_data",
          "data": {
            "application/vnd.jupyter.widget-view+json": {
              "model_id": "945a51134f8241b392d0b264bc8975b3",
              "version_minor": 0,
              "version_major": 2
            },
            "text/plain": [
              "HBox(children=(FloatProgress(value=0.0, max=1250.0), HTML(value='')))"
            ]
          },
          "metadata": {
            "tags": []
          }
        },
        {
          "output_type": "stream",
          "text": [
            "/usr/local/lib/python3.7/dist-packages/ipykernel_launcher.py:51: TqdmDeprecationWarning:\n",
            "\n",
            "This function will be removed in tqdm==5.0.0\n",
            "Please use `tqdm.notebook.tqdm` instead of `tqdm.tqdm_notebook`\n",
            "\n"
          ],
          "name": "stderr"
        },
        {
          "output_type": "display_data",
          "data": {
            "application/vnd.jupyter.widget-view+json": {
              "model_id": "a9e97e647fc04d0aaa050e958bc9cce7",
              "version_minor": 0,
              "version_major": 2
            },
            "text/plain": [
              "HBox(children=(FloatProgress(value=0.0, max=313.0), HTML(value='')))"
            ]
          },
          "metadata": {
            "tags": []
          }
        },
        {
          "output_type": "stream",
          "text": [
            "Epoch 6: train_loss: 0.3648 train_rmse: 0.6040 | val_loss: 0.3645 val_rmse: 0.6036\n"
          ],
          "name": "stdout"
        },
        {
          "output_type": "stream",
          "text": [
            "/usr/local/lib/python3.7/dist-packages/ipykernel_launcher.py:19: TqdmDeprecationWarning:\n",
            "\n",
            "This function will be removed in tqdm==5.0.0\n",
            "Please use `tqdm.notebook.tqdm` instead of `tqdm.tqdm_notebook`\n",
            "\n"
          ],
          "name": "stderr"
        },
        {
          "output_type": "display_data",
          "data": {
            "application/vnd.jupyter.widget-view+json": {
              "model_id": "44b4a05d6c6b4fbf8fe14ad9eccb7451",
              "version_minor": 0,
              "version_major": 2
            },
            "text/plain": [
              "HBox(children=(FloatProgress(value=0.0, max=1250.0), HTML(value='')))"
            ]
          },
          "metadata": {
            "tags": []
          }
        },
        {
          "output_type": "stream",
          "text": [
            "/usr/local/lib/python3.7/dist-packages/ipykernel_launcher.py:51: TqdmDeprecationWarning:\n",
            "\n",
            "This function will be removed in tqdm==5.0.0\n",
            "Please use `tqdm.notebook.tqdm` instead of `tqdm.tqdm_notebook`\n",
            "\n"
          ],
          "name": "stderr"
        },
        {
          "output_type": "display_data",
          "data": {
            "application/vnd.jupyter.widget-view+json": {
              "model_id": "ec9775041df74c92a204e94b3f6f8cee",
              "version_minor": 0,
              "version_major": 2
            },
            "text/plain": [
              "HBox(children=(FloatProgress(value=0.0, max=313.0), HTML(value='')))"
            ]
          },
          "metadata": {
            "tags": []
          }
        },
        {
          "output_type": "stream",
          "text": [
            "Epoch 7: train_loss: 0.3656 train_rmse: 0.6047 | val_loss: 0.3625 val_rmse: 0.6020\n"
          ],
          "name": "stdout"
        },
        {
          "output_type": "stream",
          "text": [
            "/usr/local/lib/python3.7/dist-packages/ipykernel_launcher.py:19: TqdmDeprecationWarning:\n",
            "\n",
            "This function will be removed in tqdm==5.0.0\n",
            "Please use `tqdm.notebook.tqdm` instead of `tqdm.tqdm_notebook`\n",
            "\n"
          ],
          "name": "stderr"
        },
        {
          "output_type": "display_data",
          "data": {
            "application/vnd.jupyter.widget-view+json": {
              "model_id": "132a2a8b73894da4a96c7bb5c9f42768",
              "version_minor": 0,
              "version_major": 2
            },
            "text/plain": [
              "HBox(children=(FloatProgress(value=0.0, max=1250.0), HTML(value='')))"
            ]
          },
          "metadata": {
            "tags": []
          }
        },
        {
          "output_type": "stream",
          "text": [
            "/usr/local/lib/python3.7/dist-packages/ipykernel_launcher.py:51: TqdmDeprecationWarning:\n",
            "\n",
            "This function will be removed in tqdm==5.0.0\n",
            "Please use `tqdm.notebook.tqdm` instead of `tqdm.tqdm_notebook`\n",
            "\n"
          ],
          "name": "stderr"
        },
        {
          "output_type": "display_data",
          "data": {
            "application/vnd.jupyter.widget-view+json": {
              "model_id": "b03bb020fbc647fb953315ff31b0c32f",
              "version_minor": 0,
              "version_major": 2
            },
            "text/plain": [
              "HBox(children=(FloatProgress(value=0.0, max=313.0), HTML(value='')))"
            ]
          },
          "metadata": {
            "tags": []
          }
        },
        {
          "output_type": "stream",
          "text": [
            "Epoch 8: train_loss: 0.3654 train_rmse: 0.6045 | val_loss: 0.3639 val_rmse: 0.6031\n"
          ],
          "name": "stdout"
        },
        {
          "output_type": "stream",
          "text": [
            "/usr/local/lib/python3.7/dist-packages/ipykernel_launcher.py:19: TqdmDeprecationWarning:\n",
            "\n",
            "This function will be removed in tqdm==5.0.0\n",
            "Please use `tqdm.notebook.tqdm` instead of `tqdm.tqdm_notebook`\n",
            "\n"
          ],
          "name": "stderr"
        },
        {
          "output_type": "display_data",
          "data": {
            "application/vnd.jupyter.widget-view+json": {
              "model_id": "fcc7ead373f84a4ea9dc46eebcbce990",
              "version_minor": 0,
              "version_major": 2
            },
            "text/plain": [
              "HBox(children=(FloatProgress(value=0.0, max=1250.0), HTML(value='')))"
            ]
          },
          "metadata": {
            "tags": []
          }
        },
        {
          "output_type": "stream",
          "text": [
            "/usr/local/lib/python3.7/dist-packages/ipykernel_launcher.py:51: TqdmDeprecationWarning:\n",
            "\n",
            "This function will be removed in tqdm==5.0.0\n",
            "Please use `tqdm.notebook.tqdm` instead of `tqdm.tqdm_notebook`\n",
            "\n"
          ],
          "name": "stderr"
        },
        {
          "output_type": "display_data",
          "data": {
            "application/vnd.jupyter.widget-view+json": {
              "model_id": "9097c50b61024a6eab850128d2948ae0",
              "version_minor": 0,
              "version_major": 2
            },
            "text/plain": [
              "HBox(children=(FloatProgress(value=0.0, max=313.0), HTML(value='')))"
            ]
          },
          "metadata": {
            "tags": []
          }
        },
        {
          "output_type": "stream",
          "text": [
            "Epoch 9: train_loss: 0.3668 train_rmse: 0.6057 | val_loss: 0.3631 val_rmse: 0.6026\n",
            "\n"
          ],
          "name": "stdout"
        }
      ]
    },
    {
      "cell_type": "code",
      "metadata": {
        "colab": {
          "base_uri": "https://localhost:8080/",
          "height": 281
        },
        "id": "rS9_2zbaKRaa",
        "outputId": "b0f3b363-d487-44c6-af97-4ca5217a5168"
      },
      "source": [
        "#Plot the Learning rate\n",
        "import matplotlib.pyplot as plt\n",
        "_ = plt.plot(lr[0])\n",
        "_ = plt.title('LR over Epoch (Epoch 0)')"
      ],
      "execution_count": 60,
      "outputs": [
        {
          "output_type": "display_data",
          "data": {
            "image/png": "[encoded data removed]",
            "text/plain": [
              "<Figure size 432x288 with 1 Axes>"
            ]
          },
          "metadata": {
            "tags": [],
            "needs_background": "light"
          }
        }
      ]
    },
    {
      "cell_type": "code",
      "metadata": {
        "colab": {
          "base_uri": "https://localhost:8080/",
          "height": 312
        },
        "id": "jqu-5LIeLk7C",
        "outputId": "59480f76-3b6f-44de-f99f-295773caeec0"
      },
      "source": [
        "#inspired from: https://nbviewer.jupyter.org/github/FraPochetti/KagglePlaygrounds/blob/master/NYC%20Taxi%20Fares%20Prediction.ipynb \n",
        "# Train VS Validaton Loss\n",
        "\n",
        "t = [np.mean(tloss[el]) for el in tloss]\n",
        "v = [np.mean(vloss[el]) for el in vloss]\n",
        "\n",
        "plt.plot(t, label='Training loss')\n",
        "plt.plot(v, label='Validation loss')\n",
        "plt.title(\"Train VS Validation Loss over Epochs\")\n",
        "plt.xlabel(\"Epochs\")\n",
        "plt.legend(frameon=False)"
      ],
      "execution_count": 61,
      "outputs": [
        {
          "output_type": "execute_result",
          "data": {
            "text/plain": [
              "<matplotlib.legend.Legend at 0x7f43a9566550>"
            ]
          },
          "metadata": {
            "tags": []
          },
          "execution_count": 61
        },
        {
          "output_type": "display_data",
          "data": {
            "image/png": "[encoded data removed]",
            "text/plain": [
              "<Figure size 432x288 with 1 Axes>"
            ]
          },
          "metadata": {
            "tags": [],
            "needs_background": "light"
          }
        }
      ]
    },
    {
      "cell_type": "code",
      "metadata": {
        "colab": {
          "base_uri": "https://localhost:8080/"
        },
        "id": "m7RYfoeULnsJ",
        "outputId": "ba060b33-2dba-4f52-9fa6-963c20ae16fd"
      },
      "source": [
        "df_test.info()"
      ],
      "execution_count": 62,
      "outputs": [
        {
          "output_type": "stream",
          "text": [
            "<class 'pandas.core.frame.DataFrame'>\n",
            "Int64Index: 9932 entries, 199982 to 9913\n",
            "Data columns (total 11 columns):\n",
            " #   Column             Non-Null Count  Dtype   \n",
            "---  ------             --------------  -----   \n",
            " 0   Month              9932 non-null   category\n",
            " 1   Hour               9932 non-null   category\n",
            " 2   Minutes            9932 non-null   category\n",
            " 3   AMorPM             9932 non-null   category\n",
            " 4   Weekday            9932 non-null   category\n",
            " 5   pickup_latitude    9932 non-null   float64 \n",
            " 6   pickup_longitude   9932 non-null   float64 \n",
            " 7   dropoff_latitude   9932 non-null   float64 \n",
            " 8   dropoff_longitude  9932 non-null   float64 \n",
            " 9   passenger_count    9932 non-null   float64 \n",
            " 10  dist_km            9932 non-null   float64 \n",
            "dtypes: category(5), float64(6)\n",
            "memory usage: 596.3 KB\n"
          ],
          "name": "stdout"
        }
      ]
    },
    {
      "cell_type": "code",
      "metadata": {
        "id": "fMsLAZlnLqtm"
      },
      "source": [
        "\n",
        "# divide to cats and conts columns + make them a tensor + to.cuda()\n",
        "\n",
        "df_test_cats = df_test[['Month','Hour','Minutes' , 'AMorPM', 'Weekday']]\n",
        "test_cats = df_test_cats.astype(np.int64)\n",
        "test_cats = torch.tensor(test_cats.values).cuda()\n",
        "\n",
        "df_test_conts = df_test[['pickup_latitude', 'pickup_longitude', 'dropoff_latitude', 'dropoff_longitude', 'passenger_count', 'dist_km']]\n",
        "test_conts = df_test_conts.astype(np.float32)\n",
        "test_conts = torch.tensor(test_conts.values).cuda()"
      ],
      "execution_count": 63,
      "outputs": []
    },
    {
      "cell_type": "code",
      "metadata": {
        "id": "-IXVWGArLtxy"
      },
      "source": [
        "# make prediction\n",
        "\n",
        "with torch.no_grad():\n",
        "    model.eval()\n",
        "    output = model.forward(test_cats,test_conts).cuda()"
      ],
      "execution_count": 64,
      "outputs": []
    },
    {
      "cell_type": "code",
      "metadata": {
        "colab": {
          "base_uri": "https://localhost:8080/"
        },
        "id": "inq87gBGLv-Q",
        "outputId": "753f14e4-a53f-4121-f4cb-c568617fc022"
      },
      "source": [
        "\n",
        "output"
      ],
      "execution_count": 65,
      "outputs": [
        {
          "output_type": "execute_result",
          "data": {
            "text/plain": [
              "tensor([2.2529, 2.2474, 2.2382,  ..., 2.2539, 2.2481, 2.2282], device='cuda:0')"
            ]
          },
          "metadata": {
            "tags": []
          },
          "execution_count": 65
        }
      ]
    },
    {
      "cell_type": "code",
      "metadata": {
        "colab": {
          "base_uri": "https://localhost:8080/"
        },
        "id": "bN8OGsovLzlE",
        "outputId": "a4a0d78d-caff-486d-f650-793cf8f88b69"
      },
      "source": [
        "len(output)"
      ],
      "execution_count": 66,
      "outputs": [
        {
          "output_type": "execute_result",
          "data": {
            "text/plain": [
              "9932"
            ]
          },
          "metadata": {
            "tags": []
          },
          "execution_count": 66
        }
      ]
    },
    {
      "cell_type": "code",
      "metadata": {
        "colab": {
          "base_uri": "https://localhost:8080/"
        },
        "id": "Ob8UMkPaL144",
        "outputId": "2fa4527f-190b-4b0d-9f43-7976f72cb68e"
      },
      "source": [
        "type(output)"
      ],
      "execution_count": 67,
      "outputs": [
        {
          "output_type": "execute_result",
          "data": {
            "text/plain": [
              "torch.Tensor"
            ]
          },
          "metadata": {
            "tags": []
          },
          "execution_count": 67
        }
      ]
    },
    {
      "cell_type": "code",
      "metadata": {
        "id": "YXvb4NAOL444"
      },
      "source": [
        "# convert to numpy array\n",
        "np_output = output.cpu().numpy()"
      ],
      "execution_count": 68,
      "outputs": []
    },
    {
      "cell_type": "code",
      "metadata": {
        "colab": {
          "base_uri": "https://localhost:8080/"
        },
        "id": "TEYJ6E0xL7iC",
        "outputId": "e2b4bf81-0b4e-469c-a991-1629abc08350"
      },
      "source": [
        "type(np_output)"
      ],
      "execution_count": 69,
      "outputs": [
        {
          "output_type": "execute_result",
          "data": {
            "text/plain": [
              "numpy.ndarray"
            ]
          },
          "metadata": {
            "tags": []
          },
          "execution_count": 69
        }
      ]
    },
    {
      "cell_type": "code",
      "metadata": {
        "colab": {
          "base_uri": "https://localhost:8080/"
        },
        "id": "K69qMnVwL92p",
        "outputId": "b7faa28d-9995-4c24-f601-39248d0c5a6d"
      },
      "source": [
        "np_output"
      ],
      "execution_count": 70,
      "outputs": [
        {
          "output_type": "execute_result",
          "data": {
            "text/plain": [
              "array([2.2529485, 2.247375 , 2.238209 , ..., 2.2538807, 2.2481291,\n",
              "       2.228237 ], dtype=float32)"
            ]
          },
          "metadata": {
            "tags": []
          },
          "execution_count": 70
        }
      ]
    },
    {
      "cell_type": "code",
      "metadata": {
        "id": "UtUIoJokMAvd"
      },
      "source": [
        "#  exp to the output data\n",
        "\n",
        "np_output_exp = np.exp(np_output)"
      ],
      "execution_count": 71,
      "outputs": []
    },
    {
      "cell_type": "code",
      "metadata": {
        "colab": {
          "base_uri": "https://localhost:8080/"
        },
        "id": "6qzPVihTMC8g",
        "outputId": "793782a8-377d-406c-f591-5d085866f4c4"
      },
      "source": [
        "np_output_exp"
      ],
      "execution_count": 72,
      "outputs": [
        {
          "output_type": "execute_result",
          "data": {
            "text/plain": [
              "array([9.515752 , 9.462863 , 9.376523 , ..., 9.524627 , 9.470002 ,\n",
              "       9.2834835], dtype=float32)"
            ]
          },
          "metadata": {
            "tags": []
          },
          "execution_count": 72
        }
      ]
    },
    {
      "cell_type": "code",
      "metadata": {
        "id": "0kSDi5VzMe2k"
      },
      "source": [
        "# CONVERT to pandas data frame \n",
        "\n",
        "df_output =  pd.DataFrame(np_output_exp)"
      ],
      "execution_count": 73,
      "outputs": []
    },
    {
      "cell_type": "code",
      "metadata": {
        "colab": {
          "base_uri": "https://localhost:8080/",
          "height": 419
        },
        "id": "QXb270k8MhcY",
        "outputId": "3c31689b-d822-44ca-a1e5-9bf0c4dce23f"
      },
      "source": [
        "df_output"
      ],
      "execution_count": 74,
      "outputs": [
        {
          "output_type": "execute_result",
          "data": {
            "text/html": [
              "<div>\n",
              "<style scoped>\n",
              "    .dataframe tbody tr th:only-of-type {\n",
              "        vertical-align: middle;\n",
              "    }\n",
              "\n",
              "    .dataframe tbody tr th {\n",
              "        vertical-align: top;\n",
              "    }\n",
              "\n",
              "    .dataframe thead th {\n",
              "        text-align: right;\n",
              "    }\n",
              "</style>\n",
              "<table border=\"1\" class=\"dataframe\">\n",
              "  <thead>\n",
              "    <tr style=\"text-align: right;\">\n",
              "      <th></th>\n",
              "      <th>0</th>\n",
              "    </tr>\n",
              "  </thead>\n",
              "  <tbody>\n",
              "    <tr>\n",
              "      <th>0</th>\n",
              "      <td>9.515752</td>\n",
              "    </tr>\n",
              "    <tr>\n",
              "      <th>1</th>\n",
              "      <td>9.462863</td>\n",
              "    </tr>\n",
              "    <tr>\n",
              "      <th>2</th>\n",
              "      <td>9.376523</td>\n",
              "    </tr>\n",
              "    <tr>\n",
              "      <th>3</th>\n",
              "      <td>9.456956</td>\n",
              "    </tr>\n",
              "    <tr>\n",
              "      <th>4</th>\n",
              "      <td>9.399885</td>\n",
              "    </tr>\n",
              "    <tr>\n",
              "      <th>...</th>\n",
              "      <td>...</td>\n",
              "    </tr>\n",
              "    <tr>\n",
              "      <th>9927</th>\n",
              "      <td>9.412921</td>\n",
              "    </tr>\n",
              "    <tr>\n",
              "      <th>9928</th>\n",
              "      <td>9.444400</td>\n",
              "    </tr>\n",
              "    <tr>\n",
              "      <th>9929</th>\n",
              "      <td>9.524627</td>\n",
              "    </tr>\n",
              "    <tr>\n",
              "      <th>9930</th>\n",
              "      <td>9.470002</td>\n",
              "    </tr>\n",
              "    <tr>\n",
              "      <th>9931</th>\n",
              "      <td>9.283484</td>\n",
              "    </tr>\n",
              "  </tbody>\n",
              "</table>\n",
              "<p>9932 rows × 1 columns</p>\n",
              "</div>"
            ],
            "text/plain": [
              "             0\n",
              "0     9.515752\n",
              "1     9.462863\n",
              "2     9.376523\n",
              "3     9.456956\n",
              "4     9.399885\n",
              "...        ...\n",
              "9927  9.412921\n",
              "9928  9.444400\n",
              "9929  9.524627\n",
              "9930  9.470002\n",
              "9931  9.283484\n",
              "\n",
              "[9932 rows x 1 columns]"
            ]
          },
          "metadata": {
            "tags": []
          },
          "execution_count": 74
        }
      ]
    },
    {
      "cell_type": "code",
      "metadata": {
        "colab": {
          "base_uri": "https://localhost:8080/"
        },
        "id": "kp_bOn9hMkpH",
        "outputId": "d1e22517-d09f-46ad-9fe6-044a26d57205"
      },
      "source": [
        "type(df_output)"
      ],
      "execution_count": 75,
      "outputs": [
        {
          "output_type": "execute_result",
          "data": {
            "text/plain": [
              "pandas.core.frame.DataFrame"
            ]
          },
          "metadata": {
            "tags": []
          },
          "execution_count": 75
        }
      ]
    },
    {
      "cell_type": "code",
      "metadata": {
        "id": "WPFmvWMrMnn2"
      },
      "source": [
        "#output file\n",
        "\n",
        "df_output.to_csv('submission.csv', index=False)"
      ],
      "execution_count": 76,
      "outputs": []
    },
    {
      "cell_type": "code",
      "metadata": {
        "id": "BBBSjNaHMtpt"
      },
      "source": [
        "# function that takes in a dataframe and creates a text link to  \n",
        "# download it (will only work for files < 2MB or so)\n",
        "\n",
        "from IPython.display import HTML\n",
        "import base64\n",
        "\n",
        "def create_download_link(df, title = \"Download CSV file\", filename = \"submission.csv\"):  \n",
        "    csv = df.to_csv()\n",
        "    b64 = base64.b64encode(csv.encode())\n",
        "    payload = b64.decode()\n",
        "    html = '<a download=\"{filename}\" href=\"data:text/csv;base64,{payload}\" target=\"_blank\">{title}</a>'\n",
        "    html = html.format(payload=payload,title=title,filename=filename)\n",
        "    return HTML(html)"
      ],
      "execution_count": 77,
      "outputs": []
    },
    {
      "cell_type": "code",
      "metadata": {
        "colab": {
          "base_uri": "https://localhost:8080/",
          "height": 34
        },
        "id": "wcAb_yHnMwv3",
        "outputId": "f93d9ee7-2758-4493-e280-fe22c67846f5"
      },
      "source": [
        "# create a link to download the dataframe\n",
        "create_download_link(df_output)"
      ],
      "execution_count": 78,
      "outputs": [
        {
          "output_type": "execute_result",
          "data": {
            "text/html": [
              "<a download=\"submission.csv\" href=\"data:text/csv;base64,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\" target=\"_blank\">Download CSV file</a>"
            ],
            "text/plain": [
              "<IPython.core.display.HTML object>"
            ]
          },
          "metadata": {
            "tags": []
          },
          "execution_count": 78
        }
      ]
    },
    {
      "cell_type": "markdown",
      "metadata": {
        "id": "bWRzlmxXGpcL"
      },
      "source": [
        "@@@@@@@@@@@@@@@@@@@@@"
      ]
    },
    {
      "cell_type": "markdown",
      "metadata": {
        "id": "EUEQVOookHIT"
      },
      "source": [
        "Reference links : https://github.com/offirinbar/NYC_Taxi/blob/master/NYC_Taxi_PyTorch.ipynb\n",
        "\n",
        "https://towardsdatascience.com/setting-up-kaggle-in-google-colab-ebb281b61463\n",
        "\n"
      ]
    }
  ]
}