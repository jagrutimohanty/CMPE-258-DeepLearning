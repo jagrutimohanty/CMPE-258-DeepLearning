{
  "nbformat": 4,
  "nbformat_minor": 0,
  "metadata": {
    "colab": {
      "name": "CMPE-258-Assignment-7.ipynb",
      "provenance": [],
      "collapsed_sections": [],
      "toc_visible": true,
      "authorship_tag": "ABX9TyP4hHYNca5RYUV708bn6J20",
      "include_colab_link": true
    },
    "kernelspec": {
      "name": "python3",
      "display_name": "Python 3"
    },
    "language_info": {
      "name": "python"
    }
  },
  "cells": [
    {
      "cell_type": "markdown",
      "metadata": {
        "id": "view-in-github",
        "colab_type": "text"
      },
      "source": [
        "<a href=\"https://colab.research.google.com/github/jagrutimohanty/CMPE-258-DeepLearning/blob/main/Assignment7/CMPE_258_Assignment_7.ipynb\" target=\"_parent\"><img src=\"https://colab.research.google.com/assets/colab-badge.svg\" alt=\"Open In Colab\"/></a>"
      ]
    },
    {
      "cell_type": "markdown",
      "metadata": {
        "id": "ZbkvG8x3WuoX"
      },
      "source": [
        "Name : Jagruti Mohanty\n",
        "Assignment 7"
      ]
    },
    {
      "cell_type": "markdown",
      "metadata": {
        "id": "ic0HPGQ6DOew"
      },
      "source": [
        "# Part B) mnist classification using RNNs where you are passing MNIST image data row by row to rnns\n",
        "\n"
      ]
    },
    {
      "cell_type": "code",
      "metadata": {
        "colab": {
          "base_uri": "https://localhost:8080/"
        },
        "id": "EJM8JsRw16Gn",
        "outputId": "0edfa36e-2c71-4148-b90c-ecb482c72770"
      },
      "source": [
        "!pip install watermark"
      ],
      "execution_count": null,
      "outputs": [
        {
          "output_type": "stream",
          "text": [
            "Collecting watermark\n",
            "  Downloading https://files.pythonhosted.org/packages/73/71/8a7c1c1672bc20448ef8b96652f7d332bd680a4b2e873f50ea1e4ede81ca/watermark-2.2.0-py2.py3-none-any.whl\n",
            "Requirement already satisfied: ipython in /usr/local/lib/python3.7/dist-packages (from watermark) (5.5.0)\n",
            "Collecting importlib-metadata<3.0; python_version < \"3.8\"\n",
            "  Downloading https://files.pythonhosted.org/packages/98/b8/8ec57a8ef46fbe7f185318c7ff7df9a06c9df451d9a59a067bfa851bb828/importlib_metadata-2.1.1-py2.py3-none-any.whl\n",
            "Requirement already satisfied: traitlets>=4.2 in /usr/local/lib/python3.7/dist-packages (from ipython->watermark) (5.0.5)\n",
            "Requirement already satisfied: prompt-toolkit<2.0.0,>=1.0.4 in /usr/local/lib/python3.7/dist-packages (from ipython->watermark) (1.0.18)\n",
            "Requirement already satisfied: decorator in /usr/local/lib/python3.7/dist-packages (from ipython->watermark) (4.4.2)\n",
            "Requirement already satisfied: simplegeneric>0.8 in /usr/local/lib/python3.7/dist-packages (from ipython->watermark) (0.8.1)\n",
            "Requirement already satisfied: pygments in /usr/local/lib/python3.7/dist-packages (from ipython->watermark) (2.6.1)\n",
            "Requirement already satisfied: setuptools>=18.5 in /usr/local/lib/python3.7/dist-packages (from ipython->watermark) (56.0.0)\n",
            "Requirement already satisfied: pexpect; sys_platform != \"win32\" in /usr/local/lib/python3.7/dist-packages (from ipython->watermark) (4.8.0)\n",
            "Requirement already satisfied: pickleshare in /usr/local/lib/python3.7/dist-packages (from ipython->watermark) (0.7.5)\n",
            "Requirement already satisfied: zipp>=0.5 in /usr/local/lib/python3.7/dist-packages (from importlib-metadata<3.0; python_version < \"3.8\"->watermark) (3.4.1)\n",
            "Requirement already satisfied: ipython-genutils in /usr/local/lib/python3.7/dist-packages (from traitlets>=4.2->ipython->watermark) (0.2.0)\n",
            "Requirement already satisfied: six>=1.9.0 in /usr/local/lib/python3.7/dist-packages (from prompt-toolkit<2.0.0,>=1.0.4->ipython->watermark) (1.15.0)\n",
            "Requirement already satisfied: wcwidth in /usr/local/lib/python3.7/dist-packages (from prompt-toolkit<2.0.0,>=1.0.4->ipython->watermark) (0.2.5)\n",
            "Requirement already satisfied: ptyprocess>=0.5 in /usr/local/lib/python3.7/dist-packages (from pexpect; sys_platform != \"win32\"->ipython->watermark) (0.7.0)\n",
            "Installing collected packages: importlib-metadata, watermark\n",
            "  Found existing installation: importlib-metadata 3.10.1\n",
            "    Uninstalling importlib-metadata-3.10.1:\n",
            "      Successfully uninstalled importlib-metadata-3.10.1\n",
            "Successfully installed importlib-metadata-2.1.1 watermark-2.2.0\n"
          ],
          "name": "stdout"
        }
      ]
    },
    {
      "cell_type": "markdown",
      "metadata": {
        "id": "_a1E0j7Pyupl"
      },
      "source": [
        "# Import MNIST DATA"
      ]
    },
    {
      "cell_type": "code",
      "metadata": {
        "id": "Pi4p6I0nAGdB"
      },
      "source": [
        "mnist = keras.datasets.mnist\n",
        "\n",
        "(x_train, y_train), (x_test, y_test) = mnist.load_data()\n",
        "x_train, x_test = x_train / 255.0, x_test / 255.0\n",
        "sample, sample_label = x_train[4], y_train[4]"
      ],
      "execution_count": null,
      "outputs": []
    },
    {
      "cell_type": "code",
      "metadata": {
        "id": "uH4JHMmK_OXL"
      },
      "source": [
        "import numpy as np\n",
        "import tensorflow as tf\n",
        "from tensorflow import keras\n",
        "from tensorflow.keras import layers"
      ],
      "execution_count": null,
      "outputs": []
    },
    {
      "cell_type": "markdown",
      "metadata": {
        "id": "LTeV11DDyyVw"
      },
      "source": [
        "# Model using LSTM layer"
      ]
    },
    {
      "cell_type": "code",
      "metadata": {
        "colab": {
          "base_uri": "https://localhost:8080/"
        },
        "id": "LzmCjl-f_dZz",
        "outputId": "3e3a265f-8a61-464d-d01b-d4088976097f"
      },
      "source": [
        "model = keras.Sequential()\n",
        "# Add an Embedding layer expecting input vocab of size 1000, and\n",
        "# output embedding dimension of size 64.\n",
        "model.add(layers.Embedding(input_dim=1000, output_dim=64))\n",
        "\n",
        "# Add a LSTM layer with 128 internal units.\n",
        "model.add(layers.LSTM(128))\n",
        "\n",
        "# Add a Dense layer with 10 units.\n",
        "model.add(layers.Dense(10))\n",
        "\n",
        "model.summary()"
      ],
      "execution_count": null,
      "outputs": [
        {
          "output_type": "stream",
          "text": [
            "Model: \"sequential\"\n",
            "_________________________________________________________________\n",
            "Layer (type)                 Output Shape              Param #   \n",
            "=================================================================\n",
            "embedding (Embedding)        (None, None, 64)          64000     \n",
            "_________________________________________________________________\n",
            "lstm (LSTM)                  (None, 128)               98816     \n",
            "_________________________________________________________________\n",
            "dense (Dense)                (None, 10)                1290      \n",
            "=================================================================\n",
            "Total params: 164,106\n",
            "Trainable params: 164,106\n",
            "Non-trainable params: 0\n",
            "_________________________________________________________________\n"
          ],
          "name": "stdout"
        }
      ]
    },
    {
      "cell_type": "markdown",
      "metadata": {
        "id": "EN0BMHxwy2Sp"
      },
      "source": [
        "# Model using GRU and simpleRNN"
      ]
    },
    {
      "cell_type": "code",
      "metadata": {
        "colab": {
          "base_uri": "https://localhost:8080/"
        },
        "id": "6FTfBrVr_jH9",
        "outputId": "9c1a9007-8523-44de-ad03-6c2fd02e1ea3"
      },
      "source": [
        "model = keras.Sequential()\n",
        "model.add(layers.Embedding(input_dim=1000, output_dim=64))\n",
        "\n",
        "# The output of GRU will be a 3D tensor of shape (batch_size, timesteps, 256)\n",
        "model.add(layers.GRU(256, return_sequences=True))\n",
        "\n",
        "# The output of SimpleRNN will be a 2D tensor of shape (batch_size, 128)\n",
        "model.add(layers.SimpleRNN(128))\n",
        "\n",
        "model.add(layers.Dense(10))\n",
        "\n",
        "model.summary()"
      ],
      "execution_count": null,
      "outputs": [
        {
          "output_type": "stream",
          "text": [
            "Model: \"sequential_1\"\n",
            "_________________________________________________________________\n",
            "Layer (type)                 Output Shape              Param #   \n",
            "=================================================================\n",
            "embedding_1 (Embedding)      (None, None, 64)          64000     \n",
            "_________________________________________________________________\n",
            "gru (GRU)                    (None, None, 256)         247296    \n",
            "_________________________________________________________________\n",
            "simple_rnn (SimpleRNN)       (None, 128)               49280     \n",
            "_________________________________________________________________\n",
            "dense_1 (Dense)              (None, 10)                1290      \n",
            "=================================================================\n",
            "Total params: 361,866\n",
            "Trainable params: 361,866\n",
            "Non-trainable params: 0\n",
            "_________________________________________________________________\n"
          ],
          "name": "stdout"
        }
      ]
    },
    {
      "cell_type": "markdown",
      "metadata": {
        "id": "2O4uKJ3Dy-F1"
      },
      "source": [
        "# Model build with RNN(cudnn kernel with LSTM)"
      ]
    },
    {
      "cell_type": "code",
      "metadata": {
        "id": "NNInOW52__MB"
      },
      "source": [
        "batch_size = 64\n",
        "# Each MNIST image batch is a tensor of shape (batch_size, 28, 28).\n",
        "# Each input sequence will be of size (28, 28) (height is treated like time).\n",
        "input_dim = 28\n",
        "\n",
        "units = 64\n",
        "output_size = 10  # labels are from 0 to 9\n",
        "\n",
        "# Build the RNN model\n",
        "def build_model(allow_cudnn_kernel=True):\n",
        "    # CuDNN is only available at the layer level, and not at the cell level.\n",
        "    # This means `LSTM(units)` will use the CuDNN kernel,\n",
        "    # while RNN(LSTMCell(units)) will run on non-CuDNN kernel.\n",
        "    if allow_cudnn_kernel:\n",
        "        # The LSTM layer with default options uses CuDNN.\n",
        "        lstm_layer = keras.layers.LSTM(units, input_shape=(None, input_dim))\n",
        "    else:\n",
        "        # Wrapping a LSTMCell in a RNN layer will not use CuDNN.\n",
        "        lstm_layer = keras.layers.RNN(\n",
        "            keras.layers.LSTMCell(units), input_shape=(None, input_dim)\n",
        "        )\n",
        "    model = keras.models.Sequential(\n",
        "        [\n",
        "            lstm_layer,\n",
        "            keras.layers.BatchNormalization(),\n",
        "            keras.layers.Dense(output_size),\n",
        "        ]\n",
        "    )\n",
        "    return model"
      ],
      "execution_count": null,
      "outputs": []
    },
    {
      "cell_type": "code",
      "metadata": {
        "colab": {
          "base_uri": "https://localhost:8080/"
        },
        "id": "8R5x7C-ZARIT",
        "outputId": "10fbc689-6919-428f-e3cb-c03ce123171e"
      },
      "source": [
        "model = build_model(allow_cudnn_kernel=True)\n",
        "\n",
        "model.compile(\n",
        "    loss=keras.losses.SparseCategoricalCrossentropy(from_logits=True),\n",
        "    optimizer=\"sgd\",\n",
        "    metrics=[\"accuracy\"],\n",
        ")\n",
        "\n",
        "\n",
        "model.fit(\n",
        "    x_train, y_train, validation_data=(x_test, y_test), batch_size=batch_size, epochs=1\n",
        ")"
      ],
      "execution_count": null,
      "outputs": [
        {
          "output_type": "stream",
          "text": [
            "938/938 [==============================] - 23s 22ms/step - loss: 1.3583 - accuracy: 0.5645 - val_loss: 0.6980 - val_accuracy: 0.7705\n"
          ],
          "name": "stdout"
        },
        {
          "output_type": "execute_result",
          "data": {
            "text/plain": [
              "<tensorflow.python.keras.callbacks.History at 0x7f97a80148d0>"
            ]
          },
          "metadata": {
            "tags": []
          },
          "execution_count": 10
        }
      ]
    },
    {
      "cell_type": "markdown",
      "metadata": {
        "id": "6Cintn2wzQLD"
      },
      "source": [
        "#Output of prediction model"
      ]
    },
    {
      "cell_type": "code",
      "metadata": {
        "colab": {
          "base_uri": "https://localhost:8080/",
          "height": 282
        },
        "id": "AiytlXL5AcXs",
        "outputId": "c0a80abf-c59e-4db6-b33b-bb492fe5cc12"
      },
      "source": [
        "import matplotlib.pyplot as plt\n",
        "\n",
        "with tf.device(\"CPU:0\"):\n",
        "    cpu_model = build_model(allow_cudnn_kernel=True)\n",
        "    cpu_model.set_weights(model.get_weights())\n",
        "    result = tf.argmax(cpu_model.predict_on_batch(tf.expand_dims(sample, 0)), axis=1)\n",
        "    print(\n",
        "        \"Predicted result is: %s, target result is: %s\" % (result.numpy(), sample_label)\n",
        "    )\n",
        "    plt.imshow(sample, cmap=plt.get_cmap(\"gray\"))"
      ],
      "execution_count": null,
      "outputs": [
        {
          "output_type": "stream",
          "text": [
            "Predicted result is: [9], target result is: 9\n"
          ],
          "name": "stdout"
        },
        {
          "output_type": "display_data",
          "data": {
            "image/png": "[encoded data removed]",
            "text/plain": [
              "<Figure size 432x288 with 1 Axes>"
            ]
          },
          "metadata": {
            "tags": [],
            "needs_background": "light"
          }
        }
      ]
    },
    {
      "cell_type": "markdown",
      "metadata": {
        "id": "uAZXxJcizZ2i"
      },
      "source": [
        "# Part E) Build a timeseries forcasting model using RNN"
      ]
    },
    {
      "cell_type": "code",
      "metadata": {
        "id": "OyAKyFqnGBRx"
      },
      "source": [
        "import math\n",
        "import matplotlib.pyplot as plt\n",
        "import keras\n",
        "import pandas as pd\n",
        "import numpy as np\n",
        "from keras.models import Sequential\n",
        "from keras.layers import Dense\n",
        "from keras.layers import LSTM\n",
        "from keras.layers import Dropout\n",
        "from keras.layers import *\n",
        "from sklearn.preprocessing import MinMaxScaler\n",
        "from sklearn.metrics import mean_squared_error\n",
        "from sklearn.metrics import mean_absolute_error\n",
        "from sklearn.model_selection import train_test_split\n",
        "from keras.callbacks import EarlyStopping\n",
        "from pydrive.auth import GoogleAuth\n",
        "from pydrive.drive import GoogleDrive\n",
        "from google.colab import auth\n",
        "from oauth2client.client import GoogleCredentials"
      ],
      "execution_count": null,
      "outputs": []
    },
    {
      "cell_type": "code",
      "metadata": {
        "id": "YrfEKOKtGRHW"
      },
      "source": [
        "#Authenticate and create the PyDrive client\n",
        "auth.authenticate_user()\n",
        "gauth = GoogleAuth()\n",
        "gauth.credentials = GoogleCredentials.get_application_default()\n",
        "drive = GoogleDrive(gauth)"
      ],
      "execution_count": null,
      "outputs": []
    },
    {
      "cell_type": "code",
      "metadata": {
        "id": "_LQmR4IvGlrV"
      },
      "source": [
        "#Get the Shareable file link and get the contents\n",
        "downloaded = drive.CreateFile({'id':\"1ntWVLwERS_OVcn1yxIrDtjp05JW1skGZ\"})   \n",
        "downloaded.GetContentFile('TSLA.csv')  "
      ],
      "execution_count": null,
      "outputs": []
    },
    {
      "cell_type": "code",
      "metadata": {
        "colab": {
          "base_uri": "https://localhost:8080/",
          "height": 204
        },
        "id": "yygvT1YFGGdM",
        "outputId": "fc18bc03-f262-42a9-f3f3-29f445b6ce69"
      },
      "source": [
        "df=pd.read_csv(\"TSLA.csv\")\n",
        "#print(‘Number of rows and columns:’, df.shape)\n",
        "df.head(5)"
      ],
      "execution_count": null,
      "outputs": [
        {
          "output_type": "execute_result",
          "data": {
            "text/html": [
              "<div>\n",
              "<style scoped>\n",
              "    .dataframe tbody tr th:only-of-type {\n",
              "        vertical-align: middle;\n",
              "    }\n",
              "\n",
              "    .dataframe tbody tr th {\n",
              "        vertical-align: top;\n",
              "    }\n",
              "\n",
              "    .dataframe thead th {\n",
              "        text-align: right;\n",
              "    }\n",
              "</style>\n",
              "<table border=\"1\" class=\"dataframe\">\n",
              "  <thead>\n",
              "    <tr style=\"text-align: right;\">\n",
              "      <th></th>\n",
              "      <th>Date</th>\n",
              "      <th>Open</th>\n",
              "      <th>High</th>\n",
              "      <th>Low</th>\n",
              "      <th>Close</th>\n",
              "      <th>Adj Close</th>\n",
              "      <th>Volume</th>\n",
              "    </tr>\n",
              "  </thead>\n",
              "  <tbody>\n",
              "    <tr>\n",
              "      <th>0</th>\n",
              "      <td>2015-07-10</td>\n",
              "      <td>52.444000</td>\n",
              "      <td>52.599998</td>\n",
              "      <td>51.563999</td>\n",
              "      <td>51.830002</td>\n",
              "      <td>51.830002</td>\n",
              "      <td>13054500</td>\n",
              "    </tr>\n",
              "    <tr>\n",
              "      <th>1</th>\n",
              "      <td>2015-07-13</td>\n",
              "      <td>52.450001</td>\n",
              "      <td>52.509998</td>\n",
              "      <td>51.209999</td>\n",
              "      <td>52.431999</td>\n",
              "      <td>52.431999</td>\n",
              "      <td>14801500</td>\n",
              "    </tr>\n",
              "    <tr>\n",
              "      <th>2</th>\n",
              "      <td>2015-07-14</td>\n",
              "      <td>52.419998</td>\n",
              "      <td>53.198002</td>\n",
              "      <td>52.102001</td>\n",
              "      <td>53.130001</td>\n",
              "      <td>53.130001</td>\n",
              "      <td>9538000</td>\n",
              "    </tr>\n",
              "    <tr>\n",
              "      <th>3</th>\n",
              "      <td>2015-07-15</td>\n",
              "      <td>53.348000</td>\n",
              "      <td>53.498001</td>\n",
              "      <td>52.416000</td>\n",
              "      <td>52.627998</td>\n",
              "      <td>52.627998</td>\n",
              "      <td>10108000</td>\n",
              "    </tr>\n",
              "    <tr>\n",
              "      <th>4</th>\n",
              "      <td>2015-07-16</td>\n",
              "      <td>52.844002</td>\n",
              "      <td>53.439999</td>\n",
              "      <td>52.632000</td>\n",
              "      <td>53.335999</td>\n",
              "      <td>53.335999</td>\n",
              "      <td>8080000</td>\n",
              "    </tr>\n",
              "  </tbody>\n",
              "</table>\n",
              "</div>"
            ],
            "text/plain": [
              "         Date       Open       High        Low      Close  Adj Close    Volume\n",
              "0  2015-07-10  52.444000  52.599998  51.563999  51.830002  51.830002  13054500\n",
              "1  2015-07-13  52.450001  52.509998  51.209999  52.431999  52.431999  14801500\n",
              "2  2015-07-14  52.419998  53.198002  52.102001  53.130001  53.130001   9538000\n",
              "3  2015-07-15  53.348000  53.498001  52.416000  52.627998  52.627998  10108000\n",
              "4  2015-07-16  52.844002  53.439999  52.632000  53.335999  53.335999   8080000"
            ]
          },
          "metadata": {
            "tags": []
          },
          "execution_count": 19
        }
      ]
    },
    {
      "cell_type": "code",
      "metadata": {
        "id": "JEgHubi4HLUu"
      },
      "source": [
        "training_set = df.iloc[:800, 1:2].values\n",
        "test_set = df.iloc[800:, 1:2].values"
      ],
      "execution_count": null,
      "outputs": []
    },
    {
      "cell_type": "code",
      "metadata": {
        "id": "spPOwA_DHPtc"
      },
      "source": [
        "# Feature Scaling\n",
        "sc = MinMaxScaler(feature_range = (0, 1))\n",
        "training_set_scaled = sc.fit_transform(training_set)\n",
        "# Creating a data structure with 60 time-steps and 1 output\n",
        "X_train = []\n",
        "y_train = []\n",
        "for i in range(60, 800):\n",
        "    X_train.append(training_set_scaled[i-60:i, 0])\n",
        "    y_train.append(training_set_scaled[i, 0])\n",
        "X_train, y_train = np.array(X_train), np.array(y_train)\n",
        "X_train = np.reshape(X_train, (X_train.shape[0], X_train.shape[1], 1))\n",
        "#(740, 60, 1)"
      ],
      "execution_count": null,
      "outputs": []
    },
    {
      "cell_type": "code",
      "metadata": {
        "colab": {
          "base_uri": "https://localhost:8080/"
        },
        "id": "CBbBBgYhHzZg",
        "outputId": "a1e88e1f-19d5-4bb5-cdc0-bf4b3df1ef76"
      },
      "source": [
        "model = Sequential()\n",
        "#Adding the first LSTM layer and some Dropout regularisation\n",
        "model.add(LSTM(units = 50, return_sequences = True, input_shape = (X_train.shape[1], 1)))\n",
        "model.add(Dropout(0.2))\n",
        "# Adding a second LSTM layer and some Dropout regularisation\n",
        "model.add(LSTM(units = 50, return_sequences = True))\n",
        "model.add(Dropout(0.2))\n",
        "# Adding a third LSTM layer and some Dropout regularisation\n",
        "model.add(LSTM(units = 50, return_sequences = True))\n",
        "model.add(Dropout(0.2))\n",
        "# Adding a fourth LSTM layer and some Dropout regularisation\n",
        "model.add(LSTM(units = 50))\n",
        "model.add(Dropout(0.2))\n",
        "# Adding the output layer\n",
        "model.add(Dense(units = 1))\n",
        "\n",
        "# Compiling the RNN\n",
        "model.compile(optimizer = 'adam', loss = 'mean_squared_error')\n",
        "\n",
        "# Fitting the RNN to the Training set\n",
        "model.fit(X_train, y_train, epochs = 100, batch_size = 32)"
      ],
      "execution_count": null,
      "outputs": [
        {
          "output_type": "stream",
          "text": [
            "Epoch 1/100\n",
            "24/24 [==============================] - 8s 104ms/step - loss: 0.1415\n",
            "Epoch 2/100\n",
            "24/24 [==============================] - 3s 111ms/step - loss: 0.0178\n",
            "Epoch 3/100\n",
            "24/24 [==============================] - 3s 111ms/step - loss: 0.0155\n",
            "Epoch 4/100\n",
            "24/24 [==============================] - 3s 110ms/step - loss: 0.0132\n",
            "Epoch 5/100\n",
            "24/24 [==============================] - 3s 111ms/step - loss: 0.0121\n",
            "Epoch 6/100\n",
            "24/24 [==============================] - 3s 112ms/step - loss: 0.0133\n",
            "Epoch 7/100\n",
            "24/24 [==============================] - 3s 111ms/step - loss: 0.0119\n",
            "Epoch 8/100\n",
            "24/24 [==============================] - 3s 111ms/step - loss: 0.0106\n",
            "Epoch 9/100\n",
            "24/24 [==============================] - 3s 111ms/step - loss: 0.0098\n",
            "Epoch 10/100\n",
            "24/24 [==============================] - 3s 112ms/step - loss: 0.0143\n",
            "Epoch 11/100\n",
            "24/24 [==============================] - 3s 112ms/step - loss: 0.0113\n",
            "Epoch 12/100\n",
            "24/24 [==============================] - 3s 111ms/step - loss: 0.0110\n",
            "Epoch 13/100\n",
            "24/24 [==============================] - 3s 111ms/step - loss: 0.0089\n",
            "Epoch 14/100\n",
            "24/24 [==============================] - 3s 111ms/step - loss: 0.0104\n",
            "Epoch 15/100\n",
            "24/24 [==============================] - 3s 110ms/step - loss: 0.0098\n",
            "Epoch 16/100\n",
            "24/24 [==============================] - 3s 111ms/step - loss: 0.0081\n",
            "Epoch 17/100\n",
            "24/24 [==============================] - 3s 111ms/step - loss: 0.0089\n",
            "Epoch 18/100\n",
            "24/24 [==============================] - 3s 111ms/step - loss: 0.0085\n",
            "Epoch 19/100\n",
            "24/24 [==============================] - 3s 113ms/step - loss: 0.0075\n",
            "Epoch 20/100\n",
            "24/24 [==============================] - 3s 110ms/step - loss: 0.0075\n",
            "Epoch 21/100\n",
            "24/24 [==============================] - 3s 111ms/step - loss: 0.0067\n",
            "Epoch 22/100\n",
            "24/24 [==============================] - 3s 112ms/step - loss: 0.0064\n",
            "Epoch 23/100\n",
            "24/24 [==============================] - 3s 110ms/step - loss: 0.0076\n",
            "Epoch 24/100\n",
            "24/24 [==============================] - 3s 110ms/step - loss: 0.0066\n",
            "Epoch 25/100\n",
            "24/24 [==============================] - 3s 111ms/step - loss: 0.0071\n",
            "Epoch 26/100\n",
            "24/24 [==============================] - 3s 110ms/step - loss: 0.0066\n",
            "Epoch 27/100\n",
            "24/24 [==============================] - 3s 110ms/step - loss: 0.0072\n",
            "Epoch 28/100\n",
            "24/24 [==============================] - 3s 110ms/step - loss: 0.0068\n",
            "Epoch 29/100\n",
            "24/24 [==============================] - 3s 111ms/step - loss: 0.0068\n",
            "Epoch 30/100\n",
            "24/24 [==============================] - 3s 112ms/step - loss: 0.0064\n",
            "Epoch 31/100\n",
            "24/24 [==============================] - 3s 109ms/step - loss: 0.0058\n",
            "Epoch 32/100\n",
            "24/24 [==============================] - 3s 110ms/step - loss: 0.0074\n",
            "Epoch 33/100\n",
            "24/24 [==============================] - 3s 113ms/step - loss: 0.0063\n",
            "Epoch 34/100\n",
            "24/24 [==============================] - 3s 110ms/step - loss: 0.0062\n",
            "Epoch 35/100\n",
            "24/24 [==============================] - 3s 112ms/step - loss: 0.0054\n",
            "Epoch 36/100\n",
            "24/24 [==============================] - 3s 112ms/step - loss: 0.0056\n",
            "Epoch 37/100\n",
            "24/24 [==============================] - 3s 111ms/step - loss: 0.0055\n",
            "Epoch 38/100\n",
            "24/24 [==============================] - 3s 113ms/step - loss: 0.0070\n",
            "Epoch 39/100\n",
            "24/24 [==============================] - 3s 112ms/step - loss: 0.0048\n",
            "Epoch 40/100\n",
            "24/24 [==============================] - 3s 111ms/step - loss: 0.0047\n",
            "Epoch 41/100\n",
            "24/24 [==============================] - 3s 113ms/step - loss: 0.0052\n",
            "Epoch 42/100\n",
            "24/24 [==============================] - 3s 112ms/step - loss: 0.0058\n",
            "Epoch 43/100\n",
            "24/24 [==============================] - 3s 112ms/step - loss: 0.0049\n",
            "Epoch 44/100\n",
            "24/24 [==============================] - 3s 111ms/step - loss: 0.0043\n",
            "Epoch 45/100\n",
            "24/24 [==============================] - 3s 112ms/step - loss: 0.0041\n",
            "Epoch 46/100\n",
            "24/24 [==============================] - 3s 111ms/step - loss: 0.0061\n",
            "Epoch 47/100\n",
            "24/24 [==============================] - 3s 112ms/step - loss: 0.0047\n",
            "Epoch 48/100\n",
            "24/24 [==============================] - 3s 112ms/step - loss: 0.0066\n",
            "Epoch 49/100\n",
            "24/24 [==============================] - 3s 112ms/step - loss: 0.0041\n",
            "Epoch 50/100\n",
            "24/24 [==============================] - 3s 112ms/step - loss: 0.0045\n",
            "Epoch 51/100\n",
            "24/24 [==============================] - 3s 114ms/step - loss: 0.0045\n",
            "Epoch 52/100\n",
            "24/24 [==============================] - 3s 112ms/step - loss: 0.0042\n",
            "Epoch 53/100\n",
            "24/24 [==============================] - 3s 112ms/step - loss: 0.0040\n",
            "Epoch 54/100\n",
            "24/24 [==============================] - 3s 110ms/step - loss: 0.0049\n",
            "Epoch 55/100\n",
            "24/24 [==============================] - 3s 112ms/step - loss: 0.0045\n",
            "Epoch 56/100\n",
            "24/24 [==============================] - 3s 111ms/step - loss: 0.0042\n",
            "Epoch 57/100\n",
            "24/24 [==============================] - 3s 111ms/step - loss: 0.0045\n",
            "Epoch 58/100\n",
            "24/24 [==============================] - 3s 111ms/step - loss: 0.0037\n",
            "Epoch 59/100\n",
            "24/24 [==============================] - 3s 112ms/step - loss: 0.0041\n",
            "Epoch 60/100\n",
            "24/24 [==============================] - 3s 113ms/step - loss: 0.0051\n",
            "Epoch 61/100\n",
            "24/24 [==============================] - 3s 111ms/step - loss: 0.0051\n",
            "Epoch 62/100\n",
            "24/24 [==============================] - 3s 112ms/step - loss: 0.0038\n",
            "Epoch 63/100\n",
            "24/24 [==============================] - 3s 112ms/step - loss: 0.0042\n",
            "Epoch 64/100\n",
            "24/24 [==============================] - 3s 111ms/step - loss: 0.0038\n",
            "Epoch 65/100\n",
            "24/24 [==============================] - 3s 111ms/step - loss: 0.0039\n",
            "Epoch 66/100\n",
            "24/24 [==============================] - 3s 112ms/step - loss: 0.0037\n",
            "Epoch 67/100\n",
            "24/24 [==============================] - 3s 114ms/step - loss: 0.0036\n",
            "Epoch 68/100\n",
            "24/24 [==============================] - 3s 113ms/step - loss: 0.0038\n",
            "Epoch 69/100\n",
            "24/24 [==============================] - 3s 111ms/step - loss: 0.0035\n",
            "Epoch 70/100\n",
            "24/24 [==============================] - 3s 111ms/step - loss: 0.0035\n",
            "Epoch 71/100\n",
            "24/24 [==============================] - 3s 112ms/step - loss: 0.0034\n",
            "Epoch 72/100\n",
            "24/24 [==============================] - 3s 112ms/step - loss: 0.0032\n",
            "Epoch 73/100\n",
            "24/24 [==============================] - 3s 112ms/step - loss: 0.0040\n",
            "Epoch 74/100\n",
            "24/24 [==============================] - 3s 112ms/step - loss: 0.0036\n",
            "Epoch 75/100\n",
            "24/24 [==============================] - 3s 112ms/step - loss: 0.0035\n",
            "Epoch 76/100\n",
            "24/24 [==============================] - 3s 112ms/step - loss: 0.0034\n",
            "Epoch 77/100\n",
            "24/24 [==============================] - 3s 112ms/step - loss: 0.0034\n",
            "Epoch 78/100\n",
            "24/24 [==============================] - 3s 113ms/step - loss: 0.0042\n",
            "Epoch 79/100\n",
            "24/24 [==============================] - 3s 113ms/step - loss: 0.0034\n",
            "Epoch 80/100\n",
            "24/24 [==============================] - 3s 112ms/step - loss: 0.0033\n",
            "Epoch 81/100\n",
            "24/24 [==============================] - 3s 112ms/step - loss: 0.0046\n",
            "Epoch 82/100\n",
            "24/24 [==============================] - 3s 112ms/step - loss: 0.0033\n",
            "Epoch 83/100\n",
            "24/24 [==============================] - 3s 113ms/step - loss: 0.0039\n",
            "Epoch 84/100\n",
            "24/24 [==============================] - 3s 112ms/step - loss: 0.0043\n",
            "Epoch 85/100\n",
            "24/24 [==============================] - 3s 112ms/step - loss: 0.0034\n",
            "Epoch 86/100\n",
            "24/24 [==============================] - 3s 115ms/step - loss: 0.0036\n",
            "Epoch 87/100\n",
            "24/24 [==============================] - 3s 113ms/step - loss: 0.0040\n",
            "Epoch 88/100\n",
            "24/24 [==============================] - 3s 111ms/step - loss: 0.0032\n",
            "Epoch 89/100\n",
            "24/24 [==============================] - 3s 113ms/step - loss: 0.0035\n",
            "Epoch 90/100\n",
            "24/24 [==============================] - 3s 113ms/step - loss: 0.0032\n",
            "Epoch 91/100\n",
            "24/24 [==============================] - 3s 112ms/step - loss: 0.0029\n",
            "Epoch 92/100\n",
            "24/24 [==============================] - 3s 113ms/step - loss: 0.0029\n",
            "Epoch 93/100\n",
            "24/24 [==============================] - 3s 113ms/step - loss: 0.0028\n",
            "Epoch 94/100\n",
            "24/24 [==============================] - 3s 111ms/step - loss: 0.0029\n",
            "Epoch 95/100\n",
            "24/24 [==============================] - 3s 113ms/step - loss: 0.0028\n",
            "Epoch 96/100\n",
            "24/24 [==============================] - 3s 113ms/step - loss: 0.0028\n",
            "Epoch 97/100\n",
            "24/24 [==============================] - 3s 113ms/step - loss: 0.0036\n",
            "Epoch 98/100\n",
            "24/24 [==============================] - 3s 111ms/step - loss: 0.0032\n",
            "Epoch 99/100\n",
            "24/24 [==============================] - 3s 113ms/step - loss: 0.0037\n",
            "Epoch 100/100\n",
            "24/24 [==============================] - 3s 113ms/step - loss: 0.0026\n"
          ],
          "name": "stdout"
        },
        {
          "output_type": "execute_result",
          "data": {
            "text/plain": [
              "<tensorflow.python.keras.callbacks.History at 0x7f5fe8928810>"
            ]
          },
          "metadata": {
            "tags": []
          },
          "execution_count": 22
        }
      ]
    },
    {
      "cell_type": "code",
      "metadata": {
        "colab": {
          "base_uri": "https://localhost:8080/"
        },
        "id": "V-q0GX5_H9FO",
        "outputId": "f3dbe2dc-0c39-4950-e4a4-60ca20626084"
      },
      "source": [
        "# Getting the predicted stock price of 2017\n",
        "dataset_train = df.iloc[:800, 1:2]\n",
        "dataset_test = df.iloc[800:, 1:2]\n",
        "dataset_total = pd.concat((dataset_train, dataset_test), axis = 0)\n",
        "inputs = dataset_total[len(dataset_total) - len(dataset_test) - 60:].values\n",
        "inputs = inputs.reshape(-1,1)\n",
        "inputs = sc.transform(inputs)\n",
        "X_test = []\n",
        "for i in range(60, 519):\n",
        "    X_test.append(inputs[i-60:i, 0])\n",
        "X_test = np.array(X_test)\n",
        "X_test = np.reshape(X_test, (X_test.shape[0], X_test.shape[1], 1))\n",
        "print(X_test.shape)\n",
        "# (459, 60, 1)"
      ],
      "execution_count": null,
      "outputs": [
        {
          "output_type": "stream",
          "text": [
            "(459, 60, 1)\n"
          ],
          "name": "stdout"
        }
      ]
    },
    {
      "cell_type": "code",
      "metadata": {
        "id": "mK3ASSPMICJd"
      },
      "source": [
        "predicted_stock_price = model.predict(X_test)\n",
        "predicted_stock_price = sc.inverse_transform(predicted_stock_price)"
      ],
      "execution_count": null,
      "outputs": []
    },
    {
      "cell_type": "code",
      "metadata": {
        "colab": {
          "base_uri": "https://localhost:8080/",
          "height": 295
        },
        "id": "t5QKMyHEILlR",
        "outputId": "ba0291d2-6bdc-4717-8769-de50d0c87641"
      },
      "source": [
        "# Visualising the results\n",
        "plt.plot(df.loc[800:, 'Date'],dataset_test.values, color = 'red', label = 'Real TESLA Stock Price')\n",
        "plt.plot(df.loc[800:, 'Date'],predicted_stock_price, color = 'blue', label = 'Predicted TESLA Stock Price')\n",
        "plt.xticks(np.arange(0,459,50))\n",
        "plt.title('TESLA Stock Price Prediction')\n",
        "plt.xlabel('Time')\n",
        "plt.ylabel('TESLA Stock Price')\n",
        "plt.legend()\n",
        "plt.show()"
      ],
      "execution_count": null,
      "outputs": [
        {
          "output_type": "display_data",
          "data": {
            "image/png": "[encoded data removed]",
            "text/plain": [
              "<Figure size 432x288 with 1 Axes>"
            ]
          },
          "metadata": {
            "tags": [],
            "needs_background": "light"
          }
        }
      ]
    },
    {
      "cell_type": "code",
      "metadata": {
        "id": "xOTkbLP1JMNz"
      },
      "source": [
        "X_train = []\n",
        "y_train = []\n",
        "for i in range(60, 800):\n",
        "    X_train.append(training_set_scaled[i-60:i, 0])\n",
        "    y_train.append(training_set_scaled[i, 0])"
      ],
      "execution_count": null,
      "outputs": []
    },
    {
      "cell_type": "code",
      "metadata": {
        "id": "fDEWOqjkJUON"
      },
      "source": [
        "X_test = []\n",
        "y_test = []\n",
        "for i in range(60, 519):\n",
        "    X_test.append(inputs[i-60:i, 0])\n",
        "X_test = np.array(X_test)\n",
        "X_test = np.reshape(X_test, (X_test.shape[0], X_test.shape[1], 1))"
      ],
      "execution_count": null,
      "outputs": []
    },
    {
      "cell_type": "markdown",
      "metadata": {
        "id": "PtWZN4Yoz3cQ"
      },
      "source": [
        " # Part C)Build an android studio app using tflite model  for simple colab based trained keras model usecase. "
      ]
    },
    {
      "cell_type": "markdown",
      "metadata": {
        "id": "0hRSaSBp0Jgp"
      },
      "source": [
        ""
      ]
    },
    {
      "cell_type": "code",
      "metadata": {
        "id": "vpDIASJIGAPp"
      },
      "source": [
        "import pandas as pd\n",
        "import numpy as np\n",
        "import tensorflow as tf\n",
        "from sklearn.preprocessing import LabelEncoder\n",
        "from keras.utils import to_categorical"
      ],
      "execution_count": null,
      "outputs": []
    },
    {
      "cell_type": "code",
      "metadata": {
        "id": "djUOnrffGTkp"
      },
      "source": [
        "from pydrive.auth import GoogleAuth\n",
        "from pydrive.drive import GoogleDrive\n",
        "from google.colab import auth\n",
        "from oauth2client.client import GoogleCredentials\n",
        "from google.colab import drive"
      ],
      "execution_count": null,
      "outputs": []
    },
    {
      "cell_type": "code",
      "metadata": {
        "colab": {
          "base_uri": "https://localhost:8080/"
        },
        "id": "b3dFQxllGWYZ",
        "outputId": "0c5a6ee8-607c-4660-85c1-7fcb651dbb35"
      },
      "source": [
        "drive.mount('/content/drive')"
      ],
      "execution_count": null,
      "outputs": [
        {
          "output_type": "stream",
          "text": [
            "Mounted at /content/drive\n"
          ],
          "name": "stdout"
        }
      ]
    },
    {
      "cell_type": "code",
      "metadata": {
        "colab": {
          "base_uri": "https://localhost:8080/"
        },
        "id": "D7QfDayDGmsv",
        "outputId": "99ad586c-ac19-49e9-f44f-7f906d813e84"
      },
      "source": [
        "!ls '/content/drive/MyDrive/CMPE-258-Jagruti Mohanty/iris.data'"
      ],
      "execution_count": null,
      "outputs": [
        {
          "output_type": "stream",
          "text": [
            "'/content/drive/MyDrive/CMPE-258-Jagruti Mohanty/iris.data'\n"
          ],
          "name": "stdout"
        }
      ]
    },
    {
      "cell_type": "code",
      "metadata": {
        "id": "8-RTKbIFFdkv",
        "colab": {
          "base_uri": "https://localhost:8080/"
        },
        "outputId": "5fb57231-8b6a-48d3-ebd8-a7785138206d"
      },
      "source": [
        "\n",
        "\n",
        "df = pd.read_csv('/content/drive/MyDrive/CMPE-258-Jagruti Mohanty/iris.data',sep=',')\n",
        "\n",
        "X = df.iloc[:, :4].values\n",
        "y = df.iloc[:, 4].values\n",
        "\n",
        "le = LabelEncoder()\n",
        "\n",
        "y = le.fit_transform(y)\n",
        "y = to_categorical(y)\n",
        "\n",
        "\n",
        "from tensorflow.keras.layers import Dense\n",
        "from tensorflow.keras.models import Sequential\n",
        "\n",
        "model = Sequential()\n",
        "\n",
        "model.add(Dense(64, activation='relu', input_shape=[4]))\n",
        "model.add(Dense(64))\n",
        "model.add(Dense(3, activation='softmax'))\n",
        "\n",
        "model.compile(optimizer='sgd', loss='categorical_crossentropy',\n",
        "              metrics=['acc'])\n",
        "\n",
        "\n",
        "model.fit(X, y, epochs=200)\n",
        "\n",
        "\n",
        "from tensorflow import lite\n",
        "converter = lite.TFLiteConverter.from_keras_model(model)\n",
        "\n",
        "tfmodel = converter.convert()\n",
        "\n",
        "open('/content/drive/MyDrive/CMPE-258-Jagruti Mohanty/iris.tflite', 'wb').write(tfmodel)"
      ],
      "execution_count": null,
      "outputs": [
        {
          "output_type": "stream",
          "text": [
            "Epoch 1/200\n",
            "5/5 [==============================] - 0s 3ms/step - loss: 1.6299 - acc: 0.2573\n",
            "Epoch 2/200\n",
            "5/5 [==============================] - 0s 3ms/step - loss: 1.1719 - acc: 0.2192\n",
            "Epoch 3/200\n",
            "5/5 [==============================] - 0s 3ms/step - loss: 1.1007 - acc: 0.2236\n",
            "Epoch 4/200\n",
            "5/5 [==============================] - 0s 2ms/step - loss: 1.0305 - acc: 0.2819\n",
            "Epoch 5/200\n",
            "5/5 [==============================] - 0s 4ms/step - loss: 0.9507 - acc: 0.5246\n",
            "Epoch 6/200\n",
            "5/5 [==============================] - 0s 2ms/step - loss: 0.9013 - acc: 0.5816\n",
            "Epoch 7/200\n",
            "5/5 [==============================] - 0s 4ms/step - loss: 0.8570 - acc: 0.5338\n",
            "Epoch 8/200\n",
            "5/5 [==============================] - 0s 3ms/step - loss: 0.7789 - acc: 0.6985\n",
            "Epoch 9/200\n",
            "5/5 [==============================] - 0s 2ms/step - loss: 0.7414 - acc: 0.7262\n",
            "Epoch 10/200\n",
            "5/5 [==============================] - 0s 2ms/step - loss: 0.7190 - acc: 0.6764\n",
            "Epoch 11/200\n",
            "5/5 [==============================] - 0s 2ms/step - loss: 0.6841 - acc: 0.6915\n",
            "Epoch 12/200\n",
            "5/5 [==============================] - 0s 4ms/step - loss: 0.6363 - acc: 0.7304\n",
            "Epoch 13/200\n",
            "5/5 [==============================] - 0s 2ms/step - loss: 0.6368 - acc: 0.7642\n",
            "Epoch 14/200\n",
            "5/5 [==============================] - 0s 2ms/step - loss: 0.7190 - acc: 0.5711\n",
            "Epoch 15/200\n",
            "5/5 [==============================] - 0s 2ms/step - loss: 0.5714 - acc: 0.7107\n",
            "Epoch 16/200\n",
            "5/5 [==============================] - 0s 2ms/step - loss: 0.5763 - acc: 0.7309\n",
            "Epoch 17/200\n",
            "5/5 [==============================] - 0s 2ms/step - loss: 0.5448 - acc: 0.7636\n",
            "Epoch 18/200\n",
            "5/5 [==============================] - 0s 3ms/step - loss: 0.5393 - acc: 0.8702\n",
            "Epoch 19/200\n",
            "5/5 [==============================] - 0s 3ms/step - loss: 0.5245 - acc: 0.7406\n",
            "Epoch 20/200\n",
            "5/5 [==============================] - 0s 2ms/step - loss: 0.5033 - acc: 0.8827\n",
            "Epoch 21/200\n",
            "5/5 [==============================] - 0s 2ms/step - loss: 0.4846 - acc: 0.7916\n",
            "Epoch 22/200\n",
            "5/5 [==============================] - 0s 2ms/step - loss: 0.4914 - acc: 0.8356\n",
            "Epoch 23/200\n",
            "5/5 [==============================] - 0s 3ms/step - loss: 0.4676 - acc: 0.8644\n",
            "Epoch 24/200\n",
            "5/5 [==============================] - 0s 3ms/step - loss: 0.4664 - acc: 0.9393\n",
            "Epoch 25/200\n",
            "5/5 [==============================] - 0s 3ms/step - loss: 0.4311 - acc: 0.8574\n",
            "Epoch 26/200\n",
            "5/5 [==============================] - 0s 2ms/step - loss: 0.4602 - acc: 0.8138\n",
            "Epoch 27/200\n",
            "5/5 [==============================] - 0s 3ms/step - loss: 0.4556 - acc: 0.8007\n",
            "Epoch 28/200\n",
            "5/5 [==============================] - 0s 3ms/step - loss: 0.4030 - acc: 0.7632\n",
            "Epoch 29/200\n",
            "5/5 [==============================] - 0s 2ms/step - loss: 0.4014 - acc: 0.8809\n",
            "Epoch 30/200\n",
            "5/5 [==============================] - 0s 2ms/step - loss: 0.4227 - acc: 0.8985\n",
            "Epoch 31/200\n",
            "5/5 [==============================] - 0s 2ms/step - loss: 0.4070 - acc: 0.9412\n",
            "Epoch 32/200\n",
            "5/5 [==============================] - 0s 4ms/step - loss: 0.3850 - acc: 0.8755\n",
            "Epoch 33/200\n",
            "5/5 [==============================] - 0s 3ms/step - loss: 0.3906 - acc: 0.9377\n",
            "Epoch 34/200\n",
            "5/5 [==============================] - 0s 2ms/step - loss: 0.3842 - acc: 0.9391\n",
            "Epoch 35/200\n",
            "5/5 [==============================] - 0s 2ms/step - loss: 0.3986 - acc: 0.9469\n",
            "Epoch 36/200\n",
            "5/5 [==============================] - 0s 2ms/step - loss: 0.4046 - acc: 0.9089\n",
            "Epoch 37/200\n",
            "5/5 [==============================] - 0s 3ms/step - loss: 0.3538 - acc: 0.9559\n",
            "Epoch 38/200\n",
            "5/5 [==============================] - 0s 3ms/step - loss: 0.3399 - acc: 0.9413\n",
            "Epoch 39/200\n",
            "5/5 [==============================] - 0s 4ms/step - loss: 0.3446 - acc: 0.9644\n",
            "Epoch 40/200\n",
            "5/5 [==============================] - 0s 2ms/step - loss: 0.3518 - acc: 0.9610\n",
            "Epoch 41/200\n",
            "5/5 [==============================] - 0s 2ms/step - loss: 0.3367 - acc: 0.9536\n",
            "Epoch 42/200\n",
            "5/5 [==============================] - 0s 2ms/step - loss: 0.3250 - acc: 0.9820\n",
            "Epoch 43/200\n",
            "5/5 [==============================] - 0s 2ms/step - loss: 0.3675 - acc: 0.8803\n",
            "Epoch 44/200\n",
            "5/5 [==============================] - 0s 2ms/step - loss: 0.3311 - acc: 0.9527\n",
            "Epoch 45/200\n",
            "5/5 [==============================] - 0s 3ms/step - loss: 0.3180 - acc: 0.9623\n",
            "Epoch 46/200\n",
            "5/5 [==============================] - 0s 3ms/step - loss: 0.3238 - acc: 0.9283\n",
            "Epoch 47/200\n",
            "5/5 [==============================] - 0s 2ms/step - loss: 0.3050 - acc: 0.9475\n",
            "Epoch 48/200\n",
            "5/5 [==============================] - 0s 2ms/step - loss: 0.2898 - acc: 0.9517\n",
            "Epoch 49/200\n",
            "5/5 [==============================] - 0s 3ms/step - loss: 0.2947 - acc: 0.9819\n",
            "Epoch 50/200\n",
            "5/5 [==============================] - 0s 2ms/step - loss: 0.3182 - acc: 0.9344\n",
            "Epoch 51/200\n",
            "5/5 [==============================] - 0s 3ms/step - loss: 0.2969 - acc: 0.9535\n",
            "Epoch 52/200\n",
            "5/5 [==============================] - 0s 3ms/step - loss: 0.2829 - acc: 0.9312\n",
            "Epoch 53/200\n",
            "5/5 [==============================] - 0s 4ms/step - loss: 0.2899 - acc: 0.9391\n",
            "Epoch 54/200\n",
            "5/5 [==============================] - 0s 3ms/step - loss: 0.2685 - acc: 0.9754\n",
            "Epoch 55/200\n",
            "5/5 [==============================] - 0s 3ms/step - loss: 0.2806 - acc: 0.9517\n",
            "Epoch 56/200\n",
            "5/5 [==============================] - 0s 3ms/step - loss: 0.2875 - acc: 0.9607\n",
            "Epoch 57/200\n",
            "5/5 [==============================] - 0s 2ms/step - loss: 0.2679 - acc: 0.9466\n",
            "Epoch 58/200\n",
            "5/5 [==============================] - 0s 2ms/step - loss: 0.2648 - acc: 0.9440\n",
            "Epoch 59/200\n",
            "5/5 [==============================] - 0s 2ms/step - loss: 0.2606 - acc: 0.9667\n",
            "Epoch 60/200\n",
            "5/5 [==============================] - 0s 3ms/step - loss: 0.2592 - acc: 0.9816\n",
            "Epoch 61/200\n",
            "5/5 [==============================] - 0s 4ms/step - loss: 0.2673 - acc: 0.9191\n",
            "Epoch 62/200\n",
            "5/5 [==============================] - 0s 3ms/step - loss: 0.2444 - acc: 0.9544\n",
            "Epoch 63/200\n",
            "5/5 [==============================] - 0s 4ms/step - loss: 0.2426 - acc: 0.9621\n",
            "Epoch 64/200\n",
            "5/5 [==============================] - 0s 3ms/step - loss: 0.2479 - acc: 0.9566\n",
            "Epoch 65/200\n",
            "5/5 [==============================] - 0s 2ms/step - loss: 0.2382 - acc: 0.9658\n",
            "Epoch 66/200\n",
            "5/5 [==============================] - 0s 3ms/step - loss: 0.2396 - acc: 0.9731\n",
            "Epoch 67/200\n",
            "5/5 [==============================] - 0s 3ms/step - loss: 0.2877 - acc: 0.8855\n",
            "Epoch 68/200\n",
            "5/5 [==============================] - 0s 6ms/step - loss: 0.2364 - acc: 0.9575\n",
            "Epoch 69/200\n",
            "5/5 [==============================] - 0s 5ms/step - loss: 0.2492 - acc: 0.9772\n",
            "Epoch 70/200\n",
            "5/5 [==============================] - 0s 3ms/step - loss: 0.2017 - acc: 0.9636\n",
            "Epoch 71/200\n",
            "5/5 [==============================] - 0s 2ms/step - loss: 0.2073 - acc: 0.9683\n",
            "Epoch 72/200\n",
            "5/5 [==============================] - 0s 2ms/step - loss: 0.2264 - acc: 0.9440\n",
            "Epoch 73/200\n",
            "5/5 [==============================] - 0s 3ms/step - loss: 0.2464 - acc: 0.9404\n",
            "Epoch 74/200\n",
            "5/5 [==============================] - 0s 5ms/step - loss: 0.1968 - acc: 0.9863\n",
            "Epoch 75/200\n",
            "5/5 [==============================] - 0s 3ms/step - loss: 0.2006 - acc: 0.9683\n",
            "Epoch 76/200\n",
            "5/5 [==============================] - 0s 3ms/step - loss: 0.2192 - acc: 0.9741\n",
            "Epoch 77/200\n",
            "5/5 [==============================] - 0s 3ms/step - loss: 0.1993 - acc: 0.9715\n",
            "Epoch 78/200\n",
            "5/5 [==============================] - 0s 3ms/step - loss: 0.1937 - acc: 0.9728\n",
            "Epoch 79/200\n",
            "5/5 [==============================] - 0s 2ms/step - loss: 0.1928 - acc: 0.9580\n",
            "Epoch 80/200\n",
            "5/5 [==============================] - 0s 2ms/step - loss: 0.2030 - acc: 0.9807\n",
            "Epoch 81/200\n",
            "5/5 [==============================] - 0s 2ms/step - loss: 0.2071 - acc: 0.9706\n",
            "Epoch 82/200\n",
            "5/5 [==============================] - 0s 3ms/step - loss: 0.1835 - acc: 0.9741\n",
            "Epoch 83/200\n",
            "5/5 [==============================] - 0s 2ms/step - loss: 0.2048 - acc: 0.9493\n",
            "Epoch 84/200\n",
            "5/5 [==============================] - 0s 2ms/step - loss: 0.1822 - acc: 0.9876\n",
            "Epoch 85/200\n",
            "5/5 [==============================] - 0s 3ms/step - loss: 0.1802 - acc: 0.9746\n",
            "Epoch 86/200\n",
            "5/5 [==============================] - 0s 2ms/step - loss: 0.1817 - acc: 0.9754\n",
            "Epoch 87/200\n",
            "5/5 [==============================] - 0s 4ms/step - loss: 0.1908 - acc: 0.9703\n",
            "Epoch 88/200\n",
            "5/5 [==============================] - 0s 2ms/step - loss: 0.1799 - acc: 0.9584\n",
            "Epoch 89/200\n",
            "5/5 [==============================] - 0s 3ms/step - loss: 0.1935 - acc: 0.9663\n",
            "Epoch 90/200\n",
            "5/5 [==============================] - 0s 3ms/step - loss: 0.1614 - acc: 0.9731\n",
            "Epoch 91/200\n",
            "5/5 [==============================] - 0s 2ms/step - loss: 0.1787 - acc: 0.9790\n",
            "Epoch 92/200\n",
            "5/5 [==============================] - 0s 2ms/step - loss: 0.1536 - acc: 0.9597\n",
            "Epoch 93/200\n",
            "5/5 [==============================] - 0s 3ms/step - loss: 0.1749 - acc: 0.9685\n",
            "Epoch 94/200\n",
            "5/5 [==============================] - 0s 2ms/step - loss: 0.1680 - acc: 0.9626\n",
            "Epoch 95/200\n",
            "5/5 [==============================] - 0s 3ms/step - loss: 0.1423 - acc: 0.9863\n",
            "Epoch 96/200\n",
            "5/5 [==============================] - 0s 5ms/step - loss: 0.1854 - acc: 0.9454\n",
            "Epoch 97/200\n",
            "5/5 [==============================] - 0s 4ms/step - loss: 0.1557 - acc: 0.9723\n",
            "Epoch 98/200\n",
            "5/5 [==============================] - 0s 4ms/step - loss: 0.1651 - acc: 0.9602\n",
            "Epoch 99/200\n",
            "5/5 [==============================] - 0s 3ms/step - loss: 0.1615 - acc: 0.9824\n",
            "Epoch 100/200\n",
            "5/5 [==============================] - 0s 2ms/step - loss: 0.1758 - acc: 0.9423\n",
            "Epoch 101/200\n",
            "5/5 [==============================] - 0s 4ms/step - loss: 0.1489 - acc: 0.9767\n",
            "Epoch 102/200\n",
            "5/5 [==============================] - 0s 3ms/step - loss: 0.1633 - acc: 0.9712\n",
            "Epoch 103/200\n",
            "5/5 [==============================] - 0s 2ms/step - loss: 0.1682 - acc: 0.9755\n",
            "Epoch 104/200\n",
            "5/5 [==============================] - 0s 3ms/step - loss: 0.1662 - acc: 0.9728\n",
            "Epoch 105/200\n",
            "5/5 [==============================] - 0s 3ms/step - loss: 0.1617 - acc: 0.9528\n",
            "Epoch 106/200\n",
            "5/5 [==============================] - 0s 6ms/step - loss: 0.1525 - acc: 0.9676\n",
            "Epoch 107/200\n",
            "5/5 [==============================] - 0s 3ms/step - loss: 0.1550 - acc: 0.9487\n",
            "Epoch 108/200\n",
            "5/5 [==============================] - 0s 3ms/step - loss: 0.1423 - acc: 0.9841\n",
            "Epoch 109/200\n",
            "5/5 [==============================] - 0s 5ms/step - loss: 0.1751 - acc: 0.9396\n",
            "Epoch 110/200\n",
            "5/5 [==============================] - 0s 4ms/step - loss: 0.1345 - acc: 0.9793\n",
            "Epoch 111/200\n",
            "5/5 [==============================] - 0s 4ms/step - loss: 0.1432 - acc: 0.9798\n",
            "Epoch 112/200\n",
            "5/5 [==============================] - 0s 6ms/step - loss: 0.1563 - acc: 0.9824\n",
            "Epoch 113/200\n",
            "5/5 [==============================] - 0s 5ms/step - loss: 0.1484 - acc: 0.9628\n",
            "Epoch 114/200\n",
            "5/5 [==============================] - 0s 5ms/step - loss: 0.1711 - acc: 0.9449\n",
            "Epoch 115/200\n",
            "5/5 [==============================] - 0s 2ms/step - loss: 0.1210 - acc: 0.9833\n",
            "Epoch 116/200\n",
            "5/5 [==============================] - 0s 3ms/step - loss: 0.1461 - acc: 0.9781\n",
            "Epoch 117/200\n",
            "5/5 [==============================] - 0s 3ms/step - loss: 0.1551 - acc: 0.9833\n",
            "Epoch 118/200\n",
            "5/5 [==============================] - 0s 2ms/step - loss: 0.1244 - acc: 0.9772\n",
            "Epoch 119/200\n",
            "5/5 [==============================] - 0s 3ms/step - loss: 0.1323 - acc: 0.9733\n",
            "Epoch 120/200\n",
            "5/5 [==============================] - 0s 3ms/step - loss: 0.1519 - acc: 0.9555\n",
            "Epoch 121/200\n",
            "5/5 [==============================] - 0s 3ms/step - loss: 0.1335 - acc: 0.9899\n",
            "Epoch 122/200\n",
            "5/5 [==============================] - 0s 2ms/step - loss: 0.1559 - acc: 0.9518\n",
            "Epoch 123/200\n",
            "5/5 [==============================] - 0s 4ms/step - loss: 0.1415 - acc: 0.9785\n",
            "Epoch 124/200\n",
            "5/5 [==============================] - 0s 3ms/step - loss: 0.1431 - acc: 0.9506\n",
            "Epoch 125/200\n",
            "5/5 [==============================] - 0s 3ms/step - loss: 0.1430 - acc: 0.9741\n",
            "Epoch 126/200\n",
            "5/5 [==============================] - 0s 4ms/step - loss: 0.1355 - acc: 0.9828\n",
            "Epoch 127/200\n",
            "5/5 [==============================] - 0s 5ms/step - loss: 0.1280 - acc: 0.9781\n",
            "Epoch 128/200\n",
            "5/5 [==============================] - 0s 4ms/step - loss: 0.1302 - acc: 0.9712\n",
            "Epoch 129/200\n",
            "5/5 [==============================] - 0s 3ms/step - loss: 0.1256 - acc: 0.9732\n",
            "Epoch 130/200\n",
            "5/5 [==============================] - 0s 3ms/step - loss: 0.1168 - acc: 0.9933\n",
            "Epoch 131/200\n",
            "5/5 [==============================] - 0s 3ms/step - loss: 0.1336 - acc: 0.9659\n",
            "Epoch 132/200\n",
            "5/5 [==============================] - 0s 3ms/step - loss: 0.1180 - acc: 0.9863\n",
            "Epoch 133/200\n",
            "5/5 [==============================] - 0s 3ms/step - loss: 0.1267 - acc: 0.9781\n",
            "Epoch 134/200\n",
            "5/5 [==============================] - 0s 3ms/step - loss: 0.1194 - acc: 0.9700\n",
            "Epoch 135/200\n",
            "5/5 [==============================] - 0s 5ms/step - loss: 0.1503 - acc: 0.9309\n",
            "Epoch 136/200\n",
            "5/5 [==============================] - 0s 3ms/step - loss: 0.1137 - acc: 0.9560\n",
            "Epoch 137/200\n",
            "5/5 [==============================] - 0s 3ms/step - loss: 0.1220 - acc: 0.9718\n",
            "Epoch 138/200\n",
            "5/5 [==============================] - 0s 4ms/step - loss: 0.1207 - acc: 0.9780\n",
            "Epoch 139/200\n",
            "5/5 [==============================] - 0s 3ms/step - loss: 0.1272 - acc: 0.9754\n",
            "Epoch 140/200\n",
            "5/5 [==============================] - 0s 4ms/step - loss: 0.1206 - acc: 0.9702\n",
            "Epoch 141/200\n",
            "5/5 [==============================] - 0s 3ms/step - loss: 0.1134 - acc: 0.9609\n",
            "Epoch 142/200\n",
            "5/5 [==============================] - 0s 4ms/step - loss: 0.1232 - acc: 0.9703\n",
            "Epoch 143/200\n",
            "5/5 [==============================] - 0s 3ms/step - loss: 0.1302 - acc: 0.9676\n",
            "Epoch 144/200\n",
            "5/5 [==============================] - 0s 4ms/step - loss: 0.1125 - acc: 0.9654\n",
            "Epoch 145/200\n",
            "5/5 [==============================] - 0s 4ms/step - loss: 0.1082 - acc: 0.9868\n",
            "Epoch 146/200\n",
            "5/5 [==============================] - 0s 3ms/step - loss: 0.1103 - acc: 0.9780\n",
            "Epoch 147/200\n",
            "5/5 [==============================] - 0s 2ms/step - loss: 0.1537 - acc: 0.9607\n",
            "Epoch 148/200\n",
            "5/5 [==============================] - 0s 2ms/step - loss: 0.1145 - acc: 0.9801\n",
            "Epoch 149/200\n",
            "5/5 [==============================] - 0s 2ms/step - loss: 0.1053 - acc: 0.9718\n",
            "Epoch 150/200\n",
            "5/5 [==============================] - 0s 4ms/step - loss: 0.1078 - acc: 0.9733\n",
            "Epoch 151/200\n",
            "5/5 [==============================] - 0s 3ms/step - loss: 0.1194 - acc: 0.9847\n",
            "Epoch 152/200\n",
            "5/5 [==============================] - 0s 2ms/step - loss: 0.1313 - acc: 0.9644\n",
            "Epoch 153/200\n",
            "5/5 [==============================] - 0s 2ms/step - loss: 0.1176 - acc: 0.9764\n",
            "Epoch 154/200\n",
            "5/5 [==============================] - 0s 3ms/step - loss: 0.1189 - acc: 0.9666\n",
            "Epoch 155/200\n",
            "5/5 [==============================] - 0s 2ms/step - loss: 0.1301 - acc: 0.9636\n",
            "Epoch 156/200\n",
            "5/5 [==============================] - 0s 5ms/step - loss: 0.1141 - acc: 0.9685\n",
            "Epoch 157/200\n",
            "5/5 [==============================] - 0s 3ms/step - loss: 0.1447 - acc: 0.9519\n",
            "Epoch 158/200\n",
            "5/5 [==============================] - 0s 3ms/step - loss: 0.1390 - acc: 0.9529\n",
            "Epoch 159/200\n",
            "5/5 [==============================] - 0s 5ms/step - loss: 0.1100 - acc: 0.9789\n",
            "Epoch 160/200\n",
            "5/5 [==============================] - 0s 2ms/step - loss: 0.1053 - acc: 0.9833\n",
            "Epoch 161/200\n",
            "5/5 [==============================] - 0s 3ms/step - loss: 0.1128 - acc: 0.9815\n",
            "Epoch 162/200\n",
            "5/5 [==============================] - 0s 2ms/step - loss: 0.0988 - acc: 0.9785\n",
            "Epoch 163/200\n",
            "5/5 [==============================] - 0s 3ms/step - loss: 0.0982 - acc: 0.9728\n",
            "Epoch 164/200\n",
            "5/5 [==============================] - 0s 3ms/step - loss: 0.1102 - acc: 0.9755\n",
            "Epoch 165/200\n",
            "5/5 [==============================] - 0s 3ms/step - loss: 0.1030 - acc: 0.9733\n",
            "Epoch 166/200\n",
            "5/5 [==============================] - 0s 2ms/step - loss: 0.1134 - acc: 0.9391\n",
            "Epoch 167/200\n",
            "5/5 [==============================] - 0s 2ms/step - loss: 0.1134 - acc: 0.9702\n",
            "Epoch 168/200\n",
            "5/5 [==============================] - 0s 2ms/step - loss: 0.1126 - acc: 0.9755\n",
            "Epoch 169/200\n",
            "5/5 [==============================] - 0s 3ms/step - loss: 0.1081 - acc: 0.9712\n",
            "Epoch 170/200\n",
            "5/5 [==============================] - 0s 2ms/step - loss: 0.1149 - acc: 0.9570\n",
            "Epoch 171/200\n",
            "5/5 [==============================] - 0s 3ms/step - loss: 0.0948 - acc: 0.9850\n",
            "Epoch 172/200\n",
            "5/5 [==============================] - 0s 2ms/step - loss: 0.1284 - acc: 0.9510\n",
            "Epoch 173/200\n",
            "5/5 [==============================] - 0s 2ms/step - loss: 0.0972 - acc: 0.9886\n",
            "Epoch 174/200\n",
            "5/5 [==============================] - 0s 7ms/step - loss: 0.1151 - acc: 0.9633\n",
            "Epoch 175/200\n",
            "5/5 [==============================] - 0s 4ms/step - loss: 0.0841 - acc: 0.9846\n",
            "Epoch 176/200\n",
            "5/5 [==============================] - 0s 3ms/step - loss: 0.1189 - acc: 0.9571\n",
            "Epoch 177/200\n",
            "5/5 [==============================] - 0s 2ms/step - loss: 0.1123 - acc: 0.9653\n",
            "Epoch 178/200\n",
            "5/5 [==============================] - 0s 4ms/step - loss: 0.1024 - acc: 0.9763\n",
            "Epoch 179/200\n",
            "5/5 [==============================] - 0s 3ms/step - loss: 0.0902 - acc: 0.9947\n",
            "Epoch 180/200\n",
            "5/5 [==============================] - 0s 5ms/step - loss: 0.1105 - acc: 0.9790\n",
            "Epoch 181/200\n",
            "5/5 [==============================] - 0s 4ms/step - loss: 0.0947 - acc: 0.9781\n",
            "Epoch 182/200\n",
            "5/5 [==============================] - 0s 4ms/step - loss: 0.1140 - acc: 0.9755\n",
            "Epoch 183/200\n",
            "5/5 [==============================] - 0s 2ms/step - loss: 0.0969 - acc: 0.9846\n",
            "Epoch 184/200\n",
            "5/5 [==============================] - 0s 2ms/step - loss: 0.1079 - acc: 0.9667\n",
            "Epoch 185/200\n",
            "5/5 [==============================] - 0s 4ms/step - loss: 0.0979 - acc: 0.9755\n",
            "Epoch 186/200\n",
            "5/5 [==============================] - 0s 3ms/step - loss: 0.0821 - acc: 0.9847\n",
            "Epoch 187/200\n",
            "5/5 [==============================] - 0s 2ms/step - loss: 0.0955 - acc: 0.9733\n",
            "Epoch 188/200\n",
            "5/5 [==============================] - 0s 3ms/step - loss: 0.0808 - acc: 0.9836\n",
            "Epoch 189/200\n",
            "5/5 [==============================] - 0s 3ms/step - loss: 0.0901 - acc: 0.9710\n",
            "Epoch 190/200\n",
            "5/5 [==============================] - 0s 4ms/step - loss: 0.1253 - acc: 0.9623\n",
            "Epoch 191/200\n",
            "5/5 [==============================] - 0s 3ms/step - loss: 0.1211 - acc: 0.9527\n",
            "Epoch 192/200\n",
            "5/5 [==============================] - 0s 3ms/step - loss: 0.0925 - acc: 0.9764\n",
            "Epoch 193/200\n",
            "5/5 [==============================] - 0s 4ms/step - loss: 0.1192 - acc: 0.9592\n",
            "Epoch 194/200\n",
            "5/5 [==============================] - 0s 2ms/step - loss: 0.1001 - acc: 0.9781\n",
            "Epoch 195/200\n",
            "5/5 [==============================] - 0s 3ms/step - loss: 0.0834 - acc: 0.9811\n",
            "Epoch 196/200\n",
            "5/5 [==============================] - 0s 2ms/step - loss: 0.0987 - acc: 0.9720\n",
            "Epoch 197/200\n",
            "5/5 [==============================] - 0s 3ms/step - loss: 0.1220 - acc: 0.9435\n",
            "Epoch 198/200\n",
            "5/5 [==============================] - 0s 2ms/step - loss: 0.1166 - acc: 0.9633\n",
            "Epoch 199/200\n",
            "5/5 [==============================] - 0s 3ms/step - loss: 0.1088 - acc: 0.9755\n",
            "Epoch 200/200\n",
            "5/5 [==============================] - 0s 3ms/step - loss: 0.0907 - acc: 0.9772\n",
            "INFO:tensorflow:Assets written to: /tmp/tmpywj3xz0a/assets\n"
          ],
          "name": "stdout"
        },
        {
          "output_type": "stream",
          "text": [
            "INFO:tensorflow:Assets written to: /tmp/tmpywj3xz0a/assets\n"
          ],
          "name": "stderr"
        },
        {
          "output_type": "execute_result",
          "data": {
            "text/plain": [
              "20488"
            ]
          },
          "metadata": {
            "tags": []
          },
          "execution_count": 8
        }
      ]
    },
    {
      "cell_type": "markdown",
      "metadata": {
        "id": "2YFnc-r20LzW"
      },
      "source": [
        "# This model is later on used in andriod application the details are shared in github repository"
      ]
    },
    {
      "cell_type": "markdown",
      "metadata": {
        "id": "uZ9j53QZVXlf"
      },
      "source": [
        "# Part D) Code is updated in github with evidence"
      ]
    }
  ]
}